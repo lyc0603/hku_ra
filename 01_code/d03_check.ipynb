{
 "cells": [
  {
   "cell_type": "markdown",
   "id": "d9fd4f3f-b5e0-453a-8115-aaa28cd817d4",
   "metadata": {},
   "source": [
    "<p style=\"font-size:200%; font-weight:bold\"> 检查Swap数据 </p>\n",
    "\n",
    "- Author: Yichen Luo\n",
    "- Date: 2022/5/14"
   ]
  },
  {
   "cell_type": "code",
   "execution_count": 1,
   "id": "a5b9e5c1-f64d-4704-854e-564808d0db44",
   "metadata": {},
   "outputs": [],
   "source": [
    "import pandas as pd\n",
    "from IPython.core.interactiveshell import InteractiveShell\n",
    "\n",
    "InteractiveShell.ast_node_interactivity = 'all'\n",
    "pd.set_option('max_colwidth',100)\n",
    "RD = '/home/yichen/2022_nft/02_rdata/'\n",
    "WD = '/home/yichen/2022_nft/03_wdata/'"
   ]
  },
  {
   "cell_type": "markdown",
   "id": "6fd56cc6-ab5a-49c2-9637-1067580d782f",
   "metadata": {},
   "source": [
    "# Uniswap V3"
   ]
  },
  {
   "cell_type": "markdown",
   "id": "d4c3c364-3dc8-422b-97e8-d92a491f6c02",
   "metadata": {},
   "source": [
    "## 数据读取"
   ]
  },
  {
   "cell_type": "code",
   "execution_count": 2,
   "id": "ef232c05-6516-4400-93a5-87460b5c0776",
   "metadata": {},
   "outputs": [
    {
     "data": {
      "text/plain": [
       "(14199536, 16)"
      ]
     },
     "execution_count": 2,
     "metadata": {},
     "output_type": "execute_result"
    },
    {
     "data": {
      "text/html": [
       "<div>\n",
       "<style scoped>\n",
       "    .dataframe tbody tr th:only-of-type {\n",
       "        vertical-align: middle;\n",
       "    }\n",
       "\n",
       "    .dataframe tbody tr th {\n",
       "        vertical-align: top;\n",
       "    }\n",
       "\n",
       "    .dataframe thead th {\n",
       "        text-align: right;\n",
       "    }\n",
       "</style>\n",
       "<table border=\"1\" class=\"dataframe\">\n",
       "  <thead>\n",
       "    <tr style=\"text-align: right;\">\n",
       "      <th></th>\n",
       "      <th>id</th>\n",
       "      <th>amount0</th>\n",
       "      <th>amount1</th>\n",
       "      <th>amountUSD</th>\n",
       "      <th>logIndex</th>\n",
       "      <th>origin</th>\n",
       "      <th>recipient</th>\n",
       "      <th>sender</th>\n",
       "      <th>sqrtPriceX96</th>\n",
       "      <th>tick</th>\n",
       "      <th>timestamp</th>\n",
       "      <th>token0_name</th>\n",
       "      <th>token1_name</th>\n",
       "      <th>token0_id</th>\n",
       "      <th>token1_id</th>\n",
       "      <th>transaction_id</th>\n",
       "    </tr>\n",
       "  </thead>\n",
       "  <tbody>\n",
       "    <tr>\n",
       "      <th>5087725</th>\n",
       "      <td>0xfae7cc0fed2de3cafb1811c002434f068d0cc2a5ed4bcceb6031cdecfd23ecf3#1402</td>\n",
       "      <td>17111.111100</td>\n",
       "      <td>-2597.319088</td>\n",
       "      <td>2598.516565</td>\n",
       "      <td>51</td>\n",
       "      <td>0x35a79017da727fcb29060dd5901f90b027eaca23</td>\n",
       "      <td>0xdef1c0ded9bec7f1a1670819833240f027b25eff</td>\n",
       "      <td>0xdef1c0ded9bec7f1a1670819833240f027b25eff</td>\n",
       "      <td>30745624684289211459821</td>\n",
       "      <td>-295257</td>\n",
       "      <td>2021-12-12 11:18:21</td>\n",
       "      <td>Swash Token</td>\n",
       "      <td>Tether USD</td>\n",
       "      <td>0xa130e3a33a4d84b04c3918c4e5762223ae252f80</td>\n",
       "      <td>0xdac17f958d2ee523a2206206994597c13d831ec7</td>\n",
       "      <td>0xfae7cc0fed2de3cafb1811c002434f068d0cc2a5ed4bcceb6031cdecfd23ecf3</td>\n",
       "    </tr>\n",
       "    <tr>\n",
       "      <th>13692551</th>\n",
       "      <td>0xe1e7dccafce54517d08066f682baddc15985474a538cdc3ac288b35206d68a8e#9185</td>\n",
       "      <td>26802.507273</td>\n",
       "      <td>-1.000000</td>\n",
       "      <td>3964.452224</td>\n",
       "      <td>243</td>\n",
       "      <td>0x93282d0310e7255b5d23d82385659edcdf9438da</td>\n",
       "      <td>0xe592427a0aece92de3edee1f18e0157c05861564</td>\n",
       "      <td>0xe592427a0aece92de3edee1f18e0157c05861564</td>\n",
       "      <td>48555332130281948039236934453312</td>\n",
       "      <td>128368</td>\n",
       "      <td>2021-12-21 03:47:46</td>\n",
       "      <td>CircuitsOfValue</td>\n",
       "      <td>Wrapped Ether</td>\n",
       "      <td>0x3d658390460295fb963f54dc0899cfb1c30776df</td>\n",
       "      <td>0xc02aaa39b223fe8d0a0e5c4f27ead9083c756cc2</td>\n",
       "      <td>0xe1e7dccafce54517d08066f682baddc15985474a538cdc3ac288b35206d68a8e</td>\n",
       "    </tr>\n",
       "    <tr>\n",
       "      <th>11535346</th>\n",
       "      <td>0x9c7a38905dfbe1aacacc5702141d374d3d30f384c9a8399be5045d7c2a155942#1077</td>\n",
       "      <td>-21411.454687</td>\n",
       "      <td>20.000000</td>\n",
       "      <td>71320.041563</td>\n",
       "      <td>6</td>\n",
       "      <td>0xb8a9f91b4730ca612e1a38602100c39eb425c062</td>\n",
       "      <td>0xb8a9f91b4730ca612e1a38602100c39eb425c062</td>\n",
       "      <td>0xe592427a0aece92de3edee1f18e0157c05861564</td>\n",
       "      <td>2433411932013608955447927560</td>\n",
       "      <td>-69665</td>\n",
       "      <td>2021-10-07 15:19:01</td>\n",
       "      <td>Ribbon</td>\n",
       "      <td>Wrapped Ether</td>\n",
       "      <td>0x6123b0049f904d730db3c36a31167d9d4121fa6b</td>\n",
       "      <td>0xc02aaa39b223fe8d0a0e5c4f27ead9083c756cc2</td>\n",
       "      <td>0x9c7a38905dfbe1aacacc5702141d374d3d30f384c9a8399be5045d7c2a155942</td>\n",
       "    </tr>\n",
       "  </tbody>\n",
       "</table>\n",
       "</div>"
      ],
      "text/plain": [
       "                                                                               id  \\\n",
       "5087725   0xfae7cc0fed2de3cafb1811c002434f068d0cc2a5ed4bcceb6031cdecfd23ecf3#1402   \n",
       "13692551  0xe1e7dccafce54517d08066f682baddc15985474a538cdc3ac288b35206d68a8e#9185   \n",
       "11535346  0x9c7a38905dfbe1aacacc5702141d374d3d30f384c9a8399be5045d7c2a155942#1077   \n",
       "\n",
       "               amount0      amount1     amountUSD  logIndex  \\\n",
       "5087725   17111.111100 -2597.319088   2598.516565        51   \n",
       "13692551  26802.507273    -1.000000   3964.452224       243   \n",
       "11535346 -21411.454687    20.000000  71320.041563         6   \n",
       "\n",
       "                                              origin  \\\n",
       "5087725   0x35a79017da727fcb29060dd5901f90b027eaca23   \n",
       "13692551  0x93282d0310e7255b5d23d82385659edcdf9438da   \n",
       "11535346  0xb8a9f91b4730ca612e1a38602100c39eb425c062   \n",
       "\n",
       "                                           recipient  \\\n",
       "5087725   0xdef1c0ded9bec7f1a1670819833240f027b25eff   \n",
       "13692551  0xe592427a0aece92de3edee1f18e0157c05861564   \n",
       "11535346  0xb8a9f91b4730ca612e1a38602100c39eb425c062   \n",
       "\n",
       "                                              sender  \\\n",
       "5087725   0xdef1c0ded9bec7f1a1670819833240f027b25eff   \n",
       "13692551  0xe592427a0aece92de3edee1f18e0157c05861564   \n",
       "11535346  0xe592427a0aece92de3edee1f18e0157c05861564   \n",
       "\n",
       "                              sqrtPriceX96    tick            timestamp  \\\n",
       "5087725            30745624684289211459821 -295257  2021-12-12 11:18:21   \n",
       "13692551  48555332130281948039236934453312  128368  2021-12-21 03:47:46   \n",
       "11535346      2433411932013608955447927560  -69665  2021-10-07 15:19:01   \n",
       "\n",
       "              token0_name    token1_name  \\\n",
       "5087725       Swash Token     Tether USD   \n",
       "13692551  CircuitsOfValue  Wrapped Ether   \n",
       "11535346           Ribbon  Wrapped Ether   \n",
       "\n",
       "                                           token0_id  \\\n",
       "5087725   0xa130e3a33a4d84b04c3918c4e5762223ae252f80   \n",
       "13692551  0x3d658390460295fb963f54dc0899cfb1c30776df   \n",
       "11535346  0x6123b0049f904d730db3c36a31167d9d4121fa6b   \n",
       "\n",
       "                                           token1_id  \\\n",
       "5087725   0xdac17f958d2ee523a2206206994597c13d831ec7   \n",
       "13692551  0xc02aaa39b223fe8d0a0e5c4f27ead9083c756cc2   \n",
       "11535346  0xc02aaa39b223fe8d0a0e5c4f27ead9083c756cc2   \n",
       "\n",
       "                                                              transaction_id  \n",
       "5087725   0xfae7cc0fed2de3cafb1811c002434f068d0cc2a5ed4bcceb6031cdecfd23ecf3  \n",
       "13692551  0xe1e7dccafce54517d08066f682baddc15985474a538cdc3ac288b35206d68a8e  \n",
       "11535346  0x9c7a38905dfbe1aacacc5702141d374d3d30f384c9a8399be5045d7c2a155942  "
      ]
     },
     "execution_count": 2,
     "metadata": {},
     "output_type": "execute_result"
    }
   ],
   "source": [
    "df = pd.read_csv(f'{WD}uniswapv3_ethereum.csv')\n",
    "df.shape\n",
    "df.sample(3)"
   ]
  },
  {
   "cell_type": "code",
   "execution_count": 12,
   "id": "40abaae5-c2be-44cf-862f-0488351279c9",
   "metadata": {},
   "outputs": [
    {
     "data": {
      "text/plain": [
       "Index(['id', 'amount0', 'amount1', 'amountUSD', 'logIndex', 'origin',\n",
       "       'recipient', 'sender', 'sqrtPriceX96', 'tick', 'timestamp',\n",
       "       'token0_name', 'token1_name', 'token0_id', 'token1_id',\n",
       "       'transaction_id'],\n",
       "      dtype='object')"
      ]
     },
     "execution_count": 12,
     "metadata": {},
     "output_type": "execute_result"
    }
   ],
   "source": [
    "df.keys()"
   ]
  },
  {
   "cell_type": "code",
   "execution_count": 15,
   "id": "b6478d44-6e48-4fb8-b698-a14038efacd2",
   "metadata": {},
   "outputs": [
    {
     "data": {
      "text/plain": [
       "11495960"
      ]
     },
     "execution_count": 15,
     "metadata": {},
     "output_type": "execute_result"
    },
    {
     "data": {
      "text/plain": [
       "14199536"
      ]
     },
     "execution_count": 15,
     "metadata": {},
     "output_type": "execute_result"
    }
   ],
   "source": [
    "df['transaction_id'].nunique()\n",
    "df['id'].nunique()"
   ]
  },
  {
   "cell_type": "code",
   "execution_count": 16,
   "id": "a94ecec5-f99e-479e-9655-cab3409be26d",
   "metadata": {},
   "outputs": [
    {
     "data": {
      "text/plain": [
       "1767036"
      ]
     },
     "execution_count": 16,
     "metadata": {},
     "output_type": "execute_result"
    },
    {
     "data": {
      "text/plain": [
       "1275707"
      ]
     },
     "execution_count": 16,
     "metadata": {},
     "output_type": "execute_result"
    },
    {
     "data": {
      "text/plain": [
       "1144"
      ]
     },
     "execution_count": 16,
     "metadata": {},
     "output_type": "execute_result"
    }
   ],
   "source": [
    "df['origin'].nunique()\n",
    "df['recipient'].nunique()\n",
    "df['sender'].nunique()"
   ]
  },
  {
   "cell_type": "code",
   "execution_count": 8,
   "id": "95eccf7d-50c1-430e-b430-813d511291a3",
   "metadata": {},
   "outputs": [
    {
     "data": {
      "text/plain": [
       "4927"
      ]
     },
     "execution_count": 8,
     "metadata": {},
     "output_type": "execute_result"
    }
   ],
   "source": [
    "df.groupby(['token0_name', 'token1_name']).ngroups"
   ]
  },
  {
   "cell_type": "code",
   "execution_count": 10,
   "id": "7c2bf068-9fb0-4f63-8ef2-b813b5b839dc",
   "metadata": {},
   "outputs": [
    {
     "data": {
      "text/plain": [
       "5007"
      ]
     },
     "execution_count": 10,
     "metadata": {},
     "output_type": "execute_result"
    }
   ],
   "source": [
    "df.groupby(['token0_id', 'token1_id']).ngroups"
   ]
  },
  {
   "cell_type": "code",
   "execution_count": 18,
   "id": "a5a69cc8-d4d1-4a29-beb5-eb835624f395",
   "metadata": {},
   "outputs": [
    {
     "data": {
      "text/html": [
       "<div>\n",
       "<style scoped>\n",
       "    .dataframe tbody tr th:only-of-type {\n",
       "        vertical-align: middle;\n",
       "    }\n",
       "\n",
       "    .dataframe tbody tr th {\n",
       "        vertical-align: top;\n",
       "    }\n",
       "\n",
       "    .dataframe thead th {\n",
       "        text-align: right;\n",
       "    }\n",
       "</style>\n",
       "<table border=\"1\" class=\"dataframe\">\n",
       "  <thead>\n",
       "    <tr style=\"text-align: right;\">\n",
       "      <th></th>\n",
       "      <th>amount0</th>\n",
       "      <th>amount1</th>\n",
       "      <th>amountUSD</th>\n",
       "      <th>logIndex</th>\n",
       "      <th>tick</th>\n",
       "    </tr>\n",
       "  </thead>\n",
       "  <tbody>\n",
       "    <tr>\n",
       "      <th>count</th>\n",
       "      <td>1.419954e+07</td>\n",
       "      <td>1.419954e+07</td>\n",
       "      <td>1.419954e+07</td>\n",
       "      <td>1.419954e+07</td>\n",
       "      <td>1.419954e+07</td>\n",
       "    </tr>\n",
       "    <tr>\n",
       "      <th>mean</th>\n",
       "      <td>9.669067e+09</td>\n",
       "      <td>-5.050144e+09</td>\n",
       "      <td>3.993240e+04</td>\n",
       "      <td>1.858239e+02</td>\n",
       "      <td>-2.085858e+04</td>\n",
       "    </tr>\n",
       "    <tr>\n",
       "      <th>std</th>\n",
       "      <td>1.231633e+15</td>\n",
       "      <td>3.216576e+12</td>\n",
       "      <td>1.734230e+05</td>\n",
       "      <td>1.657235e+02</td>\n",
       "      <td>1.621273e+05</td>\n",
       "    </tr>\n",
       "    <tr>\n",
       "      <th>min</th>\n",
       "      <td>-3.354754e+18</td>\n",
       "      <td>-4.593326e+15</td>\n",
       "      <td>0.000000e+00</td>\n",
       "      <td>2.000000e+00</td>\n",
       "      <td>-8.872720e+05</td>\n",
       "    </tr>\n",
       "    <tr>\n",
       "      <th>25%</th>\n",
       "      <td>-2.067988e+03</td>\n",
       "      <td>-7.549567e+00</td>\n",
       "      <td>8.452614e+02</td>\n",
       "      <td>4.700000e+01</td>\n",
       "      <td>-1.435550e+05</td>\n",
       "    </tr>\n",
       "    <tr>\n",
       "      <th>50%</th>\n",
       "      <td>-2.414305e-01</td>\n",
       "      <td>4.390042e-02</td>\n",
       "      <td>3.930163e+03</td>\n",
       "      <td>1.500000e+02</td>\n",
       "      <td>-5.129200e+04</td>\n",
       "    </tr>\n",
       "    <tr>\n",
       "      <th>75%</th>\n",
       "      <td>6.546288e+02</td>\n",
       "      <td>8.277685e+00</td>\n",
       "      <td>1.861830e+04</td>\n",
       "      <td>2.840000e+02</td>\n",
       "      <td>1.253930e+05</td>\n",
       "    </tr>\n",
       "    <tr>\n",
       "      <th>max</th>\n",
       "      <td>2.429415e+18</td>\n",
       "      <td>2.868864e+15</td>\n",
       "      <td>5.399468e+07</td>\n",
       "      <td>1.009300e+04</td>\n",
       "      <td>8.872710e+05</td>\n",
       "    </tr>\n",
       "  </tbody>\n",
       "</table>\n",
       "</div>"
      ],
      "text/plain": [
       "            amount0       amount1     amountUSD      logIndex          tick\n",
       "count  1.419954e+07  1.419954e+07  1.419954e+07  1.419954e+07  1.419954e+07\n",
       "mean   9.669067e+09 -5.050144e+09  3.993240e+04  1.858239e+02 -2.085858e+04\n",
       "std    1.231633e+15  3.216576e+12  1.734230e+05  1.657235e+02  1.621273e+05\n",
       "min   -3.354754e+18 -4.593326e+15  0.000000e+00  2.000000e+00 -8.872720e+05\n",
       "25%   -2.067988e+03 -7.549567e+00  8.452614e+02  4.700000e+01 -1.435550e+05\n",
       "50%   -2.414305e-01  4.390042e-02  3.930163e+03  1.500000e+02 -5.129200e+04\n",
       "75%    6.546288e+02  8.277685e+00  1.861830e+04  2.840000e+02  1.253930e+05\n",
       "max    2.429415e+18  2.868864e+15  5.399468e+07  1.009300e+04  8.872710e+05"
      ]
     },
     "execution_count": 18,
     "metadata": {},
     "output_type": "execute_result"
    }
   ],
   "source": [
    "df[['amount0', 'amount1', 'amountUSD', 'logIndex', 'tick']].describe()"
   ]
  },
  {
   "cell_type": "code",
   "execution_count": 21,
   "id": "da3366a1-cd49-4073-8aea-7dfbc3a587fb",
   "metadata": {},
   "outputs": [
    {
     "data": {
      "text/plain": [
       "<AxesSubplot:>"
      ]
     },
     "execution_count": 21,
     "metadata": {},
     "output_type": "execute_result"
    },
    {
     "data": {
      "image/png": "[encoded data removed]",
      "text/plain": [
       "<Figure size 432x288 with 1 Axes>"
      ]
     },
     "metadata": {
      "needs_background": "light"
     },
     "output_type": "display_data"
    }
   ],
   "source": [
    "df['amountUSD'].hist(bins=20)"
   ]
  },
  {
   "cell_type": "code",
   "execution_count": 24,
   "id": "e2f38262-07b5-4316-a228-ee129b7ef6ff",
   "metadata": {},
   "outputs": [
    {
     "data": {
      "text/plain": [
       "<AxesSubplot:>"
      ]
     },
     "execution_count": 24,
     "metadata": {},
     "output_type": "execute_result"
    },
    {
     "data": {
      "image/png": "[encoded data removed]",
      "text/plain": [
       "<Figure size 432x288 with 1 Axes>"
      ]
     },
     "metadata": {
      "needs_background": "light"
     },
     "output_type": "display_data"
    }
   ],
   "source": [
    "df.loc[df['amountUSD'] <= df['amountUSD'].quantile(0.01), 'amountUSD'] = df['amountUSD'].quantile(0.01)\n",
    "df.loc[df['amountUSD'] >= df['amountUSD'].quantile(0.99), 'amountUSD'] = df['amountUSD'].quantile(0.99)\n",
    "df['amountUSD'].hist(bins=20)"
   ]
  },
  {
   "cell_type": "markdown",
   "id": "8a28c136-1505-41de-a482-715ff2cf3cc3",
   "metadata": {},
   "source": [
    "## 数据核验"
   ]
  },
  {
   "cell_type": "code",
   "execution_count": 8,
   "id": "ee47bda7-986c-458f-8a61-f641b0867330",
   "metadata": {},
   "outputs": [
    {
     "data": {
      "text/html": [
       "<div>\n",
       "<style scoped>\n",
       "    .dataframe tbody tr th:only-of-type {\n",
       "        vertical-align: middle;\n",
       "    }\n",
       "\n",
       "    .dataframe tbody tr th {\n",
       "        vertical-align: top;\n",
       "    }\n",
       "\n",
       "    .dataframe thead th {\n",
       "        text-align: right;\n",
       "    }\n",
       "</style>\n",
       "<table border=\"1\" class=\"dataframe\">\n",
       "  <thead>\n",
       "    <tr style=\"text-align: right;\">\n",
       "      <th></th>\n",
       "      <th>id</th>\n",
       "      <th>amount0</th>\n",
       "      <th>amount1</th>\n",
       "      <th>amountUSD</th>\n",
       "      <th>logIndex</th>\n",
       "      <th>origin</th>\n",
       "      <th>recipient</th>\n",
       "      <th>sender</th>\n",
       "      <th>sqrtPriceX96</th>\n",
       "      <th>tick</th>\n",
       "      <th>timestamp</th>\n",
       "      <th>token0_name</th>\n",
       "      <th>token1_name</th>\n",
       "      <th>token0_id</th>\n",
       "      <th>token1_id</th>\n",
       "      <th>transaction_id</th>\n",
       "    </tr>\n",
       "  </thead>\n",
       "  <tbody>\n",
       "    <tr>\n",
       "      <th>9088232</th>\n",
       "      <td>0x72e93b519e16be0327e347d5ab8211b96bbbfe4c064e076975d3e2008b610e24#32499</td>\n",
       "      <td>-9.391603</td>\n",
       "      <td>0.45</td>\n",
       "      <td>1749.955276</td>\n",
       "      <td>485</td>\n",
       "      <td>0x54bb8be0c7116eba3c0da2f8b8c4f28aad2e381a</td>\n",
       "      <td>0x54bb8be0c7116eba3c0da2f8b8c4f28aad2e381a</td>\n",
       "      <td>0xe592427a0aece92de3edee1f18e0157c05861564</td>\n",
       "      <td>17316791680232594411257128041</td>\n",
       "      <td>-30415</td>\n",
       "      <td>2021-10-17 10:57:12</td>\n",
       "      <td>ETH 2x Flexible Leverage Index</td>\n",
       "      <td>Wrapped Ether</td>\n",
       "      <td>0xaa6e8127831c9de45ae56bb1b0d4d4da6e5665bd</td>\n",
       "      <td>0xc02aaa39b223fe8d0a0e5c4f27ead9083c756cc2</td>\n",
       "      <td>0x72e93b519e16be0327e347d5ab8211b96bbbfe4c064e076975d3e2008b610e24</td>\n",
       "    </tr>\n",
       "  </tbody>\n",
       "</table>\n",
       "</div>"
      ],
      "text/plain": [
       "                                                                               id  \\\n",
       "9088232  0x72e93b519e16be0327e347d5ab8211b96bbbfe4c064e076975d3e2008b610e24#32499   \n",
       "\n",
       "          amount0  amount1    amountUSD  logIndex  \\\n",
       "9088232 -9.391603     0.45  1749.955276       485   \n",
       "\n",
       "                                             origin  \\\n",
       "9088232  0x54bb8be0c7116eba3c0da2f8b8c4f28aad2e381a   \n",
       "\n",
       "                                          recipient  \\\n",
       "9088232  0x54bb8be0c7116eba3c0da2f8b8c4f28aad2e381a   \n",
       "\n",
       "                                             sender  \\\n",
       "9088232  0xe592427a0aece92de3edee1f18e0157c05861564   \n",
       "\n",
       "                          sqrtPriceX96   tick            timestamp  \\\n",
       "9088232  17316791680232594411257128041 -30415  2021-10-17 10:57:12   \n",
       "\n",
       "                            token0_name    token1_name  \\\n",
       "9088232  ETH 2x Flexible Leverage Index  Wrapped Ether   \n",
       "\n",
       "                                          token0_id  \\\n",
       "9088232  0xaa6e8127831c9de45ae56bb1b0d4d4da6e5665bd   \n",
       "\n",
       "                                          token1_id  \\\n",
       "9088232  0xc02aaa39b223fe8d0a0e5c4f27ead9083c756cc2   \n",
       "\n",
       "                                                             transaction_id  \n",
       "9088232  0x72e93b519e16be0327e347d5ab8211b96bbbfe4c064e076975d3e2008b610e24  "
      ]
     },
     "execution_count": 8,
     "metadata": {},
     "output_type": "execute_result"
    }
   ],
   "source": [
    "df.loc[(df['logIndex'] == 485) & (df['tick'] == -30415)]"
   ]
  },
  {
   "cell_type": "markdown",
   "id": "48d1ef54-b466-4369-a15d-40559c984969",
   "metadata": {},
   "source": [
    "## 识别内幕交易者"
   ]
  },
  {
   "cell_type": "code",
   "execution_count": 5,
   "id": "4719f773-d98f-4bd6-bc47-cb1eb105af6d",
   "metadata": {},
   "outputs": [
    {
     "data": {
      "text/html": [
       "<div>\n",
       "<style scoped>\n",
       "    .dataframe tbody tr th:only-of-type {\n",
       "        vertical-align: middle;\n",
       "    }\n",
       "\n",
       "    .dataframe tbody tr th {\n",
       "        vertical-align: top;\n",
       "    }\n",
       "\n",
       "    .dataframe thead th {\n",
       "        text-align: right;\n",
       "    }\n",
       "</style>\n",
       "<table border=\"1\" class=\"dataframe\">\n",
       "  <thead>\n",
       "    <tr style=\"text-align: right;\">\n",
       "      <th></th>\n",
       "      <th>id</th>\n",
       "      <th>amount0</th>\n",
       "      <th>amount1</th>\n",
       "      <th>amountUSD</th>\n",
       "      <th>logIndex</th>\n",
       "      <th>origin</th>\n",
       "      <th>recipient</th>\n",
       "      <th>sender</th>\n",
       "      <th>sqrtPriceX96</th>\n",
       "      <th>tick</th>\n",
       "      <th>timestamp</th>\n",
       "      <th>token0_name</th>\n",
       "      <th>token1_name</th>\n",
       "      <th>token0_id</th>\n",
       "      <th>token1_id</th>\n",
       "      <th>transaction_id</th>\n",
       "    </tr>\n",
       "  </thead>\n",
       "  <tbody>\n",
       "  </tbody>\n",
       "</table>\n",
       "</div>"
      ],
      "text/plain": [
       "Empty DataFrame\n",
       "Columns: [id, amount0, amount1, amountUSD, logIndex, origin, recipient, sender, sqrtPriceX96, tick, timestamp, token0_name, token1_name, token0_id, token1_id, transaction_id]\n",
       "Index: []"
      ]
     },
     "execution_count": 5,
     "metadata": {},
     "output_type": "execute_result"
    }
   ],
   "source": [
    "df.loc[df['sender'] == '0xceba60280fb0ecd9a5a26a1552b90944770a4a0e']"
   ]
  },
  {
   "cell_type": "markdown",
   "id": "703da620-f3d6-41aa-9712-c1e9a5d0026a",
   "metadata": {},
   "source": [
    "# 选取一种币"
   ]
  },
  {
   "cell_type": "code",
   "execution_count": 5,
   "id": "1e309a8c-5970-4cab-9925-d3dce75ca5cf",
   "metadata": {},
   "outputs": [
    {
     "data": {
      "text/html": [
       "<div>\n",
       "<style scoped>\n",
       "    .dataframe tbody tr th:only-of-type {\n",
       "        vertical-align: middle;\n",
       "    }\n",
       "\n",
       "    .dataframe tbody tr th {\n",
       "        vertical-align: top;\n",
       "    }\n",
       "\n",
       "    .dataframe thead th {\n",
       "        text-align: right;\n",
       "    }\n",
       "</style>\n",
       "<table border=\"1\" class=\"dataframe\">\n",
       "  <thead>\n",
       "    <tr style=\"text-align: right;\">\n",
       "      <th></th>\n",
       "      <th>token0_name</th>\n",
       "      <th>Count</th>\n",
       "    </tr>\n",
       "  </thead>\n",
       "  <tbody>\n",
       "    <tr>\n",
       "      <th>2758</th>\n",
       "      <td>Wrapped Ether</td>\n",
       "      <td>3135500</td>\n",
       "    </tr>\n",
       "    <tr>\n",
       "      <th>2592</th>\n",
       "      <td>USD Coin</td>\n",
       "      <td>2670540</td>\n",
       "    </tr>\n",
       "    <tr>\n",
       "      <th>718</th>\n",
       "      <td>Dai Stablecoin</td>\n",
       "      <td>773560</td>\n",
       "    </tr>\n",
       "    <tr>\n",
       "      <th>2751</th>\n",
       "      <td>Wrapped BTC</td>\n",
       "      <td>463054</td>\n",
       "    </tr>\n",
       "    <tr>\n",
       "      <th>2153</th>\n",
       "      <td>SHIBA INU</td>\n",
       "      <td>459195</td>\n",
       "    </tr>\n",
       "    <tr>\n",
       "      <th>...</th>\n",
       "      <td>...</td>\n",
       "      <td>...</td>\n",
       "    </tr>\n",
       "    <tr>\n",
       "      <th>2803</th>\n",
       "      <td>XLB</td>\n",
       "      <td>1</td>\n",
       "    </tr>\n",
       "    <tr>\n",
       "      <th>342</th>\n",
       "      <td>Bit2Me</td>\n",
       "      <td>1</td>\n",
       "    </tr>\n",
       "    <tr>\n",
       "      <th>2373</th>\n",
       "      <td>Sue MooGoo</td>\n",
       "      <td>1</td>\n",
       "    </tr>\n",
       "    <tr>\n",
       "      <th>1899</th>\n",
       "      <td>Pennies.Finance</td>\n",
       "      <td>1</td>\n",
       "    </tr>\n",
       "    <tr>\n",
       "      <th>771</th>\n",
       "      <td>Dexstream</td>\n",
       "      <td>1</td>\n",
       "    </tr>\n",
       "  </tbody>\n",
       "</table>\n",
       "<p>2986 rows × 2 columns</p>\n",
       "</div>"
      ],
      "text/plain": [
       "          token0_name    Count\n",
       "2758    Wrapped Ether  3135500\n",
       "2592         USD Coin  2670540\n",
       "718    Dai Stablecoin   773560\n",
       "2751      Wrapped BTC   463054\n",
       "2153        SHIBA INU   459195\n",
       "...               ...      ...\n",
       "2803              XLB        1\n",
       "342            Bit2Me        1\n",
       "2373       Sue MooGoo        1\n",
       "1899  Pennies.Finance        1\n",
       "771         Dexstream        1\n",
       "\n",
       "[2986 rows x 2 columns]"
      ]
     },
     "execution_count": 5,
     "metadata": {},
     "output_type": "execute_result"
    },
    {
     "data": {
      "text/html": [
       "<div>\n",
       "<style scoped>\n",
       "    .dataframe tbody tr th:only-of-type {\n",
       "        vertical-align: middle;\n",
       "    }\n",
       "\n",
       "    .dataframe tbody tr th {\n",
       "        vertical-align: top;\n",
       "    }\n",
       "\n",
       "    .dataframe thead th {\n",
       "        text-align: right;\n",
       "    }\n",
       "</style>\n",
       "<table border=\"1\" class=\"dataframe\">\n",
       "  <thead>\n",
       "    <tr style=\"text-align: right;\">\n",
       "      <th></th>\n",
       "      <th>token1_name</th>\n",
       "      <th>Count</th>\n",
       "    </tr>\n",
       "  </thead>\n",
       "  <tbody>\n",
       "    <tr>\n",
       "      <th>1069</th>\n",
       "      <td>Wrapped Ether</td>\n",
       "      <td>8869278</td>\n",
       "    </tr>\n",
       "    <tr>\n",
       "      <th>958</th>\n",
       "      <td>Tether USD</td>\n",
       "      <td>1894971</td>\n",
       "    </tr>\n",
       "    <tr>\n",
       "      <th>997</th>\n",
       "      <td>USD Coin</td>\n",
       "      <td>890101</td>\n",
       "    </tr>\n",
       "    <tr>\n",
       "      <th>594</th>\n",
       "      <td>LooksRare Token</td>\n",
       "      <td>274488</td>\n",
       "    </tr>\n",
       "    <tr>\n",
       "      <th>885</th>\n",
       "      <td>Smooth Love Potion</td>\n",
       "      <td>214547</td>\n",
       "    </tr>\n",
       "    <tr>\n",
       "      <th>...</th>\n",
       "      <td>...</td>\n",
       "      <td>...</td>\n",
       "    </tr>\n",
       "    <tr>\n",
       "      <th>992</th>\n",
       "      <td>UCASH</td>\n",
       "      <td>1</td>\n",
       "    </tr>\n",
       "    <tr>\n",
       "      <th>990</th>\n",
       "      <td>UBEC-LP</td>\n",
       "      <td>1</td>\n",
       "    </tr>\n",
       "    <tr>\n",
       "      <th>671</th>\n",
       "      <td>Multiverse</td>\n",
       "      <td>1</td>\n",
       "    </tr>\n",
       "    <tr>\n",
       "      <th>373</th>\n",
       "      <td>Ethereum Elon</td>\n",
       "      <td>1</td>\n",
       "    </tr>\n",
       "    <tr>\n",
       "      <th>396</th>\n",
       "      <td>FLOKI</td>\n",
       "      <td>1</td>\n",
       "    </tr>\n",
       "  </tbody>\n",
       "</table>\n",
       "<p>1178 rows × 2 columns</p>\n",
       "</div>"
      ],
      "text/plain": [
       "             token1_name    Count\n",
       "1069       Wrapped Ether  8869278\n",
       "958           Tether USD  1894971\n",
       "997             USD Coin   890101\n",
       "594      LooksRare Token   274488\n",
       "885   Smooth Love Potion   214547\n",
       "...                  ...      ...\n",
       "992                UCASH        1\n",
       "990              UBEC-LP        1\n",
       "671           Multiverse        1\n",
       "373        Ethereum Elon        1\n",
       "396                FLOKI        1\n",
       "\n",
       "[1178 rows x 2 columns]"
      ]
     },
     "execution_count": 5,
     "metadata": {},
     "output_type": "execute_result"
    }
   ],
   "source": [
    "df.groupby(['token0_name'])['token0_name'].count().reset_index(name='Count').sort_values(['Count'], ascending=False)\n",
    "df.groupby(['token1_name'])['token0_name'].count().reset_index(name='Count').sort_values(['Count'], ascending=False)"
   ]
  },
  {
   "cell_type": "markdown",
   "id": "a531a629-b73b-49e0-9b54-2c15d51b4ee1",
   "metadata": {},
   "source": [
    "# Spookyswap"
   ]
  },
  {
   "cell_type": "markdown",
   "id": "31e640f8-95f0-4ba1-af9c-c462320d8617",
   "metadata": {},
   "source": [
    "## 读取"
   ]
  },
  {
   "cell_type": "code",
   "execution_count": 3,
   "id": "72cdcec6-8bc7-458a-b68f-d49926276528",
   "metadata": {},
   "outputs": [
    {
     "data": {
      "text/plain": [
       "(52077845, 15)"
      ]
     },
     "execution_count": 3,
     "metadata": {},
     "output_type": "execute_result"
    },
    {
     "data": {
      "text/html": [
       "<div>\n",
       "<style scoped>\n",
       "    .dataframe tbody tr th:only-of-type {\n",
       "        vertical-align: middle;\n",
       "    }\n",
       "\n",
       "    .dataframe tbody tr th {\n",
       "        vertical-align: top;\n",
       "    }\n",
       "\n",
       "    .dataframe thead th {\n",
       "        text-align: right;\n",
       "    }\n",
       "</style>\n",
       "<table border=\"1\" class=\"dataframe\">\n",
       "  <thead>\n",
       "    <tr style=\"text-align: right;\">\n",
       "      <th></th>\n",
       "      <th>id</th>\n",
       "      <th>amount0In</th>\n",
       "      <th>amount0Out</th>\n",
       "      <th>amount1In</th>\n",
       "      <th>amount1Out</th>\n",
       "      <th>amountUSD</th>\n",
       "      <th>logIndex</th>\n",
       "      <th>sender</th>\n",
       "      <th>timestamp</th>\n",
       "      <th>to</th>\n",
       "      <th>token0</th>\n",
       "      <th>token1</th>\n",
       "      <th>token0_id</th>\n",
       "      <th>token1_id</th>\n",
       "      <th>transaction_id</th>\n",
       "    </tr>\n",
       "  </thead>\n",
       "  <tbody>\n",
       "    <tr>\n",
       "      <th>40486203</th>\n",
       "      <td>0x9420a51f964a35ce97f7aff5de106c09baa754823442d9e33c1b959fbdd43797-0</td>\n",
       "      <td>0.0</td>\n",
       "      <td>0.019782</td>\n",
       "      <td>0.000833</td>\n",
       "      <td>0.0</td>\n",
       "      <td>0.013981</td>\n",
       "      <td>43</td>\n",
       "      <td>0xf491e7b69e4244ad4002bc14e878a34207e38c29</td>\n",
       "      <td>1620856354</td>\n",
       "      <td>0x28a12f017d0d843d43c71235f4f58535b8be8563</td>\n",
       "      <td>Wrapped Fantom</td>\n",
       "      <td>SpookyToken</td>\n",
       "      <td>0x21be370d5312f44cb42ce377bc9b8a0cef1a4c83</td>\n",
       "      <td>0x841fad6eae12c286d1fd18d1d525dffa75c7effe</td>\n",
       "      <td>0x9420a51f964a35ce97f7aff5de106c09baa754823442d9e33c1b959fbdd43797</td>\n",
       "    </tr>\n",
       "    <tr>\n",
       "      <th>41470794</th>\n",
       "      <td>0x6ec15125bf25366eda1e28f76d780a327fa71d3d2790d75a90978c9238723faa-0</td>\n",
       "      <td>0.0</td>\n",
       "      <td>2969.626139</td>\n",
       "      <td>1.064132</td>\n",
       "      <td>0.0</td>\n",
       "      <td>4072.079968</td>\n",
       "      <td>3</td>\n",
       "      <td>0xf491e7b69e4244ad4002bc14e878a34207e38c29</td>\n",
       "      <td>1639987972</td>\n",
       "      <td>0x7003ce269f8fe382ac028f50eed4508d06f54b88</td>\n",
       "      <td>Wrapped Fantom</td>\n",
       "      <td>Ethereum</td>\n",
       "      <td>0x21be370d5312f44cb42ce377bc9b8a0cef1a4c83</td>\n",
       "      <td>0x74b23882a30290451a17c44f4f05243b6b58c76d</td>\n",
       "      <td>0x6ec15125bf25366eda1e28f76d780a327fa71d3d2790d75a90978c9238723faa</td>\n",
       "    </tr>\n",
       "    <tr>\n",
       "      <th>3229507</th>\n",
       "      <td>0xab588a1515723e81701068b06e92ddb827c409c900c63caeb6548a57652c4d63-0</td>\n",
       "      <td>0.0</td>\n",
       "      <td>24.494846</td>\n",
       "      <td>0.500000</td>\n",
       "      <td>0.0</td>\n",
       "      <td>1.048790</td>\n",
       "      <td>27</td>\n",
       "      <td>0xf491e7b69e4244ad4002bc14e878a34207e38c29</td>\n",
       "      <td>1638471872</td>\n",
       "      <td>0x069732af84333127be3ac463785dd9e52f3abd0b</td>\n",
       "      <td>CALYPSO</td>\n",
       "      <td>Wrapped Fantom</td>\n",
       "      <td>0x21962ae00a5435bb3dff242735eb309218a45625</td>\n",
       "      <td>0x21be370d5312f44cb42ce377bc9b8a0cef1a4c83</td>\n",
       "      <td>0xab588a1515723e81701068b06e92ddb827c409c900c63caeb6548a57652c4d63</td>\n",
       "    </tr>\n",
       "  </tbody>\n",
       "</table>\n",
       "</div>"
      ],
      "text/plain": [
       "                                                                            id  \\\n",
       "40486203  0x9420a51f964a35ce97f7aff5de106c09baa754823442d9e33c1b959fbdd43797-0   \n",
       "41470794  0x6ec15125bf25366eda1e28f76d780a327fa71d3d2790d75a90978c9238723faa-0   \n",
       "3229507   0xab588a1515723e81701068b06e92ddb827c409c900c63caeb6548a57652c4d63-0   \n",
       "\n",
       "          amount0In   amount0Out  amount1In  amount1Out    amountUSD  \\\n",
       "40486203        0.0     0.019782   0.000833         0.0     0.013981   \n",
       "41470794        0.0  2969.626139   1.064132         0.0  4072.079968   \n",
       "3229507         0.0    24.494846   0.500000         0.0     1.048790   \n",
       "\n",
       "          logIndex                                      sender   timestamp  \\\n",
       "40486203        43  0xf491e7b69e4244ad4002bc14e878a34207e38c29  1620856354   \n",
       "41470794         3  0xf491e7b69e4244ad4002bc14e878a34207e38c29  1639987972   \n",
       "3229507         27  0xf491e7b69e4244ad4002bc14e878a34207e38c29  1638471872   \n",
       "\n",
       "                                                  to          token0  \\\n",
       "40486203  0x28a12f017d0d843d43c71235f4f58535b8be8563  Wrapped Fantom   \n",
       "41470794  0x7003ce269f8fe382ac028f50eed4508d06f54b88  Wrapped Fantom   \n",
       "3229507   0x069732af84333127be3ac463785dd9e52f3abd0b         CALYPSO   \n",
       "\n",
       "                  token1                                   token0_id  \\\n",
       "40486203     SpookyToken  0x21be370d5312f44cb42ce377bc9b8a0cef1a4c83   \n",
       "41470794        Ethereum  0x21be370d5312f44cb42ce377bc9b8a0cef1a4c83   \n",
       "3229507   Wrapped Fantom  0x21962ae00a5435bb3dff242735eb309218a45625   \n",
       "\n",
       "                                           token1_id  \\\n",
       "40486203  0x841fad6eae12c286d1fd18d1d525dffa75c7effe   \n",
       "41470794  0x74b23882a30290451a17c44f4f05243b6b58c76d   \n",
       "3229507   0x21be370d5312f44cb42ce377bc9b8a0cef1a4c83   \n",
       "\n",
       "                                                              transaction_id  \n",
       "40486203  0x9420a51f964a35ce97f7aff5de106c09baa754823442d9e33c1b959fbdd43797  \n",
       "41470794  0x6ec15125bf25366eda1e28f76d780a327fa71d3d2790d75a90978c9238723faa  \n",
       "3229507   0xab588a1515723e81701068b06e92ddb827c409c900c63caeb6548a57652c4d63  "
      ]
     },
     "execution_count": 3,
     "metadata": {},
     "output_type": "execute_result"
    }
   ],
   "source": [
    "df = pd.read_csv(f'{WD}spookyswap_fantom.csv')\n",
    "df.shape\n",
    "df.sample(3)"
   ]
  },
  {
   "cell_type": "code",
   "execution_count": 7,
   "id": "17dc8132-0e75-4c22-adfb-807ebb228b28",
   "metadata": {},
   "outputs": [
    {
     "data": {
      "text/plain": [
       "sender      1804\n",
       "to        466477\n",
       "dtype: int64"
      ]
     },
     "execution_count": 7,
     "metadata": {},
     "output_type": "execute_result"
    }
   ],
   "source": [
    "df[['sender', 'to']].nunique()"
   ]
  },
  {
   "cell_type": "markdown",
   "id": "3e2e92e5-d3a0-43d7-8e78-422b39044f25",
   "metadata": {},
   "source": [
    "## 识别内幕交易者"
   ]
  },
  {
   "cell_type": "code",
   "execution_count": 4,
   "id": "372e9b7c-c204-4997-917b-7c0a0d7954e8",
   "metadata": {},
   "outputs": [
    {
     "data": {
      "text/html": [
       "<div>\n",
       "<style scoped>\n",
       "    .dataframe tbody tr th:only-of-type {\n",
       "        vertical-align: middle;\n",
       "    }\n",
       "\n",
       "    .dataframe tbody tr th {\n",
       "        vertical-align: top;\n",
       "    }\n",
       "\n",
       "    .dataframe thead th {\n",
       "        text-align: right;\n",
       "    }\n",
       "</style>\n",
       "<table border=\"1\" class=\"dataframe\">\n",
       "  <thead>\n",
       "    <tr style=\"text-align: right;\">\n",
       "      <th></th>\n",
       "      <th>id</th>\n",
       "      <th>amount0In</th>\n",
       "      <th>amount0Out</th>\n",
       "      <th>amount1In</th>\n",
       "      <th>amount1Out</th>\n",
       "      <th>amountUSD</th>\n",
       "      <th>logIndex</th>\n",
       "      <th>sender</th>\n",
       "      <th>timestamp</th>\n",
       "      <th>to</th>\n",
       "      <th>token0</th>\n",
       "      <th>token1</th>\n",
       "      <th>token0_id</th>\n",
       "      <th>token1_id</th>\n",
       "      <th>transaction_id</th>\n",
       "    </tr>\n",
       "  </thead>\n",
       "  <tbody>\n",
       "  </tbody>\n",
       "</table>\n",
       "</div>"
      ],
      "text/plain": [
       "Empty DataFrame\n",
       "Columns: [id, amount0In, amount0Out, amount1In, amount1Out, amountUSD, logIndex, sender, timestamp, to, token0, token1, token0_id, token1_id, transaction_id]\n",
       "Index: []"
      ]
     },
     "execution_count": 4,
     "metadata": {},
     "output_type": "execute_result"
    }
   ],
   "source": [
    "df.loc[df['to'] == '0x12164b332D01CC694e752d7039eE21d56fe7705D']"
   ]
  }
 ],
 "metadata": {
  "kernelspec": {
   "display_name": "Python 3 (ipykernel)",
   "language": "python",
   "name": "python3"
  },
  "language_info": {
   "codemirror_mode": {
    "name": "ipython",
    "version": 3
   },
   "file_extension": ".py",
   "mimetype": "text/x-python",
   "name": "python",
   "nbconvert_exporter": "python",
   "pygments_lexer": "ipython3",
   "version": "3.9.7"
  }
 },
 "nbformat": 4,
 "nbformat_minor": 5
}
