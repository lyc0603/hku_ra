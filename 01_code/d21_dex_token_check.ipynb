{
 "cells": [
  {
   "cell_type": "markdown",
   "id": "398e4cf5-cdd7-4ed6-840d-76d28765895a",
   "metadata": {},
   "source": [
    "<p style=\"font-size:200%;font-weight:bold\">DEX Token All</p>\n",
    "\n",
    "- Author: Yichen Luo\n",
    "- Date: 20220824"
   ]
  },
  {
   "cell_type": "code",
   "execution_count": 1,
   "id": "80ba111e-6922-45a9-a9a8-a09d4d6b6c1c",
   "metadata": {},
   "outputs": [],
   "source": [
    "import threading\n",
    "import requests\n",
    "import pandas as pd\n",
    "import os\n",
    "import time\n",
    "import numpy as np\n",
    "# pd.set_option('display.precision', 8)\n",
    "pd.set_option('max_colwidth', 100)\n",
    "pd.set_option('display.max_columns', 100)\n",
    "from IPython.core.interactiveshell import InteractiveShell\n",
    "\n",
    "InteractiveShell.ast_node_interactivity = 'all'\n",
    "RD = '/home/team_defi/02_rdata/'\n",
    "WD = '/home/team_defi/03_wdata/'\n",
    "RES = '/home/team_defi/04_result/'"
   ]
  },
  {
   "cell_type": "markdown",
   "id": "181d6190-7fe0-4c1b-b2fa-4ea90b91b132",
   "metadata": {},
   "source": [
    "# Token List"
   ]
  },
  {
   "cell_type": "markdown",
   "id": "2aa07b48-a6de-405e-8282-fa01eb72ff3e",
   "metadata": {},
   "source": [
    "## List"
   ]
  },
  {
   "cell_type": "code",
   "execution_count": 5,
   "id": "9ae6b3cb-802c-45e2-bb14-4b182b894213",
   "metadata": {},
   "outputs": [],
   "source": [
    "dfs = []\n",
    "chains = ['ethereum', 'binance', 'avalanche', 'fantom', 'polygon']\n",
    "dexes = {'ethereum':['uniswapv3_ethereum', 'uniswapv2_ethereum', 'sushiswap_ethereum'],\n",
    "         'binance':['pancake_binance', 'biswap_binance', 'apeswap_binance', 'babyswap_binance', 'jetswap_binance'],\n",
    "         'avalanche':['traderjoe_avalanche', 'pangolin_avalanche'],\n",
    "         'fantom':['spookyswap_fantom', 'spiritswap_fantom'],\n",
    "         'polygon':['quickswap_polygon', 'sushiswap_polygon', 'apeswap_polygon', 'jetswap_polygon']}\n",
    "\n",
    "for chain in chains:\n",
    "    for dex in dexes[chain]:\n",
    "        df = pd.read_csv(f'/home/yichen/team_defi/04_result/insider_trading/root_list/root_list_final/root_{chain}.csv')\n",
    "        df[dex] = -1\n",
    "        df.to_csv(f'{WD}/dex_price_all/list/{dex}.csv', index=False)"
   ]
  },
  {
   "cell_type": "markdown",
   "id": "828457dc-0d22-4666-8d2c-bdfb3f74831f",
   "metadata": {},
   "source": [
    "## Test"
   ]
  },
  {
   "cell_type": "code",
   "execution_count": null,
   "id": "8cdf58ab-de9e-4f54-888c-05bc0d13b504",
   "metadata": {},
   "outputs": [
    {
     "data": {
      "text/html": [
       "<div>\n",
       "<style scoped>\n",
       "    .dataframe tbody tr th:only-of-type {\n",
       "        vertical-align: middle;\n",
       "    }\n",
       "\n",
       "    .dataframe tbody tr th {\n",
       "        vertical-align: top;\n",
       "    }\n",
       "\n",
       "    .dataframe thead th {\n",
       "        text-align: right;\n",
       "    }\n",
       "</style>\n",
       "<table border=\"1\" class=\"dataframe\">\n",
       "  <thead>\n",
       "    <tr style=\"text-align: right;\">\n",
       "      <th></th>\n",
       "      <th>root</th>\n",
       "      <th>tokenName</th>\n",
       "      <th>tokenSymbol</th>\n",
       "      <th>contractAddress</th>\n",
       "      <th>status</th>\n",
       "      <th>dex</th>\n",
       "    </tr>\n",
       "  </thead>\n",
       "  <tbody>\n",
       "    <tr>\n",
       "      <th>7015</th>\n",
       "      <td>0xcf6d83bddbbda4ae72b967bd9d3a1724278147cc</td>\n",
       "      <td>Attack on Titan Inu</td>\n",
       "      <td>AoT</td>\n",
       "      <td>0x38ed7fa1FADF77b361eeB5fCb79051Ee71B9d688</td>\n",
       "      <td>1</td>\n",
       "      <td>1.0</td>\n",
       "    </tr>\n",
       "    <tr>\n",
       "      <th>2657</th>\n",
       "      <td>0x6ac83da484b8b36352847f6acfe88446ace435fd</td>\n",
       "      <td>Popcorn Inu</td>\n",
       "      <td>PINU</td>\n",
       "      <td>0xd1674282BC1839278bc3A3069f6210Cae1e5556f</td>\n",
       "      <td>1</td>\n",
       "      <td>1.0</td>\n",
       "    </tr>\n",
       "    <tr>\n",
       "      <th>4364</th>\n",
       "      <td>0xf28cea2c4115015e3d354cf19ba09238bdec4cc1</td>\n",
       "      <td>Elons Mistakes</td>\n",
       "      <td>Elons Mistakes</td>\n",
       "      <td>0x840774631cbc4468B87332f471711A271f6c6CB2</td>\n",
       "      <td>1</td>\n",
       "      <td>1.0</td>\n",
       "    </tr>\n",
       "  </tbody>\n",
       "</table>\n",
       "</div>"
      ],
      "text/plain": [
       "                                            root            tokenName  \\\n",
       "7015  0xcf6d83bddbbda4ae72b967bd9d3a1724278147cc  Attack on Titan Inu   \n",
       "2657  0x6ac83da484b8b36352847f6acfe88446ace435fd          Popcorn Inu   \n",
       "4364  0xf28cea2c4115015e3d354cf19ba09238bdec4cc1       Elons Mistakes   \n",
       "\n",
       "         tokenSymbol                             contractAddress  status  dex  \n",
       "7015             AoT  0x38ed7fa1FADF77b361eeB5fCb79051Ee71B9d688       1  1.0  \n",
       "2657            PINU  0xd1674282BC1839278bc3A3069f6210Cae1e5556f       1  1.0  \n",
       "4364  Elons Mistakes  0x840774631cbc4468B87332f471711A271f6c6CB2       1  1.0  "
      ]
     },
     "execution_count": 28,
     "metadata": {},
     "output_type": "execute_result"
    }
   ],
   "source": [
    "dex = 'uniswapv3_ethereum'\n",
    "df = pd.read_csv(f'{WD}/dex_price_all/list/{dex}.csv')\n",
    "df.sample(3)"
   ]
  },
  {
   "cell_type": "code",
   "execution_count": 37,
   "id": "8681b5f7-fe01-4b6c-90ce-56cabb649820",
   "metadata": {},
   "outputs": [],
   "source": [
    "root = '0xf28cea2c4115015e3d354cf19ba09238bdec4cc1'\n",
    "tokenName = 'Elons Mistakes'\n",
    "tokenSymbol = 'Elons Mistakes'\n",
    "contract = '0x840774631cbc4468B87332f471711A271f6c6CB2'\n",
    "\n",
    "url = 'https://api.thegraph.com/subgraphs/name/ianlapham/uniswapv2'\n",
    "post = {\"query\": f\"query MyQuery {{\\n  tokens(first: 1000, where: {{name: \\\"{tokenName}\\\"}}) {{\\n    id\\n    name\\n    symbol\\n  }}\\n}}\"}\n",
    "r = requests.post(url, json=post)\n",
    "data = r.json()"
   ]
  },
  {
   "cell_type": "code",
   "execution_count": 38,
   "id": "1bffecf6-039b-4ce5-8237-cacad4d0d8a1",
   "metadata": {},
   "outputs": [
    {
     "data": {
      "text/html": [
       "<div>\n",
       "<style scoped>\n",
       "    .dataframe tbody tr th:only-of-type {\n",
       "        vertical-align: middle;\n",
       "    }\n",
       "\n",
       "    .dataframe tbody tr th {\n",
       "        vertical-align: top;\n",
       "    }\n",
       "\n",
       "    .dataframe thead th {\n",
       "        text-align: right;\n",
       "    }\n",
       "</style>\n",
       "<table border=\"1\" class=\"dataframe\">\n",
       "  <thead>\n",
       "    <tr style=\"text-align: right;\">\n",
       "      <th></th>\n",
       "      <th>id</th>\n",
       "      <th>name</th>\n",
       "      <th>symbol</th>\n",
       "    </tr>\n",
       "  </thead>\n",
       "  <tbody>\n",
       "    <tr>\n",
       "      <th>0</th>\n",
       "      <td>0x840774631cbc4468b87332f471711a271f6c6cb2</td>\n",
       "      <td>Elons Mistakes</td>\n",
       "      <td>Elons Mistakes</td>\n",
       "    </tr>\n",
       "  </tbody>\n",
       "</table>\n",
       "</div>"
      ],
      "text/plain": [
       "                                           id            name          symbol\n",
       "0  0x840774631cbc4468b87332f471711a271f6c6cb2  Elons Mistakes  Elons Mistakes"
      ]
     },
     "execution_count": 38,
     "metadata": {},
     "output_type": "execute_result"
    }
   ],
   "source": [
    "df = pd.DataFrame.from_dict(data['data']['tokens'])\n",
    "df"
   ]
  }
 ],
 "metadata": {
  "kernelspec": {
   "display_name": "Python 3 (ipykernel)",
   "language": "python",
   "name": "python3"
  },
  "language_info": {
   "codemirror_mode": {
    "name": "ipython",
    "version": 3
   },
   "file_extension": ".py",
   "mimetype": "text/x-python",
   "name": "python",
   "nbconvert_exporter": "python",
   "pygments_lexer": "ipython3",
   "version": "3.9.7"
  }
 },
 "nbformat": 4,
 "nbformat_minor": 5
}
