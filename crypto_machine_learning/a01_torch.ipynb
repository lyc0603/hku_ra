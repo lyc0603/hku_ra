{
 "cells": [
  {
   "cell_type": "code",
   "execution_count": 309,
   "id": "bf3320f7-1f23-42d3-9f60-596c7eb47556",
   "metadata": {},
   "outputs": [],
   "source": [
    "import torch\n",
    "import seaborn as sns\n",
    "\n",
    "WD = \"/home/team_crypto/2022_crypto_ml/03_wdata/\""
   ]
  },
  {
   "cell_type": "markdown",
   "id": "69ad818d-c74e-40d5-85b3-2c3b01eef7aa",
   "metadata": {},
   "source": [
    "# Read Data"
   ]
  },
  {
   "cell_type": "code",
   "execution_count": 284,
   "id": "512fce4e-3fe2-417c-801f-9945f67cf4a7",
   "metadata": {},
   "outputs": [
    {
     "data": {
      "text/plain": [
       "(240380, 58)"
      ]
     },
     "execution_count": 284,
     "metadata": {},
     "output_type": "execute_result"
    },
    {
     "data": {
      "text/html": [
       "<div>\n",
       "<style scoped>\n",
       "    .dataframe tbody tr th:only-of-type {\n",
       "        vertical-align: middle;\n",
       "    }\n",
       "\n",
       "    .dataframe tbody tr th {\n",
       "        vertical-align: top;\n",
       "    }\n",
       "\n",
       "    .dataframe thead th {\n",
       "        text-align: right;\n",
       "    }\n",
       "</style>\n",
       "<table border=\"1\" class=\"dataframe\">\n",
       "  <thead>\n",
       "    <tr style=\"text-align: right;\">\n",
       "      <th></th>\n",
       "      <th>id</th>\n",
       "      <th>year</th>\n",
       "      <th>week</th>\n",
       "      <th>time</th>\n",
       "      <th>symbol</th>\n",
       "      <th>name</th>\n",
       "      <th>day</th>\n",
       "      <th>prices</th>\n",
       "      <th>ret_w</th>\n",
       "      <th>ln_ret_w</th>\n",
       "      <th>size_mcap_w</th>\n",
       "      <th>size_prc_w</th>\n",
       "      <th>size_maxdprc_w</th>\n",
       "      <th>size_age_w</th>\n",
       "      <th>mom_1_0_w</th>\n",
       "      <th>mom_2_0_w</th>\n",
       "      <th>mom_3_0_w</th>\n",
       "      <th>mom_4_0_w</th>\n",
       "      <th>mom_4_1_w</th>\n",
       "      <th>mom_8_0_w</th>\n",
       "      <th>mom_16_0_w</th>\n",
       "      <th>mom_50_0_w</th>\n",
       "      <th>mom_100_0_w</th>\n",
       "      <th>volume_vol_w</th>\n",
       "      <th>volume_prcvol_w</th>\n",
       "      <th>volume_volscaled_w</th>\n",
       "      <th>vol_retvol_w</th>\n",
       "      <th>vol_maxret_w</th>\n",
       "      <th>vol_stdprcvol_w</th>\n",
       "      <th>vol_damihud_w</th>\n",
       "      <th>vol_beta_w</th>\n",
       "      <th>vol_idiovol_w</th>\n",
       "      <th>vol_delay_w</th>\n",
       "      <th>vol_beta2_w</th>\n",
       "      <th>size_mcap_r</th>\n",
       "      <th>size_prc_r</th>\n",
       "      <th>size_maxdprc_r</th>\n",
       "      <th>size_age_r</th>\n",
       "      <th>mom_1_0_r</th>\n",
       "      <th>mom_2_0_r</th>\n",
       "      <th>mom_3_0_r</th>\n",
       "      <th>mom_4_0_r</th>\n",
       "      <th>mom_4_1_r</th>\n",
       "      <th>mom_8_0_r</th>\n",
       "      <th>mom_16_0_r</th>\n",
       "      <th>mom_50_0_r</th>\n",
       "      <th>mom_100_0_r</th>\n",
       "      <th>volume_vol_r</th>\n",
       "      <th>volume_prcvol_r</th>\n",
       "      <th>volume_volscaled_r</th>\n",
       "      <th>vol_retvol_r</th>\n",
       "      <th>vol_maxret_r</th>\n",
       "      <th>vol_stdprcvol_r</th>\n",
       "      <th>vol_damihud_r</th>\n",
       "      <th>vol_beta_r</th>\n",
       "      <th>vol_idiovol_r</th>\n",
       "      <th>vol_delay_r</th>\n",
       "      <th>vol_beta2_r</th>\n",
       "    </tr>\n",
       "  </thead>\n",
       "  <tbody>\n",
       "    <tr>\n",
       "      <th>0</th>\n",
       "      <td>0chain</td>\n",
       "      <td>2018</td>\n",
       "      <td>29</td>\n",
       "      <td>2018-07-20</td>\n",
       "      <td>zcn</td>\n",
       "      <td>0chain</td>\n",
       "      <td>5</td>\n",
       "      <td>0.432846</td>\n",
       "      <td>NaN</td>\n",
       "      <td>NaN</td>\n",
       "      <td>NaN</td>\n",
       "      <td>NaN</td>\n",
       "      <td>NaN</td>\n",
       "      <td>NaN</td>\n",
       "      <td>NaN</td>\n",
       "      <td>NaN</td>\n",
       "      <td>NaN</td>\n",
       "      <td>NaN</td>\n",
       "      <td>NaN</td>\n",
       "      <td>NaN</td>\n",
       "      <td>NaN</td>\n",
       "      <td>NaN</td>\n",
       "      <td>NaN</td>\n",
       "      <td>NaN</td>\n",
       "      <td>NaN</td>\n",
       "      <td>NaN</td>\n",
       "      <td>NaN</td>\n",
       "      <td>NaN</td>\n",
       "      <td>NaN</td>\n",
       "      <td>NaN</td>\n",
       "      <td>NaN</td>\n",
       "      <td>NaN</td>\n",
       "      <td>NaN</td>\n",
       "      <td>NaN</td>\n",
       "      <td>NaN</td>\n",
       "      <td>NaN</td>\n",
       "      <td>NaN</td>\n",
       "      <td>NaN</td>\n",
       "      <td>NaN</td>\n",
       "      <td>NaN</td>\n",
       "      <td>NaN</td>\n",
       "      <td>NaN</td>\n",
       "      <td>NaN</td>\n",
       "      <td>NaN</td>\n",
       "      <td>NaN</td>\n",
       "      <td>NaN</td>\n",
       "      <td>NaN</td>\n",
       "      <td>NaN</td>\n",
       "      <td>NaN</td>\n",
       "      <td>NaN</td>\n",
       "      <td>NaN</td>\n",
       "      <td>NaN</td>\n",
       "      <td>NaN</td>\n",
       "      <td>NaN</td>\n",
       "      <td>NaN</td>\n",
       "      <td>NaN</td>\n",
       "      <td>NaN</td>\n",
       "      <td>NaN</td>\n",
       "    </tr>\n",
       "    <tr>\n",
       "      <th>1</th>\n",
       "      <td>0chain</td>\n",
       "      <td>2018</td>\n",
       "      <td>30</td>\n",
       "      <td>2018-07-27</td>\n",
       "      <td>zcn</td>\n",
       "      <td>0chain</td>\n",
       "      <td>5</td>\n",
       "      <td>0.350071</td>\n",
       "      <td>-0.191233</td>\n",
       "      <td>-0.212245</td>\n",
       "      <td>16.667016</td>\n",
       "      <td>0.359663</td>\n",
       "      <td>0.483325</td>\n",
       "      <td>7.0</td>\n",
       "      <td>NaN</td>\n",
       "      <td>NaN</td>\n",
       "      <td>NaN</td>\n",
       "      <td>NaN</td>\n",
       "      <td>NaN</td>\n",
       "      <td>NaN</td>\n",
       "      <td>NaN</td>\n",
       "      <td>NaN</td>\n",
       "      <td>NaN</td>\n",
       "      <td>12.062020</td>\n",
       "      <td>11.268533</td>\n",
       "      <td>0.004513</td>\n",
       "      <td>NaN</td>\n",
       "      <td>-0.002512</td>\n",
       "      <td>9.888558</td>\n",
       "      <td>1.333573e-06</td>\n",
       "      <td>NaN</td>\n",
       "      <td>NaN</td>\n",
       "      <td>NaN</td>\n",
       "      <td>NaN</td>\n",
       "      <td>0.544936</td>\n",
       "      <td>0.716120</td>\n",
       "      <td>0.720399</td>\n",
       "      <td>0.006374</td>\n",
       "      <td>NaN</td>\n",
       "      <td>NaN</td>\n",
       "      <td>NaN</td>\n",
       "      <td>NaN</td>\n",
       "      <td>NaN</td>\n",
       "      <td>NaN</td>\n",
       "      <td>NaN</td>\n",
       "      <td>NaN</td>\n",
       "      <td>NaN</td>\n",
       "      <td>0.245364</td>\n",
       "      <td>0.380884</td>\n",
       "      <td>0.312411</td>\n",
       "      <td>NaN</td>\n",
       "      <td>0.001429</td>\n",
       "      <td>0.314574</td>\n",
       "      <td>0.784286</td>\n",
       "      <td>NaN</td>\n",
       "      <td>NaN</td>\n",
       "      <td>NaN</td>\n",
       "      <td>NaN</td>\n",
       "    </tr>\n",
       "    <tr>\n",
       "      <th>2</th>\n",
       "      <td>0chain</td>\n",
       "      <td>2018</td>\n",
       "      <td>31</td>\n",
       "      <td>2018-08-03</td>\n",
       "      <td>zcn</td>\n",
       "      <td>0chain</td>\n",
       "      <td>5</td>\n",
       "      <td>0.247689</td>\n",
       "      <td>-0.292462</td>\n",
       "      <td>-0.345964</td>\n",
       "      <td>16.454771</td>\n",
       "      <td>0.300157</td>\n",
       "      <td>0.391944</td>\n",
       "      <td>14.0</td>\n",
       "      <td>-0.191233</td>\n",
       "      <td>NaN</td>\n",
       "      <td>NaN</td>\n",
       "      <td>NaN</td>\n",
       "      <td>NaN</td>\n",
       "      <td>NaN</td>\n",
       "      <td>NaN</td>\n",
       "      <td>NaN</td>\n",
       "      <td>NaN</td>\n",
       "      <td>12.359969</td>\n",
       "      <td>11.369049</td>\n",
       "      <td>0.006165</td>\n",
       "      <td>0.050272</td>\n",
       "      <td>0.046434</td>\n",
       "      <td>10.729878</td>\n",
       "      <td>3.320848e-07</td>\n",
       "      <td>NaN</td>\n",
       "      <td>NaN</td>\n",
       "      <td>NaN</td>\n",
       "      <td>NaN</td>\n",
       "      <td>0.515021</td>\n",
       "      <td>0.699571</td>\n",
       "      <td>0.702432</td>\n",
       "      <td>0.014104</td>\n",
       "      <td>0.167147</td>\n",
       "      <td>NaN</td>\n",
       "      <td>NaN</td>\n",
       "      <td>NaN</td>\n",
       "      <td>NaN</td>\n",
       "      <td>NaN</td>\n",
       "      <td>NaN</td>\n",
       "      <td>NaN</td>\n",
       "      <td>NaN</td>\n",
       "      <td>0.256080</td>\n",
       "      <td>0.370529</td>\n",
       "      <td>0.324750</td>\n",
       "      <td>0.308802</td>\n",
       "      <td>0.232092</td>\n",
       "      <td>0.408369</td>\n",
       "      <td>0.702006</td>\n",
       "      <td>NaN</td>\n",
       "      <td>NaN</td>\n",
       "      <td>NaN</td>\n",
       "      <td>NaN</td>\n",
       "    </tr>\n",
       "  </tbody>\n",
       "</table>\n",
       "</div>"
      ],
      "text/plain": [
       "       id  year  week       time symbol    name  day    prices     ret_w  \\\n",
       "0  0chain  2018    29 2018-07-20    zcn  0chain    5  0.432846       NaN   \n",
       "1  0chain  2018    30 2018-07-27    zcn  0chain    5  0.350071 -0.191233   \n",
       "2  0chain  2018    31 2018-08-03    zcn  0chain    5  0.247689 -0.292462   \n",
       "\n",
       "   ln_ret_w  size_mcap_w  size_prc_w  size_maxdprc_w  size_age_w  mom_1_0_w  \\\n",
       "0       NaN          NaN         NaN             NaN         NaN        NaN   \n",
       "1 -0.212245    16.667016    0.359663        0.483325         7.0        NaN   \n",
       "2 -0.345964    16.454771    0.300157        0.391944        14.0  -0.191233   \n",
       "\n",
       "   mom_2_0_w  mom_3_0_w  mom_4_0_w  mom_4_1_w  mom_8_0_w  mom_16_0_w  \\\n",
       "0        NaN        NaN        NaN        NaN        NaN         NaN   \n",
       "1        NaN        NaN        NaN        NaN        NaN         NaN   \n",
       "2        NaN        NaN        NaN        NaN        NaN         NaN   \n",
       "\n",
       "   mom_50_0_w  mom_100_0_w  volume_vol_w  volume_prcvol_w  volume_volscaled_w  \\\n",
       "0         NaN          NaN           NaN              NaN                 NaN   \n",
       "1         NaN          NaN     12.062020        11.268533            0.004513   \n",
       "2         NaN          NaN     12.359969        11.369049            0.006165   \n",
       "\n",
       "   vol_retvol_w  vol_maxret_w  vol_stdprcvol_w  vol_damihud_w  vol_beta_w  \\\n",
       "0           NaN           NaN              NaN            NaN         NaN   \n",
       "1           NaN     -0.002512         9.888558   1.333573e-06         NaN   \n",
       "2      0.050272      0.046434        10.729878   3.320848e-07         NaN   \n",
       "\n",
       "   vol_idiovol_w  vol_delay_w  vol_beta2_w  size_mcap_r  size_prc_r  \\\n",
       "0            NaN          NaN          NaN          NaN         NaN   \n",
       "1            NaN          NaN          NaN     0.544936    0.716120   \n",
       "2            NaN          NaN          NaN     0.515021    0.699571   \n",
       "\n",
       "   size_maxdprc_r  size_age_r  mom_1_0_r  mom_2_0_r  mom_3_0_r  mom_4_0_r  \\\n",
       "0             NaN         NaN        NaN        NaN        NaN        NaN   \n",
       "1        0.720399    0.006374        NaN        NaN        NaN        NaN   \n",
       "2        0.702432    0.014104   0.167147        NaN        NaN        NaN   \n",
       "\n",
       "   mom_4_1_r  mom_8_0_r  mom_16_0_r  mom_50_0_r  mom_100_0_r  volume_vol_r  \\\n",
       "0        NaN        NaN         NaN         NaN          NaN           NaN   \n",
       "1        NaN        NaN         NaN         NaN          NaN      0.245364   \n",
       "2        NaN        NaN         NaN         NaN          NaN      0.256080   \n",
       "\n",
       "   volume_prcvol_r  volume_volscaled_r  vol_retvol_r  vol_maxret_r  \\\n",
       "0              NaN                 NaN           NaN           NaN   \n",
       "1         0.380884            0.312411           NaN      0.001429   \n",
       "2         0.370529            0.324750      0.308802      0.232092   \n",
       "\n",
       "   vol_stdprcvol_r  vol_damihud_r  vol_beta_r  vol_idiovol_r  vol_delay_r  \\\n",
       "0              NaN            NaN         NaN            NaN          NaN   \n",
       "1         0.314574       0.784286         NaN            NaN          NaN   \n",
       "2         0.408369       0.702006         NaN            NaN          NaN   \n",
       "\n",
       "   vol_beta2_r  \n",
       "0          NaN  \n",
       "1          NaN  \n",
       "2          NaN  "
      ]
     },
     "execution_count": 284,
     "metadata": {},
     "output_type": "execute_result"
    }
   ],
   "source": [
    "df = pd.read_parquet(f'{WD}1204_cypto_factor_processed.pq')\n",
    "df.shape\n",
    "df.head(3)"
   ]
  },
  {
   "cell_type": "code",
   "execution_count": 285,
   "id": "23cf93c5-e02d-4edd-999b-fe170e313fd3",
   "metadata": {},
   "outputs": [],
   "source": [
    "df['ln_ret_w'] = df.groupby(['id'])['ln_ret_w'].shift(-1)"
   ]
  },
  {
   "cell_type": "code",
   "execution_count": 286,
   "id": "5d5badde-2729-4d7c-bc71-759440eff7b1",
   "metadata": {},
   "outputs": [
    {
     "data": {
      "text/plain": [
       "<AxesSubplot:>"
      ]
     },
     "execution_count": 286,
     "metadata": {},
     "output_type": "execute_result"
    },
    {
     "data": {
      "image/png": "[encoded data removed]",
      "text/plain": [
       "<Figure size 432x288 with 1 Axes>"
      ]
     },
     "metadata": {
      "needs_background": "light"
     },
     "output_type": "display_data"
    }
   ],
   "source": [
    "df['ln_ret_w'].hist(bins=50)"
   ]
  },
  {
   "cell_type": "code",
   "execution_count": 287,
   "id": "41be44e7-5539-4bf1-91b9-0a64e80055ee",
   "metadata": {},
   "outputs": [
    {
     "data": {
      "text/plain": [
       "(61599, 25)"
      ]
     },
     "execution_count": 287,
     "metadata": {},
     "output_type": "execute_result"
    }
   ],
   "source": [
    "y_idx = df.columns.get_loc(\"ln_ret_w\")\n",
    "x_idx1 = df.columns.get_loc(\"size_mcap_r\")\n",
    "x_idx2 = df.columns.get_loc(\"vol_beta2_r\")\n",
    "idx = [y_idx] + list(range(x_idx1, x_idx2 + 1))\n",
    "\n",
    "df = df.iloc[:, idx].dropna()\n",
    "df.shape"
   ]
  },
  {
   "cell_type": "code",
   "execution_count": 288,
   "id": "c6cb8373-d569-44be-bd62-6fd8840eb826",
   "metadata": {},
   "outputs": [
    {
     "data": {
      "text/html": [
       "<div>\n",
       "<style scoped>\n",
       "    .dataframe tbody tr th:only-of-type {\n",
       "        vertical-align: middle;\n",
       "    }\n",
       "\n",
       "    .dataframe tbody tr th {\n",
       "        vertical-align: top;\n",
       "    }\n",
       "\n",
       "    .dataframe thead th {\n",
       "        text-align: right;\n",
       "    }\n",
       "</style>\n",
       "<table border=\"1\" class=\"dataframe\">\n",
       "  <thead>\n",
       "    <tr style=\"text-align: right;\">\n",
       "      <th></th>\n",
       "      <th>ln_ret_w</th>\n",
       "      <th>size_mcap_r</th>\n",
       "      <th>size_prc_r</th>\n",
       "      <th>size_maxdprc_r</th>\n",
       "      <th>size_age_r</th>\n",
       "      <th>mom_1_0_r</th>\n",
       "      <th>mom_2_0_r</th>\n",
       "      <th>mom_3_0_r</th>\n",
       "      <th>mom_4_0_r</th>\n",
       "      <th>mom_4_1_r</th>\n",
       "      <th>mom_8_0_r</th>\n",
       "      <th>mom_16_0_r</th>\n",
       "      <th>mom_50_0_r</th>\n",
       "      <th>mom_100_0_r</th>\n",
       "      <th>volume_vol_r</th>\n",
       "      <th>volume_prcvol_r</th>\n",
       "      <th>volume_volscaled_r</th>\n",
       "      <th>vol_retvol_r</th>\n",
       "      <th>vol_maxret_r</th>\n",
       "      <th>vol_stdprcvol_r</th>\n",
       "      <th>vol_damihud_r</th>\n",
       "      <th>vol_beta_r</th>\n",
       "      <th>vol_idiovol_r</th>\n",
       "      <th>vol_delay_r</th>\n",
       "      <th>vol_beta2_r</th>\n",
       "    </tr>\n",
       "  </thead>\n",
       "  <tbody>\n",
       "    <tr>\n",
       "      <th>101</th>\n",
       "      <td>-0.028756</td>\n",
       "      <td>0.395137</td>\n",
       "      <td>0.638298</td>\n",
       "      <td>0.661094</td>\n",
       "      <td>0.458771</td>\n",
       "      <td>0.032508</td>\n",
       "      <td>0.309859</td>\n",
       "      <td>0.233909</td>\n",
       "      <td>0.627943</td>\n",
       "      <td>0.907378</td>\n",
       "      <td>0.564309</td>\n",
       "      <td>0.773333</td>\n",
       "      <td>0.815891</td>\n",
       "      <td>0.546703</td>\n",
       "      <td>0.211246</td>\n",
       "      <td>0.261398</td>\n",
       "      <td>0.281155</td>\n",
       "      <td>0.445652</td>\n",
       "      <td>0.004559</td>\n",
       "      <td>0.180556</td>\n",
       "      <td>0.828006</td>\n",
       "      <td>0.931438</td>\n",
       "      <td>0.961538</td>\n",
       "      <td>0.643813</td>\n",
       "      <td>0.931438</td>\n",
       "    </tr>\n",
       "    <tr>\n",
       "      <th>102</th>\n",
       "      <td>0.174598</td>\n",
       "      <td>0.446269</td>\n",
       "      <td>0.656716</td>\n",
       "      <td>0.646269</td>\n",
       "      <td>0.457037</td>\n",
       "      <td>0.903323</td>\n",
       "      <td>0.294479</td>\n",
       "      <td>0.792570</td>\n",
       "      <td>0.717391</td>\n",
       "      <td>0.229814</td>\n",
       "      <td>0.875197</td>\n",
       "      <td>0.888158</td>\n",
       "      <td>0.914122</td>\n",
       "      <td>0.670213</td>\n",
       "      <td>0.228358</td>\n",
       "      <td>0.268657</td>\n",
       "      <td>0.262687</td>\n",
       "      <td>0.884323</td>\n",
       "      <td>0.886567</td>\n",
       "      <td>0.199391</td>\n",
       "      <td>0.781764</td>\n",
       "      <td>0.924342</td>\n",
       "      <td>0.960526</td>\n",
       "      <td>0.717105</td>\n",
       "      <td>0.924342</td>\n",
       "    </tr>\n",
       "    <tr>\n",
       "      <th>103</th>\n",
       "      <td>-0.159822</td>\n",
       "      <td>0.428571</td>\n",
       "      <td>0.650957</td>\n",
       "      <td>0.656848</td>\n",
       "      <td>0.464338</td>\n",
       "      <td>0.193165</td>\n",
       "      <td>0.793103</td>\n",
       "      <td>0.163110</td>\n",
       "      <td>0.670769</td>\n",
       "      <td>0.798462</td>\n",
       "      <td>0.812893</td>\n",
       "      <td>0.655738</td>\n",
       "      <td>0.939279</td>\n",
       "      <td>0.725594</td>\n",
       "      <td>0.209131</td>\n",
       "      <td>0.243004</td>\n",
       "      <td>0.248895</td>\n",
       "      <td>0.917541</td>\n",
       "      <td>0.873343</td>\n",
       "      <td>0.262369</td>\n",
       "      <td>0.699115</td>\n",
       "      <td>0.933657</td>\n",
       "      <td>0.964401</td>\n",
       "      <td>0.805825</td>\n",
       "      <td>0.933657</td>\n",
       "    </tr>\n",
       "    <tr>\n",
       "      <th>104</th>\n",
       "      <td>0.459391</td>\n",
       "      <td>0.474138</td>\n",
       "      <td>0.669540</td>\n",
       "      <td>0.663793</td>\n",
       "      <td>0.478873</td>\n",
       "      <td>0.857765</td>\n",
       "      <td>0.709677</td>\n",
       "      <td>0.857778</td>\n",
       "      <td>0.532331</td>\n",
       "      <td>0.165414</td>\n",
       "      <td>0.807044</td>\n",
       "      <td>0.836013</td>\n",
       "      <td>0.888060</td>\n",
       "      <td>0.776042</td>\n",
       "      <td>0.214080</td>\n",
       "      <td>0.272989</td>\n",
       "      <td>0.251437</td>\n",
       "      <td>0.887740</td>\n",
       "      <td>0.846264</td>\n",
       "      <td>0.257016</td>\n",
       "      <td>0.795683</td>\n",
       "      <td>0.929712</td>\n",
       "      <td>0.963259</td>\n",
       "      <td>0.777955</td>\n",
       "      <td>0.929712</td>\n",
       "    </tr>\n",
       "    <tr>\n",
       "      <th>105</th>\n",
       "      <td>0.019576</td>\n",
       "      <td>0.416327</td>\n",
       "      <td>0.632653</td>\n",
       "      <td>0.655782</td>\n",
       "      <td>0.496000</td>\n",
       "      <td>0.041609</td>\n",
       "      <td>0.329132</td>\n",
       "      <td>0.176803</td>\n",
       "      <td>0.612857</td>\n",
       "      <td>0.858571</td>\n",
       "      <td>0.629412</td>\n",
       "      <td>0.905719</td>\n",
       "      <td>0.735507</td>\n",
       "      <td>0.793893</td>\n",
       "      <td>0.210884</td>\n",
       "      <td>0.266667</td>\n",
       "      <td>0.254422</td>\n",
       "      <td>0.836389</td>\n",
       "      <td>0.706122</td>\n",
       "      <td>0.172073</td>\n",
       "      <td>0.709809</td>\n",
       "      <td>0.913043</td>\n",
       "      <td>0.950311</td>\n",
       "      <td>0.687888</td>\n",
       "      <td>0.913043</td>\n",
       "    </tr>\n",
       "  </tbody>\n",
       "</table>\n",
       "</div>"
      ],
      "text/plain": [
       "     ln_ret_w  size_mcap_r  size_prc_r  size_maxdprc_r  size_age_r  mom_1_0_r  \\\n",
       "101 -0.028756     0.395137    0.638298        0.661094    0.458771   0.032508   \n",
       "102  0.174598     0.446269    0.656716        0.646269    0.457037   0.903323   \n",
       "103 -0.159822     0.428571    0.650957        0.656848    0.464338   0.193165   \n",
       "104  0.459391     0.474138    0.669540        0.663793    0.478873   0.857765   \n",
       "105  0.019576     0.416327    0.632653        0.655782    0.496000   0.041609   \n",
       "\n",
       "     mom_2_0_r  mom_3_0_r  mom_4_0_r  mom_4_1_r  mom_8_0_r  mom_16_0_r  \\\n",
       "101   0.309859   0.233909   0.627943   0.907378   0.564309    0.773333   \n",
       "102   0.294479   0.792570   0.717391   0.229814   0.875197    0.888158   \n",
       "103   0.793103   0.163110   0.670769   0.798462   0.812893    0.655738   \n",
       "104   0.709677   0.857778   0.532331   0.165414   0.807044    0.836013   \n",
       "105   0.329132   0.176803   0.612857   0.858571   0.629412    0.905719   \n",
       "\n",
       "     mom_50_0_r  mom_100_0_r  volume_vol_r  volume_prcvol_r  \\\n",
       "101    0.815891     0.546703      0.211246         0.261398   \n",
       "102    0.914122     0.670213      0.228358         0.268657   \n",
       "103    0.939279     0.725594      0.209131         0.243004   \n",
       "104    0.888060     0.776042      0.214080         0.272989   \n",
       "105    0.735507     0.793893      0.210884         0.266667   \n",
       "\n",
       "     volume_volscaled_r  vol_retvol_r  vol_maxret_r  vol_stdprcvol_r  \\\n",
       "101            0.281155      0.445652      0.004559         0.180556   \n",
       "102            0.262687      0.884323      0.886567         0.199391   \n",
       "103            0.248895      0.917541      0.873343         0.262369   \n",
       "104            0.251437      0.887740      0.846264         0.257016   \n",
       "105            0.254422      0.836389      0.706122         0.172073   \n",
       "\n",
       "     vol_damihud_r  vol_beta_r  vol_idiovol_r  vol_delay_r  vol_beta2_r  \n",
       "101       0.828006    0.931438       0.961538     0.643813     0.931438  \n",
       "102       0.781764    0.924342       0.960526     0.717105     0.924342  \n",
       "103       0.699115    0.933657       0.964401     0.805825     0.933657  \n",
       "104       0.795683    0.929712       0.963259     0.777955     0.929712  \n",
       "105       0.709809    0.913043       0.950311     0.687888     0.913043  "
      ]
     },
     "execution_count": 288,
     "metadata": {},
     "output_type": "execute_result"
    }
   ],
   "source": [
    "df.head()"
   ]
  },
  {
   "cell_type": "code",
   "execution_count": 289,
   "id": "f5cd3f1a-fb59-4a0a-b5eb-991b40669b00",
   "metadata": {},
   "outputs": [
    {
     "data": {
      "text/plain": [
       "(61599,)"
      ]
     },
     "execution_count": 289,
     "metadata": {},
     "output_type": "execute_result"
    },
    {
     "data": {
      "text/plain": [
       "(61599, 24)"
      ]
     },
     "execution_count": 289,
     "metadata": {},
     "output_type": "execute_result"
    }
   ],
   "source": [
    "y = np.array(df.loc[:, 'ln_ret_w'].values)\n",
    "y.shape\n",
    "X = np.array(df.loc[:, \"size_mcap_r\":\"vol_beta2_r\"].values)\n",
    "X.shape"
   ]
  },
  {
   "cell_type": "markdown",
   "id": "d86ba074-c8c0-40e6-8d64-bc5e2bb3fd51",
   "metadata": {},
   "source": [
    "# Build Model"
   ]
  },
  {
   "cell_type": "markdown",
   "id": "12673221-1bdd-4b8d-ba63-fda328a7fffd",
   "metadata": {},
   "source": [
    "## Loss Function"
   ]
  },
  {
   "cell_type": "code",
   "execution_count": 290,
   "id": "1981e37d-0fee-45e0-a5ff-7d4731f4de98",
   "metadata": {},
   "outputs": [],
   "source": [
    "def mse_loss(y, y_pred):\n",
    "    return torch.mean((y - y_pred) ** 2)\n",
    "\n",
    "\n",
    "def huber_loss(y, y_pred, sigma=0.1):\n",
    "    r = (y - y_pred).abs()\n",
    "    loss = (r[r <= sigma]).pow(2).mean()\n",
    "    loss += (r[r > sigma]).mean() * sigma - sigma**2/2\n",
    "    return loss\n",
    "\n",
    "def l1_penalty(lamb, b):\n",
    "    return lamb * torch.sum(torch.abs(b))\n",
    "\n",
    "def l2_penalty(lamb, b):\n",
    "    return lamb * torch.sum(b ** 2)\n",
    "\n",
    "def enet_penalty(lamb, b, alpha):\n",
    "    return lamb * (alpha * torch.sum(b ** 2) + (1 - alpha) * torch.sum(torch.abs(b)))"
   ]
  },
  {
   "cell_type": "markdown",
   "id": "1facdcd6-c9fa-4640-afe0-f8ab3e1b6e2c",
   "metadata": {},
   "source": [
    "## Optimizer"
   ]
  },
  {
   "cell_type": "code",
   "execution_count": 291,
   "id": "a9c62fe1-3d94-48e8-bfb8-1b96f3e62c13",
   "metadata": {},
   "outputs": [],
   "source": [
    "from torch.optim.optimizer import required"
   ]
  },
  {
   "cell_type": "code",
   "execution_count": 292,
   "id": "ea3d0d25-d30f-4cd1-a4bb-8d580208c4fb",
   "metadata": {},
   "outputs": [],
   "source": [
    "class PGM(torch.optim.SGD):\n",
    "    def __init__(self, params, proxs, lr=required, momentum=0, dampening=0,\n",
    "                 nesterov=False):\n",
    "        kwargs = dict(lr=lr, momentum=momentum, dampening=dampening, weight_decay=0, nesterov=nesterov)\n",
    "        super().__init__(params, **kwargs)\n",
    "\n",
    "        if len(proxs) != len(self.param_groups):\n",
    "            raise ValueError(\"Invalid length of argument proxs: {} instead of {}\".format(len(proxs), len(self.param_groups)))\n",
    "\n",
    "        for group, prox in zip(self.param_groups, list(proxs)):\n",
    "            group.setdefault('prox', prox)\n",
    "\n",
    "    def step(self, closure=None):\n",
    "        # this performs a gradient step\n",
    "        # optionally with momentum or nesterov acceleration\n",
    "        super().step(closure=closure)\n",
    "\n",
    "        for group in self.param_groups:\n",
    "            prox = group['prox']\n",
    "\n",
    "            # here we apply the proximal operator to each parameter in a group\n",
    "            for p in group['params']:\n",
    "                p.data = prox(p.data)"
   ]
  },
  {
   "cell_type": "markdown",
   "id": "982e841a-1c28-4f73-930d-6307cd42e7f4",
   "metadata": {},
   "source": [
    "## Linear Model"
   ]
  },
  {
   "cell_type": "code",
   "execution_count": 301,
   "id": "0207f62d-30c5-4182-afda-69905486a8af",
   "metadata": {},
   "outputs": [],
   "source": [
    "class LinearRegression(torch.nn.Module):\n",
    "    \n",
    "    def __init__(self, lamb=0.1, lr=1e-3, penalty=None, n_iter=100, fit_intercept=True, alpha=0.5):\n",
    "        super().__init__()\n",
    "        self.lamb = lamb  # Tuning parameter\n",
    "        self.lr = lr  # Learning rate\n",
    "        self.history = []\n",
    "        self.penalty = penalty \n",
    "        self.n_iter = n_iter\n",
    "        self.fit_intercept = fit_intercept\n",
    "        self.alpha = alpha  # ElasticNet\n",
    "        return\n",
    "    \n",
    "    def add_intercept(self,x):\n",
    "        a = torch.ones(x.size()[0],1)\n",
    "        return torch.cat((x,a),axis=1)\n",
    "    \n",
    "    def forward(self, x):\n",
    "        \"\"\"\"Linear regression function\"\"\"  \n",
    "        return x @ self.b.t() + self.const  # matrix multiply inputs (x) with the transposed weights (w) and add the intercept (b)\n",
    "    \n",
    "    def loss(self, y, y_pred, loss_func='mse', sigma=0.1):\n",
    "        \"\"\"\"Calculate loss\"\"\"  \n",
    "        rss = huber_loss(y, y_pred, sigma=sigma) if loss_func == 'huber' else mse_loss(y, y_pred)\n",
    "        \n",
    "        penalty = 0 \n",
    "        if self.penalty == 'l1': penalty = l1_penalty(self.lamb, self.b)\n",
    "        if self.penalty == 'l2': penalty = l2_penalty(self.lamb, self.b)\n",
    "        if self.penalty == 'enet': penalty = enet_penalty(self.lamb, self.b, self.alpha)\n",
    "        \n",
    "        return rss + penalty \n",
    "    \n",
    "        \n",
    "    def fit(self, x, y, loss_func='mse', sigma=0.1):\n",
    "        \"\"\"\"Fit model\"\"\"  \n",
    "        x = torch.FloatTensor(x)\n",
    "        y = torch.FloatTensor(y)\n",
    "        \n",
    "        if self.fit_intercept:\n",
    "            x = self.add_intercept(x)\n",
    "\n",
    "        self.b = torch.nn.Parameter(torch.zeros(x.shape[1]))\n",
    "        self.const = torch.nn.Parameter(torch.zeros(1))\n",
    "        \n",
    "        optimizer = torch.optim.Adam(self.parameters(), lr=self.lr)  # Adam optimizer\n",
    "        # optimizer = torch.optim.Adagrad(self.parameters(), lr=self.lr)  # Adagrad optimizer\n",
    "        # optimizer = PGM(self.parameters(), proxs=, lr=self.lr)  # Proximal Gradient Method (What is the proxs?)\n",
    "        \n",
    "        for _ in range(self.n_iter):\n",
    "            x_ = torch.FloatTensor(x)\n",
    "            y_ = torch.FloatTensor(y)\n",
    "\n",
    "            y_pred = self.forward(x_)\n",
    "            optimizer.zero_grad()\n",
    "            loss = self.loss(y_, y_pred, loss_func=loss_func, sigma=sigma)\n",
    "            loss.backward()\n",
    "            optimizer.step()\n",
    "            \n",
    "            self.history.append(loss.item())\n",
    "            \n",
    "        return self.b.detach().numpy(), self.const.detach().numpy()\n",
    "    \n",
    "    \n",
    "    def predict(self, x):\n",
    "        \"\"\"\"Predict\"\"\"  \n",
    "        x = torch.FloatTensor(x)\n",
    "        \n",
    "        if self.fit_intercept:\n",
    "            x = self.add_intercept(x)\n",
    "        \n",
    "        return self.forward(x).detach().numpy()\n",
    "    \n",
    "    \n",
    "    def plot_history(self):\n",
    "        \"\"\"\"Plot loss function over time\"\"\"  \n",
    "        return sns.lineplot(x=[i + 1 for i in range(len(self.history))], y=self.history).set(xlabel='Iteration', ylabel='Loss', title='History')"
   ]
  },
  {
   "cell_type": "code",
   "execution_count": 308,
   "id": "518dbabe-234c-45dd-bf1b-c97226bc71b5",
   "metadata": {},
   "outputs": [
    {
     "data": {
      "text/plain": [
       "(array([ 7.4810856e-07, -3.2682326e-06, -1.3092116e-06, -2.8868158e-07,\n",
       "        -8.2800415e-07, -9.7279212e-07, -9.7574821e-07,  1.5664207e-06,\n",
       "         3.5095509e-06,  3.8730914e-06,  8.2639758e-07,  3.7021591e-06,\n",
       "         2.7132096e-06,  1.5669049e-06,  5.0386702e-06,  1.2443171e-06,\n",
       "         1.2414625e-06,  7.8696468e-07, -1.6069695e-06, -2.6851274e-07,\n",
       "        -7.4909281e-08, -1.2035002e-06,  3.3629294e-07, -1.8039743e-06,\n",
       "         2.2307682e-07], dtype=float32),\n",
       " array([0.00058674], dtype=float32))"
      ]
     },
     "execution_count": 308,
     "metadata": {},
     "output_type": "execute_result"
    },
    {
     "data": {
      "text/plain": [
       "[Text(0.5, 0, 'Iteration'), Text(0, 0.5, 'Loss'), Text(0.5, 1.0, 'History')]"
      ]
     },
     "execution_count": 308,
     "metadata": {},
     "output_type": "execute_result"
    },
    {
     "data": {
      "image/png": "[encoded data removed]",
      "text/plain": [
       "<Figure size 432x288 with 1 Axes>"
      ]
     },
     "metadata": {
      "needs_background": "light"
     },
     "output_type": "display_data"
    }
   ],
   "source": [
    "m = LinearRegression(penalty='l1', lr=1e-5, n_iter=10000)\n",
    "m.fit(X, y, loss_func='mse')\n",
    "m.plot_history()"
   ]
  },
  {
   "cell_type": "code",
   "execution_count": 295,
   "id": "f21f8e8d-9a3c-4cb7-8bda-23cd3c1f4a96",
   "metadata": {},
   "outputs": [],
   "source": [
    "from sklearn.linear_model import LinearRegression"
   ]
  },
  {
   "cell_type": "code",
   "execution_count": 296,
   "id": "bb15ed34-c862-4e50-a4e4-44e01eeae6ea",
   "metadata": {},
   "outputs": [
    {
     "data": {
      "text/plain": [
       "LinearRegression()"
      ]
     },
     "execution_count": 296,
     "metadata": {},
     "output_type": "execute_result"
    }
   ],
   "source": [
    "m = LinearRegression()\n",
    "m.fit(X, y)"
   ]
  },
  {
   "cell_type": "code",
   "execution_count": 297,
   "id": "91e62d49-795e-4405-a516-9a4b7311a751",
   "metadata": {},
   "outputs": [
    {
     "data": {
      "text/plain": [
       "tensor(0.0427)"
      ]
     },
     "execution_count": 297,
     "metadata": {},
     "output_type": "execute_result"
    }
   ],
   "source": [
    "y_pred = m.predict(X)\n",
    "mse_loss(torch.FloatTensor(y), torch.FloatTensor(y_pred))"
   ]
  },
  {
   "cell_type": "code",
   "execution_count": 298,
   "id": "aff08b5a-49ed-4cdc-8ccb-aceac77ec8a7",
   "metadata": {},
   "outputs": [
    {
     "data": {
      "text/plain": [
       "array([-0.03514652, -0.22706729,  0.22063361, -0.06647453,  0.01135318,\n",
       "       -0.02373945,  0.01949875, -0.01668543,  0.01151324, -0.01240939,\n",
       "       -0.01682201,  0.00830565,  0.00063337, -0.00562167,  0.0476354 ,\n",
       "       -0.03424085, -0.02687248,  0.01462965, -0.0072686 , -0.00153087,\n",
       "        0.18683304, -0.01850012,  0.0026786 , -0.17155393])"
      ]
     },
     "execution_count": 298,
     "metadata": {},
     "output_type": "execute_result"
    }
   ],
   "source": [
    "m.coef_"
   ]
  },
  {
   "cell_type": "code",
   "execution_count": 299,
   "id": "0cbcf86a-5ba5-4710-b713-2eebcda9133e",
   "metadata": {},
   "outputs": [
    {
     "data": {
      "text/plain": [
       "0.09279533893768505"
      ]
     },
     "execution_count": 299,
     "metadata": {},
     "output_type": "execute_result"
    }
   ],
   "source": [
    "m.intercept_"
   ]
  },
  {
   "cell_type": "code",
   "execution_count": null,
   "id": "f656c9c1-dff8-4c4f-8e98-587b042eb098",
   "metadata": {},
   "outputs": [],
   "source": []
  }
 ],
 "metadata": {
  "kernelspec": {
   "display_name": "Python 3 (ipykernel)",
   "language": "python",
   "name": "python3"
  },
  "language_info": {
   "codemirror_mode": {
    "name": "ipython",
    "version": 3
   },
   "file_extension": ".py",
   "mimetype": "text/x-python",
   "name": "python",
   "nbconvert_exporter": "python",
   "pygments_lexer": "ipython3",
   "version": "3.9.12"
  },
  "toc-autonumbering": true
 },
 "nbformat": 4,
 "nbformat_minor": 5
}
