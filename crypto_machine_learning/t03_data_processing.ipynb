{
 "cells": [
  {
   "cell_type": "markdown",
   "id": "9e218dea-be8b-4a1c-90c9-87d2b98564cb",
   "metadata": {},
   "source": [
    "<p style='font-size:200%;font-weight:bold'>加密货币数据处理</p>"
   ]
  },
  {
   "cell_type": "markdown",
   "id": "f40bf65c-f259-4500-a762-b6e8cc76985c",
   "metadata": {},
   "source": [
    "- 一般正常的Ret会是多少 2017那组数据是怎么来的\n",
    "- 周五是金融习惯还是刻意为之，比特币24/7\n",
    "- daily return不用dropna么\n",
    "- 从投资组合的角度，直接在100万美元画线的意思\n",
    "- 周频时为什么出现duplicate\n",
    "- 为什么要pd.offset.Day(3)\n",
    "- 差异\n",
    "- 为什么不能拿周频算回报率\n",
    "- 为什么不winsorize0.01\n",
    "- Value of Investment是用ret来描述的"
   ]
  },
  {
   "cell_type": "code",
   "execution_count": 3,
   "id": "93ab9261-f6af-4ecd-8c9b-0e5b9e84b7cf",
   "metadata": {},
   "outputs": [
    {
     "data": {
      "text/plain": [
       "'C:\\\\Users\\\\lyc\\\\Desktop\\\\SSCI\\\\01_code'"
      ]
     },
     "execution_count": 3,
     "metadata": {},
     "output_type": "execute_result"
    }
   ],
   "source": [
    "import os\n",
    "import pandas as pd\n",
    "import numpy as np\n",
    "from IPython.core.interactiveshell import InteractiveShell\n",
    "\n",
    "InteractiveShell.ast_node_interactivity = 'all'\n",
    "\n",
    "os.getcwd()\n",
    "\n",
    "ROOT = 'C:\\\\Users\\\\lyc\\\\Desktop\\\\SSCI\\\\'\n",
    "DB = f'{ROOT}03_wdata/1100_coingecko/price/'\n",
    "WD = f'{ROOT}03_wdata/0001_teaching/'"
   ]
  },
  {
   "cell_type": "markdown",
   "id": "1f31cf0a-56d8-42da-81a4-2e9b2f21007b",
   "metadata": {},
   "source": [
    "# 读入数据"
   ]
  },
  {
   "cell_type": "code",
   "execution_count": 2,
   "id": "e4b40a30-eeef-44ba-8048-b73ef0e4ccf2",
   "metadata": {},
   "outputs": [
    {
     "data": {
      "text/plain": [
       "(2989, 7)"
      ]
     },
     "execution_count": 2,
     "metadata": {},
     "output_type": "execute_result"
    },
    {
     "data": {
      "text/html": [
       "<div>\n",
       "<style scoped>\n",
       "    .dataframe tbody tr th:only-of-type {\n",
       "        vertical-align: middle;\n",
       "    }\n",
       "\n",
       "    .dataframe tbody tr th {\n",
       "        vertical-align: top;\n",
       "    }\n",
       "\n",
       "    .dataframe thead th {\n",
       "        text-align: right;\n",
       "    }\n",
       "</style>\n",
       "<table border=\"1\" class=\"dataframe\">\n",
       "  <thead>\n",
       "    <tr style=\"text-align: right;\">\n",
       "      <th></th>\n",
       "      <th>time</th>\n",
       "      <th>prices</th>\n",
       "      <th>market_caps</th>\n",
       "      <th>total_volumes</th>\n",
       "      <th>id</th>\n",
       "      <th>symbol</th>\n",
       "      <th>name</th>\n",
       "    </tr>\n",
       "  </thead>\n",
       "  <tbody>\n",
       "    <tr>\n",
       "      <th>0</th>\n",
       "      <td>2014-01-01</td>\n",
       "      <td>767.74</td>\n",
       "      <td>9.358693e+09</td>\n",
       "      <td>23448600.0</td>\n",
       "      <td>bitcoin</td>\n",
       "      <td>btc</td>\n",
       "      <td>Bitcoin</td>\n",
       "    </tr>\n",
       "    <tr>\n",
       "      <th>1</th>\n",
       "      <td>2014-01-02</td>\n",
       "      <td>772.53</td>\n",
       "      <td>9.417083e+09</td>\n",
       "      <td>16837800.0</td>\n",
       "      <td>bitcoin</td>\n",
       "      <td>btc</td>\n",
       "      <td>Bitcoin</td>\n",
       "    </tr>\n",
       "    <tr>\n",
       "      <th>2</th>\n",
       "      <td>2014-01-03</td>\n",
       "      <td>825.47</td>\n",
       "      <td>1.006242e+10</td>\n",
       "      <td>54171500.0</td>\n",
       "      <td>bitcoin</td>\n",
       "      <td>btc</td>\n",
       "      <td>Bitcoin</td>\n",
       "    </tr>\n",
       "    <tr>\n",
       "      <th>3</th>\n",
       "      <td>2014-01-04</td>\n",
       "      <td>849.14</td>\n",
       "      <td>1.035095e+10</td>\n",
       "      <td>36344700.0</td>\n",
       "      <td>bitcoin</td>\n",
       "      <td>btc</td>\n",
       "      <td>Bitcoin</td>\n",
       "    </tr>\n",
       "    <tr>\n",
       "      <th>4</th>\n",
       "      <td>2014-01-05</td>\n",
       "      <td>919.41</td>\n",
       "      <td>1.120754e+10</td>\n",
       "      <td>62414600.0</td>\n",
       "      <td>bitcoin</td>\n",
       "      <td>btc</td>\n",
       "      <td>Bitcoin</td>\n",
       "    </tr>\n",
       "  </tbody>\n",
       "</table>\n",
       "</div>"
      ],
      "text/plain": [
       "        time  prices   market_caps  total_volumes       id symbol     name\n",
       "0 2014-01-01  767.74  9.358693e+09     23448600.0  bitcoin    btc  Bitcoin\n",
       "1 2014-01-02  772.53  9.417083e+09     16837800.0  bitcoin    btc  Bitcoin\n",
       "2 2014-01-03  825.47  1.006242e+10     54171500.0  bitcoin    btc  Bitcoin\n",
       "3 2014-01-04  849.14  1.035095e+10     36344700.0  bitcoin    btc  Bitcoin\n",
       "4 2014-01-05  919.41  1.120754e+10     62414600.0  bitcoin    btc  Bitcoin"
      ]
     },
     "execution_count": 2,
     "metadata": {},
     "output_type": "execute_result"
    }
   ],
   "source": [
    "df = pd.read_parquet(f'{DB}bitcoin.pq')\n",
    "#每一次要纳入变量都要使用f-string\n",
    "df.shape\n",
    "df.head()"
   ]
  },
  {
   "cell_type": "code",
   "execution_count": 3,
   "id": "5a411069-f658-4673-bf2e-4bf01bbdb85a",
   "metadata": {},
   "outputs": [
    {
     "data": {
      "text/plain": [
       "<AxesSubplot:xlabel='time'>"
      ]
     },
     "execution_count": 3,
     "metadata": {},
     "output_type": "execute_result"
    },
    {
     "data": {
      "image/png": "[encoded data removed]",
      "text/plain": [
       "<Figure size 432x288 with 1 Axes>"
      ]
     },
     "metadata": {
      "needs_background": "light"
     },
     "output_type": "display_data"
    }
   ],
   "source": [
    "df.set_index('time', inplace=True)\n",
    "df['prices'].plot()"
   ]
  },
  {
   "cell_type": "markdown",
   "id": "ee2ba193-c02f-447b-b7d9-acdb3bee1b3a",
   "metadata": {},
   "source": [
    "# 合并数据"
   ]
  },
  {
   "cell_type": "code",
   "execution_count": 4,
   "id": "2dfd1121-3cc0-4a70-9816-6e8550eaf47a",
   "metadata": {},
   "outputs": [
    {
     "data": {
      "text/plain": [
       "(5183377, 7)"
      ]
     },
     "execution_count": 4,
     "metadata": {},
     "output_type": "execute_result"
    },
    {
     "data": {
      "text/html": [
       "<div>\n",
       "<style scoped>\n",
       "    .dataframe tbody tr th:only-of-type {\n",
       "        vertical-align: middle;\n",
       "    }\n",
       "\n",
       "    .dataframe tbody tr th {\n",
       "        vertical-align: top;\n",
       "    }\n",
       "\n",
       "    .dataframe thead th {\n",
       "        text-align: right;\n",
       "    }\n",
       "</style>\n",
       "<table border=\"1\" class=\"dataframe\">\n",
       "  <thead>\n",
       "    <tr style=\"text-align: right;\">\n",
       "      <th></th>\n",
       "      <th>time</th>\n",
       "      <th>prices</th>\n",
       "      <th>market_caps</th>\n",
       "      <th>total_volumes</th>\n",
       "      <th>id</th>\n",
       "      <th>symbol</th>\n",
       "      <th>name</th>\n",
       "    </tr>\n",
       "  </thead>\n",
       "  <tbody>\n",
       "    <tr>\n",
       "      <th>0</th>\n",
       "      <td>2020-09-20</td>\n",
       "      <td>0.004209</td>\n",
       "      <td>0.0</td>\n",
       "      <td>5.489113e+05</td>\n",
       "      <td>xswap</td>\n",
       "      <td>xsp</td>\n",
       "      <td>XSwap</td>\n",
       "    </tr>\n",
       "    <tr>\n",
       "      <th>1</th>\n",
       "      <td>2020-09-21</td>\n",
       "      <td>0.004209</td>\n",
       "      <td>0.0</td>\n",
       "      <td>5.489113e+05</td>\n",
       "      <td>xswap</td>\n",
       "      <td>xsp</td>\n",
       "      <td>XSwap</td>\n",
       "    </tr>\n",
       "    <tr>\n",
       "      <th>2</th>\n",
       "      <td>2020-09-22</td>\n",
       "      <td>0.004555</td>\n",
       "      <td>0.0</td>\n",
       "      <td>1.100162e+06</td>\n",
       "      <td>xswap</td>\n",
       "      <td>xsp</td>\n",
       "      <td>XSwap</td>\n",
       "    </tr>\n",
       "    <tr>\n",
       "      <th>3</th>\n",
       "      <td>2020-09-23</td>\n",
       "      <td>0.001522</td>\n",
       "      <td>0.0</td>\n",
       "      <td>4.004421e+05</td>\n",
       "      <td>xswap</td>\n",
       "      <td>xsp</td>\n",
       "      <td>XSwap</td>\n",
       "    </tr>\n",
       "    <tr>\n",
       "      <th>4</th>\n",
       "      <td>2020-09-24</td>\n",
       "      <td>0.000977</td>\n",
       "      <td>0.0</td>\n",
       "      <td>1.640611e+05</td>\n",
       "      <td>xswap</td>\n",
       "      <td>xsp</td>\n",
       "      <td>XSwap</td>\n",
       "    </tr>\n",
       "  </tbody>\n",
       "</table>\n",
       "</div>"
      ],
      "text/plain": [
       "        time    prices  market_caps  total_volumes     id symbol   name\n",
       "0 2020-09-20  0.004209          0.0   5.489113e+05  xswap    xsp  XSwap\n",
       "1 2020-09-21  0.004209          0.0   5.489113e+05  xswap    xsp  XSwap\n",
       "2 2020-09-22  0.004555          0.0   1.100162e+06  xswap    xsp  XSwap\n",
       "3 2020-09-23  0.001522          0.0   4.004421e+05  xswap    xsp  XSwap\n",
       "4 2020-09-24  0.000977          0.0   1.640611e+05  xswap    xsp  XSwap"
      ]
     },
     "execution_count": 4,
     "metadata": {},
     "output_type": "execute_result"
    }
   ],
   "source": [
    "df_lst = []\n",
    "for file in os.listdir(DB):\n",
    "    #os.listdir获取该路径下所有文件名+文件类型\n",
    "    if '.pq' not in file: continue\n",
    "    # not in:逻辑运算符，没有在序列里找到则返回False\n",
    "    df_lst.append(pd.read_parquet(f'{DB}{file}'))\n",
    "    \n",
    "dfm = pd.concat(df_lst)\n",
    "dfm.shape\n",
    "dfm.head()"
   ]
  },
  {
   "cell_type": "code",
   "execution_count": 5,
   "id": "4f5cd54e-b8d0-4a3d-b824-973d4260e773",
   "metadata": {},
   "outputs": [],
   "source": [
    "#dfm.to_parquet(f'{WD}1100_crypto.pq')"
   ]
  },
  {
   "cell_type": "markdown",
   "id": "cfc78341-1e26-470a-9a42-10f95dfdd5b6",
   "metadata": {},
   "source": [
    "# 处理异常值"
   ]
  },
  {
   "cell_type": "code",
   "execution_count": 6,
   "id": "745752f8-55ed-4264-9007-fd6564a7a9ef",
   "metadata": {},
   "outputs": [
    {
     "data": {
      "text/html": [
       "<div>\n",
       "<style scoped>\n",
       "    .dataframe tbody tr th:only-of-type {\n",
       "        vertical-align: middle;\n",
       "    }\n",
       "\n",
       "    .dataframe tbody tr th {\n",
       "        vertical-align: top;\n",
       "    }\n",
       "\n",
       "    .dataframe thead th {\n",
       "        text-align: right;\n",
       "    }\n",
       "</style>\n",
       "<table border=\"1\" class=\"dataframe\">\n",
       "  <thead>\n",
       "    <tr style=\"text-align: right;\">\n",
       "      <th></th>\n",
       "      <th>time</th>\n",
       "      <th>prices</th>\n",
       "      <th>market_caps</th>\n",
       "      <th>total_volumes</th>\n",
       "      <th>id</th>\n",
       "      <th>symbol</th>\n",
       "      <th>name</th>\n",
       "    </tr>\n",
       "  </thead>\n",
       "  <tbody>\n",
       "    <tr>\n",
       "      <th>0</th>\n",
       "      <td>2020-09-20</td>\n",
       "      <td>0.004209</td>\n",
       "      <td>0.0</td>\n",
       "      <td>5.489113e+05</td>\n",
       "      <td>xswap</td>\n",
       "      <td>xsp</td>\n",
       "      <td>XSwap</td>\n",
       "    </tr>\n",
       "    <tr>\n",
       "      <th>1</th>\n",
       "      <td>2020-09-21</td>\n",
       "      <td>0.004209</td>\n",
       "      <td>0.0</td>\n",
       "      <td>5.489113e+05</td>\n",
       "      <td>xswap</td>\n",
       "      <td>xsp</td>\n",
       "      <td>XSwap</td>\n",
       "    </tr>\n",
       "    <tr>\n",
       "      <th>2</th>\n",
       "      <td>2020-09-22</td>\n",
       "      <td>0.004555</td>\n",
       "      <td>0.0</td>\n",
       "      <td>1.100162e+06</td>\n",
       "      <td>xswap</td>\n",
       "      <td>xsp</td>\n",
       "      <td>XSwap</td>\n",
       "    </tr>\n",
       "    <tr>\n",
       "      <th>3</th>\n",
       "      <td>2020-09-23</td>\n",
       "      <td>0.001522</td>\n",
       "      <td>0.0</td>\n",
       "      <td>4.004421e+05</td>\n",
       "      <td>xswap</td>\n",
       "      <td>xsp</td>\n",
       "      <td>XSwap</td>\n",
       "    </tr>\n",
       "    <tr>\n",
       "      <th>4</th>\n",
       "      <td>2020-09-24</td>\n",
       "      <td>0.000977</td>\n",
       "      <td>0.0</td>\n",
       "      <td>1.640611e+05</td>\n",
       "      <td>xswap</td>\n",
       "      <td>xsp</td>\n",
       "      <td>XSwap</td>\n",
       "    </tr>\n",
       "    <tr>\n",
       "      <th>...</th>\n",
       "      <td>...</td>\n",
       "      <td>...</td>\n",
       "      <td>...</td>\n",
       "      <td>...</td>\n",
       "      <td>...</td>\n",
       "      <td>...</td>\n",
       "      <td>...</td>\n",
       "    </tr>\n",
       "    <tr>\n",
       "      <th>8</th>\n",
       "      <td>2022-03-05</td>\n",
       "      <td>0.511771</td>\n",
       "      <td>0.0</td>\n",
       "      <td>1.798891e+01</td>\n",
       "      <td>goldpesa-option</td>\n",
       "      <td>gpo</td>\n",
       "      <td>GoldPesa Option</td>\n",
       "    </tr>\n",
       "    <tr>\n",
       "      <th>9</th>\n",
       "      <td>2022-03-06</td>\n",
       "      <td>0.511771</td>\n",
       "      <td>0.0</td>\n",
       "      <td>1.798891e+01</td>\n",
       "      <td>goldpesa-option</td>\n",
       "      <td>gpo</td>\n",
       "      <td>GoldPesa Option</td>\n",
       "    </tr>\n",
       "    <tr>\n",
       "      <th>10</th>\n",
       "      <td>2022-03-07</td>\n",
       "      <td>0.514490</td>\n",
       "      <td>0.0</td>\n",
       "      <td>2.041367e+03</td>\n",
       "      <td>goldpesa-option</td>\n",
       "      <td>gpo</td>\n",
       "      <td>GoldPesa Option</td>\n",
       "    </tr>\n",
       "    <tr>\n",
       "      <th>11</th>\n",
       "      <td>2022-03-08</td>\n",
       "      <td>0.514490</td>\n",
       "      <td>0.0</td>\n",
       "      <td>2.041367e+03</td>\n",
       "      <td>goldpesa-option</td>\n",
       "      <td>gpo</td>\n",
       "      <td>GoldPesa Option</td>\n",
       "    </tr>\n",
       "    <tr>\n",
       "      <th>12</th>\n",
       "      <td>2022-03-09</td>\n",
       "      <td>0.514739</td>\n",
       "      <td>0.0</td>\n",
       "      <td>2.042355e+03</td>\n",
       "      <td>goldpesa-option</td>\n",
       "      <td>gpo</td>\n",
       "      <td>GoldPesa Option</td>\n",
       "    </tr>\n",
       "  </tbody>\n",
       "</table>\n",
       "<p>5183377 rows × 7 columns</p>\n",
       "</div>"
      ],
      "text/plain": [
       "         time    prices  market_caps  total_volumes               id symbol  \\\n",
       "0  2020-09-20  0.004209          0.0   5.489113e+05            xswap    xsp   \n",
       "1  2020-09-21  0.004209          0.0   5.489113e+05            xswap    xsp   \n",
       "2  2020-09-22  0.004555          0.0   1.100162e+06            xswap    xsp   \n",
       "3  2020-09-23  0.001522          0.0   4.004421e+05            xswap    xsp   \n",
       "4  2020-09-24  0.000977          0.0   1.640611e+05            xswap    xsp   \n",
       "..        ...       ...          ...            ...              ...    ...   \n",
       "8  2022-03-05  0.511771          0.0   1.798891e+01  goldpesa-option    gpo   \n",
       "9  2022-03-06  0.511771          0.0   1.798891e+01  goldpesa-option    gpo   \n",
       "10 2022-03-07  0.514490          0.0   2.041367e+03  goldpesa-option    gpo   \n",
       "11 2022-03-08  0.514490          0.0   2.041367e+03  goldpesa-option    gpo   \n",
       "12 2022-03-09  0.514739          0.0   2.042355e+03  goldpesa-option    gpo   \n",
       "\n",
       "               name  \n",
       "0             XSwap  \n",
       "1             XSwap  \n",
       "2             XSwap  \n",
       "3             XSwap  \n",
       "4             XSwap  \n",
       "..              ...  \n",
       "8   GoldPesa Option  \n",
       "9   GoldPesa Option  \n",
       "10  GoldPesa Option  \n",
       "11  GoldPesa Option  \n",
       "12  GoldPesa Option  \n",
       "\n",
       "[5183377 rows x 7 columns]"
      ]
     },
     "execution_count": 6,
     "metadata": {},
     "output_type": "execute_result"
    }
   ],
   "source": [
    "df = pd.read_parquet(f'{WD}1100_crypto.pq')\n",
    "df"
   ]
  },
  {
   "cell_type": "code",
   "execution_count": 7,
   "id": "3ddaff27-c847-490b-8ff4-32f69e39a6af",
   "metadata": {},
   "outputs": [
    {
     "data": {
      "text/plain": [
       "0"
      ]
     },
     "execution_count": 7,
     "metadata": {},
     "output_type": "execute_result"
    }
   ],
   "source": [
    "df.duplicated(subset=['time', 'id']).sum()"
   ]
  },
  {
   "cell_type": "code",
   "execution_count": 8,
   "id": "7205d6bd-ac10-4e83-b31a-b68b3e0e7855",
   "metadata": {},
   "outputs": [
    {
     "data": {
      "text/plain": [
       "<AxesSubplot:xlabel='time'>"
      ]
     },
     "execution_count": 8,
     "metadata": {},
     "output_type": "execute_result"
    },
    {
     "data": {
      "image/png": "[encoded data removed]",
      "text/plain": [
       "<Figure size 432x288 with 1 Axes>"
      ]
     },
     "metadata": {
      "needs_background": "light"
     },
     "output_type": "display_data"
    }
   ],
   "source": [
    "df.groupby(['time'])['id'].nunique().plot()"
   ]
  },
  {
   "cell_type": "code",
   "execution_count": 9,
   "id": "b0778935-36ef-4feb-81e3-39ea43770d68",
   "metadata": {},
   "outputs": [
    {
     "data": {
      "text/plain": [
       "time\n",
       "2020-04-29 17:00:41.760   -0.999583\n",
       "2018-02-08 00:05:00.253   -0.998261\n",
       "2018-01-30 00:05:00.381   -0.998258\n",
       "2017-06-08 23:39:21.692   -0.995122\n",
       "2017-06-06 23:29:55.701   -0.995098\n",
       "2015-01-28 00:00:00.000   -0.723214\n",
       "2018-02-08 00:05:29.672   -0.500000\n",
       "2018-01-30 00:05:28.871   -0.500000\n",
       "2018-01-30 00:05:28.744   -0.500000\n",
       "2018-02-08 00:05:21.414   -0.500000\n",
       "Name: id, dtype: float64"
      ]
     },
     "execution_count": 9,
     "metadata": {},
     "output_type": "execute_result"
    }
   ],
   "source": [
    "df.groupby(['time'])['id'].nunique().pct_change().sort_values().head(10)\n",
    "#sort_values()将pct_change()从小到大排序\n",
    "#观察到有小时分秒"
   ]
  },
  {
   "cell_type": "code",
   "execution_count": 10,
   "id": "6c5509fb-5eb4-4b5c-9e94-0eed89c726ef",
   "metadata": {},
   "outputs": [
    {
     "data": {
      "text/html": [
       "<div>\n",
       "<style scoped>\n",
       "    .dataframe tbody tr th:only-of-type {\n",
       "        vertical-align: middle;\n",
       "    }\n",
       "\n",
       "    .dataframe tbody tr th {\n",
       "        vertical-align: top;\n",
       "    }\n",
       "\n",
       "    .dataframe thead th {\n",
       "        text-align: right;\n",
       "    }\n",
       "</style>\n",
       "<table border=\"1\" class=\"dataframe\">\n",
       "  <thead>\n",
       "    <tr style=\"text-align: right;\">\n",
       "      <th></th>\n",
       "      <th>time</th>\n",
       "      <th>prices</th>\n",
       "      <th>market_caps</th>\n",
       "      <th>total_volumes</th>\n",
       "      <th>id</th>\n",
       "      <th>symbol</th>\n",
       "      <th>name</th>\n",
       "      <th>time_round</th>\n",
       "    </tr>\n",
       "  </thead>\n",
       "  <tbody>\n",
       "    <tr>\n",
       "      <th>0</th>\n",
       "      <td>2020-09-20</td>\n",
       "      <td>0.004209</td>\n",
       "      <td>0.0</td>\n",
       "      <td>5.489113e+05</td>\n",
       "      <td>xswap</td>\n",
       "      <td>xsp</td>\n",
       "      <td>XSwap</td>\n",
       "      <td>2020-09-20</td>\n",
       "    </tr>\n",
       "    <tr>\n",
       "      <th>1</th>\n",
       "      <td>2020-09-21</td>\n",
       "      <td>0.004209</td>\n",
       "      <td>0.0</td>\n",
       "      <td>5.489113e+05</td>\n",
       "      <td>xswap</td>\n",
       "      <td>xsp</td>\n",
       "      <td>XSwap</td>\n",
       "      <td>2020-09-21</td>\n",
       "    </tr>\n",
       "    <tr>\n",
       "      <th>2</th>\n",
       "      <td>2020-09-22</td>\n",
       "      <td>0.004555</td>\n",
       "      <td>0.0</td>\n",
       "      <td>1.100162e+06</td>\n",
       "      <td>xswap</td>\n",
       "      <td>xsp</td>\n",
       "      <td>XSwap</td>\n",
       "      <td>2020-09-22</td>\n",
       "    </tr>\n",
       "    <tr>\n",
       "      <th>3</th>\n",
       "      <td>2020-09-23</td>\n",
       "      <td>0.001522</td>\n",
       "      <td>0.0</td>\n",
       "      <td>4.004421e+05</td>\n",
       "      <td>xswap</td>\n",
       "      <td>xsp</td>\n",
       "      <td>XSwap</td>\n",
       "      <td>2020-09-23</td>\n",
       "    </tr>\n",
       "    <tr>\n",
       "      <th>4</th>\n",
       "      <td>2020-09-24</td>\n",
       "      <td>0.000977</td>\n",
       "      <td>0.0</td>\n",
       "      <td>1.640611e+05</td>\n",
       "      <td>xswap</td>\n",
       "      <td>xsp</td>\n",
       "      <td>XSwap</td>\n",
       "      <td>2020-09-24</td>\n",
       "    </tr>\n",
       "  </tbody>\n",
       "</table>\n",
       "</div>"
      ],
      "text/plain": [
       "        time    prices  market_caps  total_volumes     id symbol   name  \\\n",
       "0 2020-09-20  0.004209          0.0   5.489113e+05  xswap    xsp  XSwap   \n",
       "1 2020-09-21  0.004209          0.0   5.489113e+05  xswap    xsp  XSwap   \n",
       "2 2020-09-22  0.004555          0.0   1.100162e+06  xswap    xsp  XSwap   \n",
       "3 2020-09-23  0.001522          0.0   4.004421e+05  xswap    xsp  XSwap   \n",
       "4 2020-09-24  0.000977          0.0   1.640611e+05  xswap    xsp  XSwap   \n",
       "\n",
       "  time_round  \n",
       "0 2020-09-20  \n",
       "1 2020-09-21  \n",
       "2 2020-09-22  \n",
       "3 2020-09-23  \n",
       "4 2020-09-24  "
      ]
     },
     "execution_count": 10,
     "metadata": {},
     "output_type": "execute_result"
    }
   ],
   "source": [
    "df['time_round'] = df['time'].dt.round(freq='D')\n",
    "#将日期round到指定频率\n",
    "df.head()"
   ]
  },
  {
   "cell_type": "code",
   "execution_count": 11,
   "id": "eadd9895-1ae3-46de-993a-3f3151e19cc7",
   "metadata": {},
   "outputs": [
    {
     "data": {
      "text/plain": [
       "<AxesSubplot:xlabel='time_round'>"
      ]
     },
     "execution_count": 11,
     "metadata": {},
     "output_type": "execute_result"
    },
    {
     "data": {
      "image/png": "[encoded data removed]",
      "text/plain": [
       "<Figure size 432x288 with 1 Axes>"
      ]
     },
     "metadata": {
      "needs_background": "light"
     },
     "output_type": "display_data"
    }
   ],
   "source": [
    "df.groupby(['time_round'])['id'].nunique().plot()"
   ]
  },
  {
   "cell_type": "code",
   "execution_count": 12,
   "id": "29de3e4f-2850-4512-a41c-5c6e5868966c",
   "metadata": {},
   "outputs": [
    {
     "data": {
      "text/plain": [
       "time_round\n",
       "2015-01-28   -0.723214\n",
       "2014-10-01   -0.151515\n",
       "2014-12-11   -0.145455\n",
       "2014-01-10   -0.111111\n",
       "2016-01-30   -0.100000\n",
       "2014-12-12   -0.095745\n",
       "2014-01-25   -0.085714\n",
       "2014-01-21   -0.085714\n",
       "2017-09-02   -0.083969\n",
       "2014-01-04   -0.083333\n",
       "Name: id, dtype: float64"
      ]
     },
     "execution_count": 12,
     "metadata": {},
     "output_type": "execute_result"
    }
   ],
   "source": [
    "df.groupby(['time_round'])['id'].nunique().pct_change().sort_values().head(10)"
   ]
  },
  {
   "cell_type": "code",
   "execution_count": 13,
   "id": "96f46f17-e2e7-427b-98b4-6ae27af9a719",
   "metadata": {},
   "outputs": [
    {
     "data": {
      "text/plain": [
       "2015-01-27    112\n",
       "Name: time, dtype: int64"
      ]
     },
     "execution_count": 13,
     "metadata": {},
     "output_type": "execute_result"
    },
    {
     "data": {
      "text/plain": [
       "2015-01-28    31\n",
       "Name: time, dtype: int64"
      ]
     },
     "execution_count": 13,
     "metadata": {},
     "output_type": "execute_result"
    },
    {
     "data": {
      "text/plain": [
       "2015-01-29    112\n",
       "Name: time, dtype: int64"
      ]
     },
     "execution_count": 13,
     "metadata": {},
     "output_type": "execute_result"
    },
    {
     "data": {
      "text/plain": [
       "2017-04-01    187\n",
       "Name: time, dtype: int64"
      ]
     },
     "execution_count": 13,
     "metadata": {},
     "output_type": "execute_result"
    },
    {
     "data": {
      "text/plain": [
       "2017-04-02    187\n",
       "Name: time, dtype: int64"
      ]
     },
     "execution_count": 13,
     "metadata": {},
     "output_type": "execute_result"
    },
    {
     "data": {
      "text/plain": [
       "2017-04-03    186\n",
       "Name: time, dtype: int64"
      ]
     },
     "execution_count": 13,
     "metadata": {},
     "output_type": "execute_result"
    }
   ],
   "source": [
    "df.loc[df['time_round'] == '2015-01-27', 'time'].value_counts()\n",
    "df.loc[df['time_round'] == '2015-01-28', 'time'].value_counts()\n",
    "df.loc[df['time_round'] == '2015-01-29', 'time'].value_counts()\n",
    "\n",
    "df.loc[df['time_round'] == '2017-04-01', 'time'].value_counts()\n",
    "df.loc[df['time_round'] == '2017-04-02', 'time'].value_counts()\n",
    "df.loc[df['time_round'] == '2017-04-03', 'time'].value_counts()\n",
    "#看日历看能否跳过"
   ]
  },
  {
   "cell_type": "code",
   "execution_count": 14,
   "id": "66e349e7-d445-42ed-8a86-6a260992ec29",
   "metadata": {},
   "outputs": [
    {
     "data": {
      "text/html": [
       "<div>\n",
       "<style scoped>\n",
       "    .dataframe tbody tr th:only-of-type {\n",
       "        vertical-align: middle;\n",
       "    }\n",
       "\n",
       "    .dataframe tbody tr th {\n",
       "        vertical-align: top;\n",
       "    }\n",
       "\n",
       "    .dataframe thead th {\n",
       "        text-align: right;\n",
       "    }\n",
       "</style>\n",
       "<table border=\"1\" class=\"dataframe\">\n",
       "  <thead>\n",
       "    <tr style=\"text-align: right;\">\n",
       "      <th></th>\n",
       "      <th>prices</th>\n",
       "      <th>market_caps</th>\n",
       "      <th>total_volumes</th>\n",
       "      <th>id</th>\n",
       "      <th>symbol</th>\n",
       "      <th>name</th>\n",
       "      <th>time</th>\n",
       "    </tr>\n",
       "  </thead>\n",
       "  <tbody>\n",
       "    <tr>\n",
       "      <th>0</th>\n",
       "      <td>0.004209</td>\n",
       "      <td>0.0</td>\n",
       "      <td>5.489113e+05</td>\n",
       "      <td>xswap</td>\n",
       "      <td>xsp</td>\n",
       "      <td>XSwap</td>\n",
       "      <td>2020-09-20</td>\n",
       "    </tr>\n",
       "    <tr>\n",
       "      <th>1</th>\n",
       "      <td>0.004209</td>\n",
       "      <td>0.0</td>\n",
       "      <td>5.489113e+05</td>\n",
       "      <td>xswap</td>\n",
       "      <td>xsp</td>\n",
       "      <td>XSwap</td>\n",
       "      <td>2020-09-21</td>\n",
       "    </tr>\n",
       "    <tr>\n",
       "      <th>2</th>\n",
       "      <td>0.004555</td>\n",
       "      <td>0.0</td>\n",
       "      <td>1.100162e+06</td>\n",
       "      <td>xswap</td>\n",
       "      <td>xsp</td>\n",
       "      <td>XSwap</td>\n",
       "      <td>2020-09-22</td>\n",
       "    </tr>\n",
       "    <tr>\n",
       "      <th>3</th>\n",
       "      <td>0.001522</td>\n",
       "      <td>0.0</td>\n",
       "      <td>4.004421e+05</td>\n",
       "      <td>xswap</td>\n",
       "      <td>xsp</td>\n",
       "      <td>XSwap</td>\n",
       "      <td>2020-09-23</td>\n",
       "    </tr>\n",
       "    <tr>\n",
       "      <th>4</th>\n",
       "      <td>0.000977</td>\n",
       "      <td>0.0</td>\n",
       "      <td>1.640611e+05</td>\n",
       "      <td>xswap</td>\n",
       "      <td>xsp</td>\n",
       "      <td>XSwap</td>\n",
       "      <td>2020-09-24</td>\n",
       "    </tr>\n",
       "  </tbody>\n",
       "</table>\n",
       "</div>"
      ],
      "text/plain": [
       "     prices  market_caps  total_volumes     id symbol   name       time\n",
       "0  0.004209          0.0   5.489113e+05  xswap    xsp  XSwap 2020-09-20\n",
       "1  0.004209          0.0   5.489113e+05  xswap    xsp  XSwap 2020-09-21\n",
       "2  0.004555          0.0   1.100162e+06  xswap    xsp  XSwap 2020-09-22\n",
       "3  0.001522          0.0   4.004421e+05  xswap    xsp  XSwap 2020-09-23\n",
       "4  0.000977          0.0   1.640611e+05  xswap    xsp  XSwap 2020-09-24"
      ]
     },
     "execution_count": 14,
     "metadata": {},
     "output_type": "execute_result"
    }
   ],
   "source": [
    "df.drop(columns=['time'], inplace=True)\n",
    "df.rename(columns={'time_round':'time'}, inplace=True)\n",
    "#列的重命名\n",
    "df.head()"
   ]
  },
  {
   "cell_type": "code",
   "execution_count": 15,
   "id": "f9d7dba9-f7f1-4d6c-841d-592d3469ee32",
   "metadata": {},
   "outputs": [],
   "source": [
    "#df.to_parquet(f'{WD}1101_crypto_fix_time.pq}')"
   ]
  },
  {
   "cell_type": "markdown",
   "id": "eceeb595-cabc-48fd-b78b-d78c70c3f5c0",
   "metadata": {},
   "source": [
    "# 筛选数据"
   ]
  },
  {
   "cell_type": "markdown",
   "id": "51654dd0-837e-4970-b893-4c8be4551606",
   "metadata": {},
   "source": [
    "> Liu, Yukun, Aleh Tsyvinski, and Xi Wu, 2022, Common Risk Factors in Cryptocurrency, Journal of Finance."
   ]
  },
  {
   "cell_type": "code",
   "execution_count": 16,
   "id": "a0c0aac8-a15e-4284-8429-1391d601c1ae",
   "metadata": {},
   "outputs": [
    {
     "data": {
      "text/plain": [
       "(5183377, 7)"
      ]
     },
     "execution_count": 16,
     "metadata": {},
     "output_type": "execute_result"
    },
    {
     "data": {
      "text/html": [
       "<div>\n",
       "<style scoped>\n",
       "    .dataframe tbody tr th:only-of-type {\n",
       "        vertical-align: middle;\n",
       "    }\n",
       "\n",
       "    .dataframe tbody tr th {\n",
       "        vertical-align: top;\n",
       "    }\n",
       "\n",
       "    .dataframe thead th {\n",
       "        text-align: right;\n",
       "    }\n",
       "</style>\n",
       "<table border=\"1\" class=\"dataframe\">\n",
       "  <thead>\n",
       "    <tr style=\"text-align: right;\">\n",
       "      <th></th>\n",
       "      <th>prices</th>\n",
       "      <th>market_caps</th>\n",
       "      <th>total_volumes</th>\n",
       "      <th>id</th>\n",
       "      <th>symbol</th>\n",
       "      <th>name</th>\n",
       "      <th>time</th>\n",
       "    </tr>\n",
       "  </thead>\n",
       "  <tbody>\n",
       "    <tr>\n",
       "      <th>0</th>\n",
       "      <td>0.004209</td>\n",
       "      <td>0.0</td>\n",
       "      <td>5.489113e+05</td>\n",
       "      <td>xswap</td>\n",
       "      <td>xsp</td>\n",
       "      <td>XSwap</td>\n",
       "      <td>2020-09-20</td>\n",
       "    </tr>\n",
       "    <tr>\n",
       "      <th>1</th>\n",
       "      <td>0.004209</td>\n",
       "      <td>0.0</td>\n",
       "      <td>5.489113e+05</td>\n",
       "      <td>xswap</td>\n",
       "      <td>xsp</td>\n",
       "      <td>XSwap</td>\n",
       "      <td>2020-09-21</td>\n",
       "    </tr>\n",
       "    <tr>\n",
       "      <th>2</th>\n",
       "      <td>0.004555</td>\n",
       "      <td>0.0</td>\n",
       "      <td>1.100162e+06</td>\n",
       "      <td>xswap</td>\n",
       "      <td>xsp</td>\n",
       "      <td>XSwap</td>\n",
       "      <td>2020-09-22</td>\n",
       "    </tr>\n",
       "    <tr>\n",
       "      <th>3</th>\n",
       "      <td>0.001522</td>\n",
       "      <td>0.0</td>\n",
       "      <td>4.004421e+05</td>\n",
       "      <td>xswap</td>\n",
       "      <td>xsp</td>\n",
       "      <td>XSwap</td>\n",
       "      <td>2020-09-23</td>\n",
       "    </tr>\n",
       "    <tr>\n",
       "      <th>4</th>\n",
       "      <td>0.000977</td>\n",
       "      <td>0.0</td>\n",
       "      <td>1.640611e+05</td>\n",
       "      <td>xswap</td>\n",
       "      <td>xsp</td>\n",
       "      <td>XSwap</td>\n",
       "      <td>2020-09-24</td>\n",
       "    </tr>\n",
       "  </tbody>\n",
       "</table>\n",
       "</div>"
      ],
      "text/plain": [
       "     prices  market_caps  total_volumes     id symbol   name       time\n",
       "0  0.004209          0.0   5.489113e+05  xswap    xsp  XSwap 2020-09-20\n",
       "1  0.004209          0.0   5.489113e+05  xswap    xsp  XSwap 2020-09-21\n",
       "2  0.004555          0.0   1.100162e+06  xswap    xsp  XSwap 2020-09-22\n",
       "3  0.001522          0.0   4.004421e+05  xswap    xsp  XSwap 2020-09-23\n",
       "4  0.000977          0.0   1.640611e+05  xswap    xsp  XSwap 2020-09-24"
      ]
     },
     "execution_count": 16,
     "metadata": {},
     "output_type": "execute_result"
    }
   ],
   "source": [
    "df = pd.read_parquet(f'{WD}1101_crypto_fix_time.pq')\n",
    "df.shape\n",
    "df.head()"
   ]
  },
  {
   "cell_type": "code",
   "execution_count": 17,
   "id": "154cbad1-bafb-4b36-b245-74d7089e63c8",
   "metadata": {},
   "outputs": [
    {
     "data": {
      "text/plain": [
       "12649"
      ]
     },
     "execution_count": 17,
     "metadata": {},
     "output_type": "execute_result"
    },
    {
     "data": {
      "text/plain": [
       "10680"
      ]
     },
     "execution_count": 17,
     "metadata": {},
     "output_type": "execute_result"
    },
    {
     "data": {
      "text/plain": [
       "12649"
      ]
     },
     "execution_count": 17,
     "metadata": {},
     "output_type": "execute_result"
    }
   ],
   "source": [
    "df['id'].nunique()\n",
    "df['symbol'].nunique()\n",
    "df['name'].nunique()"
   ]
  },
  {
   "cell_type": "code",
   "execution_count": 18,
   "id": "10e653f4-388f-490f-a98b-1045cbd0a2ee",
   "metadata": {},
   "outputs": [
    {
     "data": {
      "text/plain": [
       "<AxesSubplot:>"
      ]
     },
     "execution_count": 18,
     "metadata": {},
     "output_type": "execute_result"
    },
    {
     "data": {
      "image/png": "[encoded data removed]",
      "text/plain": [
       "<Figure size 432x288 with 1 Axes>"
      ]
     },
     "metadata": {
      "needs_background": "light"
     },
     "output_type": "display_data"
    }
   ],
   "source": [
    "df['daily_ret'] = df.groupby(['id'])['prices'].pct_change()\n",
    "pl1 = df.groupby(['id'])['prices'].shift()\n",
    "#检查有无昨天是0的情况避免除以0\n",
    "df.loc[pl1 == 0, 'daily_ret'] = np.nan\n",
    "#loc的本质是裁剪行列，可以用一个辅助dataframe进行筛选\n",
    "df['daily_ret'].hist(bins=50)"
   ]
  },
  {
   "cell_type": "markdown",
   "id": "bcac0ffe-4108-4339-b57c-4ee710c4215f",
   "metadata": {},
   "source": [
    "## 缺失值"
   ]
  },
  {
   "cell_type": "code",
   "execution_count": 19,
   "id": "4851578f-8679-4ab1-bf92-456fd0de51d8",
   "metadata": {},
   "outputs": [
    {
     "data": {
      "text/plain": [
       "prices               0\n",
       "market_caps        293\n",
       "total_volumes       40\n",
       "id                   0\n",
       "symbol             667\n",
       "name                 0\n",
       "time                 0\n",
       "daily_ret        12702\n",
       "dtype: int64"
      ]
     },
     "execution_count": 19,
     "metadata": {},
     "output_type": "execute_result"
    }
   ],
   "source": [
    "df.isna().sum()"
   ]
  },
  {
   "cell_type": "code",
   "execution_count": 20,
   "id": "adc667cc-72f2-47a8-95cf-1230098f1fdd",
   "metadata": {},
   "outputs": [
    {
     "data": {
      "text/plain": [
       "prices               0\n",
       "market_caps          0\n",
       "total_volumes        0\n",
       "id                   0\n",
       "symbol             667\n",
       "name                 0\n",
       "time                 0\n",
       "daily_ret        12701\n",
       "dtype: int64"
      ]
     },
     "execution_count": 20,
     "metadata": {},
     "output_type": "execute_result"
    }
   ],
   "source": [
    "df.dropna(subset=['prices', 'market_caps', 'total_volumes'], how='any', inplace=True)\n",
    "df.isna().sum()"
   ]
  },
  {
   "cell_type": "code",
   "execution_count": 21,
   "id": "b6bf6cbd-a9e1-484e-aa87-be05bc8b8dfb",
   "metadata": {},
   "outputs": [],
   "source": [
    "#df.to_parquet(f'{WD}1102_crypto_day.pq')"
   ]
  },
  {
   "cell_type": "markdown",
   "id": "e8103748-e084-44ab-a9e5-91281cb711b6",
   "metadata": {
    "tags": []
   },
   "source": [
    "## 小市值"
   ]
  },
  {
   "cell_type": "code",
   "execution_count": 22,
   "id": "8a9246b8-1e69-4cc8-b44b-efc5a9065aed",
   "metadata": {},
   "outputs": [
    {
     "data": {
      "text/plain": [
       "nunique  max  \n",
       "1        False    8794\n",
       "2        True     3525\n",
       "1        True      330\n",
       "dtype: int64"
      ]
     },
     "execution_count": 22,
     "metadata": {},
     "output_type": "execute_result"
    }
   ],
   "source": [
    "df['gt_1m'] = (df['market_caps'] >= 10 ** 6)\n",
    "df.groupby(['id'])['gt_1m'].agg(['nunique', 'max']).value_counts()\n",
    "#agg把几种操作组合起来\n",
    "#先看有无中间状态，再计算偏向哪种状态"
   ]
  },
  {
   "cell_type": "code",
   "execution_count": 23,
   "id": "80cc03cf-429a-45b8-846a-b963ed35bff8",
   "metadata": {},
   "outputs": [
    {
     "data": {
      "text/html": [
       "<div>\n",
       "<style scoped>\n",
       "    .dataframe tbody tr th:only-of-type {\n",
       "        vertical-align: middle;\n",
       "    }\n",
       "\n",
       "    .dataframe tbody tr th {\n",
       "        vertical-align: top;\n",
       "    }\n",
       "\n",
       "    .dataframe thead th {\n",
       "        text-align: right;\n",
       "    }\n",
       "</style>\n",
       "<table border=\"1\" class=\"dataframe\">\n",
       "  <thead>\n",
       "    <tr style=\"text-align: right;\">\n",
       "      <th></th>\n",
       "      <th>prices</th>\n",
       "      <th>market_caps</th>\n",
       "      <th>total_volumes</th>\n",
       "      <th>id</th>\n",
       "      <th>symbol</th>\n",
       "      <th>name</th>\n",
       "      <th>time</th>\n",
       "      <th>daily_ret</th>\n",
       "      <th>gt_1m</th>\n",
       "    </tr>\n",
       "  </thead>\n",
       "  <tbody>\n",
       "    <tr>\n",
       "      <th>0</th>\n",
       "      <td>0.004209</td>\n",
       "      <td>0.0</td>\n",
       "      <td>5.489113e+05</td>\n",
       "      <td>xswap</td>\n",
       "      <td>xsp</td>\n",
       "      <td>XSwap</td>\n",
       "      <td>2020-09-20</td>\n",
       "      <td>NaN</td>\n",
       "      <td>False</td>\n",
       "    </tr>\n",
       "    <tr>\n",
       "      <th>1</th>\n",
       "      <td>0.004209</td>\n",
       "      <td>0.0</td>\n",
       "      <td>5.489113e+05</td>\n",
       "      <td>xswap</td>\n",
       "      <td>xsp</td>\n",
       "      <td>XSwap</td>\n",
       "      <td>2020-09-21</td>\n",
       "      <td>0.000000</td>\n",
       "      <td>False</td>\n",
       "    </tr>\n",
       "    <tr>\n",
       "      <th>2</th>\n",
       "      <td>0.004555</td>\n",
       "      <td>0.0</td>\n",
       "      <td>1.100162e+06</td>\n",
       "      <td>xswap</td>\n",
       "      <td>xsp</td>\n",
       "      <td>XSwap</td>\n",
       "      <td>2020-09-22</td>\n",
       "      <td>0.082313</td>\n",
       "      <td>False</td>\n",
       "    </tr>\n",
       "    <tr>\n",
       "      <th>3</th>\n",
       "      <td>0.001522</td>\n",
       "      <td>0.0</td>\n",
       "      <td>4.004421e+05</td>\n",
       "      <td>xswap</td>\n",
       "      <td>xsp</td>\n",
       "      <td>XSwap</td>\n",
       "      <td>2020-09-23</td>\n",
       "      <td>-0.665974</td>\n",
       "      <td>False</td>\n",
       "    </tr>\n",
       "    <tr>\n",
       "      <th>4</th>\n",
       "      <td>0.000977</td>\n",
       "      <td>0.0</td>\n",
       "      <td>1.640611e+05</td>\n",
       "      <td>xswap</td>\n",
       "      <td>xsp</td>\n",
       "      <td>XSwap</td>\n",
       "      <td>2020-09-24</td>\n",
       "      <td>-0.357812</td>\n",
       "      <td>False</td>\n",
       "    </tr>\n",
       "  </tbody>\n",
       "</table>\n",
       "</div>"
      ],
      "text/plain": [
       "     prices  market_caps  total_volumes     id symbol   name       time  \\\n",
       "0  0.004209          0.0   5.489113e+05  xswap    xsp  XSwap 2020-09-20   \n",
       "1  0.004209          0.0   5.489113e+05  xswap    xsp  XSwap 2020-09-21   \n",
       "2  0.004555          0.0   1.100162e+06  xswap    xsp  XSwap 2020-09-22   \n",
       "3  0.001522          0.0   4.004421e+05  xswap    xsp  XSwap 2020-09-23   \n",
       "4  0.000977          0.0   1.640611e+05  xswap    xsp  XSwap 2020-09-24   \n",
       "\n",
       "   daily_ret  gt_1m  \n",
       "0        NaN  False  \n",
       "1   0.000000  False  \n",
       "2   0.082313  False  \n",
       "3  -0.665974  False  \n",
       "4  -0.357812  False  "
      ]
     },
     "execution_count": 23,
     "metadata": {},
     "output_type": "execute_result"
    }
   ],
   "source": [
    "df.head()"
   ]
  },
  {
   "cell_type": "code",
   "execution_count": 24,
   "id": "c11ce44e-d6bc-4b14-bd97-c415adc5aed8",
   "metadata": {},
   "outputs": [
    {
     "data": {
      "text/plain": [
       "(1600069, 9)"
      ]
     },
     "execution_count": 24,
     "metadata": {},
     "output_type": "execute_result"
    },
    {
     "data": {
      "text/html": [
       "<div>\n",
       "<style scoped>\n",
       "    .dataframe tbody tr th:only-of-type {\n",
       "        vertical-align: middle;\n",
       "    }\n",
       "\n",
       "    .dataframe tbody tr th {\n",
       "        vertical-align: top;\n",
       "    }\n",
       "\n",
       "    .dataframe thead th {\n",
       "        text-align: right;\n",
       "    }\n",
       "</style>\n",
       "<table border=\"1\" class=\"dataframe\">\n",
       "  <thead>\n",
       "    <tr style=\"text-align: right;\">\n",
       "      <th></th>\n",
       "      <th>prices</th>\n",
       "      <th>market_caps</th>\n",
       "      <th>total_volumes</th>\n",
       "      <th>id</th>\n",
       "      <th>symbol</th>\n",
       "      <th>name</th>\n",
       "      <th>time</th>\n",
       "      <th>daily_ret</th>\n",
       "      <th>gt_1m</th>\n",
       "    </tr>\n",
       "  </thead>\n",
       "  <tbody>\n",
       "    <tr>\n",
       "      <th>11</th>\n",
       "      <td>0.027199</td>\n",
       "      <td>5.439844e+07</td>\n",
       "      <td>9.346758e+06</td>\n",
       "      <td>odyssey</td>\n",
       "      <td>ocn</td>\n",
       "      <td>Odyssey</td>\n",
       "      <td>2018-02-05</td>\n",
       "      <td>-0.210672</td>\n",
       "      <td>True</td>\n",
       "    </tr>\n",
       "    <tr>\n",
       "      <th>12</th>\n",
       "      <td>0.018744</td>\n",
       "      <td>3.748767e+07</td>\n",
       "      <td>9.359014e+06</td>\n",
       "      <td>odyssey</td>\n",
       "      <td>ocn</td>\n",
       "      <td>Odyssey</td>\n",
       "      <td>2018-02-06</td>\n",
       "      <td>-0.310869</td>\n",
       "      <td>True</td>\n",
       "    </tr>\n",
       "    <tr>\n",
       "      <th>13</th>\n",
       "      <td>0.024691</td>\n",
       "      <td>4.938229e+07</td>\n",
       "      <td>1.757499e+07</td>\n",
       "      <td>odyssey</td>\n",
       "      <td>ocn</td>\n",
       "      <td>Odyssey</td>\n",
       "      <td>2018-02-07</td>\n",
       "      <td>0.317294</td>\n",
       "      <td>True</td>\n",
       "    </tr>\n",
       "    <tr>\n",
       "      <th>14</th>\n",
       "      <td>0.021616</td>\n",
       "      <td>4.323143e+07</td>\n",
       "      <td>1.575115e+07</td>\n",
       "      <td>odyssey</td>\n",
       "      <td>ocn</td>\n",
       "      <td>Odyssey</td>\n",
       "      <td>2018-02-08</td>\n",
       "      <td>-0.124556</td>\n",
       "      <td>True</td>\n",
       "    </tr>\n",
       "    <tr>\n",
       "      <th>15</th>\n",
       "      <td>0.024626</td>\n",
       "      <td>4.925170e+07</td>\n",
       "      <td>1.075072e+07</td>\n",
       "      <td>odyssey</td>\n",
       "      <td>ocn</td>\n",
       "      <td>Odyssey</td>\n",
       "      <td>2018-02-09</td>\n",
       "      <td>0.139257</td>\n",
       "      <td>True</td>\n",
       "    </tr>\n",
       "  </tbody>\n",
       "</table>\n",
       "</div>"
      ],
      "text/plain": [
       "      prices   market_caps  total_volumes       id symbol     name       time  \\\n",
       "11  0.027199  5.439844e+07   9.346758e+06  odyssey    ocn  Odyssey 2018-02-05   \n",
       "12  0.018744  3.748767e+07   9.359014e+06  odyssey    ocn  Odyssey 2018-02-06   \n",
       "13  0.024691  4.938229e+07   1.757499e+07  odyssey    ocn  Odyssey 2018-02-07   \n",
       "14  0.021616  4.323143e+07   1.575115e+07  odyssey    ocn  Odyssey 2018-02-08   \n",
       "15  0.024626  4.925170e+07   1.075072e+07  odyssey    ocn  Odyssey 2018-02-09   \n",
       "\n",
       "    daily_ret  gt_1m  \n",
       "11  -0.210672   True  \n",
       "12  -0.310869   True  \n",
       "13   0.317294   True  \n",
       "14  -0.124556   True  \n",
       "15   0.139257   True  "
      ]
     },
     "execution_count": 24,
     "metadata": {},
     "output_type": "execute_result"
    }
   ],
   "source": [
    "df2 = df.loc[df['gt_1m']].copy()\n",
    "df2.shape\n",
    "df2.head()"
   ]
  },
  {
   "cell_type": "markdown",
   "id": "2d65219c-361d-4d48-ae98-1689670cc3a1",
   "metadata": {},
   "source": [
    "## 周频"
   ]
  },
  {
   "cell_type": "code",
   "execution_count": 25,
   "id": "092cf0ae-798a-4be8-948b-a7270fe592d8",
   "metadata": {},
   "outputs": [
    {
     "data": {
      "text/plain": [
       "3"
      ]
     },
     "execution_count": 25,
     "metadata": {},
     "output_type": "execute_result"
    }
   ],
   "source": [
    "df2.duplicated(subset=['time', 'id']).sum()"
   ]
  },
  {
   "cell_type": "code",
   "execution_count": 26,
   "id": "a42f6e6b-8925-4e4b-a2e6-dc580eb71b42",
   "metadata": {},
   "outputs": [
    {
     "data": {
      "text/html": [
       "<div>\n",
       "<style scoped>\n",
       "    .dataframe tbody tr th:only-of-type {\n",
       "        vertical-align: middle;\n",
       "    }\n",
       "\n",
       "    .dataframe tbody tr th {\n",
       "        vertical-align: top;\n",
       "    }\n",
       "\n",
       "    .dataframe thead th {\n",
       "        text-align: right;\n",
       "    }\n",
       "</style>\n",
       "<table border=\"1\" class=\"dataframe\">\n",
       "  <thead>\n",
       "    <tr style=\"text-align: right;\">\n",
       "      <th></th>\n",
       "      <th>prices</th>\n",
       "      <th>market_caps</th>\n",
       "      <th>total_volumes</th>\n",
       "      <th>id</th>\n",
       "      <th>symbol</th>\n",
       "      <th>name</th>\n",
       "      <th>time</th>\n",
       "      <th>daily_ret</th>\n",
       "      <th>gt_1m</th>\n",
       "      <th>year</th>\n",
       "      <th>week</th>\n",
       "      <th>day</th>\n",
       "    </tr>\n",
       "  </thead>\n",
       "  <tbody>\n",
       "    <tr>\n",
       "      <th>11</th>\n",
       "      <td>0.027199</td>\n",
       "      <td>5.439844e+07</td>\n",
       "      <td>9.346758e+06</td>\n",
       "      <td>odyssey</td>\n",
       "      <td>ocn</td>\n",
       "      <td>Odyssey</td>\n",
       "      <td>2018-02-05</td>\n",
       "      <td>-0.210672</td>\n",
       "      <td>True</td>\n",
       "      <td>2018</td>\n",
       "      <td>6</td>\n",
       "      <td>1</td>\n",
       "    </tr>\n",
       "    <tr>\n",
       "      <th>12</th>\n",
       "      <td>0.018744</td>\n",
       "      <td>3.748767e+07</td>\n",
       "      <td>9.359014e+06</td>\n",
       "      <td>odyssey</td>\n",
       "      <td>ocn</td>\n",
       "      <td>Odyssey</td>\n",
       "      <td>2018-02-06</td>\n",
       "      <td>-0.310869</td>\n",
       "      <td>True</td>\n",
       "      <td>2018</td>\n",
       "      <td>6</td>\n",
       "      <td>2</td>\n",
       "    </tr>\n",
       "    <tr>\n",
       "      <th>13</th>\n",
       "      <td>0.024691</td>\n",
       "      <td>4.938229e+07</td>\n",
       "      <td>1.757499e+07</td>\n",
       "      <td>odyssey</td>\n",
       "      <td>ocn</td>\n",
       "      <td>Odyssey</td>\n",
       "      <td>2018-02-07</td>\n",
       "      <td>0.317294</td>\n",
       "      <td>True</td>\n",
       "      <td>2018</td>\n",
       "      <td>6</td>\n",
       "      <td>3</td>\n",
       "    </tr>\n",
       "    <tr>\n",
       "      <th>14</th>\n",
       "      <td>0.021616</td>\n",
       "      <td>4.323143e+07</td>\n",
       "      <td>1.575115e+07</td>\n",
       "      <td>odyssey</td>\n",
       "      <td>ocn</td>\n",
       "      <td>Odyssey</td>\n",
       "      <td>2018-02-08</td>\n",
       "      <td>-0.124556</td>\n",
       "      <td>True</td>\n",
       "      <td>2018</td>\n",
       "      <td>6</td>\n",
       "      <td>4</td>\n",
       "    </tr>\n",
       "    <tr>\n",
       "      <th>15</th>\n",
       "      <td>0.024626</td>\n",
       "      <td>4.925170e+07</td>\n",
       "      <td>1.075072e+07</td>\n",
       "      <td>odyssey</td>\n",
       "      <td>ocn</td>\n",
       "      <td>Odyssey</td>\n",
       "      <td>2018-02-09</td>\n",
       "      <td>0.139257</td>\n",
       "      <td>True</td>\n",
       "      <td>2018</td>\n",
       "      <td>6</td>\n",
       "      <td>5</td>\n",
       "    </tr>\n",
       "    <tr>\n",
       "      <th>...</th>\n",
       "      <td>...</td>\n",
       "      <td>...</td>\n",
       "      <td>...</td>\n",
       "      <td>...</td>\n",
       "      <td>...</td>\n",
       "      <td>...</td>\n",
       "      <td>...</td>\n",
       "      <td>...</td>\n",
       "      <td>...</td>\n",
       "      <td>...</td>\n",
       "      <td>...</td>\n",
       "      <td>...</td>\n",
       "    </tr>\n",
       "    <tr>\n",
       "      <th>652</th>\n",
       "      <td>13.284669</td>\n",
       "      <td>2.020116e+08</td>\n",
       "      <td>2.901901e+06</td>\n",
       "      <td>lukso-token</td>\n",
       "      <td>lyxe</td>\n",
       "      <td>LUKSO Token</td>\n",
       "      <td>2022-03-05</td>\n",
       "      <td>-0.081107</td>\n",
       "      <td>True</td>\n",
       "      <td>2022</td>\n",
       "      <td>9</td>\n",
       "      <td>6</td>\n",
       "    </tr>\n",
       "    <tr>\n",
       "      <th>653</th>\n",
       "      <td>14.901492</td>\n",
       "      <td>2.267281e+08</td>\n",
       "      <td>1.987977e+06</td>\n",
       "      <td>lukso-token</td>\n",
       "      <td>lyxe</td>\n",
       "      <td>LUKSO Token</td>\n",
       "      <td>2022-03-06</td>\n",
       "      <td>0.121706</td>\n",
       "      <td>True</td>\n",
       "      <td>2022</td>\n",
       "      <td>9</td>\n",
       "      <td>7</td>\n",
       "    </tr>\n",
       "    <tr>\n",
       "      <th>654</th>\n",
       "      <td>13.525481</td>\n",
       "      <td>2.055845e+08</td>\n",
       "      <td>1.680815e+06</td>\n",
       "      <td>lukso-token</td>\n",
       "      <td>lyxe</td>\n",
       "      <td>LUKSO Token</td>\n",
       "      <td>2022-03-07</td>\n",
       "      <td>-0.092340</td>\n",
       "      <td>True</td>\n",
       "      <td>2022</td>\n",
       "      <td>10</td>\n",
       "      <td>1</td>\n",
       "    </tr>\n",
       "    <tr>\n",
       "      <th>655</th>\n",
       "      <td>12.871878</td>\n",
       "      <td>1.971746e+08</td>\n",
       "      <td>4.006113e+06</td>\n",
       "      <td>lukso-token</td>\n",
       "      <td>lyxe</td>\n",
       "      <td>LUKSO Token</td>\n",
       "      <td>2022-03-08</td>\n",
       "      <td>-0.048324</td>\n",
       "      <td>True</td>\n",
       "      <td>2022</td>\n",
       "      <td>10</td>\n",
       "      <td>2</td>\n",
       "    </tr>\n",
       "    <tr>\n",
       "      <th>656</th>\n",
       "      <td>13.058107</td>\n",
       "      <td>1.988837e+08</td>\n",
       "      <td>2.062833e+06</td>\n",
       "      <td>lukso-token</td>\n",
       "      <td>lyxe</td>\n",
       "      <td>LUKSO Token</td>\n",
       "      <td>2022-03-09</td>\n",
       "      <td>0.014468</td>\n",
       "      <td>True</td>\n",
       "      <td>2022</td>\n",
       "      <td>10</td>\n",
       "      <td>3</td>\n",
       "    </tr>\n",
       "  </tbody>\n",
       "</table>\n",
       "<p>1600069 rows × 12 columns</p>\n",
       "</div>"
      ],
      "text/plain": [
       "        prices   market_caps  total_volumes           id symbol         name  \\\n",
       "11    0.027199  5.439844e+07   9.346758e+06      odyssey    ocn      Odyssey   \n",
       "12    0.018744  3.748767e+07   9.359014e+06      odyssey    ocn      Odyssey   \n",
       "13    0.024691  4.938229e+07   1.757499e+07      odyssey    ocn      Odyssey   \n",
       "14    0.021616  4.323143e+07   1.575115e+07      odyssey    ocn      Odyssey   \n",
       "15    0.024626  4.925170e+07   1.075072e+07      odyssey    ocn      Odyssey   \n",
       "..         ...           ...            ...          ...    ...          ...   \n",
       "652  13.284669  2.020116e+08   2.901901e+06  lukso-token   lyxe  LUKSO Token   \n",
       "653  14.901492  2.267281e+08   1.987977e+06  lukso-token   lyxe  LUKSO Token   \n",
       "654  13.525481  2.055845e+08   1.680815e+06  lukso-token   lyxe  LUKSO Token   \n",
       "655  12.871878  1.971746e+08   4.006113e+06  lukso-token   lyxe  LUKSO Token   \n",
       "656  13.058107  1.988837e+08   2.062833e+06  lukso-token   lyxe  LUKSO Token   \n",
       "\n",
       "          time  daily_ret  gt_1m  year  week  day  \n",
       "11  2018-02-05  -0.210672   True  2018     6    1  \n",
       "12  2018-02-06  -0.310869   True  2018     6    2  \n",
       "13  2018-02-07   0.317294   True  2018     6    3  \n",
       "14  2018-02-08  -0.124556   True  2018     6    4  \n",
       "15  2018-02-09   0.139257   True  2018     6    5  \n",
       "..         ...        ...    ...   ...   ...  ...  \n",
       "652 2022-03-05  -0.081107   True  2022     9    6  \n",
       "653 2022-03-06   0.121706   True  2022     9    7  \n",
       "654 2022-03-07  -0.092340   True  2022    10    1  \n",
       "655 2022-03-08  -0.048324   True  2022    10    2  \n",
       "656 2022-03-09   0.014468   True  2022    10    3  \n",
       "\n",
       "[1600069 rows x 12 columns]"
      ]
     },
     "execution_count": 26,
     "metadata": {},
     "output_type": "execute_result"
    }
   ],
   "source": [
    "df2[['year', 'week', 'day']] = df2['time'].dt.isocalendar()\n",
    "df2"
   ]
  },
  {
   "cell_type": "code",
   "execution_count": 27,
   "id": "aea30568-ab26-4978-acb0-673972346b7a",
   "metadata": {},
   "outputs": [
    {
     "data": {
      "text/plain": [
       "3    229448\n",
       "2    229051\n",
       "1    228699\n",
       "7    228459\n",
       "6    228368\n",
       "5    228123\n",
       "4    227921\n",
       "Name: day, dtype: Int64"
      ]
     },
     "execution_count": 27,
     "metadata": {},
     "output_type": "execute_result"
    }
   ],
   "source": [
    "df2['day'].value_counts()"
   ]
  },
  {
   "cell_type": "code",
   "execution_count": 28,
   "id": "ea65b15d-9c70-4912-82d5-d6e576e9ac45",
   "metadata": {},
   "outputs": [
    {
     "data": {
      "text/html": [
       "<div>\n",
       "<style scoped>\n",
       "    .dataframe tbody tr th:only-of-type {\n",
       "        vertical-align: middle;\n",
       "    }\n",
       "\n",
       "    .dataframe tbody tr th {\n",
       "        vertical-align: top;\n",
       "    }\n",
       "\n",
       "    .dataframe thead th {\n",
       "        text-align: right;\n",
       "    }\n",
       "</style>\n",
       "<table border=\"1\" class=\"dataframe\">\n",
       "  <thead>\n",
       "    <tr style=\"text-align: right;\">\n",
       "      <th></th>\n",
       "      <th>prices</th>\n",
       "      <th>market_caps</th>\n",
       "      <th>total_volumes</th>\n",
       "      <th>id</th>\n",
       "      <th>symbol</th>\n",
       "      <th>name</th>\n",
       "      <th>time</th>\n",
       "      <th>daily_ret</th>\n",
       "      <th>gt_1m</th>\n",
       "      <th>year</th>\n",
       "      <th>week</th>\n",
       "      <th>day</th>\n",
       "      <th>time_tmp</th>\n",
       "      <th>unit_volumes</th>\n",
       "    </tr>\n",
       "  </thead>\n",
       "  <tbody>\n",
       "    <tr>\n",
       "      <th>0</th>\n",
       "      <td>0.483325</td>\n",
       "      <td>1.933300e+07</td>\n",
       "      <td>64385.191049</td>\n",
       "      <td>0chain</td>\n",
       "      <td>zcn</td>\n",
       "      <td>0chain</td>\n",
       "      <td>2018-07-19</td>\n",
       "      <td>NaN</td>\n",
       "      <td>True</td>\n",
       "      <td>2018</td>\n",
       "      <td>29</td>\n",
       "      <td>6</td>\n",
       "      <td>2018-07-21</td>\n",
       "      <td>133213.046961</td>\n",
       "    </tr>\n",
       "    <tr>\n",
       "      <th>1</th>\n",
       "      <td>0.432846</td>\n",
       "      <td>1.731383e+07</td>\n",
       "      <td>92248.916728</td>\n",
       "      <td>0chain</td>\n",
       "      <td>zcn</td>\n",
       "      <td>0chain</td>\n",
       "      <td>2018-07-20</td>\n",
       "      <td>-0.104442</td>\n",
       "      <td>True</td>\n",
       "      <td>2018</td>\n",
       "      <td>29</td>\n",
       "      <td>7</td>\n",
       "      <td>2018-07-22</td>\n",
       "      <td>213121.913759</td>\n",
       "    </tr>\n",
       "    <tr>\n",
       "      <th>2</th>\n",
       "      <td>0.391944</td>\n",
       "      <td>1.567774e+07</td>\n",
       "      <td>131175.413170</td>\n",
       "      <td>0chain</td>\n",
       "      <td>zcn</td>\n",
       "      <td>0chain</td>\n",
       "      <td>2018-07-21</td>\n",
       "      <td>-0.094496</td>\n",
       "      <td>True</td>\n",
       "      <td>2018</td>\n",
       "      <td>30</td>\n",
       "      <td>1</td>\n",
       "      <td>2018-07-23</td>\n",
       "      <td>334679.303038</td>\n",
       "    </tr>\n",
       "    <tr>\n",
       "      <th>3</th>\n",
       "      <td>0.377234</td>\n",
       "      <td>1.508935e+07</td>\n",
       "      <td>62006.348324</td>\n",
       "      <td>0chain</td>\n",
       "      <td>zcn</td>\n",
       "      <td>0chain</td>\n",
       "      <td>2018-07-22</td>\n",
       "      <td>-0.037530</td>\n",
       "      <td>True</td>\n",
       "      <td>2018</td>\n",
       "      <td>30</td>\n",
       "      <td>2</td>\n",
       "      <td>2018-07-24</td>\n",
       "      <td>164371.105279</td>\n",
       "    </tr>\n",
       "    <tr>\n",
       "      <th>4</th>\n",
       "      <td>0.360793</td>\n",
       "      <td>1.443172e+07</td>\n",
       "      <td>24066.254330</td>\n",
       "      <td>0chain</td>\n",
       "      <td>zcn</td>\n",
       "      <td>0chain</td>\n",
       "      <td>2018-07-23</td>\n",
       "      <td>-0.043583</td>\n",
       "      <td>True</td>\n",
       "      <td>2018</td>\n",
       "      <td>30</td>\n",
       "      <td>3</td>\n",
       "      <td>2018-07-25</td>\n",
       "      <td>66703.794895</td>\n",
       "    </tr>\n",
       "  </tbody>\n",
       "</table>\n",
       "</div>"
      ],
      "text/plain": [
       "     prices   market_caps  total_volumes      id symbol    name       time  \\\n",
       "0  0.483325  1.933300e+07   64385.191049  0chain    zcn  0chain 2018-07-19   \n",
       "1  0.432846  1.731383e+07   92248.916728  0chain    zcn  0chain 2018-07-20   \n",
       "2  0.391944  1.567774e+07  131175.413170  0chain    zcn  0chain 2018-07-21   \n",
       "3  0.377234  1.508935e+07   62006.348324  0chain    zcn  0chain 2018-07-22   \n",
       "4  0.360793  1.443172e+07   24066.254330  0chain    zcn  0chain 2018-07-23   \n",
       "\n",
       "   daily_ret  gt_1m  year  week  day   time_tmp   unit_volumes  \n",
       "0        NaN   True  2018    29    6 2018-07-21  133213.046961  \n",
       "1  -0.104442   True  2018    29    7 2018-07-22  213121.913759  \n",
       "2  -0.094496   True  2018    30    1 2018-07-23  334679.303038  \n",
       "3  -0.037530   True  2018    30    2 2018-07-24  164371.105279  \n",
       "4  -0.043583   True  2018    30    3 2018-07-25   66703.794895  "
      ]
     },
     "execution_count": 28,
     "metadata": {},
     "output_type": "execute_result"
    }
   ],
   "source": [
    "df3 = df2.copy()\n",
    "df3['time_tmp'] = df3['time'] + pd.offsets.Day(2)\n",
    "#将timestamp往后推2天\n",
    "df3[['year', 'week', 'day']] = df3['time_tmp'].dt.isocalendar()\n",
    "\n",
    "df3.sort_values(['id', 'year', 'week', 'day'], ascending=True, inplace=True)\n",
    "df3['unit_volumes'] = df3['total_volumes'] / df3['prices']\n",
    "\n",
    "df3.head()"
   ]
  },
  {
   "cell_type": "code",
   "execution_count": 29,
   "id": "66be69fe-c4bd-4a9a-b761-528c0fcbba05",
   "metadata": {},
   "outputs": [],
   "source": [
    "#pd.Timestamp('2000-01-01') + pd.offsets.Day(2)\n",
    "#将timestamp往后推2天\n",
    "#df2.dtypes\n",
    "#数据本身就是datatime形式"
   ]
  },
  {
   "cell_type": "code",
   "execution_count": 30,
   "id": "bbec1731-8be1-402a-b340-a8d6d09f6e3b",
   "metadata": {},
   "outputs": [
    {
     "data": {
      "text/html": [
       "<div>\n",
       "<style scoped>\n",
       "    .dataframe tbody tr th:only-of-type {\n",
       "        vertical-align: middle;\n",
       "    }\n",
       "\n",
       "    .dataframe tbody tr th {\n",
       "        vertical-align: top;\n",
       "    }\n",
       "\n",
       "    .dataframe thead th {\n",
       "        text-align: right;\n",
       "    }\n",
       "</style>\n",
       "<table border=\"1\" class=\"dataframe\">\n",
       "  <thead>\n",
       "    <tr style=\"text-align: right;\">\n",
       "      <th></th>\n",
       "      <th></th>\n",
       "      <th></th>\n",
       "      <th>time</th>\n",
       "      <th>price</th>\n",
       "      <th>max prices</th>\n",
       "      <th>market_caps</th>\n",
       "      <th>avg_volumnes</th>\n",
       "      <th>eow_volumnes</th>\n",
       "      <th>std_volumnes</th>\n",
       "      <th>unit_volumes</th>\n",
       "      <th>avg_daily_ret</th>\n",
       "      <th>max_daily_ret</th>\n",
       "      <th>std_daily_ret</th>\n",
       "      <th>symbol</th>\n",
       "      <th>name</th>\n",
       "      <th>day</th>\n",
       "    </tr>\n",
       "    <tr>\n",
       "      <th>id</th>\n",
       "      <th>year</th>\n",
       "      <th>week</th>\n",
       "      <th></th>\n",
       "      <th></th>\n",
       "      <th></th>\n",
       "      <th></th>\n",
       "      <th></th>\n",
       "      <th></th>\n",
       "      <th></th>\n",
       "      <th></th>\n",
       "      <th></th>\n",
       "      <th></th>\n",
       "      <th></th>\n",
       "      <th></th>\n",
       "      <th></th>\n",
       "      <th></th>\n",
       "    </tr>\n",
       "  </thead>\n",
       "  <tbody>\n",
       "    <tr>\n",
       "      <th>foam-protocol</th>\n",
       "      <th>2019</th>\n",
       "      <th>34</th>\n",
       "      <td>2019-08-23</td>\n",
       "      <td>0.031285</td>\n",
       "      <td>0.037864</td>\n",
       "      <td>1.042051e+07</td>\n",
       "      <td>1.707076e+04</td>\n",
       "      <td>1.736383e+04</td>\n",
       "      <td>2.506534e+03</td>\n",
       "      <td>5.171447e+05</td>\n",
       "      <td>-0.007798</td>\n",
       "      <td>0.115880</td>\n",
       "      <td>0.093341</td>\n",
       "      <td>foam</td>\n",
       "      <td>FOAM</td>\n",
       "      <td>5</td>\n",
       "    </tr>\n",
       "    <tr>\n",
       "      <th>nucypher</th>\n",
       "      <th>2021</th>\n",
       "      <th>17</th>\n",
       "      <td>2021-04-30</td>\n",
       "      <td>0.527394</td>\n",
       "      <td>0.527394</td>\n",
       "      <td>1.859904e+08</td>\n",
       "      <td>3.902447e+07</td>\n",
       "      <td>3.544061e+07</td>\n",
       "      <td>2.454348e+07</td>\n",
       "      <td>8.240830e+07</td>\n",
       "      <td>0.032388</td>\n",
       "      <td>0.235219</td>\n",
       "      <td>0.101558</td>\n",
       "      <td>nu</td>\n",
       "      <td>NuCypher</td>\n",
       "      <td>5</td>\n",
       "    </tr>\n",
       "    <tr>\n",
       "      <th>electroneum</th>\n",
       "      <th>2019</th>\n",
       "      <th>16</th>\n",
       "      <td>2019-04-19</td>\n",
       "      <td>0.005045</td>\n",
       "      <td>0.005905</td>\n",
       "      <td>4.691053e+07</td>\n",
       "      <td>3.424483e+05</td>\n",
       "      <td>5.144703e+05</td>\n",
       "      <td>1.089186e+05</td>\n",
       "      <td>6.317134e+07</td>\n",
       "      <td>-0.017336</td>\n",
       "      <td>0.041746</td>\n",
       "      <td>0.031518</td>\n",
       "      <td>etn</td>\n",
       "      <td>Electroneum</td>\n",
       "      <td>5</td>\n",
       "    </tr>\n",
       "  </tbody>\n",
       "</table>\n",
       "</div>"
      ],
      "text/plain": [
       "                              time     price  max prices   market_caps  \\\n",
       "id            year week                                                  \n",
       "foam-protocol 2019 34   2019-08-23  0.031285    0.037864  1.042051e+07   \n",
       "nucypher      2021 17   2021-04-30  0.527394    0.527394  1.859904e+08   \n",
       "electroneum   2019 16   2019-04-19  0.005045    0.005905  4.691053e+07   \n",
       "\n",
       "                         avg_volumnes  eow_volumnes  std_volumnes  \\\n",
       "id            year week                                             \n",
       "foam-protocol 2019 34    1.707076e+04  1.736383e+04  2.506534e+03   \n",
       "nucypher      2021 17    3.902447e+07  3.544061e+07  2.454348e+07   \n",
       "electroneum   2019 16    3.424483e+05  5.144703e+05  1.089186e+05   \n",
       "\n",
       "                         unit_volumes  avg_daily_ret  max_daily_ret  \\\n",
       "id            year week                                               \n",
       "foam-protocol 2019 34    5.171447e+05      -0.007798       0.115880   \n",
       "nucypher      2021 17    8.240830e+07       0.032388       0.235219   \n",
       "electroneum   2019 16    6.317134e+07      -0.017336       0.041746   \n",
       "\n",
       "                         std_daily_ret symbol         name  day  \n",
       "id            year week                                          \n",
       "foam-protocol 2019 34         0.093341   foam         FOAM    5  \n",
       "nucypher      2021 17         0.101558     nu     NuCypher    5  \n",
       "electroneum   2019 16         0.031518    etn  Electroneum    5  "
      ]
     },
     "execution_count": 30,
     "metadata": {},
     "output_type": "execute_result"
    }
   ],
   "source": [
    "df3 = df3.groupby(['id', 'year', 'week']).agg({\n",
    "    'time':'last',\n",
    "    'prices':['last', 'max'],\n",
    "    'market_caps':'last',\n",
    "    'total_volumes':['mean', 'last', 'std'],\n",
    "    'unit_volumes':'mean',\n",
    "    'daily_ret':['mean', 'max', 'std'],\n",
    "    'symbol':'last',\n",
    "    'name':'last'\n",
    "})\n",
    "\n",
    "df3.columns = [\n",
    "    'time',\n",
    "    'price', 'max prices',\n",
    "    'market_caps',\n",
    "    'avg_volumnes', 'eow_volumnes', 'std_volumnes',\n",
    "    'unit_volumes',\n",
    "    'avg_daily_ret', 'max_daily_ret', 'std_daily_ret',\n",
    "    'symbol',\n",
    "    'name'\n",
    "]\n",
    "\n",
    "df3['day'] = df3['time'].dt.isocalendar().day\n",
    "df3.sample(3)\n",
    "#虽然有‘’仍是函数\n",
    "#dataframe.last根据timestamp找最后一天\n",
    "#agg的多个操作会输出多个列"
   ]
  },
  {
   "cell_type": "code",
   "execution_count": 31,
   "id": "637cdf10-16e2-455d-91cf-fec23e72418d",
   "metadata": {},
   "outputs": [
    {
     "data": {
      "text/plain": [
       "5    0.949006\n",
       "3    0.017169\n",
       "4    0.012742\n",
       "2    0.006735\n",
       "1    0.006032\n",
       "7    0.004468\n",
       "6    0.003848\n",
       "Name: day, dtype: Float64"
      ]
     },
     "execution_count": 31,
     "metadata": {},
     "output_type": "execute_result"
    }
   ],
   "source": [
    "df3['day'].value_counts() / df3.shape[0]\n",
    "#df3.shape[0]取行数\n",
    "#每一个weekday占总数据的百分比"
   ]
  },
  {
   "cell_type": "code",
   "execution_count": 32,
   "id": "30ecd9eb-e087-44f8-9b85-bed5c70b0569",
   "metadata": {},
   "outputs": [],
   "source": [
    "#df3.shape\n",
    "#df3.shape[0]\n",
    "#df3['day'].value_counts()"
   ]
  },
  {
   "cell_type": "markdown",
   "id": "911b0611-3b2b-4cec-a7ce-89edb34a0612",
   "metadata": {},
   "source": [
    "## 输出"
   ]
  },
  {
   "cell_type": "code",
   "execution_count": 33,
   "id": "900cc638-5bf2-4746-9c1e-e19505fbf357",
   "metadata": {},
   "outputs": [
    {
     "data": {
      "text/plain": [
       "(240380, 17)"
      ]
     },
     "execution_count": 33,
     "metadata": {},
     "output_type": "execute_result"
    },
    {
     "data": {
      "text/html": [
       "<div>\n",
       "<style scoped>\n",
       "    .dataframe tbody tr th:only-of-type {\n",
       "        vertical-align: middle;\n",
       "    }\n",
       "\n",
       "    .dataframe tbody tr th {\n",
       "        vertical-align: top;\n",
       "    }\n",
       "\n",
       "    .dataframe thead th {\n",
       "        text-align: right;\n",
       "    }\n",
       "</style>\n",
       "<table border=\"1\" class=\"dataframe\">\n",
       "  <thead>\n",
       "    <tr style=\"text-align: right;\">\n",
       "      <th></th>\n",
       "      <th>id</th>\n",
       "      <th>year</th>\n",
       "      <th>week</th>\n",
       "      <th>time</th>\n",
       "      <th>price</th>\n",
       "      <th>max prices</th>\n",
       "      <th>market_caps</th>\n",
       "      <th>avg_volumnes</th>\n",
       "      <th>eow_volumnes</th>\n",
       "      <th>std_volumnes</th>\n",
       "      <th>unit_volumes</th>\n",
       "      <th>avg_daily_ret</th>\n",
       "      <th>max_daily_ret</th>\n",
       "      <th>std_daily_ret</th>\n",
       "      <th>symbol</th>\n",
       "      <th>name</th>\n",
       "      <th>day</th>\n",
       "    </tr>\n",
       "  </thead>\n",
       "  <tbody>\n",
       "    <tr>\n",
       "      <th>238834</th>\n",
       "      <td>zignaly</td>\n",
       "      <td>2021</td>\n",
       "      <td>37</td>\n",
       "      <td>2021-09-17</td>\n",
       "      <td>0.038625</td>\n",
       "      <td>0.039961</td>\n",
       "      <td>1.132124e+07</td>\n",
       "      <td>2.403237e+05</td>\n",
       "      <td>2.339315e+05</td>\n",
       "      <td>5.719002e+04</td>\n",
       "      <td>6.174478e+06</td>\n",
       "      <td>-0.010464</td>\n",
       "      <td>0.038475</td>\n",
       "      <td>0.038847</td>\n",
       "      <td>zig</td>\n",
       "      <td>Zignaly</td>\n",
       "      <td>5</td>\n",
       "    </tr>\n",
       "    <tr>\n",
       "      <th>150022</th>\n",
       "      <td>oraichain-token</td>\n",
       "      <td>2021</td>\n",
       "      <td>29</td>\n",
       "      <td>2021-07-23</td>\n",
       "      <td>4.565094</td>\n",
       "      <td>4.565094</td>\n",
       "      <td>9.334439e+06</td>\n",
       "      <td>2.254232e+05</td>\n",
       "      <td>1.627933e+05</td>\n",
       "      <td>6.142413e+04</td>\n",
       "      <td>5.184264e+04</td>\n",
       "      <td>-0.002809</td>\n",
       "      <td>0.123725</td>\n",
       "      <td>0.067296</td>\n",
       "      <td>orai</td>\n",
       "      <td>Oraichain Token</td>\n",
       "      <td>5</td>\n",
       "    </tr>\n",
       "    <tr>\n",
       "      <th>45787</th>\n",
       "      <td>compound-wrapped-btc</td>\n",
       "      <td>2021</td>\n",
       "      <td>28</td>\n",
       "      <td>2021-07-16</td>\n",
       "      <td>636.378831</td>\n",
       "      <td>687.256654</td>\n",
       "      <td>8.021360e+06</td>\n",
       "      <td>1.751931e+07</td>\n",
       "      <td>6.410697e+06</td>\n",
       "      <td>2.038722e+07</td>\n",
       "      <td>2.625050e+04</td>\n",
       "      <td>-0.004610</td>\n",
       "      <td>0.033378</td>\n",
       "      <td>0.024655</td>\n",
       "      <td>cwbtc</td>\n",
       "      <td>cWBTC</td>\n",
       "      <td>5</td>\n",
       "    </tr>\n",
       "  </tbody>\n",
       "</table>\n",
       "</div>"
      ],
      "text/plain": [
       "                          id  year  week       time       price  max prices  \\\n",
       "238834               zignaly  2021    37 2021-09-17    0.038625    0.039961   \n",
       "150022       oraichain-token  2021    29 2021-07-23    4.565094    4.565094   \n",
       "45787   compound-wrapped-btc  2021    28 2021-07-16  636.378831  687.256654   \n",
       "\n",
       "         market_caps  avg_volumnes  eow_volumnes  std_volumnes  unit_volumes  \\\n",
       "238834  1.132124e+07  2.403237e+05  2.339315e+05  5.719002e+04  6.174478e+06   \n",
       "150022  9.334439e+06  2.254232e+05  1.627933e+05  6.142413e+04  5.184264e+04   \n",
       "45787   8.021360e+06  1.751931e+07  6.410697e+06  2.038722e+07  2.625050e+04   \n",
       "\n",
       "        avg_daily_ret  max_daily_ret  std_daily_ret symbol             name  \\\n",
       "238834      -0.010464       0.038475       0.038847    zig          Zignaly   \n",
       "150022      -0.002809       0.123725       0.067296   orai  Oraichain Token   \n",
       "45787       -0.004610       0.033378       0.024655  cwbtc            cWBTC   \n",
       "\n",
       "        day  \n",
       "238834    5  \n",
       "150022    5  \n",
       "45787     5  "
      ]
     },
     "execution_count": 33,
     "metadata": {},
     "output_type": "execute_result"
    }
   ],
   "source": [
    "df3.reset_index(inplace=True)\n",
    "df3.shape\n",
    "df3.sample(3)"
   ]
  },
  {
   "cell_type": "code",
   "execution_count": 34,
   "id": "09737775-288e-4598-9212-e90e1a86efbd",
   "metadata": {},
   "outputs": [],
   "source": [
    "#df3.to_parquet(f'{WD}1103_crypto_week.pq')"
   ]
  },
  {
   "cell_type": "markdown",
   "id": "53e0b6b0-89dd-4cef-bc0e-203d590bb46f",
   "metadata": {},
   "source": [
    "# 描述统计"
   ]
  },
  {
   "cell_type": "code",
   "execution_count": 35,
   "id": "f7d09042-4686-4c7c-94e5-504c26e199a4",
   "metadata": {},
   "outputs": [
    {
     "data": {
      "text/plain": [
       "(240380, 17)"
      ]
     },
     "execution_count": 35,
     "metadata": {},
     "output_type": "execute_result"
    },
    {
     "data": {
      "text/html": [
       "<div>\n",
       "<style scoped>\n",
       "    .dataframe tbody tr th:only-of-type {\n",
       "        vertical-align: middle;\n",
       "    }\n",
       "\n",
       "    .dataframe tbody tr th {\n",
       "        vertical-align: top;\n",
       "    }\n",
       "\n",
       "    .dataframe thead th {\n",
       "        text-align: right;\n",
       "    }\n",
       "</style>\n",
       "<table border=\"1\" class=\"dataframe\">\n",
       "  <thead>\n",
       "    <tr style=\"text-align: right;\">\n",
       "      <th></th>\n",
       "      <th>id</th>\n",
       "      <th>year</th>\n",
       "      <th>week</th>\n",
       "      <th>time</th>\n",
       "      <th>prices</th>\n",
       "      <th>max_prices</th>\n",
       "      <th>market_caps</th>\n",
       "      <th>avg_volumes</th>\n",
       "      <th>eow_volumes</th>\n",
       "      <th>std_volumes</th>\n",
       "      <th>unit_volumes</th>\n",
       "      <th>avg_daily_ret</th>\n",
       "      <th>max_daily_ret</th>\n",
       "      <th>std_daily_ret</th>\n",
       "      <th>symbol</th>\n",
       "      <th>name</th>\n",
       "      <th>day</th>\n",
       "    </tr>\n",
       "  </thead>\n",
       "  <tbody>\n",
       "    <tr>\n",
       "      <th>215068</th>\n",
       "      <td>umbrella-network</td>\n",
       "      <td>2021</td>\n",
       "      <td>36</td>\n",
       "      <td>2021-09-10</td>\n",
       "      <td>0.232890</td>\n",
       "      <td>0.252085</td>\n",
       "      <td>1.997303e+07</td>\n",
       "      <td>577732.620523</td>\n",
       "      <td>724132.550721</td>\n",
       "      <td>151589.998257</td>\n",
       "      <td>2.495287e+06</td>\n",
       "      <td>-0.010592</td>\n",
       "      <td>0.090280</td>\n",
       "      <td>0.070174</td>\n",
       "      <td>umb</td>\n",
       "      <td>Umbrella Network</td>\n",
       "      <td>5</td>\n",
       "    </tr>\n",
       "    <tr>\n",
       "      <th>129811</th>\n",
       "      <td>mirrored-united-states-oil-fund</td>\n",
       "      <td>2022</td>\n",
       "      <td>9</td>\n",
       "      <td>2022-03-04</td>\n",
       "      <td>75.435890</td>\n",
       "      <td>75.435890</td>\n",
       "      <td>6.458843e+06</td>\n",
       "      <td>448161.330832</td>\n",
       "      <td>570977.331615</td>\n",
       "      <td>366619.929667</td>\n",
       "      <td>6.144170e+03</td>\n",
       "      <td>0.012832</td>\n",
       "      <td>0.084275</td>\n",
       "      <td>0.048302</td>\n",
       "      <td>muso</td>\n",
       "      <td>Mirrored United States Oil Fund</td>\n",
       "      <td>5</td>\n",
       "    </tr>\n",
       "    <tr>\n",
       "      <th>188683</th>\n",
       "      <td>snetwork</td>\n",
       "      <td>2019</td>\n",
       "      <td>12</td>\n",
       "      <td>2019-03-22</td>\n",
       "      <td>0.012224</td>\n",
       "      <td>0.013279</td>\n",
       "      <td>1.707479e+06</td>\n",
       "      <td>77173.055661</td>\n",
       "      <td>69263.180979</td>\n",
       "      <td>37586.051423</td>\n",
       "      <td>6.065990e+06</td>\n",
       "      <td>-0.007159</td>\n",
       "      <td>0.029707</td>\n",
       "      <td>0.032671</td>\n",
       "      <td>snet</td>\n",
       "      <td>Snetwork</td>\n",
       "      <td>5</td>\n",
       "    </tr>\n",
       "  </tbody>\n",
       "</table>\n",
       "</div>"
      ],
      "text/plain": [
       "                                     id  year  week       time     prices  \\\n",
       "215068                 umbrella-network  2021    36 2021-09-10   0.232890   \n",
       "129811  mirrored-united-states-oil-fund  2022     9 2022-03-04  75.435890   \n",
       "188683                         snetwork  2019    12 2019-03-22   0.012224   \n",
       "\n",
       "        max_prices   market_caps    avg_volumes    eow_volumes    std_volumes  \\\n",
       "215068    0.252085  1.997303e+07  577732.620523  724132.550721  151589.998257   \n",
       "129811   75.435890  6.458843e+06  448161.330832  570977.331615  366619.929667   \n",
       "188683    0.013279  1.707479e+06   77173.055661   69263.180979   37586.051423   \n",
       "\n",
       "        unit_volumes  avg_daily_ret  max_daily_ret  std_daily_ret symbol  \\\n",
       "215068  2.495287e+06      -0.010592       0.090280       0.070174    umb   \n",
       "129811  6.144170e+03       0.012832       0.084275       0.048302   muso   \n",
       "188683  6.065990e+06      -0.007159       0.029707       0.032671   snet   \n",
       "\n",
       "                                   name  day  \n",
       "215068                 Umbrella Network    5  \n",
       "129811  Mirrored United States Oil Fund    5  \n",
       "188683                         Snetwork    5  "
      ]
     },
     "execution_count": 35,
     "metadata": {},
     "output_type": "execute_result"
    }
   ],
   "source": [
    "df = pd.read_parquet(f'{WD}1103_crypto_week.pq')\n",
    "df.shape\n",
    "df.sample(3)"
   ]
  },
  {
   "cell_type": "code",
   "execution_count": 36,
   "id": "befb38cb-b94b-4345-a415-a3ce86a3758e",
   "metadata": {},
   "outputs": [
    {
     "data": {
      "text/plain": [
       "<AxesSubplot:xlabel='year'>"
      ]
     },
     "execution_count": 36,
     "metadata": {},
     "output_type": "execute_result"
    },
    {
     "data": {
      "image/png": "[encoded data removed]",
      "text/plain": [
       "<Figure size 432x288 with 1 Axes>"
      ]
     },
     "metadata": {
      "needs_background": "light"
     },
     "output_type": "display_data"
    }
   ],
   "source": [
    "df.groupby(['year'])['id'].nunique().plot()"
   ]
  },
  {
   "cell_type": "code",
   "execution_count": 37,
   "id": "1f2ffd89-a80f-4337-9cd0-29b3efbb9d8c",
   "metadata": {},
   "outputs": [
    {
     "data": {
      "text/plain": [
       "(102408, 17)"
      ]
     },
     "execution_count": 37,
     "metadata": {},
     "output_type": "execute_result"
    },
    {
     "data": {
      "text/html": [
       "<div>\n",
       "<style scoped>\n",
       "    .dataframe tbody tr th:only-of-type {\n",
       "        vertical-align: middle;\n",
       "    }\n",
       "\n",
       "    .dataframe tbody tr th {\n",
       "        vertical-align: top;\n",
       "    }\n",
       "\n",
       "    .dataframe thead th {\n",
       "        text-align: right;\n",
       "    }\n",
       "</style>\n",
       "<table border=\"1\" class=\"dataframe\">\n",
       "  <thead>\n",
       "    <tr style=\"text-align: right;\">\n",
       "      <th></th>\n",
       "      <th>id</th>\n",
       "      <th>year</th>\n",
       "      <th>week</th>\n",
       "      <th>time</th>\n",
       "      <th>prices</th>\n",
       "      <th>max_prices</th>\n",
       "      <th>market_caps</th>\n",
       "      <th>avg_volumes</th>\n",
       "      <th>eow_volumes</th>\n",
       "      <th>std_volumes</th>\n",
       "      <th>unit_volumes</th>\n",
       "      <th>avg_daily_ret</th>\n",
       "      <th>max_daily_ret</th>\n",
       "      <th>std_daily_ret</th>\n",
       "      <th>symbol</th>\n",
       "      <th>name</th>\n",
       "      <th>day</th>\n",
       "    </tr>\n",
       "  </thead>\n",
       "  <tbody>\n",
       "    <tr>\n",
       "      <th>174946</th>\n",
       "      <td>rex</td>\n",
       "      <td>2018</td>\n",
       "      <td>3</td>\n",
       "      <td>2018-01-19</td>\n",
       "      <td>0.973278</td>\n",
       "      <td>2.365830</td>\n",
       "      <td>8.429323</td>\n",
       "      <td>9.967867</td>\n",
       "      <td>3.805090e+03</td>\n",
       "      <td>7403.745296</td>\n",
       "      <td>5.324152e+03</td>\n",
       "      <td>-0.147361</td>\n",
       "      <td>0.107009</td>\n",
       "      <td>0.155153</td>\n",
       "      <td>rex</td>\n",
       "      <td>Imbrex</td>\n",
       "      <td>5</td>\n",
       "    </tr>\n",
       "    <tr>\n",
       "      <th>14439</th>\n",
       "      <td>aurora</td>\n",
       "      <td>2019</td>\n",
       "      <td>33</td>\n",
       "      <td>2019-08-16</td>\n",
       "      <td>0.016764</td>\n",
       "      <td>0.018693</td>\n",
       "      <td>72.762380</td>\n",
       "      <td>1546.040489</td>\n",
       "      <td>1.578121e+06</td>\n",
       "      <td>518559.668454</td>\n",
       "      <td>8.592931e+07</td>\n",
       "      <td>-0.030697</td>\n",
       "      <td>0.016875</td>\n",
       "      <td>0.046491</td>\n",
       "      <td>aoa</td>\n",
       "      <td>Aurora Chain</td>\n",
       "      <td>5</td>\n",
       "    </tr>\n",
       "    <tr>\n",
       "      <th>203736</th>\n",
       "      <td>ternio</td>\n",
       "      <td>2018</td>\n",
       "      <td>41</td>\n",
       "      <td>2018-10-12</td>\n",
       "      <td>0.019676</td>\n",
       "      <td>0.025180</td>\n",
       "      <td>8.517410</td>\n",
       "      <td>31.938193</td>\n",
       "      <td>3.884796e+04</td>\n",
       "      <td>7700.423661</td>\n",
       "      <td>1.478605e+06</td>\n",
       "      <td>-0.014703</td>\n",
       "      <td>0.148182</td>\n",
       "      <td>0.112120</td>\n",
       "      <td>tern</td>\n",
       "      <td>Ternio</td>\n",
       "      <td>5</td>\n",
       "    </tr>\n",
       "  </tbody>\n",
       "</table>\n",
       "</div>"
      ],
      "text/plain": [
       "            id  year  week       time    prices  max_prices  market_caps  \\\n",
       "174946     rex  2018     3 2018-01-19  0.973278    2.365830     8.429323   \n",
       "14439   aurora  2019    33 2019-08-16  0.016764    0.018693    72.762380   \n",
       "203736  ternio  2018    41 2018-10-12  0.019676    0.025180     8.517410   \n",
       "\n",
       "        avg_volumes   eow_volumes    std_volumes  unit_volumes  avg_daily_ret  \\\n",
       "174946     9.967867  3.805090e+03    7403.745296  5.324152e+03      -0.147361   \n",
       "14439   1546.040489  1.578121e+06  518559.668454  8.592931e+07      -0.030697   \n",
       "203736    31.938193  3.884796e+04    7700.423661  1.478605e+06      -0.014703   \n",
       "\n",
       "        max_daily_ret  std_daily_ret symbol          name  day  \n",
       "174946       0.107009       0.155153    rex        Imbrex    5  \n",
       "14439        0.016875       0.046491    aoa  Aurora Chain    5  \n",
       "203736       0.148182       0.112120   tern        Ternio    5  "
      ]
     },
     "execution_count": 37,
     "metadata": {},
     "output_type": "execute_result"
    }
   ],
   "source": [
    "ltw = df.loc[df['time'].between('2014-01-01', '2020-07-31')].copy()\n",
    "ltw['avg_volumes'] = ltw['avg_volumes'] / 10 ** 3\n",
    "ltw['market_caps'] = ltw['market_caps'] / 10 ** 6\n",
    "ltw.shape\n",
    "ltw.sample(3)"
   ]
  },
  {
   "cell_type": "markdown",
   "id": "c66a8c56-8b5d-4953-921a-5ad4dda8ef41",
   "metadata": {},
   "source": [
    "## 规模"
   ]
  },
  {
   "cell_type": "code",
   "execution_count": 38,
   "id": "1b0ae3a1-8088-4a86-813c-537efcc64ddf",
   "metadata": {},
   "outputs": [
    {
     "data": {
      "text/html": [
       "<div>\n",
       "<style scoped>\n",
       "    .dataframe tbody tr th:only-of-type {\n",
       "        vertical-align: middle;\n",
       "    }\n",
       "\n",
       "    .dataframe tbody tr th {\n",
       "        vertical-align: top;\n",
       "    }\n",
       "\n",
       "    .dataframe thead tr th {\n",
       "        text-align: left;\n",
       "    }\n",
       "\n",
       "    .dataframe thead tr:last-of-type th {\n",
       "        text-align: right;\n",
       "    }\n",
       "</style>\n",
       "<table border=\"1\" class=\"dataframe\">\n",
       "  <thead>\n",
       "    <tr>\n",
       "      <th></th>\n",
       "      <th>id</th>\n",
       "      <th colspan=\"2\" halign=\"left\">market_caps</th>\n",
       "      <th colspan=\"2\" halign=\"left\">avg_volumes</th>\n",
       "    </tr>\n",
       "    <tr>\n",
       "      <th></th>\n",
       "      <th>nunique</th>\n",
       "      <th>mean</th>\n",
       "      <th>median</th>\n",
       "      <th>mean</th>\n",
       "      <th>median</th>\n",
       "    </tr>\n",
       "    <tr>\n",
       "      <th>year</th>\n",
       "      <th></th>\n",
       "      <th></th>\n",
       "      <th></th>\n",
       "      <th></th>\n",
       "      <th></th>\n",
       "    </tr>\n",
       "  </thead>\n",
       "  <tbody>\n",
       "    <tr>\n",
       "      <th>2014</th>\n",
       "      <td>69</td>\n",
       "      <td>279.283936</td>\n",
       "      <td>4.468244</td>\n",
       "      <td>2120.809354</td>\n",
       "      <td>42.684782</td>\n",
       "    </tr>\n",
       "    <tr>\n",
       "      <th>2015</th>\n",
       "      <td>49</td>\n",
       "      <td>182.182583</td>\n",
       "      <td>4.541816</td>\n",
       "      <td>11516.562831</td>\n",
       "      <td>14.577912</td>\n",
       "    </tr>\n",
       "    <tr>\n",
       "      <th>2016</th>\n",
       "      <td>100</td>\n",
       "      <td>199.724404</td>\n",
       "      <td>3.710771</td>\n",
       "      <td>37818.996662</td>\n",
       "      <td>27.363664</td>\n",
       "    </tr>\n",
       "    <tr>\n",
       "      <th>2017</th>\n",
       "      <td>432</td>\n",
       "      <td>711.485454</td>\n",
       "      <td>14.461603</td>\n",
       "      <td>21532.355465</td>\n",
       "      <td>224.851310</td>\n",
       "    </tr>\n",
       "    <tr>\n",
       "      <th>2018</th>\n",
       "      <td>1062</td>\n",
       "      <td>471.558721</td>\n",
       "      <td>12.042173</td>\n",
       "      <td>22456.830961</td>\n",
       "      <td>206.039498</td>\n",
       "    </tr>\n",
       "    <tr>\n",
       "      <th>2019</th>\n",
       "      <td>1045</td>\n",
       "      <td>316.999742</td>\n",
       "      <td>5.392450</td>\n",
       "      <td>104908.383799</td>\n",
       "      <td>260.743527</td>\n",
       "    </tr>\n",
       "    <tr>\n",
       "      <th>2020</th>\n",
       "      <td>914</td>\n",
       "      <td>391.578806</td>\n",
       "      <td>5.167135</td>\n",
       "      <td>183705.527154</td>\n",
       "      <td>384.014437</td>\n",
       "    </tr>\n",
       "  </tbody>\n",
       "</table>\n",
       "</div>"
      ],
      "text/plain": [
       "          id market_caps               avg_volumes            \n",
       "     nunique        mean     median           mean      median\n",
       "year                                                          \n",
       "2014      69  279.283936   4.468244    2120.809354   42.684782\n",
       "2015      49  182.182583   4.541816   11516.562831   14.577912\n",
       "2016     100  199.724404   3.710771   37818.996662   27.363664\n",
       "2017     432  711.485454  14.461603   21532.355465  224.851310\n",
       "2018    1062  471.558721  12.042173   22456.830961  206.039498\n",
       "2019    1045  316.999742   5.392450  104908.383799  260.743527\n",
       "2020     914  391.578806   5.167135  183705.527154  384.014437"
      ]
     },
     "execution_count": 38,
     "metadata": {},
     "output_type": "execute_result"
    }
   ],
   "source": [
    "ltw.groupby(['year']).agg({\n",
    "    'id':'nunique',\n",
    "    'market_caps':['mean', 'median'],\n",
    "    'avg_volumes':['mean', 'median'],\n",
    "})"
   ]
  },
  {
   "cell_type": "markdown",
   "id": "9e901a22-abab-424b-9ad8-b5a070b4740e",
   "metadata": {},
   "source": [
    "## 回报率"
   ]
  },
  {
   "cell_type": "code",
   "execution_count": 39,
   "id": "9b3eefc3-9e2c-4477-a468-cf5164c8661c",
   "metadata": {},
   "outputs": [],
   "source": [
    "ltw['market_caps_l1'] = ltw.groupby('id')['market_caps'].shift()"
   ]
  },
  {
   "cell_type": "markdown",
   "id": "28969689-a332-452b-8d82-bf12345161f7",
   "metadata": {},
   "source": [
    "### Log Return"
   ]
  },
  {
   "cell_type": "code",
   "execution_count": null,
   "id": "0f32a366-5046-4b0e-9d32-3960e57e1f03",
   "metadata": {},
   "outputs": [],
   "source": [
    "#(ltw['price'] == 0).sum()"
   ]
  },
  {
   "cell_type": "code",
   "execution_count": null,
   "id": "dcdf578a-4a1d-424c-a71a-f88708479c88",
   "metadata": {},
   "outputs": [],
   "source": [
    "#ltw['price_l1'] = ltw.groupby(['id'])['price'].shift()\n",
    "#ltw['ret'] = np.log(ltw['price']) - np.log(ltw['price_l1'])\n",
    "#ltwp['ret'].hist(bins=50)"
   ]
  },
  {
   "cell_type": "code",
   "execution_count": null,
   "id": "e2dd192c-0e02-4f52-a7bf-a3b484b0650d",
   "metadata": {},
   "outputs": [],
   "source": [
    "# ltw.loc[ltw['ret'] <= -2, 'ret'] = -2\n",
    "# ltw.loc[ltw['ret'] >= 2, 'ret'] = 2\n",
    "# ltw['ret'].hist(bins=50)"
   ]
  },
  {
   "cell_type": "markdown",
   "id": "df1d8a9f-44ba-4acb-b275-3a2d9ce920c4",
   "metadata": {},
   "source": [
    "### Pct Return"
   ]
  },
  {
   "cell_type": "code",
   "execution_count": 44,
   "id": "cfef1265-ec7d-4c6c-bbb6-16d335ae35e3",
   "metadata": {},
   "outputs": [
    {
     "data": {
      "text/plain": [
       "<AxesSubplot:>"
      ]
     },
     "execution_count": 44,
     "metadata": {},
     "output_type": "execute_result"
    },
    {
     "data": {
      "image/png": "[encoded data removed]",
      "text/plain": [
       "<Figure size 432x288 with 1 Axes>"
      ]
     },
     "metadata": {
      "needs_background": "light"
     },
     "output_type": "display_data"
    }
   ],
   "source": [
    "ltw['ret'] = ltw.groupby(['id'])['prices'].pct_change()\n",
    "ltw['ret'].hist(bins=50)"
   ]
  },
  {
   "cell_type": "code",
   "execution_count": 43,
   "id": "a66f9fac-db37-4bea-9c3b-2e76885f89f5",
   "metadata": {},
   "outputs": [
    {
     "data": {
      "text/plain": [
       "<AxesSubplot:>"
      ]
     },
     "execution_count": 43,
     "metadata": {},
     "output_type": "execute_result"
    },
    {
     "data": {
      "image/png": "[encoded data removed]",
      "text/plain": [
       "<Figure size 432x288 with 1 Axes>"
      ]
     },
     "metadata": {
      "needs_background": "light"
     },
     "output_type": "display_data"
    }
   ],
   "source": [
    "#ltw.loc[ltw['ret'] <= ltw['ret'].quantile(0.01), 'ret'] = ltw['ret'].quantile(0.01)\n",
    "#ltw.loc[ltw['ret'] >= ltw['ret'].quantile(0.99), 'ret'] = ltw['ret'].quantile(0.99)\n",
    "#ltw['ret'].hist(bins=50)"
   ]
  },
  {
   "cell_type": "code",
   "execution_count": 45,
   "id": "e3a9a632-8bda-4740-9f2d-640ac58e91ad",
   "metadata": {},
   "outputs": [
    {
     "data": {
      "text/plain": [
       "<AxesSubplot:>"
      ]
     },
     "execution_count": 45,
     "metadata": {},
     "output_type": "execute_result"
    },
    {
     "data": {
      "image/png": "[encoded data removed]",
      "text/plain": [
       "<Figure size 432x288 with 1 Axes>"
      ]
     },
     "metadata": {
      "needs_background": "light"
     },
     "output_type": "display_data"
    }
   ],
   "source": [
    "ltw.loc[ltw['ret'] >= ltw['ret'].quantile(0.99), 'ret'] = ltw['ret'].quantile(0.99)\n",
    "ltw['ret'].hist(bins=50)"
   ]
  },
  {
   "cell_type": "code",
   "execution_count": 46,
   "id": "04b7265e-d07e-4134-a3e5-0ad1592fac76",
   "metadata": {},
   "outputs": [
    {
     "data": {
      "text/html": [
       "<div>\n",
       "<style scoped>\n",
       "    .dataframe tbody tr th:only-of-type {\n",
       "        vertical-align: middle;\n",
       "    }\n",
       "\n",
       "    .dataframe tbody tr th {\n",
       "        vertical-align: top;\n",
       "    }\n",
       "\n",
       "    .dataframe thead th {\n",
       "        text-align: right;\n",
       "    }\n",
       "</style>\n",
       "<table border=\"1\" class=\"dataframe\">\n",
       "  <thead>\n",
       "    <tr style=\"text-align: right;\">\n",
       "      <th></th>\n",
       "      <th>id</th>\n",
       "      <th>year</th>\n",
       "      <th>week</th>\n",
       "      <th>time</th>\n",
       "      <th>prices</th>\n",
       "      <th>max_prices</th>\n",
       "      <th>market_caps</th>\n",
       "      <th>avg_volumes</th>\n",
       "      <th>eow_volumes</th>\n",
       "      <th>std_volumes</th>\n",
       "      <th>unit_volumes</th>\n",
       "      <th>avg_daily_ret</th>\n",
       "      <th>max_daily_ret</th>\n",
       "      <th>std_daily_ret</th>\n",
       "      <th>symbol</th>\n",
       "      <th>name</th>\n",
       "      <th>day</th>\n",
       "      <th>market_caps_l1</th>\n",
       "      <th>ret</th>\n",
       "    </tr>\n",
       "  </thead>\n",
       "  <tbody>\n",
       "    <tr>\n",
       "      <th>23678</th>\n",
       "      <td>bitcoin</td>\n",
       "      <td>2020</td>\n",
       "      <td>29</td>\n",
       "      <td>2020-07-17</td>\n",
       "      <td>9136.483376</td>\n",
       "      <td>9297.479636</td>\n",
       "      <td>168496.782961</td>\n",
       "      <td>1.775497e+07</td>\n",
       "      <td>1.876048e+10</td>\n",
       "      <td>1.131628e+09</td>\n",
       "      <td>1.922800e+06</td>\n",
       "      <td>-0.001528</td>\n",
       "      <td>0.006840</td>\n",
       "      <td>0.005727</td>\n",
       "      <td>btc</td>\n",
       "      <td>Bitcoin</td>\n",
       "      <td>5</td>\n",
       "      <td>170198.606144</td>\n",
       "      <td>-0.010744</td>\n",
       "    </tr>\n",
       "    <tr>\n",
       "      <th>23679</th>\n",
       "      <td>bitcoin</td>\n",
       "      <td>2020</td>\n",
       "      <td>30</td>\n",
       "      <td>2020-07-24</td>\n",
       "      <td>9589.817719</td>\n",
       "      <td>9589.817719</td>\n",
       "      <td>176821.599774</td>\n",
       "      <td>1.886022e+07</td>\n",
       "      <td>2.696615e+10</td>\n",
       "      <td>3.971590e+09</td>\n",
       "      <td>2.019836e+06</td>\n",
       "      <td>0.006980</td>\n",
       "      <td>0.024142</td>\n",
       "      <td>0.009445</td>\n",
       "      <td>btc</td>\n",
       "      <td>Bitcoin</td>\n",
       "      <td>5</td>\n",
       "      <td>168496.782961</td>\n",
       "      <td>0.049618</td>\n",
       "    </tr>\n",
       "    <tr>\n",
       "      <th>23680</th>\n",
       "      <td>bitcoin</td>\n",
       "      <td>2020</td>\n",
       "      <td>31</td>\n",
       "      <td>2020-07-31</td>\n",
       "      <td>11116.307164</td>\n",
       "      <td>11116.307164</td>\n",
       "      <td>205200.775318</td>\n",
       "      <td>2.864144e+07</td>\n",
       "      <td>2.226538e+10</td>\n",
       "      <td>7.068406e+09</td>\n",
       "      <td>2.766322e+06</td>\n",
       "      <td>0.021916</td>\n",
       "      <td>0.104426</td>\n",
       "      <td>0.038199</td>\n",
       "      <td>btc</td>\n",
       "      <td>Bitcoin</td>\n",
       "      <td>5</td>\n",
       "      <td>176821.599774</td>\n",
       "      <td>0.159178</td>\n",
       "    </tr>\n",
       "  </tbody>\n",
       "</table>\n",
       "</div>"
      ],
      "text/plain": [
       "            id  year  week       time        prices    max_prices  \\\n",
       "23678  bitcoin  2020    29 2020-07-17   9136.483376   9297.479636   \n",
       "23679  bitcoin  2020    30 2020-07-24   9589.817719   9589.817719   \n",
       "23680  bitcoin  2020    31 2020-07-31  11116.307164  11116.307164   \n",
       "\n",
       "         market_caps   avg_volumes   eow_volumes   std_volumes  unit_volumes  \\\n",
       "23678  168496.782961  1.775497e+07  1.876048e+10  1.131628e+09  1.922800e+06   \n",
       "23679  176821.599774  1.886022e+07  2.696615e+10  3.971590e+09  2.019836e+06   \n",
       "23680  205200.775318  2.864144e+07  2.226538e+10  7.068406e+09  2.766322e+06   \n",
       "\n",
       "       avg_daily_ret  max_daily_ret  std_daily_ret symbol     name  day  \\\n",
       "23678      -0.001528       0.006840       0.005727    btc  Bitcoin    5   \n",
       "23679       0.006980       0.024142       0.009445    btc  Bitcoin    5   \n",
       "23680       0.021916       0.104426       0.038199    btc  Bitcoin    5   \n",
       "\n",
       "       market_caps_l1       ret  \n",
       "23678   170198.606144 -0.010744  \n",
       "23679   168496.782961  0.049618  \n",
       "23680   176821.599774  0.159178  "
      ]
     },
     "execution_count": 46,
     "metadata": {},
     "output_type": "execute_result"
    }
   ],
   "source": [
    "ltw.loc[ltw['symbol'] == 'btc'].tail(3)"
   ]
  },
  {
   "cell_type": "markdown",
   "id": "6c22c560-d270-4cc9-b5ec-a2c3e0fb49e6",
   "metadata": {},
   "source": [
    "### 对比"
   ]
  },
  {
   "cell_type": "code",
   "execution_count": 47,
   "id": "bae08a72-4963-40f2-b479-4aad6702a3e2",
   "metadata": {},
   "outputs": [
    {
     "data": {
      "text/html": [
       "<div>\n",
       "<style scoped>\n",
       "    .dataframe tbody tr th:only-of-type {\n",
       "        vertical-align: middle;\n",
       "    }\n",
       "\n",
       "    .dataframe tbody tr th {\n",
       "        vertical-align: top;\n",
       "    }\n",
       "\n",
       "    .dataframe thead th {\n",
       "        text-align: right;\n",
       "    }\n",
       "</style>\n",
       "<table border=\"1\" class=\"dataframe\">\n",
       "  <thead>\n",
       "    <tr style=\"text-align: right;\">\n",
       "      <th></th>\n",
       "      <th></th>\n",
       "      <th>wgt_ret</th>\n",
       "      <th>market_caps_l1</th>\n",
       "      <th>mkt</th>\n",
       "    </tr>\n",
       "    <tr>\n",
       "      <th>year</th>\n",
       "      <th>week</th>\n",
       "      <th></th>\n",
       "      <th></th>\n",
       "      <th></th>\n",
       "    </tr>\n",
       "  </thead>\n",
       "  <tbody>\n",
       "    <tr>\n",
       "      <th rowspan=\"3\" valign=\"top\">2020</th>\n",
       "      <th>29</th>\n",
       "      <td>-2335.355541</td>\n",
       "      <td>275702.388465</td>\n",
       "      <td>-0.008471</td>\n",
       "    </tr>\n",
       "    <tr>\n",
       "      <th>30</th>\n",
       "      <td>16781.746301</td>\n",
       "      <td>274226.096927</td>\n",
       "      <td>0.061197</td>\n",
       "    </tr>\n",
       "    <tr>\n",
       "      <th>31</th>\n",
       "      <td>40444.128895</td>\n",
       "      <td>291618.271536</td>\n",
       "      <td>0.138689</td>\n",
       "    </tr>\n",
       "  </tbody>\n",
       "</table>\n",
       "</div>"
      ],
      "text/plain": [
       "                wgt_ret  market_caps_l1       mkt\n",
       "year week                                        \n",
       "2020 29    -2335.355541   275702.388465 -0.008471\n",
       "     30    16781.746301   274226.096927  0.061197\n",
       "     31    40444.128895   291618.271536  0.138689"
      ]
     },
     "execution_count": 47,
     "metadata": {},
     "output_type": "execute_result"
    },
    {
     "data": {
      "text/plain": [
       "(344, 3)"
      ]
     },
     "execution_count": 47,
     "metadata": {},
     "output_type": "execute_result"
    },
    {
     "data": {
      "text/html": [
       "<div>\n",
       "<style scoped>\n",
       "    .dataframe tbody tr th:only-of-type {\n",
       "        vertical-align: middle;\n",
       "    }\n",
       "\n",
       "    .dataframe tbody tr th {\n",
       "        vertical-align: top;\n",
       "    }\n",
       "\n",
       "    .dataframe thead th {\n",
       "        text-align: right;\n",
       "    }\n",
       "</style>\n",
       "<table border=\"1\" class=\"dataframe\">\n",
       "  <thead>\n",
       "    <tr style=\"text-align: right;\">\n",
       "      <th></th>\n",
       "      <th></th>\n",
       "      <th>mkt</th>\n",
       "    </tr>\n",
       "    <tr>\n",
       "      <th>year</th>\n",
       "      <th>week</th>\n",
       "      <th></th>\n",
       "    </tr>\n",
       "  </thead>\n",
       "  <tbody>\n",
       "    <tr>\n",
       "      <th>2018</th>\n",
       "      <th>10</th>\n",
       "      <td>-0.167864</td>\n",
       "    </tr>\n",
       "    <tr>\n",
       "      <th>2016</th>\n",
       "      <th>33</th>\n",
       "      <td>-0.027562</td>\n",
       "    </tr>\n",
       "    <tr>\n",
       "      <th>2014</th>\n",
       "      <th>3</th>\n",
       "      <td>-0.059123</td>\n",
       "    </tr>\n",
       "  </tbody>\n",
       "</table>\n",
       "</div>"
      ],
      "text/plain": [
       "                mkt\n",
       "year week          \n",
       "2018 10   -0.167864\n",
       "2016 33   -0.027562\n",
       "2014 3    -0.059123"
      ]
     },
     "execution_count": 47,
     "metadata": {},
     "output_type": "execute_result"
    }
   ],
   "source": [
    "mkt = ltw.copy()\n",
    "mkt['wgt_ret'] = mkt['market_caps_l1'] * mkt['ret']\n",
    "mkt = mkt.groupby(['year', 'week'])[['wgt_ret', 'market_caps_l1']].sum()\n",
    "#注意，这里两个列做操作要双方括号\n",
    "mkt['mkt'] = mkt['wgt_ret'] / mkt['market_caps_l1']\n",
    "mkt.tail(3)\n",
    "mkt.shape\n",
    "mkt = mkt.loc[:, ['mkt']]\n",
    "mkt.sample(3)"
   ]
  },
  {
   "cell_type": "code",
   "execution_count": 54,
   "id": "59443c2d-11c8-4f3d-ab3e-80368d392917",
   "metadata": {},
   "outputs": [
    {
     "data": {
      "text/plain": [
       "(344, 1)"
      ]
     },
     "execution_count": 54,
     "metadata": {},
     "output_type": "execute_result"
    },
    {
     "data": {
      "text/plain": [
       "(344, 1)"
      ]
     },
     "execution_count": 54,
     "metadata": {},
     "output_type": "execute_result"
    },
    {
     "data": {
      "text/plain": [
       "(260, 1)"
      ]
     },
     "execution_count": 54,
     "metadata": {},
     "output_type": "execute_result"
    },
    {
     "data": {
      "text/plain": [
       "(344, 4)"
      ]
     },
     "execution_count": 54,
     "metadata": {},
     "output_type": "execute_result"
    },
    {
     "data": {
      "text/html": [
       "<div>\n",
       "<style scoped>\n",
       "    .dataframe tbody tr th:only-of-type {\n",
       "        vertical-align: middle;\n",
       "    }\n",
       "\n",
       "    .dataframe tbody tr th {\n",
       "        vertical-align: top;\n",
       "    }\n",
       "\n",
       "    .dataframe thead th {\n",
       "        text-align: right;\n",
       "    }\n",
       "</style>\n",
       "<table border=\"1\" class=\"dataframe\">\n",
       "  <thead>\n",
       "    <tr style=\"text-align: right;\">\n",
       "      <th></th>\n",
       "      <th></th>\n",
       "      <th>mkt</th>\n",
       "      <th>btc</th>\n",
       "      <th>xrp</th>\n",
       "      <th>eth</th>\n",
       "    </tr>\n",
       "    <tr>\n",
       "      <th>year</th>\n",
       "      <th>week</th>\n",
       "      <th></th>\n",
       "      <th></th>\n",
       "      <th></th>\n",
       "      <th></th>\n",
       "    </tr>\n",
       "  </thead>\n",
       "  <tbody>\n",
       "    <tr>\n",
       "      <th rowspan=\"5\" valign=\"top\">2014</th>\n",
       "      <th>1</th>\n",
       "      <td>NaN</td>\n",
       "      <td>NaN</td>\n",
       "      <td>NaN</td>\n",
       "      <td>NaN</td>\n",
       "    </tr>\n",
       "    <tr>\n",
       "      <th>2</th>\n",
       "      <td>0.028162</td>\n",
       "      <td>0.045828</td>\n",
       "      <td>-0.185323</td>\n",
       "      <td>NaN</td>\n",
       "    </tr>\n",
       "    <tr>\n",
       "      <th>3</th>\n",
       "      <td>-0.059123</td>\n",
       "      <td>-0.058381</td>\n",
       "      <td>-0.094150</td>\n",
       "      <td>NaN</td>\n",
       "    </tr>\n",
       "    <tr>\n",
       "      <th>4</th>\n",
       "      <td>-0.011628</td>\n",
       "      <td>-0.005634</td>\n",
       "      <td>-0.105310</td>\n",
       "      <td>NaN</td>\n",
       "    </tr>\n",
       "    <tr>\n",
       "      <th>5</th>\n",
       "      <td>0.013521</td>\n",
       "      <td>0.011889</td>\n",
       "      <td>0.112204</td>\n",
       "      <td>NaN</td>\n",
       "    </tr>\n",
       "  </tbody>\n",
       "</table>\n",
       "</div>"
      ],
      "text/plain": [
       "                mkt       btc       xrp  eth\n",
       "year week                                   \n",
       "2014 1          NaN       NaN       NaN  NaN\n",
       "     2     0.028162  0.045828 -0.185323  NaN\n",
       "     3    -0.059123 -0.058381 -0.094150  NaN\n",
       "     4    -0.011628 -0.005634 -0.105310  NaN\n",
       "     5     0.013521  0.011889  0.112204  NaN"
      ]
     },
     "execution_count": 54,
     "metadata": {},
     "output_type": "execute_result"
    }
   ],
   "source": [
    "rets = {'mkt' : mkt}\n",
    "#以前是用rets = []因为之前没有数据\n",
    "#本质上还是一个dataframe，只是用另一种形式dict\n",
    "\n",
    "for sym in ['btc', 'xrp', 'eth']:\n",
    "    tmp = ltw.loc[ltw['symbol'] == sym, ['year', 'week', 'ret']].set_index(['year', 'week']).rename(columns={'ret':sym})\n",
    "    #可以设双index\n",
    "    tmp.shape\n",
    "    rets[sym] = tmp\n",
    "    \n",
    "rets = pd.concat(rets.values(), axis=1)\n",
    "#将dictvalue进行横向拼接\n",
    "rets.shape\n",
    "rets.head()"
   ]
  },
  {
   "cell_type": "code",
   "execution_count": 52,
   "id": "1d0b5cda-5185-4c48-a59f-aec438538d16",
   "metadata": {},
   "outputs": [
    {
     "data": {
      "text/plain": [
       "dict_values([                mkt\n",
       "year week          \n",
       "2014 1          NaN\n",
       "     2     0.028162\n",
       "     3    -0.059123\n",
       "     4    -0.011628\n",
       "     5     0.013521\n",
       "...             ...\n",
       "2020 27   -0.018957\n",
       "     28    0.047373\n",
       "     29   -0.008471\n",
       "     30    0.061197\n",
       "     31    0.138689\n",
       "\n",
       "[344 rows x 1 columns],                 btc\n",
       "year week          \n",
       "2014 1          NaN\n",
       "     2     0.045828\n",
       "     3    -0.058381\n",
       "     4    -0.005634\n",
       "     5     0.011889\n",
       "...             ...\n",
       "2020 27   -0.017751\n",
       "     28    0.015548\n",
       "     29   -0.010744\n",
       "     30    0.049618\n",
       "     31    0.159178\n",
       "\n",
       "[344 rows x 1 columns]])"
      ]
     },
     "execution_count": 52,
     "metadata": {},
     "output_type": "execute_result"
    }
   ],
   "source": [
    "#rets = {'mkt' : mkt}\n",
    "#rets\n",
    "#tmp = ltw.loc[ltw['symbol'] == 'btc', ['year', 'week', 'ret']].set_index(['year', 'week']).rename(columns={'ret':'btc'})\n",
    "#tmp\n",
    "#rets['btc'] = tmp\n",
    "#rets\n",
    "rets.values()"
   ]
  },
  {
   "cell_type": "code",
   "execution_count": 56,
   "id": "2500b8c1-1ae7-4f6f-8360-060ea4818f78",
   "metadata": {},
   "outputs": [
    {
     "data": {
      "text/html": [
       "<div>\n",
       "<style scoped>\n",
       "    .dataframe tbody tr th:only-of-type {\n",
       "        vertical-align: middle;\n",
       "    }\n",
       "\n",
       "    .dataframe tbody tr th {\n",
       "        vertical-align: top;\n",
       "    }\n",
       "\n",
       "    .dataframe thead th {\n",
       "        text-align: right;\n",
       "    }\n",
       "</style>\n",
       "<table border=\"1\" class=\"dataframe\">\n",
       "  <thead>\n",
       "    <tr style=\"text-align: right;\">\n",
       "      <th></th>\n",
       "      <th>count</th>\n",
       "      <th>mean</th>\n",
       "      <th>std</th>\n",
       "      <th>min</th>\n",
       "      <th>50%</th>\n",
       "      <th>max</th>\n",
       "      <th>skewness</th>\n",
       "      <th>kurtosis</th>\n",
       "    </tr>\n",
       "  </thead>\n",
       "  <tbody>\n",
       "    <tr>\n",
       "      <th>mkt</th>\n",
       "      <td>343.0</td>\n",
       "      <td>0.011204</td>\n",
       "      <td>0.100153</td>\n",
       "      <td>-0.447446</td>\n",
       "      <td>0.006756</td>\n",
       "      <td>0.353736</td>\n",
       "      <td>0.039375</td>\n",
       "      <td>1.771694</td>\n",
       "    </tr>\n",
       "    <tr>\n",
       "      <th>btc</th>\n",
       "      <td>343.0</td>\n",
       "      <td>0.012732</td>\n",
       "      <td>0.101918</td>\n",
       "      <td>-0.431014</td>\n",
       "      <td>0.007820</td>\n",
       "      <td>0.537689</td>\n",
       "      <td>0.387283</td>\n",
       "      <td>3.074798</td>\n",
       "    </tr>\n",
       "    <tr>\n",
       "      <th>xrp</th>\n",
       "      <td>343.0</td>\n",
       "      <td>0.022692</td>\n",
       "      <td>0.214870</td>\n",
       "      <td>-0.504629</td>\n",
       "      <td>-0.015577</td>\n",
       "      <td>1.185344</td>\n",
       "      <td>2.886260</td>\n",
       "      <td>11.495856</td>\n",
       "    </tr>\n",
       "    <tr>\n",
       "      <th>eth</th>\n",
       "      <td>259.0</td>\n",
       "      <td>0.036111</td>\n",
       "      <td>0.198088</td>\n",
       "      <td>-0.515094</td>\n",
       "      <td>-0.001362</td>\n",
       "      <td>1.185344</td>\n",
       "      <td>2.252047</td>\n",
       "      <td>9.606756</td>\n",
       "    </tr>\n",
       "  </tbody>\n",
       "</table>\n",
       "</div>"
      ],
      "text/plain": [
       "     count      mean       std       min       50%       max  skewness  \\\n",
       "mkt  343.0  0.011204  0.100153 -0.447446  0.006756  0.353736  0.039375   \n",
       "btc  343.0  0.012732  0.101918 -0.431014  0.007820  0.537689  0.387283   \n",
       "xrp  343.0  0.022692  0.214870 -0.504629 -0.015577  1.185344  2.886260   \n",
       "eth  259.0  0.036111  0.198088 -0.515094 -0.001362  1.185344  2.252047   \n",
       "\n",
       "      kurtosis  \n",
       "mkt   1.771694  \n",
       "btc   3.074798  \n",
       "xrp  11.495856  \n",
       "eth   9.606756  "
      ]
     },
     "execution_count": 56,
     "metadata": {},
     "output_type": "execute_result"
    }
   ],
   "source": [
    "pd.concat([rets.describe(percentiles=[]).T, rets.skew().rename('skewness').to_frame(), rets.kurtosis().rename('kurtosis').to_frame()], axis=1)\n",
    "#describe(percentiles=[])describe默认会有0.25，0.5，0.75三种，percentiles=[]就只有0.5\n",
    "#.T按照右对角线transpose\n",
    "#[]变成list\n",
    "#rets.skew()返回skewness的list\n",
    "#.to_frame()将series/list转换成datafranme\n",
    "#list也自带名字Name\n",
    "#将dataframe拼接的方式就是先转化成list/series再concat"
   ]
  },
  {
   "cell_type": "code",
   "execution_count": 66,
   "id": "47b30497-9b30-461e-a72b-ed5972f54c81",
   "metadata": {},
   "outputs": [
    {
     "data": {
      "text/html": [
       "<div>\n",
       "<style scoped>\n",
       "    .dataframe tbody tr th:only-of-type {\n",
       "        vertical-align: middle;\n",
       "    }\n",
       "\n",
       "    .dataframe tbody tr th {\n",
       "        vertical-align: top;\n",
       "    }\n",
       "\n",
       "    .dataframe thead th {\n",
       "        text-align: right;\n",
       "    }\n",
       "</style>\n",
       "<table border=\"1\" class=\"dataframe\">\n",
       "  <thead>\n",
       "    <tr style=\"text-align: right;\">\n",
       "      <th></th>\n",
       "      <th>skewness</th>\n",
       "    </tr>\n",
       "  </thead>\n",
       "  <tbody>\n",
       "    <tr>\n",
       "      <th>mkt</th>\n",
       "      <td>0.039375</td>\n",
       "    </tr>\n",
       "    <tr>\n",
       "      <th>btc</th>\n",
       "      <td>0.387283</td>\n",
       "    </tr>\n",
       "    <tr>\n",
       "      <th>xrp</th>\n",
       "      <td>2.886260</td>\n",
       "    </tr>\n",
       "    <tr>\n",
       "      <th>eth</th>\n",
       "      <td>2.252047</td>\n",
       "    </tr>\n",
       "  </tbody>\n",
       "</table>\n",
       "</div>"
      ],
      "text/plain": [
       "     skewness\n",
       "mkt  0.039375\n",
       "btc  0.387283\n",
       "xrp  2.886260\n",
       "eth  2.252047"
      ]
     },
     "execution_count": 66,
     "metadata": {},
     "output_type": "execute_result"
    }
   ],
   "source": [
    "#[rets.describe(percentiles=[]).T]\n",
    "#rets.skew().rename('skewness').to_frame()"
   ]
  },
  {
   "cell_type": "markdown",
   "id": "47360755-058f-49b1-a507-8e982b30b824",
   "metadata": {},
   "source": [
    "## 走势"
   ]
  },
  {
   "cell_type": "code",
   "execution_count": 68,
   "id": "8fea8a20-31f6-4155-89da-11a7d0798737",
   "metadata": {},
   "outputs": [],
   "source": [
    "rets += 1"
   ]
  },
  {
   "cell_type": "code",
   "execution_count": 69,
   "id": "bdda54ed-a04a-4fe8-a1eb-665c4de54fb6",
   "metadata": {},
   "outputs": [],
   "source": [
    "cum_rets = rets.cumprod() - 1"
   ]
  },
  {
   "cell_type": "code",
   "execution_count": 70,
   "id": "6bade5de-a88a-40f3-a0a8-764059514ec0",
   "metadata": {},
   "outputs": [
    {
     "data": {
      "text/plain": [
       "<AxesSubplot:xlabel='year,week'>"
      ]
     },
     "execution_count": 70,
     "metadata": {},
     "output_type": "execute_result"
    },
    {
     "data": {
      "image/png": "[encoded data removed]",
      "text/plain": [
       "<Figure size 432x288 with 1 Axes>"
      ]
     },
     "metadata": {
      "needs_background": "light"
     },
     "output_type": "display_data"
    }
   ],
   "source": [
    "cum_rets[['mkt', 'btc']].plot()"
   ]
  },
  {
   "cell_type": "code",
   "execution_count": 72,
   "id": "0da767ef-08a8-4cd4-b3ba-ab2dcbdc15cf",
   "metadata": {},
   "outputs": [
    {
     "data": {
      "text/plain": [
       "<AxesSubplot:xlabel='year,week'>"
      ]
     },
     "execution_count": 72,
     "metadata": {},
     "output_type": "execute_result"
    },
    {
     "data": {
      "image/png": "[encoded data removed]",
      "text/plain": [
       "<Figure size 432x288 with 1 Axes>"
      ]
     },
     "metadata": {
      "needs_background": "light"
     },
     "output_type": "display_data"
    }
   ],
   "source": [
    "cum_rets[['mkt','xrp']].plot()"
   ]
  },
  {
   "cell_type": "code",
   "execution_count": 71,
   "id": "ecddd56e-37a0-461a-aa3b-e2a8faf4a330",
   "metadata": {},
   "outputs": [
    {
     "data": {
      "text/plain": [
       "<AxesSubplot:xlabel='year,week'>"
      ]
     },
     "execution_count": 71,
     "metadata": {},
     "output_type": "execute_result"
    },
    {
     "data": {
      "image/png": "[encoded data removed]",
      "text/plain": [
       "<Figure size 432x288 with 1 Axes>"
      ]
     },
     "metadata": {
      "needs_background": "light"
     },
     "output_type": "display_data"
    }
   ],
   "source": [
    "cum_rets[['mkt', 'eth']].plot()"
   ]
  }
 ],
 "metadata": {
  "kernelspec": {
   "display_name": "Python 3 (ipykernel)",
   "language": "python",
   "name": "python3"
  },
  "language_info": {
   "codemirror_mode": {
    "name": "ipython",
    "version": 3
   },
   "file_extension": ".py",
   "mimetype": "text/x-python",
   "name": "python",
   "nbconvert_exporter": "python",
   "pygments_lexer": "ipython3",
   "version": "3.9.7"
  }
 },
 "nbformat": 4,
 "nbformat_minor": 5
}
