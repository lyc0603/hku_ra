{
 "cells": [
  {
   "cell_type": "markdown",
   "id": "c5a51327-4c4f-43dd-b2b1-0651613b4785",
   "metadata": {},
   "source": [
    "<p style=\"font-size:200%;font-weight:bold\">加密货币数据处理</p>\n",
    "\n",
    "- 作者：丁文治\n",
    "- 日期：2022年3月13日"
   ]
  },
  {
   "cell_type": "code",
   "execution_count": 1,
   "id": "71f13dfb-987c-402c-87ae-81aaf1c5fc1c",
   "metadata": {},
   "outputs": [],
   "source": [
    "import os\n",
    "\n",
    "import pandas as pd\n",
    "import numpy as np\n",
    "\n",
    "ROOT = \"/home/team_crypto/2022_crypto_return/\"\n",
    "DB = f\"{ROOT}03_wdata/1100_coingecko/price/\"\n",
    "WD = f\"{ROOT}03_wdata/0001_teaching/\""
   ]
  },
  {
   "cell_type": "markdown",
   "id": "012bfc94-03f0-4da2-aa41-020c535e4389",
   "metadata": {},
   "source": [
    "# 读入数据"
   ]
  },
  {
   "cell_type": "code",
   "execution_count": 2,
   "id": "b0867727-9a6f-49a6-a300-ba713de705fb",
   "metadata": {},
   "outputs": [
    {
     "data": {
      "text/plain": [
       "(2989, 7)"
      ]
     },
     "execution_count": 2,
     "metadata": {},
     "output_type": "execute_result"
    },
    {
     "data": {
      "text/html": [
       "<div>\n",
       "<style scoped>\n",
       "    .dataframe tbody tr th:only-of-type {\n",
       "        vertical-align: middle;\n",
       "    }\n",
       "\n",
       "    .dataframe tbody tr th {\n",
       "        vertical-align: top;\n",
       "    }\n",
       "\n",
       "    .dataframe thead th {\n",
       "        text-align: right;\n",
       "    }\n",
       "</style>\n",
       "<table border=\"1\" class=\"dataframe\">\n",
       "  <thead>\n",
       "    <tr style=\"text-align: right;\">\n",
       "      <th></th>\n",
       "      <th>time</th>\n",
       "      <th>prices</th>\n",
       "      <th>market_caps</th>\n",
       "      <th>total_volumes</th>\n",
       "      <th>id</th>\n",
       "      <th>symbol</th>\n",
       "      <th>name</th>\n",
       "    </tr>\n",
       "  </thead>\n",
       "  <tbody>\n",
       "    <tr>\n",
       "      <th>1349</th>\n",
       "      <td>2017-09-12</td>\n",
       "      <td>4130.956285</td>\n",
       "      <td>6.841514e+10</td>\n",
       "      <td>1.062537e+09</td>\n",
       "      <td>bitcoin</td>\n",
       "      <td>btc</td>\n",
       "      <td>Bitcoin</td>\n",
       "    </tr>\n",
       "    <tr>\n",
       "      <th>1158</th>\n",
       "      <td>2017-03-05</td>\n",
       "      <td>1276.233000</td>\n",
       "      <td>2.067386e+10</td>\n",
       "      <td>6.209018e+07</td>\n",
       "      <td>bitcoin</td>\n",
       "      <td>btc</td>\n",
       "      <td>Bitcoin</td>\n",
       "    </tr>\n",
       "    <tr>\n",
       "      <th>2467</th>\n",
       "      <td>2020-10-04</td>\n",
       "      <td>10546.656255</td>\n",
       "      <td>1.951883e+11</td>\n",
       "      <td>1.603983e+10</td>\n",
       "      <td>bitcoin</td>\n",
       "      <td>btc</td>\n",
       "      <td>Bitcoin</td>\n",
       "    </tr>\n",
       "  </tbody>\n",
       "</table>\n",
       "</div>"
      ],
      "text/plain": [
       "           time        prices   market_caps  total_volumes       id symbol  \\\n",
       "1349 2017-09-12   4130.956285  6.841514e+10   1.062537e+09  bitcoin    btc   \n",
       "1158 2017-03-05   1276.233000  2.067386e+10   6.209018e+07  bitcoin    btc   \n",
       "2467 2020-10-04  10546.656255  1.951883e+11   1.603983e+10  bitcoin    btc   \n",
       "\n",
       "         name  \n",
       "1349  Bitcoin  \n",
       "1158  Bitcoin  \n",
       "2467  Bitcoin  "
      ]
     },
     "execution_count": 2,
     "metadata": {},
     "output_type": "execute_result"
    }
   ],
   "source": [
    "df = pd.read_parquet(f'{DB}bitcoin.pq')\n",
    "df.shape\n",
    "df.sample(3)"
   ]
  },
  {
   "cell_type": "code",
   "execution_count": 3,
   "id": "3e098d09-f276-435a-8421-0f45d83d9d8b",
   "metadata": {},
   "outputs": [
    {
     "data": {
      "text/plain": [
       "<AxesSubplot:xlabel='time'>"
      ]
     },
     "execution_count": 3,
     "metadata": {},
     "output_type": "execute_result"
    },
    {
     "data": {
      "image/png": "[encoded data removed]",
      "text/plain": [
       "<Figure size 432x288 with 1 Axes>"
      ]
     },
     "metadata": {
      "needs_background": "light"
     },
     "output_type": "display_data"
    }
   ],
   "source": [
    "df.set_index('time', inplace=True)\n",
    "df['prices'].plot()"
   ]
  },
  {
   "cell_type": "markdown",
   "id": "9ba1275f-8618-4c69-95c6-03971ccca822",
   "metadata": {},
   "source": [
    "# 合并数据"
   ]
  },
  {
   "cell_type": "code",
   "execution_count": 4,
   "id": "2d9385d8-c98c-487a-bcd7-e7fe8b216ab2",
   "metadata": {},
   "outputs": [
    {
     "data": {
      "text/plain": [
       "(5183377, 7)"
      ]
     },
     "execution_count": 4,
     "metadata": {},
     "output_type": "execute_result"
    },
    {
     "data": {
      "text/html": [
       "<div>\n",
       "<style scoped>\n",
       "    .dataframe tbody tr th:only-of-type {\n",
       "        vertical-align: middle;\n",
       "    }\n",
       "\n",
       "    .dataframe tbody tr th {\n",
       "        vertical-align: top;\n",
       "    }\n",
       "\n",
       "    .dataframe thead th {\n",
       "        text-align: right;\n",
       "    }\n",
       "</style>\n",
       "<table border=\"1\" class=\"dataframe\">\n",
       "  <thead>\n",
       "    <tr style=\"text-align: right;\">\n",
       "      <th></th>\n",
       "      <th>time</th>\n",
       "      <th>prices</th>\n",
       "      <th>market_caps</th>\n",
       "      <th>total_volumes</th>\n",
       "      <th>id</th>\n",
       "      <th>symbol</th>\n",
       "      <th>name</th>\n",
       "    </tr>\n",
       "  </thead>\n",
       "  <tbody>\n",
       "    <tr>\n",
       "      <th>468</th>\n",
       "      <td>2018-09-25</td>\n",
       "      <td>0.946146</td>\n",
       "      <td>3.019853e+07</td>\n",
       "      <td>1.653492e+05</td>\n",
       "      <td>aragon</td>\n",
       "      <td>ant</td>\n",
       "      <td>Aragon</td>\n",
       "    </tr>\n",
       "    <tr>\n",
       "      <th>377</th>\n",
       "      <td>2021-03-05</td>\n",
       "      <td>0.021658</td>\n",
       "      <td>1.302457e+08</td>\n",
       "      <td>1.478633e+06</td>\n",
       "      <td>edgeware</td>\n",
       "      <td>edg</td>\n",
       "      <td>Edgeware</td>\n",
       "    </tr>\n",
       "    <tr>\n",
       "      <th>459</th>\n",
       "      <td>2021-10-18</td>\n",
       "      <td>7.993647</td>\n",
       "      <td>2.473214e+08</td>\n",
       "      <td>1.861577e+07</td>\n",
       "      <td>orion-protocol</td>\n",
       "      <td>orn</td>\n",
       "      <td>Orion Protocol</td>\n",
       "    </tr>\n",
       "  </tbody>\n",
       "</table>\n",
       "</div>"
      ],
      "text/plain": [
       "          time    prices   market_caps  total_volumes              id symbol  \\\n",
       "468 2018-09-25  0.946146  3.019853e+07   1.653492e+05          aragon    ant   \n",
       "377 2021-03-05  0.021658  1.302457e+08   1.478633e+06        edgeware    edg   \n",
       "459 2021-10-18  7.993647  2.473214e+08   1.861577e+07  orion-protocol    orn   \n",
       "\n",
       "               name  \n",
       "468          Aragon  \n",
       "377        Edgeware  \n",
       "459  Orion Protocol  "
      ]
     },
     "execution_count": 4,
     "metadata": {},
     "output_type": "execute_result"
    }
   ],
   "source": [
    "df_lst = []\n",
    "\n",
    "for file in os.listdir(DB):\n",
    "    if '.pq' not in file: continue\n",
    "    df_lst.append(pd.read_parquet(f'{DB}{file}'))\n",
    "\n",
    "dfm = pd.concat(df_lst)\n",
    "dfm.shape\n",
    "dfm.sample(3)"
   ]
  },
  {
   "cell_type": "code",
   "execution_count": 5,
   "id": "180b075c-1b51-496a-88ac-eebc3b613782",
   "metadata": {},
   "outputs": [],
   "source": [
    "dfm.to_parquet(f'{WD}1100_crypto.pq')"
   ]
  },
  {
   "cell_type": "markdown",
   "id": "d94518e6-849d-4c09-af19-7282d54481ac",
   "metadata": {},
   "source": [
    "# 处理异常值"
   ]
  },
  {
   "cell_type": "code",
   "execution_count": 6,
   "id": "5f603ce2-dc49-4237-83ae-580aec4e7d0b",
   "metadata": {},
   "outputs": [
    {
     "data": {
      "text/plain": [
       "(5183377, 7)"
      ]
     },
     "execution_count": 6,
     "metadata": {},
     "output_type": "execute_result"
    },
    {
     "data": {
      "text/html": [
       "<div>\n",
       "<style scoped>\n",
       "    .dataframe tbody tr th:only-of-type {\n",
       "        vertical-align: middle;\n",
       "    }\n",
       "\n",
       "    .dataframe tbody tr th {\n",
       "        vertical-align: top;\n",
       "    }\n",
       "\n",
       "    .dataframe thead th {\n",
       "        text-align: right;\n",
       "    }\n",
       "</style>\n",
       "<table border=\"1\" class=\"dataframe\">\n",
       "  <thead>\n",
       "    <tr style=\"text-align: right;\">\n",
       "      <th></th>\n",
       "      <th>time</th>\n",
       "      <th>prices</th>\n",
       "      <th>market_caps</th>\n",
       "      <th>total_volumes</th>\n",
       "      <th>id</th>\n",
       "      <th>symbol</th>\n",
       "      <th>name</th>\n",
       "    </tr>\n",
       "  </thead>\n",
       "  <tbody>\n",
       "    <tr>\n",
       "      <th>216</th>\n",
       "      <td>2021-12-26</td>\n",
       "      <td>0.191413</td>\n",
       "      <td>0.000000e+00</td>\n",
       "      <td>2.212840e+06</td>\n",
       "      <td>binance-peg-dogecoin</td>\n",
       "      <td>doge</td>\n",
       "      <td>Binance-Peg Dogecoin</td>\n",
       "    </tr>\n",
       "    <tr>\n",
       "      <th>150</th>\n",
       "      <td>2021-08-15</td>\n",
       "      <td>0.022273</td>\n",
       "      <td>0.000000e+00</td>\n",
       "      <td>8.344616e+05</td>\n",
       "      <td>etherland</td>\n",
       "      <td>eland</td>\n",
       "      <td>Etherland</td>\n",
       "    </tr>\n",
       "    <tr>\n",
       "      <th>109</th>\n",
       "      <td>2021-07-17</td>\n",
       "      <td>0.997373</td>\n",
       "      <td>2.186362e+08</td>\n",
       "      <td>1.812535e+06</td>\n",
       "      <td>alchemix-usd</td>\n",
       "      <td>alusd</td>\n",
       "      <td>Alchemix USD</td>\n",
       "    </tr>\n",
       "  </tbody>\n",
       "</table>\n",
       "</div>"
      ],
      "text/plain": [
       "          time    prices   market_caps  total_volumes                    id  \\\n",
       "216 2021-12-26  0.191413  0.000000e+00   2.212840e+06  binance-peg-dogecoin   \n",
       "150 2021-08-15  0.022273  0.000000e+00   8.344616e+05             etherland   \n",
       "109 2021-07-17  0.997373  2.186362e+08   1.812535e+06          alchemix-usd   \n",
       "\n",
       "    symbol                  name  \n",
       "216   doge  Binance-Peg Dogecoin  \n",
       "150  eland             Etherland  \n",
       "109  alusd          Alchemix USD  "
      ]
     },
     "execution_count": 6,
     "metadata": {},
     "output_type": "execute_result"
    }
   ],
   "source": [
    "df = pd.read_parquet(f'{WD}1100_crypto.pq')\n",
    "df.shape\n",
    "df.sample(3)"
   ]
  },
  {
   "cell_type": "code",
   "execution_count": 7,
   "id": "2e21d1c9-695c-459a-899c-61fb0c7a6070",
   "metadata": {},
   "outputs": [
    {
     "data": {
      "text/plain": [
       "0"
      ]
     },
     "execution_count": 7,
     "metadata": {},
     "output_type": "execute_result"
    }
   ],
   "source": [
    "df.duplicated(subset=['time', 'id']).sum()"
   ]
  },
  {
   "cell_type": "code",
   "execution_count": 8,
   "id": "20feffe6-6ad1-4b4e-9a96-65066cb06903",
   "metadata": {},
   "outputs": [
    {
     "data": {
      "text/plain": [
       "<AxesSubplot:xlabel='time'>"
      ]
     },
     "execution_count": 8,
     "metadata": {},
     "output_type": "execute_result"
    },
    {
     "data": {
      "image/png": "[encoded data removed]",
      "text/plain": [
       "<Figure size 432x288 with 1 Axes>"
      ]
     },
     "metadata": {
      "needs_background": "light"
     },
     "output_type": "display_data"
    }
   ],
   "source": [
    "df.groupby(['time'])['id'].nunique().plot()"
   ]
  },
  {
   "cell_type": "code",
   "execution_count": 9,
   "id": "bf170130-0ad0-4c16-b07c-4228987f65de",
   "metadata": {},
   "outputs": [
    {
     "data": {
      "text/plain": [
       "time\n",
       "2020-04-29 17:00:41.760   -0.999583\n",
       "2018-02-08 00:05:00.253   -0.998261\n",
       "2018-01-30 00:05:00.381   -0.998258\n",
       "2017-06-08 23:39:21.692   -0.995122\n",
       "2017-06-06 23:29:55.701   -0.995098\n",
       "2015-01-28 00:00:00.000   -0.723214\n",
       "2018-02-08 00:05:29.672   -0.500000\n",
       "2018-01-30 00:05:28.871   -0.500000\n",
       "2018-01-30 00:05:28.744   -0.500000\n",
       "2018-02-08 00:05:21.414   -0.500000\n",
       "Name: id, dtype: float64"
      ]
     },
     "execution_count": 9,
     "metadata": {},
     "output_type": "execute_result"
    }
   ],
   "source": [
    "df.groupby(['time'])['id'].nunique().pct_change().sort_values().head(10)  # 可能是因为时间戳没有取整到天"
   ]
  },
  {
   "cell_type": "code",
   "execution_count": 10,
   "id": "ce34c6cd-fb92-4c22-af55-ca0c908ac9c3",
   "metadata": {},
   "outputs": [
    {
     "data": {
      "text/html": [
       "<div>\n",
       "<style scoped>\n",
       "    .dataframe tbody tr th:only-of-type {\n",
       "        vertical-align: middle;\n",
       "    }\n",
       "\n",
       "    .dataframe tbody tr th {\n",
       "        vertical-align: top;\n",
       "    }\n",
       "\n",
       "    .dataframe thead th {\n",
       "        text-align: right;\n",
       "    }\n",
       "</style>\n",
       "<table border=\"1\" class=\"dataframe\">\n",
       "  <thead>\n",
       "    <tr style=\"text-align: right;\">\n",
       "      <th></th>\n",
       "      <th>time</th>\n",
       "      <th>prices</th>\n",
       "      <th>market_caps</th>\n",
       "      <th>total_volumes</th>\n",
       "      <th>id</th>\n",
       "      <th>symbol</th>\n",
       "      <th>name</th>\n",
       "      <th>time_round</th>\n",
       "    </tr>\n",
       "  </thead>\n",
       "  <tbody>\n",
       "    <tr>\n",
       "      <th>277</th>\n",
       "      <td>2020-04-29</td>\n",
       "      <td>0.000310</td>\n",
       "      <td>0.0</td>\n",
       "      <td>1.334403</td>\n",
       "      <td>antra</td>\n",
       "      <td>antr</td>\n",
       "      <td>Antra</td>\n",
       "      <td>2020-04-29</td>\n",
       "    </tr>\n",
       "    <tr>\n",
       "      <th>687</th>\n",
       "      <td>2020-12-03</td>\n",
       "      <td>0.000481</td>\n",
       "      <td>0.0</td>\n",
       "      <td>378551.642210</td>\n",
       "      <td>kronn</td>\n",
       "      <td>krex</td>\n",
       "      <td>Kronn</td>\n",
       "      <td>2020-12-03</td>\n",
       "    </tr>\n",
       "    <tr>\n",
       "      <th>767</th>\n",
       "      <td>2020-11-11</td>\n",
       "      <td>0.000030</td>\n",
       "      <td>0.0</td>\n",
       "      <td>3062.458473</td>\n",
       "      <td>swtcoin</td>\n",
       "      <td>swat</td>\n",
       "      <td>SWTCoin</td>\n",
       "      <td>2020-11-11</td>\n",
       "    </tr>\n",
       "  </tbody>\n",
       "</table>\n",
       "</div>"
      ],
      "text/plain": [
       "          time    prices  market_caps  total_volumes       id symbol     name  \\\n",
       "277 2020-04-29  0.000310          0.0       1.334403    antra   antr    Antra   \n",
       "687 2020-12-03  0.000481          0.0  378551.642210    kronn   krex    Kronn   \n",
       "767 2020-11-11  0.000030          0.0    3062.458473  swtcoin   swat  SWTCoin   \n",
       "\n",
       "    time_round  \n",
       "277 2020-04-29  \n",
       "687 2020-12-03  \n",
       "767 2020-11-11  "
      ]
     },
     "execution_count": 10,
     "metadata": {},
     "output_type": "execute_result"
    }
   ],
   "source": [
    "df['time_round'] = df['time'].dt.round(freq='D')\n",
    "df.sample(3)"
   ]
  },
  {
   "cell_type": "code",
   "execution_count": 11,
   "id": "29edf5aa-a43c-4a9a-a671-6911e0835517",
   "metadata": {},
   "outputs": [
    {
     "data": {
      "text/plain": [
       "<AxesSubplot:xlabel='time_round'>"
      ]
     },
     "execution_count": 11,
     "metadata": {},
     "output_type": "execute_result"
    },
    {
     "data": {
      "image/png": "[encoded data removed]",
      "text/plain": [
       "<Figure size 432x288 with 1 Axes>"
      ]
     },
     "metadata": {
      "needs_background": "light"
     },
     "output_type": "display_data"
    }
   ],
   "source": [
    "df.groupby(['time_round'])['id'].nunique().plot()  # 修复"
   ]
  },
  {
   "cell_type": "code",
   "execution_count": 12,
   "id": "f65e4b83-aff7-43aa-8973-a3d86705893d",
   "metadata": {},
   "outputs": [
    {
     "data": {
      "text/plain": [
       "time_round\n",
       "2015-01-28   -0.723214\n",
       "2014-10-01   -0.151515\n",
       "2014-12-11   -0.145455\n",
       "2014-01-10   -0.111111\n",
       "2016-01-30   -0.100000\n",
       "2014-12-12   -0.095745\n",
       "2014-01-25   -0.085714\n",
       "2014-01-21   -0.085714\n",
       "2017-09-02   -0.083969\n",
       "2014-01-04   -0.083333\n",
       "Name: id, dtype: float64"
      ]
     },
     "execution_count": 12,
     "metadata": {},
     "output_type": "execute_result"
    }
   ],
   "source": [
    "df.groupby(['time_round'])['id'].nunique().pct_change().sort_values().head(10)  # 仍有2个异常但应该影响不大了"
   ]
  },
  {
   "cell_type": "code",
   "execution_count": 13,
   "id": "8a33c152-8e57-4cf2-9788-01d16f394572",
   "metadata": {},
   "outputs": [
    {
     "data": {
      "text/plain": [
       "2015-01-27    112\n",
       "Name: time, dtype: int64"
      ]
     },
     "execution_count": 13,
     "metadata": {},
     "output_type": "execute_result"
    },
    {
     "data": {
      "text/plain": [
       "2015-01-28    31\n",
       "Name: time, dtype: int64"
      ]
     },
     "execution_count": 13,
     "metadata": {},
     "output_type": "execute_result"
    },
    {
     "data": {
      "text/plain": [
       "2015-01-29    112\n",
       "Name: time, dtype: int64"
      ]
     },
     "execution_count": 13,
     "metadata": {},
     "output_type": "execute_result"
    },
    {
     "data": {
      "text/plain": [
       "2017-04-01    187\n",
       "Name: time, dtype: int64"
      ]
     },
     "execution_count": 13,
     "metadata": {},
     "output_type": "execute_result"
    },
    {
     "data": {
      "text/plain": [
       "2017-04-02    187\n",
       "Name: time, dtype: int64"
      ]
     },
     "execution_count": 13,
     "metadata": {},
     "output_type": "execute_result"
    },
    {
     "data": {
      "text/plain": [
       "2017-04-03    186\n",
       "Name: time, dtype: int64"
      ]
     },
     "execution_count": 13,
     "metadata": {},
     "output_type": "execute_result"
    }
   ],
   "source": [
    "df.loc[df['time_round'] == '2015-01-27', 'time'].value_counts()\n",
    "df.loc[df['time_round'] == '2015-01-28', 'time'].value_counts()  # 周三\n",
    "df.loc[df['time_round'] == '2015-01-29', 'time'].value_counts()\n",
    "\n",
    "df.loc[df['time_round'] == '2017-04-01', 'time'].value_counts()\n",
    "df.loc[df['time_round'] == '2017-04-02', 'time'].value_counts()  # 周日\n",
    "df.loc[df['time_round'] == '2017-04-03', 'time'].value_counts()\n",
    "# 选取周五作为每周终止时间可以避开这两个异常"
   ]
  },
  {
   "cell_type": "code",
   "execution_count": 14,
   "id": "a768d536-cf41-4ab1-91e6-82495f1069c2",
   "metadata": {},
   "outputs": [
    {
     "data": {
      "text/html": [
       "<div>\n",
       "<style scoped>\n",
       "    .dataframe tbody tr th:only-of-type {\n",
       "        vertical-align: middle;\n",
       "    }\n",
       "\n",
       "    .dataframe tbody tr th {\n",
       "        vertical-align: top;\n",
       "    }\n",
       "\n",
       "    .dataframe thead th {\n",
       "        text-align: right;\n",
       "    }\n",
       "</style>\n",
       "<table border=\"1\" class=\"dataframe\">\n",
       "  <thead>\n",
       "    <tr style=\"text-align: right;\">\n",
       "      <th></th>\n",
       "      <th>prices</th>\n",
       "      <th>market_caps</th>\n",
       "      <th>total_volumes</th>\n",
       "      <th>id</th>\n",
       "      <th>symbol</th>\n",
       "      <th>name</th>\n",
       "      <th>time</th>\n",
       "    </tr>\n",
       "  </thead>\n",
       "  <tbody>\n",
       "    <tr>\n",
       "      <th>2190</th>\n",
       "      <td>0.152679</td>\n",
       "      <td>1.048554e+07</td>\n",
       "      <td>1.784020e+06</td>\n",
       "      <td>nav-coin</td>\n",
       "      <td>nav</td>\n",
       "      <td>Navcoin</td>\n",
       "      <td>2020-06-12</td>\n",
       "    </tr>\n",
       "    <tr>\n",
       "      <th>341</th>\n",
       "      <td>0.067274</td>\n",
       "      <td>1.804815e+07</td>\n",
       "      <td>8.045435e+05</td>\n",
       "      <td>howdoo</td>\n",
       "      <td>udoo</td>\n",
       "      <td>Hyprr (Howdoo)</td>\n",
       "      <td>2019-09-18</td>\n",
       "    </tr>\n",
       "    <tr>\n",
       "      <th>200</th>\n",
       "      <td>0.000248</td>\n",
       "      <td>0.000000e+00</td>\n",
       "      <td>5.949160e-01</td>\n",
       "      <td>macoin</td>\n",
       "      <td>beck</td>\n",
       "      <td>Macoin</td>\n",
       "      <td>2022-03-06</td>\n",
       "    </tr>\n",
       "  </tbody>\n",
       "</table>\n",
       "</div>"
      ],
      "text/plain": [
       "        prices   market_caps  total_volumes        id symbol            name  \\\n",
       "2190  0.152679  1.048554e+07   1.784020e+06  nav-coin    nav         Navcoin   \n",
       "341   0.067274  1.804815e+07   8.045435e+05    howdoo   udoo  Hyprr (Howdoo)   \n",
       "200   0.000248  0.000000e+00   5.949160e-01    macoin   beck          Macoin   \n",
       "\n",
       "           time  \n",
       "2190 2020-06-12  \n",
       "341  2019-09-18  \n",
       "200  2022-03-06  "
      ]
     },
     "execution_count": 14,
     "metadata": {},
     "output_type": "execute_result"
    }
   ],
   "source": [
    "df.drop(columns=['time'], inplace=True)\n",
    "df.rename(columns={'time_round': 'time'}, inplace=True)\n",
    "df.sample(3)"
   ]
  },
  {
   "cell_type": "code",
   "execution_count": 15,
   "id": "d09f4ff3-8cde-4820-ad74-c75bfbd6be12",
   "metadata": {},
   "outputs": [],
   "source": [
    "df.to_parquet(f'{WD}1101_crypto_fix_time.pq')"
   ]
  },
  {
   "cell_type": "markdown",
   "id": "263a690b-dcfa-4c3b-8ef5-1715044d3902",
   "metadata": {},
   "source": [
    "# 筛选数据\n",
    "\n",
    "> Liu, Yukun, Aleh Tsyvinski, and Xi Wu, 2022, Common Risk Factors in Cryptocurrency, Journal of Finance.\n"
   ]
  },
  {
   "cell_type": "code",
   "execution_count": 16,
   "id": "caab73f0-da97-4f3a-8ca9-2d8901f642dd",
   "metadata": {},
   "outputs": [
    {
     "data": {
      "text/plain": [
       "(5183377, 7)"
      ]
     },
     "execution_count": 16,
     "metadata": {},
     "output_type": "execute_result"
    },
    {
     "data": {
      "text/html": [
       "<div>\n",
       "<style scoped>\n",
       "    .dataframe tbody tr th:only-of-type {\n",
       "        vertical-align: middle;\n",
       "    }\n",
       "\n",
       "    .dataframe tbody tr th {\n",
       "        vertical-align: top;\n",
       "    }\n",
       "\n",
       "    .dataframe thead th {\n",
       "        text-align: right;\n",
       "    }\n",
       "</style>\n",
       "<table border=\"1\" class=\"dataframe\">\n",
       "  <thead>\n",
       "    <tr style=\"text-align: right;\">\n",
       "      <th></th>\n",
       "      <th>prices</th>\n",
       "      <th>market_caps</th>\n",
       "      <th>total_volumes</th>\n",
       "      <th>id</th>\n",
       "      <th>symbol</th>\n",
       "      <th>name</th>\n",
       "      <th>time</th>\n",
       "    </tr>\n",
       "  </thead>\n",
       "  <tbody>\n",
       "    <tr>\n",
       "      <th>106</th>\n",
       "      <td>5.596567</td>\n",
       "      <td>0.000000e+00</td>\n",
       "      <td>100999.537003</td>\n",
       "      <td>ownix</td>\n",
       "      <td>onx</td>\n",
       "      <td>Ownix</td>\n",
       "      <td>2021-11-18</td>\n",
       "    </tr>\n",
       "    <tr>\n",
       "      <th>493</th>\n",
       "      <td>0.061758</td>\n",
       "      <td>1.356733e+06</td>\n",
       "      <td>18924.886497</td>\n",
       "      <td>matryx</td>\n",
       "      <td>mtx</td>\n",
       "      <td>MATRYX</td>\n",
       "      <td>2019-05-27</td>\n",
       "    </tr>\n",
       "    <tr>\n",
       "      <th>301</th>\n",
       "      <td>178.266418</td>\n",
       "      <td>0.000000e+00</td>\n",
       "      <td>0.000000</td>\n",
       "      <td>siambitcoin</td>\n",
       "      <td>sbtc</td>\n",
       "      <td>SiamBitcoin</td>\n",
       "      <td>2019-10-06</td>\n",
       "    </tr>\n",
       "  </tbody>\n",
       "</table>\n",
       "</div>"
      ],
      "text/plain": [
       "         prices   market_caps  total_volumes           id symbol         name  \\\n",
       "106    5.596567  0.000000e+00  100999.537003        ownix    onx        Ownix   \n",
       "493    0.061758  1.356733e+06   18924.886497       matryx    mtx       MATRYX   \n",
       "301  178.266418  0.000000e+00       0.000000  siambitcoin   sbtc  SiamBitcoin   \n",
       "\n",
       "          time  \n",
       "106 2021-11-18  \n",
       "493 2019-05-27  \n",
       "301 2019-10-06  "
      ]
     },
     "execution_count": 16,
     "metadata": {},
     "output_type": "execute_result"
    }
   ],
   "source": [
    "df = pd.read_parquet(f'{WD}1101_crypto_fix_time.pq')\n",
    "df.shape\n",
    "df.sample(3)"
   ]
  },
  {
   "cell_type": "code",
   "execution_count": 17,
   "id": "d2aba546-d4bf-4f59-b4ee-7d67f15aff71",
   "metadata": {},
   "outputs": [
    {
     "data": {
      "text/plain": [
       "12649"
      ]
     },
     "execution_count": 17,
     "metadata": {},
     "output_type": "execute_result"
    },
    {
     "data": {
      "text/plain": [
       "10680"
      ]
     },
     "execution_count": 17,
     "metadata": {},
     "output_type": "execute_result"
    },
    {
     "data": {
      "text/plain": [
       "12649"
      ]
     },
     "execution_count": 17,
     "metadata": {},
     "output_type": "execute_result"
    }
   ],
   "source": [
    "df['id'].nunique()\n",
    "df['symbol'].nunique()\n",
    "df['name'].nunique()"
   ]
  },
  {
   "cell_type": "code",
   "execution_count": 18,
   "id": "684566dc-86e7-4ac7-9d97-f88f51487876",
   "metadata": {},
   "outputs": [
    {
     "data": {
      "text/plain": [
       "<AxesSubplot:>"
      ]
     },
     "execution_count": 18,
     "metadata": {},
     "output_type": "execute_result"
    },
    {
     "data": {
      "image/png": "[encoded data removed]",
      "text/plain": [
       "<Figure size 432x288 with 1 Axes>"
      ]
     },
     "metadata": {
      "needs_background": "light"
     },
     "output_type": "display_data"
    }
   ],
   "source": [
    "df['daily_ret'] = df.groupby(['id'])['prices'].pct_change()\n",
    "pl1 = df.groupby(['id'])['prices'].shift()\n",
    "df.loc[pl1 == 0, 'daily_ret'] = np.nan\n",
    "df['daily_ret'].hist(bins=50)"
   ]
  },
  {
   "cell_type": "markdown",
   "id": "558dcac6-b105-45a0-9c25-c8dca52e11aa",
   "metadata": {},
   "source": [
    "## 缺失值\n",
    "\n",
    "价格、市值、交易量不缺失"
   ]
  },
  {
   "cell_type": "code",
   "execution_count": 19,
   "id": "207bcb9c-87a1-4580-a671-4c7c07c2e116",
   "metadata": {},
   "outputs": [
    {
     "data": {
      "text/plain": [
       "prices               0\n",
       "market_caps        293\n",
       "total_volumes       40\n",
       "id                   0\n",
       "symbol             667\n",
       "name                 0\n",
       "time                 0\n",
       "daily_ret        12702\n",
       "dtype: int64"
      ]
     },
     "execution_count": 19,
     "metadata": {},
     "output_type": "execute_result"
    }
   ],
   "source": [
    "df.isna().sum()"
   ]
  },
  {
   "cell_type": "code",
   "execution_count": 20,
   "id": "5f294e13-6864-4465-aaec-876322a2eea6",
   "metadata": {},
   "outputs": [
    {
     "data": {
      "text/plain": [
       "prices               0\n",
       "market_caps          0\n",
       "total_volumes        0\n",
       "id                   0\n",
       "symbol             667\n",
       "name                 0\n",
       "time                 0\n",
       "daily_ret        12701\n",
       "dtype: int64"
      ]
     },
     "execution_count": 20,
     "metadata": {},
     "output_type": "execute_result"
    }
   ],
   "source": [
    "df.dropna(subset=['prices', 'market_caps', 'total_volumes'], how='any', inplace=True)\n",
    "df.isna().sum()"
   ]
  },
  {
   "cell_type": "code",
   "execution_count": 21,
   "id": "fc3cddcf-fad0-4130-ac7d-2ea774ff9b70",
   "metadata": {},
   "outputs": [],
   "source": [
    "df.to_parquet(f'{WD}1102_crypto_day.pq')"
   ]
  },
  {
   "cell_type": "markdown",
   "id": "76b03996-0054-4702-81a5-c93e5ec7cc3f",
   "metadata": {},
   "source": [
    "## 小市值\n",
    "\n",
    "排除市值小于100万美元的加密货币"
   ]
  },
  {
   "cell_type": "code",
   "execution_count": 22,
   "id": "4489247c-b728-4c98-9b11-ac05dae8fd2b",
   "metadata": {},
   "outputs": [
    {
     "data": {
      "text/plain": [
       "nunique  max  \n",
       "1        False    8794\n",
       "2        True     3525\n",
       "1        True      330\n",
       "dtype: int64"
      ]
     },
     "execution_count": 22,
     "metadata": {},
     "output_type": "execute_result"
    }
   ],
   "source": [
    "df['gt_1m'] = (df['market_caps'] >= 10 ** 6)\n",
    "df.groupby(['id'])['gt_1m'].agg(['nunique', 'max']).value_counts()"
   ]
  },
  {
   "cell_type": "code",
   "execution_count": 23,
   "id": "ba3adce2-de1e-4873-8efb-c2f3e6e1bcd9",
   "metadata": {},
   "outputs": [
    {
     "data": {
      "text/html": [
       "<div>\n",
       "<style scoped>\n",
       "    .dataframe tbody tr th:only-of-type {\n",
       "        vertical-align: middle;\n",
       "    }\n",
       "\n",
       "    .dataframe tbody tr th {\n",
       "        vertical-align: top;\n",
       "    }\n",
       "\n",
       "    .dataframe thead th {\n",
       "        text-align: right;\n",
       "    }\n",
       "</style>\n",
       "<table border=\"1\" class=\"dataframe\">\n",
       "  <thead>\n",
       "    <tr style=\"text-align: right;\">\n",
       "      <th></th>\n",
       "      <th>prices</th>\n",
       "      <th>market_caps</th>\n",
       "      <th>total_volumes</th>\n",
       "      <th>id</th>\n",
       "      <th>symbol</th>\n",
       "      <th>name</th>\n",
       "      <th>time</th>\n",
       "      <th>daily_ret</th>\n",
       "      <th>gt_1m</th>\n",
       "    </tr>\n",
       "  </thead>\n",
       "  <tbody>\n",
       "    <tr>\n",
       "      <th>1195</th>\n",
       "      <td>8.372038</td>\n",
       "      <td>8.949896e+07</td>\n",
       "      <td>268587.976631</td>\n",
       "      <td>dero</td>\n",
       "      <td>dero</td>\n",
       "      <td>Dero</td>\n",
       "      <td>2021-07-05</td>\n",
       "      <td>0.029687</td>\n",
       "      <td>True</td>\n",
       "    </tr>\n",
       "  </tbody>\n",
       "</table>\n",
       "</div>"
      ],
      "text/plain": [
       "        prices   market_caps  total_volumes    id symbol  name       time  \\\n",
       "1195  8.372038  8.949896e+07  268587.976631  dero   dero  Dero 2021-07-05   \n",
       "\n",
       "      daily_ret  gt_1m  \n",
       "1195   0.029687   True  "
      ]
     },
     "execution_count": 23,
     "metadata": {},
     "output_type": "execute_result"
    }
   ],
   "source": [
    "df.sample()"
   ]
  },
  {
   "cell_type": "markdown",
   "id": "13105616-5da7-4c08-9185-81cdadb14b06",
   "metadata": {},
   "source": [
    "- 一定排除：8794个币，市值始终小于100万美元\n",
    "- **如何处理？**：3525个币，在观测周期内同时有大于100万美元和小于100万美元\n",
    "- 一定保留：330个币始终超过100万美元"
   ]
  },
  {
   "cell_type": "code",
   "execution_count": 24,
   "id": "f6633961-46d1-4847-a12d-4f23789c414f",
   "metadata": {},
   "outputs": [
    {
     "data": {
      "text/plain": [
       "(1600069, 9)"
      ]
     },
     "execution_count": 24,
     "metadata": {},
     "output_type": "execute_result"
    },
    {
     "data": {
      "text/html": [
       "<div>\n",
       "<style scoped>\n",
       "    .dataframe tbody tr th:only-of-type {\n",
       "        vertical-align: middle;\n",
       "    }\n",
       "\n",
       "    .dataframe tbody tr th {\n",
       "        vertical-align: top;\n",
       "    }\n",
       "\n",
       "    .dataframe thead th {\n",
       "        text-align: right;\n",
       "    }\n",
       "</style>\n",
       "<table border=\"1\" class=\"dataframe\">\n",
       "  <thead>\n",
       "    <tr style=\"text-align: right;\">\n",
       "      <th></th>\n",
       "      <th>prices</th>\n",
       "      <th>market_caps</th>\n",
       "      <th>total_volumes</th>\n",
       "      <th>id</th>\n",
       "      <th>symbol</th>\n",
       "      <th>name</th>\n",
       "      <th>time</th>\n",
       "      <th>daily_ret</th>\n",
       "      <th>gt_1m</th>\n",
       "    </tr>\n",
       "  </thead>\n",
       "  <tbody>\n",
       "    <tr>\n",
       "      <th>254</th>\n",
       "      <td>1.120508</td>\n",
       "      <td>1.385094e+07</td>\n",
       "      <td>9.498323e+05</td>\n",
       "      <td>stasis-eurs</td>\n",
       "      <td>eurs</td>\n",
       "      <td>STASIS EURO</td>\n",
       "      <td>2019-04-11</td>\n",
       "      <td>0.004932</td>\n",
       "      <td>True</td>\n",
       "    </tr>\n",
       "    <tr>\n",
       "      <th>150</th>\n",
       "      <td>294.583785</td>\n",
       "      <td>1.861749e+07</td>\n",
       "      <td>1.985080e+06</td>\n",
       "      <td>cover-protocol</td>\n",
       "      <td>cover</td>\n",
       "      <td>Cover Protocol</td>\n",
       "      <td>2021-06-04</td>\n",
       "      <td>0.007741</td>\n",
       "      <td>True</td>\n",
       "    </tr>\n",
       "    <tr>\n",
       "      <th>112</th>\n",
       "      <td>1.365201</td>\n",
       "      <td>1.375108e+07</td>\n",
       "      <td>2.377305e+05</td>\n",
       "      <td>oiler</td>\n",
       "      <td>oil</td>\n",
       "      <td>Oiler</td>\n",
       "      <td>2021-08-26</td>\n",
       "      <td>-0.114455</td>\n",
       "      <td>True</td>\n",
       "    </tr>\n",
       "  </tbody>\n",
       "</table>\n",
       "</div>"
      ],
      "text/plain": [
       "         prices   market_caps  total_volumes              id symbol  \\\n",
       "254    1.120508  1.385094e+07   9.498323e+05     stasis-eurs   eurs   \n",
       "150  294.583785  1.861749e+07   1.985080e+06  cover-protocol  cover   \n",
       "112    1.365201  1.375108e+07   2.377305e+05           oiler    oil   \n",
       "\n",
       "               name       time  daily_ret  gt_1m  \n",
       "254     STASIS EURO 2019-04-11   0.004932   True  \n",
       "150  Cover Protocol 2021-06-04   0.007741   True  \n",
       "112           Oiler 2021-08-26  -0.114455   True  "
      ]
     },
     "execution_count": 24,
     "metadata": {},
     "output_type": "execute_result"
    }
   ],
   "source": [
    "# 从投资组合的角度：先直接以100万美元划线\n",
    "df2 = df.loc[df['gt_1m']].copy()\n",
    "df2.shape\n",
    "df2.sample(3)"
   ]
  },
  {
   "cell_type": "markdown",
   "id": "e120f430-4317-484c-a9de-0d4d2f81b0dd",
   "metadata": {},
   "source": [
    "## 周频\n",
    "\n",
    "每周保留最接近周五的数据"
   ]
  },
  {
   "cell_type": "code",
   "execution_count": 25,
   "id": "c5dab268-2e94-4798-9e7c-d93170c7b7bb",
   "metadata": {},
   "outputs": [
    {
     "data": {
      "text/plain": [
       "3"
      ]
     },
     "execution_count": 25,
     "metadata": {},
     "output_type": "execute_result"
    }
   ],
   "source": [
    "df2.duplicated(subset=['time', 'id']).sum()"
   ]
  },
  {
   "cell_type": "code",
   "execution_count": 26,
   "id": "453ef143-c31e-4218-8659-155c139db69a",
   "metadata": {},
   "outputs": [
    {
     "data": {
      "text/html": [
       "<div>\n",
       "<style scoped>\n",
       "    .dataframe tbody tr th:only-of-type {\n",
       "        vertical-align: middle;\n",
       "    }\n",
       "\n",
       "    .dataframe tbody tr th {\n",
       "        vertical-align: top;\n",
       "    }\n",
       "\n",
       "    .dataframe thead th {\n",
       "        text-align: right;\n",
       "    }\n",
       "</style>\n",
       "<table border=\"1\" class=\"dataframe\">\n",
       "  <thead>\n",
       "    <tr style=\"text-align: right;\">\n",
       "      <th></th>\n",
       "      <th>prices</th>\n",
       "      <th>market_caps</th>\n",
       "      <th>total_volumes</th>\n",
       "      <th>id</th>\n",
       "      <th>symbol</th>\n",
       "      <th>name</th>\n",
       "      <th>time</th>\n",
       "      <th>daily_ret</th>\n",
       "      <th>gt_1m</th>\n",
       "      <th>year</th>\n",
       "      <th>week</th>\n",
       "      <th>day</th>\n",
       "    </tr>\n",
       "  </thead>\n",
       "  <tbody>\n",
       "    <tr>\n",
       "      <th>94</th>\n",
       "      <td>15.149634</td>\n",
       "      <td>2.167802e+07</td>\n",
       "      <td>401407.784835</td>\n",
       "      <td>spartacus</td>\n",
       "      <td>spa</td>\n",
       "      <td>Spartacus</td>\n",
       "      <td>2022-02-04</td>\n",
       "      <td>-0.054057</td>\n",
       "      <td>True</td>\n",
       "      <td>2022</td>\n",
       "      <td>5</td>\n",
       "      <td>5</td>\n",
       "    </tr>\n",
       "    <tr>\n",
       "      <th>93</th>\n",
       "      <td>0.254651</td>\n",
       "      <td>9.549422e+07</td>\n",
       "      <td>488205.971194</td>\n",
       "      <td>hiveterminal</td>\n",
       "      <td>hvn</td>\n",
       "      <td>Hiveterminal token</td>\n",
       "      <td>2018-01-19</td>\n",
       "      <td>0.012794</td>\n",
       "      <td>True</td>\n",
       "      <td>2018</td>\n",
       "      <td>3</td>\n",
       "      <td>5</td>\n",
       "    </tr>\n",
       "    <tr>\n",
       "      <th>405</th>\n",
       "      <td>26.455324</td>\n",
       "      <td>5.770925e+07</td>\n",
       "      <td>36839.210602</td>\n",
       "      <td>index-cooperative</td>\n",
       "      <td>index</td>\n",
       "      <td>Index Cooperative</td>\n",
       "      <td>2021-11-16</td>\n",
       "      <td>-0.027364</td>\n",
       "      <td>True</td>\n",
       "      <td>2021</td>\n",
       "      <td>46</td>\n",
       "      <td>2</td>\n",
       "    </tr>\n",
       "  </tbody>\n",
       "</table>\n",
       "</div>"
      ],
      "text/plain": [
       "        prices   market_caps  total_volumes                 id symbol  \\\n",
       "94   15.149634  2.167802e+07  401407.784835          spartacus    spa   \n",
       "93    0.254651  9.549422e+07  488205.971194       hiveterminal    hvn   \n",
       "405  26.455324  5.770925e+07   36839.210602  index-cooperative  index   \n",
       "\n",
       "                   name       time  daily_ret  gt_1m  year  week  day  \n",
       "94            Spartacus 2022-02-04  -0.054057   True  2022     5    5  \n",
       "93   Hiveterminal token 2018-01-19   0.012794   True  2018     3    5  \n",
       "405   Index Cooperative 2021-11-16  -0.027364   True  2021    46    2  "
      ]
     },
     "execution_count": 26,
     "metadata": {},
     "output_type": "execute_result"
    }
   ],
   "source": [
    "df2[['year', 'week', 'day']] = df2['time'].dt.isocalendar()\n",
    "df2.sample(3)"
   ]
  },
  {
   "cell_type": "code",
   "execution_count": 27,
   "id": "1d8fcc84-0cc6-44f0-957c-efa3652de477",
   "metadata": {},
   "outputs": [
    {
     "data": {
      "text/plain": [
       "3    229448\n",
       "2    229051\n",
       "1    228699\n",
       "7    228459\n",
       "6    228368\n",
       "5    228123\n",
       "4    227921\n",
       "Name: day, dtype: Int64"
      ]
     },
     "execution_count": 27,
     "metadata": {},
     "output_type": "execute_result"
    }
   ],
   "source": [
    "df2['day'].value_counts()"
   ]
  },
  {
   "cell_type": "code",
   "execution_count": 28,
   "id": "c7c1d507-36d8-4a80-a861-61f2e2c62949",
   "metadata": {},
   "outputs": [
    {
     "data": {
      "text/html": [
       "<div>\n",
       "<style scoped>\n",
       "    .dataframe tbody tr th:only-of-type {\n",
       "        vertical-align: middle;\n",
       "    }\n",
       "\n",
       "    .dataframe tbody tr th {\n",
       "        vertical-align: top;\n",
       "    }\n",
       "\n",
       "    .dataframe thead th {\n",
       "        text-align: right;\n",
       "    }\n",
       "</style>\n",
       "<table border=\"1\" class=\"dataframe\">\n",
       "  <thead>\n",
       "    <tr style=\"text-align: right;\">\n",
       "      <th></th>\n",
       "      <th>prices</th>\n",
       "      <th>market_caps</th>\n",
       "      <th>total_volumes</th>\n",
       "      <th>id</th>\n",
       "      <th>symbol</th>\n",
       "      <th>name</th>\n",
       "      <th>time</th>\n",
       "      <th>daily_ret</th>\n",
       "      <th>gt_1m</th>\n",
       "      <th>year</th>\n",
       "      <th>week</th>\n",
       "      <th>day</th>\n",
       "      <th>time_tmp</th>\n",
       "      <th>unit_volumes</th>\n",
       "    </tr>\n",
       "  </thead>\n",
       "  <tbody>\n",
       "    <tr>\n",
       "      <th>826</th>\n",
       "      <td>0.003850</td>\n",
       "      <td>4.057067e+06</td>\n",
       "      <td>1.931985e+06</td>\n",
       "      <td>skrumble-network</td>\n",
       "      <td>skm</td>\n",
       "      <td>Skrumble Network</td>\n",
       "      <td>2020-08-14</td>\n",
       "      <td>-0.133947</td>\n",
       "      <td>True</td>\n",
       "      <td>2020</td>\n",
       "      <td>33</td>\n",
       "      <td>7</td>\n",
       "      <td>2020-08-16</td>\n",
       "      <td>5.017647e+08</td>\n",
       "    </tr>\n",
       "    <tr>\n",
       "      <th>55</th>\n",
       "      <td>4.068595</td>\n",
       "      <td>3.621049e+06</td>\n",
       "      <td>1.023334e+05</td>\n",
       "      <td>game-ace-token</td>\n",
       "      <td>gat</td>\n",
       "      <td>Game Ace Token</td>\n",
       "      <td>2021-09-12</td>\n",
       "      <td>-0.129104</td>\n",
       "      <td>True</td>\n",
       "      <td>2021</td>\n",
       "      <td>37</td>\n",
       "      <td>2</td>\n",
       "      <td>2021-09-14</td>\n",
       "      <td>2.515201e+04</td>\n",
       "    </tr>\n",
       "    <tr>\n",
       "      <th>239</th>\n",
       "      <td>0.000848</td>\n",
       "      <td>1.281077e+06</td>\n",
       "      <td>2.617026e+03</td>\n",
       "      <td>dinastycoin</td>\n",
       "      <td>dcy</td>\n",
       "      <td>Dinastycoin</td>\n",
       "      <td>2018-03-09</td>\n",
       "      <td>-0.152096</td>\n",
       "      <td>True</td>\n",
       "      <td>2018</td>\n",
       "      <td>10</td>\n",
       "      <td>7</td>\n",
       "      <td>2018-03-11</td>\n",
       "      <td>3.086563e+06</td>\n",
       "    </tr>\n",
       "  </tbody>\n",
       "</table>\n",
       "</div>"
      ],
      "text/plain": [
       "       prices   market_caps  total_volumes                id symbol  \\\n",
       "826  0.003850  4.057067e+06   1.931985e+06  skrumble-network    skm   \n",
       "55   4.068595  3.621049e+06   1.023334e+05    game-ace-token    gat   \n",
       "239  0.000848  1.281077e+06   2.617026e+03       dinastycoin    dcy   \n",
       "\n",
       "                 name       time  daily_ret  gt_1m  year  week  day  \\\n",
       "826  Skrumble Network 2020-08-14  -0.133947   True  2020    33    7   \n",
       "55     Game Ace Token 2021-09-12  -0.129104   True  2021    37    2   \n",
       "239       Dinastycoin 2018-03-09  -0.152096   True  2018    10    7   \n",
       "\n",
       "      time_tmp  unit_volumes  \n",
       "826 2020-08-16  5.017647e+08  \n",
       "55  2021-09-14  2.515201e+04  \n",
       "239 2018-03-11  3.086563e+06  "
      ]
     },
     "execution_count": 28,
     "metadata": {},
     "output_type": "execute_result"
    }
   ],
   "source": [
    "df3 = df2.copy()\n",
    "df3['time_tmp'] = df3['time'] + pd.offsets.Day(2)\n",
    "df3[['year', 'week', 'day']] = df3['time_tmp'].dt.isocalendar()\n",
    "\n",
    "df3.sort_values(['id', 'year', 'week', 'day'], ascending=True, inplace=True)\n",
    "df3['unit_volumes'] = df3['total_volumes'] / df3['prices']\n",
    "# df3['daily_ret'] = df3.groupby(['time'])['prices'].pct_change()  # 不能在这里算日回报，因为已经丢过一部分样本了，日期序列不连续了\n",
    "\n",
    "df3.sample(3)"
   ]
  },
  {
   "cell_type": "code",
   "execution_count": 29,
   "id": "e6fd0fa6-1851-4780-8d4e-9ecd6032454b",
   "metadata": {},
   "outputs": [
    {
     "data": {
      "text/plain": [
       "(240380, 14)"
      ]
     },
     "execution_count": 29,
     "metadata": {},
     "output_type": "execute_result"
    },
    {
     "data": {
      "text/html": [
       "<div>\n",
       "<style scoped>\n",
       "    .dataframe tbody tr th:only-of-type {\n",
       "        vertical-align: middle;\n",
       "    }\n",
       "\n",
       "    .dataframe tbody tr th {\n",
       "        vertical-align: top;\n",
       "    }\n",
       "\n",
       "    .dataframe thead th {\n",
       "        text-align: right;\n",
       "    }\n",
       "</style>\n",
       "<table border=\"1\" class=\"dataframe\">\n",
       "  <thead>\n",
       "    <tr style=\"text-align: right;\">\n",
       "      <th></th>\n",
       "      <th></th>\n",
       "      <th></th>\n",
       "      <th>time</th>\n",
       "      <th>prices</th>\n",
       "      <th>max_prices</th>\n",
       "      <th>market_caps</th>\n",
       "      <th>avg_volumes</th>\n",
       "      <th>eow_volumes</th>\n",
       "      <th>std_volumes</th>\n",
       "      <th>unit_volumes</th>\n",
       "      <th>avg_daily_ret</th>\n",
       "      <th>max_daily_ret</th>\n",
       "      <th>std_daily_ret</th>\n",
       "      <th>symbol</th>\n",
       "      <th>name</th>\n",
       "      <th>day</th>\n",
       "    </tr>\n",
       "    <tr>\n",
       "      <th>id</th>\n",
       "      <th>year</th>\n",
       "      <th>week</th>\n",
       "      <th></th>\n",
       "      <th></th>\n",
       "      <th></th>\n",
       "      <th></th>\n",
       "      <th></th>\n",
       "      <th></th>\n",
       "      <th></th>\n",
       "      <th></th>\n",
       "      <th></th>\n",
       "      <th></th>\n",
       "      <th></th>\n",
       "      <th></th>\n",
       "      <th></th>\n",
       "      <th></th>\n",
       "    </tr>\n",
       "  </thead>\n",
       "  <tbody>\n",
       "    <tr>\n",
       "      <th>babb</th>\n",
       "      <th>2018</th>\n",
       "      <th>52</th>\n",
       "      <td>2018-12-28</td>\n",
       "      <td>0.000386</td>\n",
       "      <td>0.000446</td>\n",
       "      <td>1.161438e+07</td>\n",
       "      <td>57164.753158</td>\n",
       "      <td>30676.294213</td>\n",
       "      <td>30578.011164</td>\n",
       "      <td>1.361602e+08</td>\n",
       "      <td>-0.012771</td>\n",
       "      <td>0.084670</td>\n",
       "      <td>0.077945</td>\n",
       "      <td>bax</td>\n",
       "      <td>BABB</td>\n",
       "      <td>5</td>\n",
       "    </tr>\n",
       "    <tr>\n",
       "      <th>ambire-wallet</th>\n",
       "      <th>2022</th>\n",
       "      <th>10</th>\n",
       "      <td>2022-03-09</td>\n",
       "      <td>0.109386</td>\n",
       "      <td>0.125791</td>\n",
       "      <td>5.944040e+06</td>\n",
       "      <td>273514.541096</td>\n",
       "      <td>176060.952057</td>\n",
       "      <td>170494.753565</td>\n",
       "      <td>2.338624e+06</td>\n",
       "      <td>-0.009133</td>\n",
       "      <td>0.143367</td>\n",
       "      <td>0.089510</td>\n",
       "      <td>wallet</td>\n",
       "      <td>Ambire Wallet</td>\n",
       "      <td>3</td>\n",
       "    </tr>\n",
       "    <tr>\n",
       "      <th>vericoin</th>\n",
       "      <th>2018</th>\n",
       "      <th>28</th>\n",
       "      <td>2018-07-13</td>\n",
       "      <td>0.165389</td>\n",
       "      <td>0.216932</td>\n",
       "      <td>5.137003e+06</td>\n",
       "      <td>181018.516630</td>\n",
       "      <td>148403.131095</td>\n",
       "      <td>27321.817114</td>\n",
       "      <td>9.498945e+05</td>\n",
       "      <td>-0.028997</td>\n",
       "      <td>0.119437</td>\n",
       "      <td>0.082792</td>\n",
       "      <td>vrc</td>\n",
       "      <td>VeriCoin</td>\n",
       "      <td>5</td>\n",
       "    </tr>\n",
       "  </tbody>\n",
       "</table>\n",
       "</div>"
      ],
      "text/plain": [
       "                              time    prices  max_prices   market_caps  \\\n",
       "id            year week                                                  \n",
       "babb          2018 52   2018-12-28  0.000386    0.000446  1.161438e+07   \n",
       "ambire-wallet 2022 10   2022-03-09  0.109386    0.125791  5.944040e+06   \n",
       "vericoin      2018 28   2018-07-13  0.165389    0.216932  5.137003e+06   \n",
       "\n",
       "                           avg_volumes    eow_volumes    std_volumes  \\\n",
       "id            year week                                                \n",
       "babb          2018 52     57164.753158   30676.294213   30578.011164   \n",
       "ambire-wallet 2022 10    273514.541096  176060.952057  170494.753565   \n",
       "vericoin      2018 28    181018.516630  148403.131095   27321.817114   \n",
       "\n",
       "                         unit_volumes  avg_daily_ret  max_daily_ret  \\\n",
       "id            year week                                               \n",
       "babb          2018 52    1.361602e+08      -0.012771       0.084670   \n",
       "ambire-wallet 2022 10    2.338624e+06      -0.009133       0.143367   \n",
       "vericoin      2018 28    9.498945e+05      -0.028997       0.119437   \n",
       "\n",
       "                         std_daily_ret  symbol           name  day  \n",
       "id            year week                                             \n",
       "babb          2018 52         0.077945     bax           BABB    5  \n",
       "ambire-wallet 2022 10         0.089510  wallet  Ambire Wallet    3  \n",
       "vericoin      2018 28         0.082792     vrc       VeriCoin    5  "
      ]
     },
     "execution_count": 29,
     "metadata": {},
     "output_type": "execute_result"
    }
   ],
   "source": [
    "df3 = df3.groupby(['id', 'year', 'week']).agg({\n",
    "    'time': 'last',\n",
    "    'prices': ['last', 'max'],\n",
    "    'market_caps': 'last',\n",
    "    'total_volumes': ['mean', 'last', 'std'],\n",
    "    'unit_volumes': 'mean',\n",
    "    'daily_ret': ['mean', 'max', 'std'],\n",
    "    'symbol': 'last',\n",
    "    'name': 'last',\n",
    "})\n",
    "df3.columns = [\n",
    "    'time', \n",
    "    'prices', 'max_prices', \n",
    "    'market_caps', \n",
    "    'avg_volumes', 'eow_volumes', 'std_volumes',\n",
    "    'unit_volumes', \n",
    "    'avg_daily_ret', 'max_daily_ret', 'std_daily_ret', \n",
    "    'symbol', 'name'\n",
    "]\n",
    "df3['day'] = df3['time'].dt.isocalendar().day\n",
    "df3.shape\n",
    "df3.sample(3)"
   ]
  },
  {
   "cell_type": "code",
   "execution_count": 30,
   "id": "85c6d72c-a0b3-4c04-9d53-8662dec6217a",
   "metadata": {},
   "outputs": [
    {
     "data": {
      "text/plain": [
       "5    0.949006\n",
       "3    0.017169\n",
       "4    0.012742\n",
       "2    0.006735\n",
       "1    0.006032\n",
       "7    0.004468\n",
       "6    0.003848\n",
       "Name: day, dtype: Float64"
      ]
     },
     "execution_count": 30,
     "metadata": {},
     "output_type": "execute_result"
    }
   ],
   "source": [
    "df3['day'].value_counts() / df3.shape[0]  # 2%的样本用了周二及之前，应该问题不大，可能使强行筛100万美元市值导致的偏误"
   ]
  },
  {
   "cell_type": "markdown",
   "id": "53236c0f-becd-4253-9fb4-00eab1ed1f96",
   "metadata": {},
   "source": [
    "## 输出"
   ]
  },
  {
   "cell_type": "code",
   "execution_count": 31,
   "id": "543e4e18-ba30-415f-8003-fcbee3adb117",
   "metadata": {},
   "outputs": [
    {
     "data": {
      "text/plain": [
       "(240380, 17)"
      ]
     },
     "execution_count": 31,
     "metadata": {},
     "output_type": "execute_result"
    },
    {
     "data": {
      "text/html": [
       "<div>\n",
       "<style scoped>\n",
       "    .dataframe tbody tr th:only-of-type {\n",
       "        vertical-align: middle;\n",
       "    }\n",
       "\n",
       "    .dataframe tbody tr th {\n",
       "        vertical-align: top;\n",
       "    }\n",
       "\n",
       "    .dataframe thead th {\n",
       "        text-align: right;\n",
       "    }\n",
       "</style>\n",
       "<table border=\"1\" class=\"dataframe\">\n",
       "  <thead>\n",
       "    <tr style=\"text-align: right;\">\n",
       "      <th></th>\n",
       "      <th>id</th>\n",
       "      <th>year</th>\n",
       "      <th>week</th>\n",
       "      <th>time</th>\n",
       "      <th>prices</th>\n",
       "      <th>max_prices</th>\n",
       "      <th>market_caps</th>\n",
       "      <th>avg_volumes</th>\n",
       "      <th>eow_volumes</th>\n",
       "      <th>std_volumes</th>\n",
       "      <th>unit_volumes</th>\n",
       "      <th>avg_daily_ret</th>\n",
       "      <th>max_daily_ret</th>\n",
       "      <th>std_daily_ret</th>\n",
       "      <th>symbol</th>\n",
       "      <th>name</th>\n",
       "      <th>day</th>\n",
       "    </tr>\n",
       "  </thead>\n",
       "  <tbody>\n",
       "    <tr>\n",
       "      <th>192697</th>\n",
       "      <td>spore</td>\n",
       "      <td>2022</td>\n",
       "      <td>7</td>\n",
       "      <td>2022-02-18</td>\n",
       "      <td>7.792015e-11</td>\n",
       "      <td>8.338334e-11</td>\n",
       "      <td>2.800716e+06</td>\n",
       "      <td>5674.518157</td>\n",
       "      <td>3472.607754</td>\n",
       "      <td>4714.056319</td>\n",
       "      <td>7.245611e+13</td>\n",
       "      <td>-0.003247</td>\n",
       "      <td>0.072413</td>\n",
       "      <td>0.049543</td>\n",
       "      <td>spore</td>\n",
       "      <td>Spore</td>\n",
       "      <td>5</td>\n",
       "    </tr>\n",
       "    <tr>\n",
       "      <th>191715</th>\n",
       "      <td>spectrecoin</td>\n",
       "      <td>2020</td>\n",
       "      <td>31</td>\n",
       "      <td>2020-07-31</td>\n",
       "      <td>1.101289e-01</td>\n",
       "      <td>1.137970e-01</td>\n",
       "      <td>2.922587e+06</td>\n",
       "      <td>159153.801207</td>\n",
       "      <td>191504.245284</td>\n",
       "      <td>31299.847953</td>\n",
       "      <td>1.699441e+06</td>\n",
       "      <td>0.047599</td>\n",
       "      <td>0.156687</td>\n",
       "      <td>0.072421</td>\n",
       "      <td>alias</td>\n",
       "      <td>Alias</td>\n",
       "      <td>5</td>\n",
       "    </tr>\n",
       "    <tr>\n",
       "      <th>98368</th>\n",
       "      <td>horizon-protocol</td>\n",
       "      <td>2021</td>\n",
       "      <td>32</td>\n",
       "      <td>2021-08-13</td>\n",
       "      <td>1.962450e-01</td>\n",
       "      <td>1.965760e-01</td>\n",
       "      <td>7.885353e+06</td>\n",
       "      <td>195081.103657</td>\n",
       "      <td>145145.141559</td>\n",
       "      <td>35677.984720</td>\n",
       "      <td>1.085492e+06</td>\n",
       "      <td>0.024693</td>\n",
       "      <td>0.085984</td>\n",
       "      <td>0.063435</td>\n",
       "      <td>hzn</td>\n",
       "      <td>Horizon Protocol</td>\n",
       "      <td>5</td>\n",
       "    </tr>\n",
       "  </tbody>\n",
       "</table>\n",
       "</div>"
      ],
      "text/plain": [
       "                      id  year  week       time        prices    max_prices  \\\n",
       "192697             spore  2022     7 2022-02-18  7.792015e-11  8.338334e-11   \n",
       "191715       spectrecoin  2020    31 2020-07-31  1.101289e-01  1.137970e-01   \n",
       "98368   horizon-protocol  2021    32 2021-08-13  1.962450e-01  1.965760e-01   \n",
       "\n",
       "         market_caps    avg_volumes    eow_volumes   std_volumes  \\\n",
       "192697  2.800716e+06    5674.518157    3472.607754   4714.056319   \n",
       "191715  2.922587e+06  159153.801207  191504.245284  31299.847953   \n",
       "98368   7.885353e+06  195081.103657  145145.141559  35677.984720   \n",
       "\n",
       "        unit_volumes  avg_daily_ret  max_daily_ret  std_daily_ret symbol  \\\n",
       "192697  7.245611e+13      -0.003247       0.072413       0.049543  spore   \n",
       "191715  1.699441e+06       0.047599       0.156687       0.072421  alias   \n",
       "98368   1.085492e+06       0.024693       0.085984       0.063435    hzn   \n",
       "\n",
       "                    name  day  \n",
       "192697             Spore    5  \n",
       "191715             Alias    5  \n",
       "98368   Horizon Protocol    5  "
      ]
     },
     "execution_count": 31,
     "metadata": {},
     "output_type": "execute_result"
    }
   ],
   "source": [
    "df3.reset_index(inplace=True) \n",
    "df3.shape\n",
    "df3.sample(3)"
   ]
  },
  {
   "cell_type": "code",
   "execution_count": 32,
   "id": "29e21b28-a600-491d-ba75-993f8ac34258",
   "metadata": {},
   "outputs": [],
   "source": [
    "df3.to_parquet(f'{WD}1103_crypto_week.pq')"
   ]
  },
  {
   "cell_type": "markdown",
   "id": "9771d28c-4690-4e90-96d3-60fd13c279d3",
   "metadata": {},
   "source": [
    "# 描述统计"
   ]
  },
  {
   "cell_type": "code",
   "execution_count": 33,
   "id": "07e3b1e0-d969-4c37-acac-5bf1e5ff3843",
   "metadata": {},
   "outputs": [
    {
     "data": {
      "text/plain": [
       "(240380, 17)"
      ]
     },
     "execution_count": 33,
     "metadata": {},
     "output_type": "execute_result"
    },
    {
     "data": {
      "text/html": [
       "<div>\n",
       "<style scoped>\n",
       "    .dataframe tbody tr th:only-of-type {\n",
       "        vertical-align: middle;\n",
       "    }\n",
       "\n",
       "    .dataframe tbody tr th {\n",
       "        vertical-align: top;\n",
       "    }\n",
       "\n",
       "    .dataframe thead th {\n",
       "        text-align: right;\n",
       "    }\n",
       "</style>\n",
       "<table border=\"1\" class=\"dataframe\">\n",
       "  <thead>\n",
       "    <tr style=\"text-align: right;\">\n",
       "      <th></th>\n",
       "      <th>id</th>\n",
       "      <th>year</th>\n",
       "      <th>week</th>\n",
       "      <th>time</th>\n",
       "      <th>prices</th>\n",
       "      <th>max_prices</th>\n",
       "      <th>market_caps</th>\n",
       "      <th>avg_volumes</th>\n",
       "      <th>eow_volumes</th>\n",
       "      <th>std_volumes</th>\n",
       "      <th>unit_volumes</th>\n",
       "      <th>avg_daily_ret</th>\n",
       "      <th>max_daily_ret</th>\n",
       "      <th>std_daily_ret</th>\n",
       "      <th>symbol</th>\n",
       "      <th>name</th>\n",
       "      <th>day</th>\n",
       "    </tr>\n",
       "  </thead>\n",
       "  <tbody>\n",
       "    <tr>\n",
       "      <th>188541</th>\n",
       "      <td>smooth-love-potion</td>\n",
       "      <td>2020</td>\n",
       "      <td>39</td>\n",
       "      <td>2020-09-25</td>\n",
       "      <td>0.047643</td>\n",
       "      <td>0.047643</td>\n",
       "      <td>1.017902e+06</td>\n",
       "      <td>3.081499e+05</td>\n",
       "      <td>3.081499e+05</td>\n",
       "      <td>NaN</td>\n",
       "      <td>6.467858e+06</td>\n",
       "      <td>0.170349</td>\n",
       "      <td>0.170349</td>\n",
       "      <td>NaN</td>\n",
       "      <td>slp</td>\n",
       "      <td>Smooth Love Potion</td>\n",
       "      <td>5</td>\n",
       "    </tr>\n",
       "    <tr>\n",
       "      <th>63175</th>\n",
       "      <td>digix-gold</td>\n",
       "      <td>2022</td>\n",
       "      <td>8</td>\n",
       "      <td>2022-02-25</td>\n",
       "      <td>34.739195</td>\n",
       "      <td>35.477013</td>\n",
       "      <td>1.139202e+06</td>\n",
       "      <td>4.475684e+03</td>\n",
       "      <td>1.509063e+03</td>\n",
       "      <td>6232.85192</td>\n",
       "      <td>1.293822e+02</td>\n",
       "      <td>0.002918</td>\n",
       "      <td>0.037910</td>\n",
       "      <td>0.021725</td>\n",
       "      <td>dgx</td>\n",
       "      <td>Digix Gold</td>\n",
       "      <td>5</td>\n",
       "    </tr>\n",
       "    <tr>\n",
       "      <th>73717</th>\n",
       "      <td>enjincoin</td>\n",
       "      <td>2018</td>\n",
       "      <td>32</td>\n",
       "      <td>2018-08-10</td>\n",
       "      <td>0.045110</td>\n",
       "      <td>0.049613</td>\n",
       "      <td>3.432823e+07</td>\n",
       "      <td>1.334971e+06</td>\n",
       "      <td>1.632973e+06</td>\n",
       "      <td>436474.90675</td>\n",
       "      <td>2.824784e+07</td>\n",
       "      <td>-0.016166</td>\n",
       "      <td>0.043940</td>\n",
       "      <td>0.050045</td>\n",
       "      <td>enj</td>\n",
       "      <td>Enjin Coin</td>\n",
       "      <td>5</td>\n",
       "    </tr>\n",
       "  </tbody>\n",
       "</table>\n",
       "</div>"
      ],
      "text/plain": [
       "                        id  year  week       time     prices  max_prices  \\\n",
       "188541  smooth-love-potion  2020    39 2020-09-25   0.047643    0.047643   \n",
       "63175           digix-gold  2022     8 2022-02-25  34.739195   35.477013   \n",
       "73717            enjincoin  2018    32 2018-08-10   0.045110    0.049613   \n",
       "\n",
       "         market_caps   avg_volumes   eow_volumes   std_volumes  unit_volumes  \\\n",
       "188541  1.017902e+06  3.081499e+05  3.081499e+05           NaN  6.467858e+06   \n",
       "63175   1.139202e+06  4.475684e+03  1.509063e+03    6232.85192  1.293822e+02   \n",
       "73717   3.432823e+07  1.334971e+06  1.632973e+06  436474.90675  2.824784e+07   \n",
       "\n",
       "        avg_daily_ret  max_daily_ret  std_daily_ret symbol  \\\n",
       "188541       0.170349       0.170349            NaN    slp   \n",
       "63175        0.002918       0.037910       0.021725    dgx   \n",
       "73717       -0.016166       0.043940       0.050045    enj   \n",
       "\n",
       "                      name  day  \n",
       "188541  Smooth Love Potion    5  \n",
       "63175           Digix Gold    5  \n",
       "73717           Enjin Coin    5  "
      ]
     },
     "execution_count": 33,
     "metadata": {},
     "output_type": "execute_result"
    }
   ],
   "source": [
    "df = pd.read_parquet(f'{WD}1103_crypto_week.pq')\n",
    "df.shape\n",
    "df.sample(3)"
   ]
  },
  {
   "cell_type": "code",
   "execution_count": 34,
   "id": "a1f25cab-acd0-401c-914a-215f056b5d6b",
   "metadata": {},
   "outputs": [
    {
     "data": {
      "text/plain": [
       "<AxesSubplot:xlabel='year'>"
      ]
     },
     "execution_count": 34,
     "metadata": {},
     "output_type": "execute_result"
    },
    {
     "data": {
      "image/png": "[encoded data removed]",
      "text/plain": [
       "<Figure size 432x288 with 1 Axes>"
      ]
     },
     "metadata": {
      "needs_background": "light"
     },
     "output_type": "display_data"
    }
   ],
   "source": [
    "df.groupby(['year'])['id'].nunique().plot()\n",
    "# LTW (2022 JF)显示2018年是高峰，2020年数量腰斩，CoinGecko的数据显然不支持这个描述\n",
    "# 后续描述统计发现主要是因为CoinGecko对早期数据的覆盖不好\n",
    "# LTW (2022 JF)的研究截止在了2020年中期，错过了一大波后续的加密货币市场热潮，更广的覆盖度、更新的市场数据可以成为本研究的一个贡献"
   ]
  },
  {
   "cell_type": "code",
   "execution_count": 35,
   "id": "b2dc4cd2-bf35-44e2-b5d0-023090927515",
   "metadata": {},
   "outputs": [
    {
     "data": {
      "text/plain": [
       "(102408, 17)"
      ]
     },
     "execution_count": 35,
     "metadata": {},
     "output_type": "execute_result"
    },
    {
     "data": {
      "text/html": [
       "<div>\n",
       "<style scoped>\n",
       "    .dataframe tbody tr th:only-of-type {\n",
       "        vertical-align: middle;\n",
       "    }\n",
       "\n",
       "    .dataframe tbody tr th {\n",
       "        vertical-align: top;\n",
       "    }\n",
       "\n",
       "    .dataframe thead th {\n",
       "        text-align: right;\n",
       "    }\n",
       "</style>\n",
       "<table border=\"1\" class=\"dataframe\">\n",
       "  <thead>\n",
       "    <tr style=\"text-align: right;\">\n",
       "      <th></th>\n",
       "      <th>id</th>\n",
       "      <th>year</th>\n",
       "      <th>week</th>\n",
       "      <th>time</th>\n",
       "      <th>prices</th>\n",
       "      <th>max_prices</th>\n",
       "      <th>market_caps</th>\n",
       "      <th>avg_volumes</th>\n",
       "      <th>eow_volumes</th>\n",
       "      <th>std_volumes</th>\n",
       "      <th>unit_volumes</th>\n",
       "      <th>avg_daily_ret</th>\n",
       "      <th>max_daily_ret</th>\n",
       "      <th>std_daily_ret</th>\n",
       "      <th>symbol</th>\n",
       "      <th>name</th>\n",
       "      <th>day</th>\n",
       "    </tr>\n",
       "  </thead>\n",
       "  <tbody>\n",
       "    <tr>\n",
       "      <th>63348</th>\n",
       "      <td>digixdao</td>\n",
       "      <td>2019</td>\n",
       "      <td>32</td>\n",
       "      <td>2019-08-09</td>\n",
       "      <td>24.957127</td>\n",
       "      <td>24.957127</td>\n",
       "      <td>49.959499</td>\n",
       "      <td>2340.383476</td>\n",
       "      <td>3.975828e+06</td>\n",
       "      <td>7.843939e+05</td>\n",
       "      <td>1.088801e+05</td>\n",
       "      <td>0.045493</td>\n",
       "      <td>0.137034</td>\n",
       "      <td>0.066628</td>\n",
       "      <td>dgd</td>\n",
       "      <td>DigixDAO</td>\n",
       "      <td>5</td>\n",
       "    </tr>\n",
       "    <tr>\n",
       "      <th>89660</th>\n",
       "      <td>gifto</td>\n",
       "      <td>2020</td>\n",
       "      <td>8</td>\n",
       "      <td>2020-02-21</td>\n",
       "      <td>0.012464</td>\n",
       "      <td>0.015271</td>\n",
       "      <td>8.258599</td>\n",
       "      <td>15117.145886</td>\n",
       "      <td>1.330704e+07</td>\n",
       "      <td>6.342967e+06</td>\n",
       "      <td>1.062471e+09</td>\n",
       "      <td>-0.022739</td>\n",
       "      <td>0.039177</td>\n",
       "      <td>0.034520</td>\n",
       "      <td>gto</td>\n",
       "      <td>Gifto</td>\n",
       "      <td>5</td>\n",
       "    </tr>\n",
       "    <tr>\n",
       "      <th>54705</th>\n",
       "      <td>daps-token</td>\n",
       "      <td>2019</td>\n",
       "      <td>52</td>\n",
       "      <td>2019-12-27</td>\n",
       "      <td>0.000059</td>\n",
       "      <td>0.000083</td>\n",
       "      <td>3.530294</td>\n",
       "      <td>64.094782</td>\n",
       "      <td>5.755913e+04</td>\n",
       "      <td>2.757550e+04</td>\n",
       "      <td>1.058021e+09</td>\n",
       "      <td>0.074150</td>\n",
       "      <td>0.352487</td>\n",
       "      <td>0.204270</td>\n",
       "      <td>daps</td>\n",
       "      <td>DAPS Coin</td>\n",
       "      <td>5</td>\n",
       "    </tr>\n",
       "  </tbody>\n",
       "</table>\n",
       "</div>"
      ],
      "text/plain": [
       "               id  year  week       time     prices  max_prices  market_caps  \\\n",
       "63348    digixdao  2019    32 2019-08-09  24.957127   24.957127    49.959499   \n",
       "89660       gifto  2020     8 2020-02-21   0.012464    0.015271     8.258599   \n",
       "54705  daps-token  2019    52 2019-12-27   0.000059    0.000083     3.530294   \n",
       "\n",
       "        avg_volumes   eow_volumes   std_volumes  unit_volumes  avg_daily_ret  \\\n",
       "63348   2340.383476  3.975828e+06  7.843939e+05  1.088801e+05       0.045493   \n",
       "89660  15117.145886  1.330704e+07  6.342967e+06  1.062471e+09      -0.022739   \n",
       "54705     64.094782  5.755913e+04  2.757550e+04  1.058021e+09       0.074150   \n",
       "\n",
       "       max_daily_ret  std_daily_ret symbol       name  day  \n",
       "63348       0.137034       0.066628    dgd   DigixDAO    5  \n",
       "89660       0.039177       0.034520    gto      Gifto    5  \n",
       "54705       0.352487       0.204270   daps  DAPS Coin    5  "
      ]
     },
     "execution_count": 35,
     "metadata": {},
     "output_type": "execute_result"
    }
   ],
   "source": [
    "ltw = df.loc[df['time'].between('2014-01-01', '2020-07-31')].copy()\n",
    "ltw['avg_volumes'] = ltw['avg_volumes'] / 10 ** 3\n",
    "ltw['market_caps'] = ltw['market_caps'] / 10 ** 6\n",
    "ltw.shape\n",
    "ltw.sample(3)"
   ]
  },
  {
   "cell_type": "markdown",
   "id": "02aa90bd-aff9-4f89-a9fd-aa9c3f27b71e",
   "metadata": {},
   "source": [
    "## 规模"
   ]
  },
  {
   "cell_type": "code",
   "execution_count": 36,
   "id": "f1e42fc2-4b17-4e77-a04a-e966f022c0ce",
   "metadata": {},
   "outputs": [
    {
     "data": {
      "text/html": [
       "<div>\n",
       "<style scoped>\n",
       "    .dataframe tbody tr th:only-of-type {\n",
       "        vertical-align: middle;\n",
       "    }\n",
       "\n",
       "    .dataframe tbody tr th {\n",
       "        vertical-align: top;\n",
       "    }\n",
       "\n",
       "    .dataframe thead tr th {\n",
       "        text-align: left;\n",
       "    }\n",
       "\n",
       "    .dataframe thead tr:last-of-type th {\n",
       "        text-align: right;\n",
       "    }\n",
       "</style>\n",
       "<table border=\"1\" class=\"dataframe\">\n",
       "  <thead>\n",
       "    <tr>\n",
       "      <th></th>\n",
       "      <th>id</th>\n",
       "      <th colspan=\"2\" halign=\"left\">market_caps</th>\n",
       "      <th colspan=\"2\" halign=\"left\">avg_volumes</th>\n",
       "    </tr>\n",
       "    <tr>\n",
       "      <th></th>\n",
       "      <th>nunique</th>\n",
       "      <th>mean</th>\n",
       "      <th>median</th>\n",
       "      <th>mean</th>\n",
       "      <th>median</th>\n",
       "    </tr>\n",
       "    <tr>\n",
       "      <th>year</th>\n",
       "      <th></th>\n",
       "      <th></th>\n",
       "      <th></th>\n",
       "      <th></th>\n",
       "      <th></th>\n",
       "    </tr>\n",
       "  </thead>\n",
       "  <tbody>\n",
       "    <tr>\n",
       "      <th>2014</th>\n",
       "      <td>69</td>\n",
       "      <td>279.283936</td>\n",
       "      <td>4.468244</td>\n",
       "      <td>2120.809354</td>\n",
       "      <td>42.684782</td>\n",
       "    </tr>\n",
       "    <tr>\n",
       "      <th>2015</th>\n",
       "      <td>49</td>\n",
       "      <td>182.182583</td>\n",
       "      <td>4.541816</td>\n",
       "      <td>11516.562831</td>\n",
       "      <td>14.577912</td>\n",
       "    </tr>\n",
       "    <tr>\n",
       "      <th>2016</th>\n",
       "      <td>100</td>\n",
       "      <td>199.724404</td>\n",
       "      <td>3.710771</td>\n",
       "      <td>37818.996662</td>\n",
       "      <td>27.363664</td>\n",
       "    </tr>\n",
       "    <tr>\n",
       "      <th>2017</th>\n",
       "      <td>432</td>\n",
       "      <td>711.485454</td>\n",
       "      <td>14.461603</td>\n",
       "      <td>21532.355465</td>\n",
       "      <td>224.851310</td>\n",
       "    </tr>\n",
       "    <tr>\n",
       "      <th>2018</th>\n",
       "      <td>1062</td>\n",
       "      <td>471.558721</td>\n",
       "      <td>12.042173</td>\n",
       "      <td>22456.830961</td>\n",
       "      <td>206.039498</td>\n",
       "    </tr>\n",
       "    <tr>\n",
       "      <th>2019</th>\n",
       "      <td>1045</td>\n",
       "      <td>316.999742</td>\n",
       "      <td>5.392450</td>\n",
       "      <td>104908.383799</td>\n",
       "      <td>260.743527</td>\n",
       "    </tr>\n",
       "    <tr>\n",
       "      <th>2020</th>\n",
       "      <td>914</td>\n",
       "      <td>391.578806</td>\n",
       "      <td>5.167135</td>\n",
       "      <td>183705.527154</td>\n",
       "      <td>384.014437</td>\n",
       "    </tr>\n",
       "  </tbody>\n",
       "</table>\n",
       "</div>"
      ],
      "text/plain": [
       "          id market_caps               avg_volumes            \n",
       "     nunique        mean     median           mean      median\n",
       "year                                                          \n",
       "2014      69  279.283936   4.468244    2120.809354   42.684782\n",
       "2015      49  182.182583   4.541816   11516.562831   14.577912\n",
       "2016     100  199.724404   3.710771   37818.996662   27.363664\n",
       "2017     432  711.485454  14.461603   21532.355465  224.851310\n",
       "2018    1062  471.558721  12.042173   22456.830961  206.039498\n",
       "2019    1045  316.999742   5.392450  104908.383799  260.743527\n",
       "2020     914  391.578806   5.167135  183705.527154  384.014437"
      ]
     },
     "execution_count": 36,
     "metadata": {},
     "output_type": "execute_result"
    }
   ],
   "source": [
    "# LTW (2022 JF) Table 1\n",
    "ltw.groupby(['year']).agg({\n",
    "    'id': 'nunique',\n",
    "    'market_caps': ['mean', 'median'],\n",
    "    'avg_volumes': ['mean', 'median'],\n",
    "})"
   ]
  },
  {
   "attachments": {
    "9e97947b-22c1-40b7-80f9-9b2bb51d35ab.png": {
     "image/png": "[encoded data removed]"
    }
   },
   "cell_type": "markdown",
   "id": "06710648-c027-493c-adca-06b493cd11c8",
   "metadata": {},
   "source": [
    "![image.png](attachment:9e97947b-22c1-40b7-80f9-9b2bb51d35ab.png)\n",
    "\n",
    "大致可比，差异可能主要来自于CoinGecko早期的覆盖度不佳"
   ]
  },
  {
   "cell_type": "markdown",
   "id": "8b4ab281-bbd2-415a-b04a-ba162505dd14",
   "metadata": {
    "tags": []
   },
   "source": [
    "## 回报率"
   ]
  },
  {
   "cell_type": "code",
   "execution_count": 37,
   "id": "16e7995a-3798-4b83-b416-16579b2239c2",
   "metadata": {},
   "outputs": [],
   "source": [
    "ltw['market_caps_l1'] = ltw.groupby('id')['market_caps'].shift()"
   ]
  },
  {
   "cell_type": "markdown",
   "id": "6b65b6db-eec3-444d-914d-8c6c0131bae5",
   "metadata": {},
   "source": [
    "### Log Return"
   ]
  },
  {
   "cell_type": "code",
   "execution_count": 38,
   "id": "1ce92f1a-9e5e-4c55-a4c7-c03f5e53e966",
   "metadata": {},
   "outputs": [],
   "source": [
    "# (ltw['prices'] == 0).sum()"
   ]
  },
  {
   "cell_type": "code",
   "execution_count": 39,
   "id": "5cbbd5fd-946b-45df-b712-e91038b2f38e",
   "metadata": {},
   "outputs": [],
   "source": [
    "# ltw['prices_l1'] = ltw.groupby(['id'])['prices'].shift()\n",
    "# ltw['ret'] = np.log(ltw['prices']) - np.log(ltw['prices_l1'])\n",
    "# ltw['ret'].hist(bins=50)"
   ]
  },
  {
   "cell_type": "code",
   "execution_count": 40,
   "id": "16c1eedd-09a1-4807-949e-0ff6c35b0eba",
   "metadata": {},
   "outputs": [],
   "source": [
    "# ltw.loc[ltw['ret'] <= -2, 'ret'] = -2\n",
    "# ltw.loc[ltw['ret'] >= 2, 'ret'] = 2\n",
    "# ltw['ret'].hist(bins=50)"
   ]
  },
  {
   "cell_type": "markdown",
   "id": "e8ddd18e-9f1d-41d7-8353-72e58e34d1e5",
   "metadata": {},
   "source": [
    "### Pct Return"
   ]
  },
  {
   "cell_type": "code",
   "execution_count": 41,
   "id": "9f449ee8-c2d6-44b9-a4a9-7827647fcaf4",
   "metadata": {},
   "outputs": [
    {
     "data": {
      "text/plain": [
       "<AxesSubplot:>"
      ]
     },
     "execution_count": 41,
     "metadata": {},
     "output_type": "execute_result"
    },
    {
     "data": {
      "image/png": "[encoded data removed]",
      "text/plain": [
       "<Figure size 432x288 with 1 Axes>"
      ]
     },
     "metadata": {
      "needs_background": "light"
     },
     "output_type": "display_data"
    }
   ],
   "source": [
    "ltw['ret'] = ltw.groupby(['id'])['prices'].pct_change()\n",
    "ltw['ret'].hist(bins=50)"
   ]
  },
  {
   "cell_type": "code",
   "execution_count": 42,
   "id": "2b4c2925-53e6-453d-b917-c5a0369e48af",
   "metadata": {},
   "outputs": [
    {
     "data": {
      "text/plain": [
       "<AxesSubplot:>"
      ]
     },
     "execution_count": 42,
     "metadata": {},
     "output_type": "execute_result"
    },
    {
     "data": {
      "image/png": "[encoded data removed]",
      "text/plain": [
       "<Figure size 432x288 with 1 Axes>"
      ]
     },
     "metadata": {
      "needs_background": "light"
     },
     "output_type": "display_data"
    }
   ],
   "source": [
    "# ltw.loc[ltw['ret'] <= ltw['ret'].quantile(0.01), 'ret'] = ltw['ret'].quantile(0.01)\n",
    "ltw.loc[ltw['ret'] >= ltw['ret'].quantile(0.99), 'ret'] = ltw['ret'].quantile(0.99)\n",
    "ltw['ret'].hist(bins=50)"
   ]
  },
  {
   "cell_type": "code",
   "execution_count": 43,
   "id": "76847d35-73b7-42d1-b478-c5db83351de6",
   "metadata": {},
   "outputs": [
    {
     "data": {
      "text/html": [
       "<div>\n",
       "<style scoped>\n",
       "    .dataframe tbody tr th:only-of-type {\n",
       "        vertical-align: middle;\n",
       "    }\n",
       "\n",
       "    .dataframe tbody tr th {\n",
       "        vertical-align: top;\n",
       "    }\n",
       "\n",
       "    .dataframe thead th {\n",
       "        text-align: right;\n",
       "    }\n",
       "</style>\n",
       "<table border=\"1\" class=\"dataframe\">\n",
       "  <thead>\n",
       "    <tr style=\"text-align: right;\">\n",
       "      <th></th>\n",
       "      <th>id</th>\n",
       "      <th>year</th>\n",
       "      <th>week</th>\n",
       "      <th>time</th>\n",
       "      <th>prices</th>\n",
       "      <th>max_prices</th>\n",
       "      <th>market_caps</th>\n",
       "      <th>avg_volumes</th>\n",
       "      <th>eow_volumes</th>\n",
       "      <th>std_volumes</th>\n",
       "      <th>unit_volumes</th>\n",
       "      <th>avg_daily_ret</th>\n",
       "      <th>max_daily_ret</th>\n",
       "      <th>std_daily_ret</th>\n",
       "      <th>symbol</th>\n",
       "      <th>name</th>\n",
       "      <th>day</th>\n",
       "      <th>market_caps_l1</th>\n",
       "      <th>ret</th>\n",
       "    </tr>\n",
       "  </thead>\n",
       "  <tbody>\n",
       "    <tr>\n",
       "      <th>23678</th>\n",
       "      <td>bitcoin</td>\n",
       "      <td>2020</td>\n",
       "      <td>29</td>\n",
       "      <td>2020-07-17</td>\n",
       "      <td>9136.483376</td>\n",
       "      <td>9297.479636</td>\n",
       "      <td>168496.782961</td>\n",
       "      <td>1.775497e+07</td>\n",
       "      <td>1.876048e+10</td>\n",
       "      <td>1.131628e+09</td>\n",
       "      <td>1.922800e+06</td>\n",
       "      <td>-0.001528</td>\n",
       "      <td>0.006840</td>\n",
       "      <td>0.005727</td>\n",
       "      <td>btc</td>\n",
       "      <td>Bitcoin</td>\n",
       "      <td>5</td>\n",
       "      <td>170198.606144</td>\n",
       "      <td>-0.010744</td>\n",
       "    </tr>\n",
       "    <tr>\n",
       "      <th>23679</th>\n",
       "      <td>bitcoin</td>\n",
       "      <td>2020</td>\n",
       "      <td>30</td>\n",
       "      <td>2020-07-24</td>\n",
       "      <td>9589.817719</td>\n",
       "      <td>9589.817719</td>\n",
       "      <td>176821.599774</td>\n",
       "      <td>1.886022e+07</td>\n",
       "      <td>2.696615e+10</td>\n",
       "      <td>3.971590e+09</td>\n",
       "      <td>2.019836e+06</td>\n",
       "      <td>0.006980</td>\n",
       "      <td>0.024142</td>\n",
       "      <td>0.009445</td>\n",
       "      <td>btc</td>\n",
       "      <td>Bitcoin</td>\n",
       "      <td>5</td>\n",
       "      <td>168496.782961</td>\n",
       "      <td>0.049618</td>\n",
       "    </tr>\n",
       "    <tr>\n",
       "      <th>23680</th>\n",
       "      <td>bitcoin</td>\n",
       "      <td>2020</td>\n",
       "      <td>31</td>\n",
       "      <td>2020-07-31</td>\n",
       "      <td>11116.307164</td>\n",
       "      <td>11116.307164</td>\n",
       "      <td>205200.775318</td>\n",
       "      <td>2.864144e+07</td>\n",
       "      <td>2.226538e+10</td>\n",
       "      <td>7.068406e+09</td>\n",
       "      <td>2.766322e+06</td>\n",
       "      <td>0.021916</td>\n",
       "      <td>0.104426</td>\n",
       "      <td>0.038199</td>\n",
       "      <td>btc</td>\n",
       "      <td>Bitcoin</td>\n",
       "      <td>5</td>\n",
       "      <td>176821.599774</td>\n",
       "      <td>0.159178</td>\n",
       "    </tr>\n",
       "  </tbody>\n",
       "</table>\n",
       "</div>"
      ],
      "text/plain": [
       "            id  year  week       time        prices    max_prices  \\\n",
       "23678  bitcoin  2020    29 2020-07-17   9136.483376   9297.479636   \n",
       "23679  bitcoin  2020    30 2020-07-24   9589.817719   9589.817719   \n",
       "23680  bitcoin  2020    31 2020-07-31  11116.307164  11116.307164   \n",
       "\n",
       "         market_caps   avg_volumes   eow_volumes   std_volumes  unit_volumes  \\\n",
       "23678  168496.782961  1.775497e+07  1.876048e+10  1.131628e+09  1.922800e+06   \n",
       "23679  176821.599774  1.886022e+07  2.696615e+10  3.971590e+09  2.019836e+06   \n",
       "23680  205200.775318  2.864144e+07  2.226538e+10  7.068406e+09  2.766322e+06   \n",
       "\n",
       "       avg_daily_ret  max_daily_ret  std_daily_ret symbol     name  day  \\\n",
       "23678      -0.001528       0.006840       0.005727    btc  Bitcoin    5   \n",
       "23679       0.006980       0.024142       0.009445    btc  Bitcoin    5   \n",
       "23680       0.021916       0.104426       0.038199    btc  Bitcoin    5   \n",
       "\n",
       "       market_caps_l1       ret  \n",
       "23678   170198.606144 -0.010744  \n",
       "23679   168496.782961  0.049618  \n",
       "23680   176821.599774  0.159178  "
      ]
     },
     "execution_count": 43,
     "metadata": {},
     "output_type": "execute_result"
    }
   ],
   "source": [
    "ltw.loc[ltw['symbol'] == 'btc'].tail(3)"
   ]
  },
  {
   "cell_type": "markdown",
   "id": "a1eb6fe4-69f2-4eac-8d15-e48aae85833c",
   "metadata": {},
   "source": [
    "### 对比"
   ]
  },
  {
   "cell_type": "code",
   "execution_count": 44,
   "id": "0cc6295f-dc09-4416-bbcc-297a32b86c6c",
   "metadata": {},
   "outputs": [
    {
     "data": {
      "text/html": [
       "<div>\n",
       "<style scoped>\n",
       "    .dataframe tbody tr th:only-of-type {\n",
       "        vertical-align: middle;\n",
       "    }\n",
       "\n",
       "    .dataframe tbody tr th {\n",
       "        vertical-align: top;\n",
       "    }\n",
       "\n",
       "    .dataframe thead th {\n",
       "        text-align: right;\n",
       "    }\n",
       "</style>\n",
       "<table border=\"1\" class=\"dataframe\">\n",
       "  <thead>\n",
       "    <tr style=\"text-align: right;\">\n",
       "      <th></th>\n",
       "      <th></th>\n",
       "      <th>wgt_ret</th>\n",
       "      <th>market_caps_l1</th>\n",
       "      <th>mkt</th>\n",
       "    </tr>\n",
       "    <tr>\n",
       "      <th>year</th>\n",
       "      <th>week</th>\n",
       "      <th></th>\n",
       "      <th></th>\n",
       "      <th></th>\n",
       "    </tr>\n",
       "  </thead>\n",
       "  <tbody>\n",
       "    <tr>\n",
       "      <th rowspan=\"3\" valign=\"top\">2020</th>\n",
       "      <th>29</th>\n",
       "      <td>-2335.355541</td>\n",
       "      <td>275702.388465</td>\n",
       "      <td>-0.008471</td>\n",
       "    </tr>\n",
       "    <tr>\n",
       "      <th>30</th>\n",
       "      <td>16781.746301</td>\n",
       "      <td>274226.096927</td>\n",
       "      <td>0.061197</td>\n",
       "    </tr>\n",
       "    <tr>\n",
       "      <th>31</th>\n",
       "      <td>40444.128895</td>\n",
       "      <td>291618.271536</td>\n",
       "      <td>0.138689</td>\n",
       "    </tr>\n",
       "  </tbody>\n",
       "</table>\n",
       "</div>"
      ],
      "text/plain": [
       "                wgt_ret  market_caps_l1       mkt\n",
       "year week                                        \n",
       "2020 29    -2335.355541   275702.388465 -0.008471\n",
       "     30    16781.746301   274226.096927  0.061197\n",
       "     31    40444.128895   291618.271536  0.138689"
      ]
     },
     "execution_count": 44,
     "metadata": {},
     "output_type": "execute_result"
    },
    {
     "data": {
      "text/plain": [
       "(344, 3)"
      ]
     },
     "execution_count": 44,
     "metadata": {},
     "output_type": "execute_result"
    },
    {
     "data": {
      "text/html": [
       "<div>\n",
       "<style scoped>\n",
       "    .dataframe tbody tr th:only-of-type {\n",
       "        vertical-align: middle;\n",
       "    }\n",
       "\n",
       "    .dataframe tbody tr th {\n",
       "        vertical-align: top;\n",
       "    }\n",
       "\n",
       "    .dataframe thead th {\n",
       "        text-align: right;\n",
       "    }\n",
       "</style>\n",
       "<table border=\"1\" class=\"dataframe\">\n",
       "  <thead>\n",
       "    <tr style=\"text-align: right;\">\n",
       "      <th></th>\n",
       "      <th></th>\n",
       "      <th>mkt</th>\n",
       "    </tr>\n",
       "    <tr>\n",
       "      <th>year</th>\n",
       "      <th>week</th>\n",
       "      <th></th>\n",
       "    </tr>\n",
       "  </thead>\n",
       "  <tbody>\n",
       "    <tr>\n",
       "      <th>2015</th>\n",
       "      <th>4</th>\n",
       "      <td>0.112492</td>\n",
       "    </tr>\n",
       "    <tr>\n",
       "      <th>2017</th>\n",
       "      <th>38</th>\n",
       "      <td>0.013155</td>\n",
       "    </tr>\n",
       "    <tr>\n",
       "      <th>2015</th>\n",
       "      <th>39</th>\n",
       "      <td>-0.001201</td>\n",
       "    </tr>\n",
       "  </tbody>\n",
       "</table>\n",
       "</div>"
      ],
      "text/plain": [
       "                mkt\n",
       "year week          \n",
       "2015 4     0.112492\n",
       "2017 38    0.013155\n",
       "2015 39   -0.001201"
      ]
     },
     "execution_count": 44,
     "metadata": {},
     "output_type": "execute_result"
    }
   ],
   "source": [
    "mkt = ltw.copy()\n",
    "mkt['wgt_ret'] = mkt['market_caps_l1'] * mkt['ret']  # 注意此处应用上一期的market cap作为权重\n",
    "mkt = mkt.groupby(['year', 'week'])[['wgt_ret', 'market_caps_l1']].sum()\n",
    "mkt['mkt'] = mkt['wgt_ret'] / mkt['market_caps_l1']\n",
    "mkt.tail(3)\n",
    "mkt.shape\n",
    "mkt = mkt.loc[:, ['mkt']]\n",
    "mkt.sample(3)"
   ]
  },
  {
   "cell_type": "code",
   "execution_count": 45,
   "id": "48e700e6-9bba-425b-9567-1b5ef45bef6f",
   "metadata": {},
   "outputs": [
    {
     "data": {
      "text/plain": [
       "(344, 1)"
      ]
     },
     "execution_count": 45,
     "metadata": {},
     "output_type": "execute_result"
    },
    {
     "data": {
      "text/plain": [
       "(344, 1)"
      ]
     },
     "execution_count": 45,
     "metadata": {},
     "output_type": "execute_result"
    },
    {
     "data": {
      "text/plain": [
       "(260, 1)"
      ]
     },
     "execution_count": 45,
     "metadata": {},
     "output_type": "execute_result"
    },
    {
     "data": {
      "text/plain": [
       "(344, 4)"
      ]
     },
     "execution_count": 45,
     "metadata": {},
     "output_type": "execute_result"
    },
    {
     "data": {
      "text/html": [
       "<div>\n",
       "<style scoped>\n",
       "    .dataframe tbody tr th:only-of-type {\n",
       "        vertical-align: middle;\n",
       "    }\n",
       "\n",
       "    .dataframe tbody tr th {\n",
       "        vertical-align: top;\n",
       "    }\n",
       "\n",
       "    .dataframe thead th {\n",
       "        text-align: right;\n",
       "    }\n",
       "</style>\n",
       "<table border=\"1\" class=\"dataframe\">\n",
       "  <thead>\n",
       "    <tr style=\"text-align: right;\">\n",
       "      <th></th>\n",
       "      <th></th>\n",
       "      <th>mkt</th>\n",
       "      <th>btc</th>\n",
       "      <th>xrp</th>\n",
       "      <th>eth</th>\n",
       "    </tr>\n",
       "    <tr>\n",
       "      <th>year</th>\n",
       "      <th>week</th>\n",
       "      <th></th>\n",
       "      <th></th>\n",
       "      <th></th>\n",
       "      <th></th>\n",
       "    </tr>\n",
       "  </thead>\n",
       "  <tbody>\n",
       "    <tr>\n",
       "      <th>2017</th>\n",
       "      <th>3</th>\n",
       "      <td>0.080317</td>\n",
       "      <td>0.081213</td>\n",
       "      <td>0.011034</td>\n",
       "      <td>0.093169</td>\n",
       "    </tr>\n",
       "    <tr>\n",
       "      <th>2019</th>\n",
       "      <th>47</th>\n",
       "      <td>-0.122139</td>\n",
       "      <td>-0.117837</td>\n",
       "      <td>-0.093169</td>\n",
       "      <td>-0.127913</td>\n",
       "    </tr>\n",
       "    <tr>\n",
       "      <th>2015</th>\n",
       "      <th>29</th>\n",
       "      <td>-0.034587</td>\n",
       "      <td>-0.023330</td>\n",
       "      <td>-0.093365</td>\n",
       "      <td>NaN</td>\n",
       "    </tr>\n",
       "  </tbody>\n",
       "</table>\n",
       "</div>"
      ],
      "text/plain": [
       "                mkt       btc       xrp       eth\n",
       "year week                                        \n",
       "2017 3     0.080317  0.081213  0.011034  0.093169\n",
       "2019 47   -0.122139 -0.117837 -0.093169 -0.127913\n",
       "2015 29   -0.034587 -0.023330 -0.093365       NaN"
      ]
     },
     "execution_count": 45,
     "metadata": {},
     "output_type": "execute_result"
    }
   ],
   "source": [
    "rets = {'mkt': mkt}\n",
    "\n",
    "for sym in ['btc', 'xrp', 'eth']:\n",
    "    tmp = ltw.loc[ltw['symbol'] == sym, ['year', 'week', 'ret']].set_index(['year', 'week']).rename(columns={'ret': sym})\n",
    "    tmp.shape\n",
    "    rets[sym] = tmp\n",
    "\n",
    "rets = pd.concat(rets.values(), axis=1)\n",
    "rets.shape\n",
    "rets.sample(3)"
   ]
  },
  {
   "cell_type": "code",
   "execution_count": 46,
   "id": "24c72461-5f63-4943-99b4-cbf5cb8eca9b",
   "metadata": {},
   "outputs": [
    {
     "data": {
      "text/html": [
       "<div>\n",
       "<style scoped>\n",
       "    .dataframe tbody tr th:only-of-type {\n",
       "        vertical-align: middle;\n",
       "    }\n",
       "\n",
       "    .dataframe tbody tr th {\n",
       "        vertical-align: top;\n",
       "    }\n",
       "\n",
       "    .dataframe thead th {\n",
       "        text-align: right;\n",
       "    }\n",
       "</style>\n",
       "<table border=\"1\" class=\"dataframe\">\n",
       "  <thead>\n",
       "    <tr style=\"text-align: right;\">\n",
       "      <th></th>\n",
       "      <th>count</th>\n",
       "      <th>mean</th>\n",
       "      <th>std</th>\n",
       "      <th>min</th>\n",
       "      <th>50%</th>\n",
       "      <th>max</th>\n",
       "      <th>skewness</th>\n",
       "      <th>kurtosis</th>\n",
       "    </tr>\n",
       "  </thead>\n",
       "  <tbody>\n",
       "    <tr>\n",
       "      <th>mkt</th>\n",
       "      <td>343.0</td>\n",
       "      <td>0.011204</td>\n",
       "      <td>0.100153</td>\n",
       "      <td>-0.447446</td>\n",
       "      <td>0.006756</td>\n",
       "      <td>0.353736</td>\n",
       "      <td>0.039375</td>\n",
       "      <td>1.771694</td>\n",
       "    </tr>\n",
       "    <tr>\n",
       "      <th>btc</th>\n",
       "      <td>343.0</td>\n",
       "      <td>0.012732</td>\n",
       "      <td>0.101918</td>\n",
       "      <td>-0.431014</td>\n",
       "      <td>0.007820</td>\n",
       "      <td>0.537689</td>\n",
       "      <td>0.387283</td>\n",
       "      <td>3.074798</td>\n",
       "    </tr>\n",
       "    <tr>\n",
       "      <th>xrp</th>\n",
       "      <td>343.0</td>\n",
       "      <td>0.022692</td>\n",
       "      <td>0.214870</td>\n",
       "      <td>-0.504629</td>\n",
       "      <td>-0.015577</td>\n",
       "      <td>1.185344</td>\n",
       "      <td>2.886260</td>\n",
       "      <td>11.495856</td>\n",
       "    </tr>\n",
       "    <tr>\n",
       "      <th>eth</th>\n",
       "      <td>259.0</td>\n",
       "      <td>0.036111</td>\n",
       "      <td>0.198088</td>\n",
       "      <td>-0.515094</td>\n",
       "      <td>-0.001362</td>\n",
       "      <td>1.185344</td>\n",
       "      <td>2.252047</td>\n",
       "      <td>9.606756</td>\n",
       "    </tr>\n",
       "  </tbody>\n",
       "</table>\n",
       "</div>"
      ],
      "text/plain": [
       "     count      mean       std       min       50%       max  skewness  \\\n",
       "mkt  343.0  0.011204  0.100153 -0.447446  0.006756  0.353736  0.039375   \n",
       "btc  343.0  0.012732  0.101918 -0.431014  0.007820  0.537689  0.387283   \n",
       "xrp  343.0  0.022692  0.214870 -0.504629 -0.015577  1.185344  2.886260   \n",
       "eth  259.0  0.036111  0.198088 -0.515094 -0.001362  1.185344  2.252047   \n",
       "\n",
       "      kurtosis  \n",
       "mkt   1.771694  \n",
       "btc   3.074798  \n",
       "xrp  11.495856  \n",
       "eth   9.606756  "
      ]
     },
     "execution_count": 46,
     "metadata": {},
     "output_type": "execute_result"
    }
   ],
   "source": [
    "pd.concat([rets.describe(percentiles=[]).T, rets.skew().rename('skewness').to_frame(), rets.kurtosis().rename('kurtosis').to_frame()], axis=1)\n",
    "# 基本能匹配，市场回报率偏差大一些，可能是winsorize的选择不同"
   ]
  },
  {
   "attachments": {
    "31261434-2a4f-496f-9d8e-c3a29674305f.png": {
     "image/png": "[encoded data removed]"
    }
   },
   "cell_type": "markdown",
   "id": "fdf81d85-b8de-49f8-9561-46be1c940cd0",
   "metadata": {},
   "source": [
    "![image.png](attachment:31261434-2a4f-496f-9d8e-c3a29674305f.png)"
   ]
  },
  {
   "cell_type": "markdown",
   "id": "83fa811d-8bba-4e7f-95af-8c1423e5fc05",
   "metadata": {},
   "source": [
    "## 走势"
   ]
  },
  {
   "cell_type": "code",
   "execution_count": 47,
   "id": "232a00b4-daff-4ada-8084-41eb1c4baf00",
   "metadata": {},
   "outputs": [],
   "source": [
    "rets += 1"
   ]
  },
  {
   "cell_type": "code",
   "execution_count": 48,
   "id": "5447d339-495b-4ca1-8d6d-6c524ac10620",
   "metadata": {},
   "outputs": [],
   "source": [
    "cum_rets = rets.cumprod() - 1"
   ]
  },
  {
   "cell_type": "code",
   "execution_count": 49,
   "id": "0a19d8cc-2fc7-42b7-861f-f8e2935f737f",
   "metadata": {},
   "outputs": [
    {
     "data": {
      "text/plain": [
       "<AxesSubplot:xlabel='year,week'>"
      ]
     },
     "execution_count": 49,
     "metadata": {},
     "output_type": "execute_result"
    },
    {
     "data": {
      "image/png": "[encoded data removed]",
      "text/plain": [
       "<Figure size 432x288 with 1 Axes>"
      ]
     },
     "metadata": {
      "needs_background": "light"
     },
     "output_type": "display_data"
    }
   ],
   "source": [
    "cum_rets[['mkt', 'btc']].plot()"
   ]
  },
  {
   "cell_type": "code",
   "execution_count": 50,
   "id": "b42cd8d3-d63e-446f-ba86-614ebf6cbcfb",
   "metadata": {},
   "outputs": [
    {
     "data": {
      "text/plain": [
       "<AxesSubplot:xlabel='year,week'>"
      ]
     },
     "execution_count": 50,
     "metadata": {},
     "output_type": "execute_result"
    },
    {
     "data": {
      "image/png": "[encoded data removed]",
      "text/plain": [
       "<Figure size 432x288 with 1 Axes>"
      ]
     },
     "metadata": {
      "needs_background": "light"
     },
     "output_type": "display_data"
    }
   ],
   "source": [
    "cum_rets[['mkt', 'xrp']].plot()"
   ]
  },
  {
   "cell_type": "code",
   "execution_count": 51,
   "id": "48f68ed4-a368-4b5a-9da4-5da6fc2fc88b",
   "metadata": {},
   "outputs": [
    {
     "data": {
      "text/plain": [
       "<AxesSubplot:xlabel='year,week'>"
      ]
     },
     "execution_count": 51,
     "metadata": {},
     "output_type": "execute_result"
    },
    {
     "data": {
      "image/png": "[encoded data removed]",
      "text/plain": [
       "<Figure size 432x288 with 1 Axes>"
      ]
     },
     "metadata": {
      "needs_background": "light"
     },
     "output_type": "display_data"
    }
   ],
   "source": [
    "cum_rets[['mkt', 'eth']].plot()"
   ]
  },
  {
   "cell_type": "markdown",
   "id": "e958095a-bfbf-453d-8f60-76a7c511030e",
   "metadata": {},
   "source": [
    "基本与LTW (2022 JF)匹配，数据可用。"
   ]
  },
  {
   "cell_type": "code",
   "execution_count": null,
   "id": "8c9760ca-8076-4d83-afc7-9e8983fd04d4",
   "metadata": {},
   "outputs": [],
   "source": []
  }
 ],
 "metadata": {
  "kernelspec": {
   "display_name": "Python 3 (ipykernel)",
   "language": "python",
   "name": "python3"
  },
  "language_info": {
   "codemirror_mode": {
    "name": "ipython",
    "version": 3
   },
   "file_extension": ".py",
   "mimetype": "text/x-python",
   "name": "python",
   "nbconvert_exporter": "python",
   "pygments_lexer": "ipython3",
   "version": "3.9.7"
  }
 },
 "nbformat": 4,
 "nbformat_minor": 5
}
