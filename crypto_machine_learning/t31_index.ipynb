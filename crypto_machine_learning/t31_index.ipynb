{
 "cells": [
  {
   "cell_type": "markdown",
   "id": "c2dcad13-7da5-4720-8d18-d7430d60bf81",
   "metadata": {},
   "source": [
    "<p style=\"font-size:200%;font-weight:bold\">股指数据处理</p>\n",
    "\n",
    "- 作者：丁文治\n",
    "- 日期：2022年3月6日"
   ]
  },
  {
   "cell_type": "code",
   "execution_count": null,
   "id": "91aaf1ee-0073-4c3f-aebe-c98b94937eb8",
   "metadata": {},
   "outputs": [],
   "source": []
  }
 ],
 "metadata": {
  "kernelspec": {
   "display_name": "Python 3 (ipykernel)",
   "language": "python",
   "name": "python3"
  },
  "language_info": {
   "codemirror_mode": {
    "name": "ipython",
    "version": 3
   },
   "file_extension": ".py",
   "mimetype": "text/x-python",
   "name": "python",
   "nbconvert_exporter": "python",
   "pygments_lexer": "ipython3",
   "version": "3.9.10"
  }
 },
 "nbformat": 4,
 "nbformat_minor": 5
}
