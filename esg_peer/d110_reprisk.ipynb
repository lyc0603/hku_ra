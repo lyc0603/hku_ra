{
 "cells": [
  {
   "cell_type": "markdown",
   "id": "28c5254b-ea4c-4d3a-a565-12d886ca521c",
   "metadata": {},
   "source": [
    "<p style=\"font-size:200%;font-weight:bold\">RepRisk</p>\n",
    "\n",
    "- Author: Wenzhi Ding\n",
    "- Date: 2022-03-18\n",
    "\n",
    "This notebook is to deal with RepRisk data."
   ]
  },
  {
   "cell_type": "code",
   "execution_count": 4,
   "id": "d62d1065-8b8c-426c-998c-0b0e94a8f6ae",
   "metadata": {},
   "outputs": [],
   "source": [
    "import pandas as pd"
   ]
  },
  {
   "cell_type": "code",
   "execution_count": 2,
   "id": "fe03e5c6-110b-4dca-bd2d-9d9329b9077c",
   "metadata": {},
   "outputs": [],
   "source": [
    "DB = \"/home/data/\"\n",
    "ROOT = \"/home/team_crypto/2022_esg_peer/\"\n",
    "\n",
    "RD = f\"{ROOT}02_rdata/\"\n",
    "WD = f\"{ROOT}03_wdata/\""
   ]
  },
  {
   "cell_type": "markdown",
   "id": "31a44c74-fbf2-45bd-9c7c-d8716125f3cc",
   "metadata": {},
   "source": [
    "# Read Data"
   ]
  },
  {
   "cell_type": "code",
   "execution_count": 3,
   "id": "ef4f60cf-f703-41cb-9ce2-3a1925862770",
   "metadata": {},
   "outputs": [
    {
     "data": {
      "text/plain": [
       "(717658, 13)"
      ]
     },
     "execution_count": 3,
     "metadata": {},
     "output_type": "execute_result"
    },
    {
     "data": {
      "text/html": [
       "<div>\n",
       "<style scoped>\n",
       "    .dataframe tbody tr th:only-of-type {\n",
       "        vertical-align: middle;\n",
       "    }\n",
       "\n",
       "    .dataframe tbody tr th {\n",
       "        vertical-align: top;\n",
       "    }\n",
       "\n",
       "    .dataframe thead th {\n",
       "        text-align: right;\n",
       "    }\n",
       "</style>\n",
       "<table border=\"1\" class=\"dataframe\">\n",
       "  <thead>\n",
       "    <tr style=\"text-align: right;\">\n",
       "      <th></th>\n",
       "      <th>RepRisk_ID</th>\n",
       "      <th>RepRisk_story_ID</th>\n",
       "      <th>RepRisk_substory_ID</th>\n",
       "      <th>news_date</th>\n",
       "      <th>source_language</th>\n",
       "      <th>related_issues</th>\n",
       "      <th>related_topic_tags</th>\n",
       "      <th>related_UNGC_principles</th>\n",
       "      <th>related_countries</th>\n",
       "      <th>related_countries_codes</th>\n",
       "      <th>severity</th>\n",
       "      <th>novelty</th>\n",
       "      <th>reach</th>\n",
       "    </tr>\n",
       "  </thead>\n",
       "  <tbody>\n",
       "    <tr>\n",
       "      <th>249263</th>\n",
       "      <td>196014</td>\n",
       "      <td>321018</td>\n",
       "      <td>427013</td>\n",
       "      <td>20180510</td>\n",
       "      <td>English</td>\n",
       "      <td>Violation of national legislation</td>\n",
       "      <td>None</td>\n",
       "      <td>None</td>\n",
       "      <td>China</td>\n",
       "      <td>CN</td>\n",
       "      <td>1</td>\n",
       "      <td>1</td>\n",
       "      <td>3</td>\n",
       "    </tr>\n",
       "    <tr>\n",
       "      <th>317893</th>\n",
       "      <td>24</td>\n",
       "      <td>161940</td>\n",
       "      <td>202738</td>\n",
       "      <td>20160608</td>\n",
       "      <td>Portuguese</td>\n",
       "      <td>Waste issues</td>\n",
       "      <td>None</td>\n",
       "      <td>Principle 7 (Environment);Principle 8 (Environ...</td>\n",
       "      <td>Brazil</td>\n",
       "      <td>BR</td>\n",
       "      <td>2</td>\n",
       "      <td>1</td>\n",
       "      <td>2</td>\n",
       "    </tr>\n",
       "    <tr>\n",
       "      <th>437724</th>\n",
       "      <td>389</td>\n",
       "      <td>28053</td>\n",
       "      <td>34682</td>\n",
       "      <td>20120215</td>\n",
       "      <td>English</td>\n",
       "      <td>Impacts on landscapes, ecosystems and biodiver...</td>\n",
       "      <td>None</td>\n",
       "      <td>Principle 7 (Environment);Principle 8 (Environ...</td>\n",
       "      <td>Honduras</td>\n",
       "      <td>HN</td>\n",
       "      <td>1</td>\n",
       "      <td>1</td>\n",
       "      <td>1</td>\n",
       "    </tr>\n",
       "  </tbody>\n",
       "</table>\n",
       "</div>"
      ],
      "text/plain": [
       "        RepRisk_ID  RepRisk_story_ID  RepRisk_substory_ID  news_date  \\\n",
       "249263      196014            321018               427013   20180510   \n",
       "317893          24            161940               202738   20160608   \n",
       "437724         389             28053                34682   20120215   \n",
       "\n",
       "       source_language                                     related_issues  \\\n",
       "249263         English                  Violation of national legislation   \n",
       "317893      Portuguese                                       Waste issues   \n",
       "437724         English  Impacts on landscapes, ecosystems and biodiver...   \n",
       "\n",
       "       related_topic_tags                            related_UNGC_principles  \\\n",
       "249263               None                                               None   \n",
       "317893               None  Principle 7 (Environment);Principle 8 (Environ...   \n",
       "437724               None  Principle 7 (Environment);Principle 8 (Environ...   \n",
       "\n",
       "       related_countries related_countries_codes  severity  novelty  reach  \n",
       "249263             China                      CN         1        1      3  \n",
       "317893            Brazil                      BR         2        1      2  \n",
       "437724          Honduras                      HN         1        1      1  "
      ]
     },
     "execution_count": 3,
     "metadata": {},
     "output_type": "execute_result"
    }
   ],
   "source": [
    "news = pd.read_parquet(f'{DB}reprisk/pm_news_data.pq')  # Firm-News\n",
    "news.shape\n",
    "news.sample(3)"
   ]
  },
  {
   "cell_type": "code",
   "execution_count": 18,
   "id": "0256e9d8-a394-414e-933f-894f57369e27",
   "metadata": {},
   "outputs": [
    {
     "data": {
      "text/plain": [
       "20070102"
      ]
     },
     "execution_count": 18,
     "metadata": {},
     "output_type": "execute_result"
    },
    {
     "data": {
      "text/plain": [
       "20201231"
      ]
     },
     "execution_count": 18,
     "metadata": {},
     "output_type": "execute_result"
    }
   ],
   "source": [
    "news['news_date'].min()\n",
    "news['news_date'].max()"
   ]
  },
  {
   "cell_type": "code",
   "execution_count": 21,
   "id": "ab7a90e2-0b76-43e4-9b1a-f8a062a98dc3",
   "metadata": {},
   "outputs": [
    {
     "data": {
      "text/html": [
       "<div>\n",
       "<style scoped>\n",
       "    .dataframe tbody tr th:only-of-type {\n",
       "        vertical-align: middle;\n",
       "    }\n",
       "\n",
       "    .dataframe tbody tr th {\n",
       "        vertical-align: top;\n",
       "    }\n",
       "\n",
       "    .dataframe thead th {\n",
       "        text-align: right;\n",
       "    }\n",
       "</style>\n",
       "<table border=\"1\" class=\"dataframe\">\n",
       "  <thead>\n",
       "    <tr style=\"text-align: right;\">\n",
       "      <th></th>\n",
       "      <th>year</th>\n",
       "      <th>gvkey1</th>\n",
       "      <th>gvkey2</th>\n",
       "      <th>score</th>\n",
       "    </tr>\n",
       "  </thead>\n",
       "  <tbody>\n",
       "    <tr>\n",
       "      <th>7951887</th>\n",
       "      <td>2002</td>\n",
       "      <td>10244</td>\n",
       "      <td>9699</td>\n",
       "      <td>0.0353</td>\n",
       "    </tr>\n",
       "    <tr>\n",
       "      <th>11397025</th>\n",
       "      <td>1996</td>\n",
       "      <td>13427</td>\n",
       "      <td>9867</td>\n",
       "      <td>0.0216</td>\n",
       "    </tr>\n",
       "    <tr>\n",
       "      <th>37319976</th>\n",
       "      <td>2012</td>\n",
       "      <td>66155</td>\n",
       "      <td>186893</td>\n",
       "      <td>0.0219</td>\n",
       "    </tr>\n",
       "  </tbody>\n",
       "</table>\n",
       "</div>"
      ],
      "text/plain": [
       "          year  gvkey1  gvkey2   score\n",
       "7951887   2002   10244    9699  0.0353\n",
       "11397025  1996   13427    9867  0.0216\n",
       "37319976  2012   66155  186893  0.0219"
      ]
     },
     "execution_count": 21,
     "metadata": {},
     "output_type": "execute_result"
    }
   ],
   "source": [
    "df = pd.read_parquet('/home/data/tnic/tnic2_data.pq')\n",
    "df.sample(3)"
   ]
  },
  {
   "cell_type": "code",
   "execution_count": 23,
   "id": "993bd117-a98d-43d7-8d3b-0e5220a008f8",
   "metadata": {},
   "outputs": [
    {
     "data": {
      "text/html": [
       "<div>\n",
       "<style scoped>\n",
       "    .dataframe tbody tr th:only-of-type {\n",
       "        vertical-align: middle;\n",
       "    }\n",
       "\n",
       "    .dataframe tbody tr th {\n",
       "        vertical-align: top;\n",
       "    }\n",
       "\n",
       "    .dataframe thead th {\n",
       "        text-align: right;\n",
       "    }\n",
       "</style>\n",
       "<table border=\"1\" class=\"dataframe\">\n",
       "  <thead>\n",
       "    <tr style=\"text-align: right;\">\n",
       "      <th></th>\n",
       "      <th>year</th>\n",
       "      <th>gvkey1</th>\n",
       "      <th>gvkey2</th>\n",
       "      <th>score</th>\n",
       "    </tr>\n",
       "  </thead>\n",
       "  <tbody>\n",
       "    <tr>\n",
       "      <th>7951885</th>\n",
       "      <td>2000</td>\n",
       "      <td>10244</td>\n",
       "      <td>9699</td>\n",
       "      <td>0.0307</td>\n",
       "    </tr>\n",
       "    <tr>\n",
       "      <th>7951886</th>\n",
       "      <td>2001</td>\n",
       "      <td>10244</td>\n",
       "      <td>9699</td>\n",
       "      <td>0.0385</td>\n",
       "    </tr>\n",
       "    <tr>\n",
       "      <th>7951887</th>\n",
       "      <td>2002</td>\n",
       "      <td>10244</td>\n",
       "      <td>9699</td>\n",
       "      <td>0.0353</td>\n",
       "    </tr>\n",
       "    <tr>\n",
       "      <th>7951888</th>\n",
       "      <td>2003</td>\n",
       "      <td>10244</td>\n",
       "      <td>9699</td>\n",
       "      <td>0.0161</td>\n",
       "    </tr>\n",
       "    <tr>\n",
       "      <th>7951889</th>\n",
       "      <td>2004</td>\n",
       "      <td>10244</td>\n",
       "      <td>9699</td>\n",
       "      <td>0.0109</td>\n",
       "    </tr>\n",
       "    <tr>\n",
       "      <th>7951890</th>\n",
       "      <td>2005</td>\n",
       "      <td>10244</td>\n",
       "      <td>9699</td>\n",
       "      <td>0.0257</td>\n",
       "    </tr>\n",
       "    <tr>\n",
       "      <th>7951891</th>\n",
       "      <td>2006</td>\n",
       "      <td>10244</td>\n",
       "      <td>9699</td>\n",
       "      <td>0.0297</td>\n",
       "    </tr>\n",
       "  </tbody>\n",
       "</table>\n",
       "</div>"
      ],
      "text/plain": [
       "         year  gvkey1  gvkey2   score\n",
       "7951885  2000   10244    9699  0.0307\n",
       "7951886  2001   10244    9699  0.0385\n",
       "7951887  2002   10244    9699  0.0353\n",
       "7951888  2003   10244    9699  0.0161\n",
       "7951889  2004   10244    9699  0.0109\n",
       "7951890  2005   10244    9699  0.0257\n",
       "7951891  2006   10244    9699  0.0297"
      ]
     },
     "execution_count": 23,
     "metadata": {},
     "output_type": "execute_result"
    }
   ],
   "source": [
    "df.loc[(df['gvkey1'] == 10244) & (df['gvkey2'] == 9699)]"
   ]
  },
  {
   "cell_type": "code",
   "execution_count": 25,
   "id": "94735c62-9b62-40e1-afef-54c8baa9cece",
   "metadata": {},
   "outputs": [
    {
     "data": {
      "text/html": [
       "<div>\n",
       "<style scoped>\n",
       "    .dataframe tbody tr th:only-of-type {\n",
       "        vertical-align: middle;\n",
       "    }\n",
       "\n",
       "    .dataframe tbody tr th {\n",
       "        vertical-align: top;\n",
       "    }\n",
       "\n",
       "    .dataframe thead th {\n",
       "        text-align: right;\n",
       "    }\n",
       "</style>\n",
       "<table border=\"1\" class=\"dataframe\">\n",
       "  <thead>\n",
       "    <tr style=\"text-align: right;\">\n",
       "      <th></th>\n",
       "      <th>year</th>\n",
       "      <th>gvkey1</th>\n",
       "      <th>gvkey2</th>\n",
       "      <th>score</th>\n",
       "    </tr>\n",
       "  </thead>\n",
       "  <tbody>\n",
       "    <tr>\n",
       "      <th>7488121</th>\n",
       "      <td>2006</td>\n",
       "      <td>9699</td>\n",
       "      <td>118577</td>\n",
       "      <td>0.0928</td>\n",
       "    </tr>\n",
       "    <tr>\n",
       "      <th>7487309</th>\n",
       "      <td>2006</td>\n",
       "      <td>9699</td>\n",
       "      <td>10530</td>\n",
       "      <td>0.0503</td>\n",
       "    </tr>\n",
       "    <tr>\n",
       "      <th>7487551</th>\n",
       "      <td>2006</td>\n",
       "      <td>9699</td>\n",
       "      <td>13839</td>\n",
       "      <td>0.0458</td>\n",
       "    </tr>\n",
       "    <tr>\n",
       "      <th>7488041</th>\n",
       "      <td>2006</td>\n",
       "      <td>9699</td>\n",
       "      <td>64162</td>\n",
       "      <td>0.0384</td>\n",
       "    </tr>\n",
       "    <tr>\n",
       "      <th>7486865</th>\n",
       "      <td>2006</td>\n",
       "      <td>9699</td>\n",
       "      <td>4213</td>\n",
       "      <td>0.0337</td>\n",
       "    </tr>\n",
       "    <tr>\n",
       "      <th>7487110</th>\n",
       "      <td>2006</td>\n",
       "      <td>9699</td>\n",
       "      <td>7409</td>\n",
       "      <td>0.0299</td>\n",
       "    </tr>\n",
       "    <tr>\n",
       "      <th>7487273</th>\n",
       "      <td>2006</td>\n",
       "      <td>9699</td>\n",
       "      <td>10244</td>\n",
       "      <td>0.0297</td>\n",
       "    </tr>\n",
       "    <tr>\n",
       "      <th>7488147</th>\n",
       "      <td>2006</td>\n",
       "      <td>9699</td>\n",
       "      <td>128663</td>\n",
       "      <td>0.0272</td>\n",
       "    </tr>\n",
       "    <tr>\n",
       "      <th>7487614</th>\n",
       "      <td>2006</td>\n",
       "      <td>9699</td>\n",
       "      <td>15267</td>\n",
       "      <td>0.0250</td>\n",
       "    </tr>\n",
       "    <tr>\n",
       "      <th>7486698</th>\n",
       "      <td>2006</td>\n",
       "      <td>9699</td>\n",
       "      <td>2220</td>\n",
       "      <td>0.0233</td>\n",
       "    </tr>\n",
       "    <tr>\n",
       "      <th>7488203</th>\n",
       "      <td>2006</td>\n",
       "      <td>9699</td>\n",
       "      <td>150221</td>\n",
       "      <td>0.0230</td>\n",
       "    </tr>\n",
       "    <tr>\n",
       "      <th>7488087</th>\n",
       "      <td>2006</td>\n",
       "      <td>9699</td>\n",
       "      <td>65905</td>\n",
       "      <td>0.0225</td>\n",
       "    </tr>\n",
       "    <tr>\n",
       "      <th>7487961</th>\n",
       "      <td>2006</td>\n",
       "      <td>9699</td>\n",
       "      <td>61494</td>\n",
       "      <td>0.0176</td>\n",
       "    </tr>\n",
       "    <tr>\n",
       "      <th>7488054</th>\n",
       "      <td>2006</td>\n",
       "      <td>9699</td>\n",
       "      <td>64848</td>\n",
       "      <td>0.0141</td>\n",
       "    </tr>\n",
       "    <tr>\n",
       "      <th>7488209</th>\n",
       "      <td>2006</td>\n",
       "      <td>9699</td>\n",
       "      <td>160255</td>\n",
       "      <td>0.0132</td>\n",
       "    </tr>\n",
       "    <tr>\n",
       "      <th>7486630</th>\n",
       "      <td>2006</td>\n",
       "      <td>9699</td>\n",
       "      <td>1979</td>\n",
       "      <td>0.0128</td>\n",
       "    </tr>\n",
       "    <tr>\n",
       "      <th>7487863</th>\n",
       "      <td>2006</td>\n",
       "      <td>9699</td>\n",
       "      <td>29040</td>\n",
       "      <td>0.0104</td>\n",
       "    </tr>\n",
       "    <tr>\n",
       "      <th>7487425</th>\n",
       "      <td>2006</td>\n",
       "      <td>9699</td>\n",
       "      <td>12433</td>\n",
       "      <td>0.0086</td>\n",
       "    </tr>\n",
       "    <tr>\n",
       "      <th>7486673</th>\n",
       "      <td>2006</td>\n",
       "      <td>9699</td>\n",
       "      <td>2111</td>\n",
       "      <td>0.0084</td>\n",
       "    </tr>\n",
       "    <tr>\n",
       "      <th>7486791</th>\n",
       "      <td>2006</td>\n",
       "      <td>9699</td>\n",
       "      <td>3532</td>\n",
       "      <td>0.0071</td>\n",
       "    </tr>\n",
       "    <tr>\n",
       "      <th>7488143</th>\n",
       "      <td>2006</td>\n",
       "      <td>9699</td>\n",
       "      <td>127455</td>\n",
       "      <td>0.0070</td>\n",
       "    </tr>\n",
       "    <tr>\n",
       "      <th>7488023</th>\n",
       "      <td>2006</td>\n",
       "      <td>9699</td>\n",
       "      <td>63866</td>\n",
       "      <td>0.0065</td>\n",
       "    </tr>\n",
       "    <tr>\n",
       "      <th>7487302</th>\n",
       "      <td>2006</td>\n",
       "      <td>9699</td>\n",
       "      <td>10441</td>\n",
       "      <td>0.0063</td>\n",
       "    </tr>\n",
       "    <tr>\n",
       "      <th>7488002</th>\n",
       "      <td>2006</td>\n",
       "      <td>9699</td>\n",
       "      <td>63527</td>\n",
       "      <td>0.0054</td>\n",
       "    </tr>\n",
       "    <tr>\n",
       "      <th>7488157</th>\n",
       "      <td>2006</td>\n",
       "      <td>9699</td>\n",
       "      <td>133731</td>\n",
       "      <td>0.0049</td>\n",
       "    </tr>\n",
       "    <tr>\n",
       "      <th>7487352</th>\n",
       "      <td>2006</td>\n",
       "      <td>9699</td>\n",
       "      <td>11012</td>\n",
       "      <td>0.0044</td>\n",
       "    </tr>\n",
       "    <tr>\n",
       "      <th>7488111</th>\n",
       "      <td>2006</td>\n",
       "      <td>9699</td>\n",
       "      <td>118081</td>\n",
       "      <td>0.0036</td>\n",
       "    </tr>\n",
       "    <tr>\n",
       "      <th>7488187</th>\n",
       "      <td>2006</td>\n",
       "      <td>9699</td>\n",
       "      <td>140445</td>\n",
       "      <td>0.0032</td>\n",
       "    </tr>\n",
       "    <tr>\n",
       "      <th>7488176</th>\n",
       "      <td>2006</td>\n",
       "      <td>9699</td>\n",
       "      <td>138205</td>\n",
       "      <td>0.0018</td>\n",
       "    </tr>\n",
       "    <tr>\n",
       "      <th>47111320</th>\n",
       "      <td>2006</td>\n",
       "      <td>9699</td>\n",
       "      <td>9699</td>\n",
       "      <td>NaN</td>\n",
       "    </tr>\n",
       "  </tbody>\n",
       "</table>\n",
       "</div>"
      ],
      "text/plain": [
       "          year  gvkey1  gvkey2   score\n",
       "7488121   2006    9699  118577  0.0928\n",
       "7487309   2006    9699   10530  0.0503\n",
       "7487551   2006    9699   13839  0.0458\n",
       "7488041   2006    9699   64162  0.0384\n",
       "7486865   2006    9699    4213  0.0337\n",
       "7487110   2006    9699    7409  0.0299\n",
       "7487273   2006    9699   10244  0.0297\n",
       "7488147   2006    9699  128663  0.0272\n",
       "7487614   2006    9699   15267  0.0250\n",
       "7486698   2006    9699    2220  0.0233\n",
       "7488203   2006    9699  150221  0.0230\n",
       "7488087   2006    9699   65905  0.0225\n",
       "7487961   2006    9699   61494  0.0176\n",
       "7488054   2006    9699   64848  0.0141\n",
       "7488209   2006    9699  160255  0.0132\n",
       "7486630   2006    9699    1979  0.0128\n",
       "7487863   2006    9699   29040  0.0104\n",
       "7487425   2006    9699   12433  0.0086\n",
       "7486673   2006    9699    2111  0.0084\n",
       "7486791   2006    9699    3532  0.0071\n",
       "7488143   2006    9699  127455  0.0070\n",
       "7488023   2006    9699   63866  0.0065\n",
       "7487302   2006    9699   10441  0.0063\n",
       "7488002   2006    9699   63527  0.0054\n",
       "7488157   2006    9699  133731  0.0049\n",
       "7487352   2006    9699   11012  0.0044\n",
       "7488111   2006    9699  118081  0.0036\n",
       "7488187   2006    9699  140445  0.0032\n",
       "7488176   2006    9699  138205  0.0018\n",
       "47111320  2006    9699    9699     NaN"
      ]
     },
     "execution_count": 25,
     "metadata": {},
     "output_type": "execute_result"
    }
   ],
   "source": [
    "df.loc[(df['gvkey1'] == 9699) & (df['year'] == 2006)].sort_values(['score'], ascending=False)"
   ]
  },
  {
   "cell_type": "code",
   "execution_count": null,
   "id": "f29cb70d-1a8b-4e27-b526-a1e26ca91d1f",
   "metadata": {},
   "outputs": [],
   "source": []
  },
  {
   "cell_type": "code",
   "execution_count": 22,
   "id": "a5c1322c-9258-4e86-b594-31df75456ab8",
   "metadata": {},
   "outputs": [
    {
     "data": {
      "text/plain": [
       "<AxesSubplot:>"
      ]
     },
     "execution_count": 22,
     "metadata": {},
     "output_type": "execute_result"
    },
    {
     "data": {
      "image/png": "[encoded data removed]",
      "text/plain": [
       "<Figure size 432x288 with 1 Axes>"
      ]
     },
     "metadata": {
      "needs_background": "light"
     },
     "output_type": "display_data"
    }
   ],
   "source": [
    "df['score'].hist(bins=50)"
   ]
  },
  {
   "cell_type": "code",
   "execution_count": 26,
   "id": "8525dedf-d65b-44fd-9135-5931a212deb5",
   "metadata": {},
   "outputs": [
    {
     "data": {
      "text/plain": [
       "(30505452, 11)"
      ]
     },
     "execution_count": 26,
     "metadata": {},
     "output_type": "execute_result"
    },
    {
     "data": {
      "text/html": [
       "<div>\n",
       "<style scoped>\n",
       "    .dataframe tbody tr th:only-of-type {\n",
       "        vertical-align: middle;\n",
       "    }\n",
       "\n",
       "    .dataframe tbody tr th {\n",
       "        vertical-align: top;\n",
       "    }\n",
       "\n",
       "    .dataframe thead th {\n",
       "        text-align: right;\n",
       "    }\n",
       "</style>\n",
       "<table border=\"1\" class=\"dataframe\">\n",
       "  <thead>\n",
       "    <tr style=\"text-align: right;\">\n",
       "      <th></th>\n",
       "      <th>RepRisk_ID</th>\n",
       "      <th>date</th>\n",
       "      <th>current_RRI</th>\n",
       "      <th>RRI_trend</th>\n",
       "      <th>peak_RRI</th>\n",
       "      <th>peak_RRI_date</th>\n",
       "      <th>RepRisk_rating</th>\n",
       "      <th>country_sector_average</th>\n",
       "      <th>environmental_percentage</th>\n",
       "      <th>social_percentage</th>\n",
       "      <th>governance_percentage</th>\n",
       "    </tr>\n",
       "  </thead>\n",
       "  <tbody>\n",
       "    <tr>\n",
       "      <th>10949919</th>\n",
       "      <td>2052709</td>\n",
       "      <td>20080430</td>\n",
       "      <td>0</td>\n",
       "      <td>0</td>\n",
       "      <td>0</td>\n",
       "      <td>NaN</td>\n",
       "      <td>AA</td>\n",
       "      <td>27</td>\n",
       "      <td>0%</td>\n",
       "      <td>0%</td>\n",
       "      <td>0%</td>\n",
       "    </tr>\n",
       "    <tr>\n",
       "      <th>467368</th>\n",
       "      <td>102453</td>\n",
       "      <td>20200531</td>\n",
       "      <td>0</td>\n",
       "      <td>0</td>\n",
       "      <td>0</td>\n",
       "      <td>NaN</td>\n",
       "      <td>AA</td>\n",
       "      <td>21</td>\n",
       "      <td>0%</td>\n",
       "      <td>0%</td>\n",
       "      <td>0%</td>\n",
       "    </tr>\n",
       "    <tr>\n",
       "      <th>21076254</th>\n",
       "      <td>415011</td>\n",
       "      <td>20190731</td>\n",
       "      <td>0</td>\n",
       "      <td>0</td>\n",
       "      <td>0</td>\n",
       "      <td>NaN</td>\n",
       "      <td>AAA</td>\n",
       "      <td>19</td>\n",
       "      <td>0%</td>\n",
       "      <td>0%</td>\n",
       "      <td>0%</td>\n",
       "    </tr>\n",
       "  </tbody>\n",
       "</table>\n",
       "</div>"
      ],
      "text/plain": [
       "          RepRisk_ID      date  current_RRI  RRI_trend  peak_RRI  \\\n",
       "10949919     2052709  20080430            0          0         0   \n",
       "467368        102453  20200531            0          0         0   \n",
       "21076254      415011  20190731            0          0         0   \n",
       "\n",
       "          peak_RRI_date RepRisk_rating  country_sector_average  \\\n",
       "10949919            NaN             AA                      27   \n",
       "467368              NaN             AA                      21   \n",
       "21076254            NaN            AAA                      19   \n",
       "\n",
       "         environmental_percentage social_percentage governance_percentage  \n",
       "10949919                       0%                0%                    0%  \n",
       "467368                         0%                0%                    0%  \n",
       "21076254                       0%                0%                    0%  "
      ]
     },
     "execution_count": 26,
     "metadata": {},
     "output_type": "execute_result"
    }
   ],
   "source": [
    "ri = pd.read_parquet(f'{DB}reprisk/pm_rri_data.pq')  # Firm-Date RepRisk Index. This can be used as ESG score.\n",
    "ri.shape\n",
    "ri.sample(3)"
   ]
  },
  {
   "cell_type": "code",
   "execution_count": 12,
   "id": "027c6d8c-b701-4a5f-994d-8e170ebc88a9",
   "metadata": {},
   "outputs": [],
   "source": [
    "#iss = pd.read_parquet(f'{DB}reprisk/pm_issue_data.pq')  # Firm-Date issue involvement. This can be used for heterogeneity test.\n",
    "#iss.shape\n",
    "#iss.sample(3)"
   ]
  },
  {
   "cell_type": "code",
   "execution_count": 11,
   "id": "cd18729c-2f46-49a5-9822-fcd951092b51",
   "metadata": {},
   "outputs": [],
   "source": [
    "#tag = pd.read_parquet(f'{DB}reprisk/pm_tag_data.pq')  # Firm-Date tag involvement. This can be used for heterogeneity test.\n",
    "#tag.shape\n",
    "#tag.sample(3)"
   ]
  },
  {
   "cell_type": "code",
   "execution_count": 10,
   "id": "7de3c918-0e5a-4856-a35f-8a07260448d3",
   "metadata": {},
   "outputs": [],
   "source": [
    "#loc = pd.read_parquet(f'{DB}reprisk/pm_location_data.pq')  # Firm-Date location involvement. This can be used for heterogeneity test.\n",
    "#loc.shape\n",
    "#loc.sample(3)"
   ]
  },
  {
   "cell_type": "code",
   "execution_count": 9,
   "id": "dcbff1e5-96da-4a6c-9bab-399b515abd16",
   "metadata": {},
   "outputs": [],
   "source": [
    "#ungc = pd.read_parquet(f'{DB}reprisk/pm_ungc_data.pq')  # Firm-Date UNGC principle involvement. This can be used for heterogeneity test.\n",
    "#ungc.shape\n",
    "#ungc.sample(3)"
   ]
  },
  {
   "cell_type": "code",
   "execution_count": 9,
   "id": "3b5274f8-90ea-4a2d-a9fb-13b8693db8b9",
   "metadata": {},
   "outputs": [
    {
     "data": {
      "text/plain": [
       "(1038179, 3)"
      ]
     },
     "execution_count": 9,
     "metadata": {},
     "output_type": "execute_result"
    },
    {
     "data": {
      "text/html": [
       "<div>\n",
       "<style scoped>\n",
       "    .dataframe tbody tr th:only-of-type {\n",
       "        vertical-align: middle;\n",
       "    }\n",
       "\n",
       "    .dataframe tbody tr th {\n",
       "        vertical-align: top;\n",
       "    }\n",
       "\n",
       "    .dataframe thead th {\n",
       "        text-align: right;\n",
       "    }\n",
       "</style>\n",
       "<table border=\"1\" class=\"dataframe\">\n",
       "  <thead>\n",
       "    <tr style=\"text-align: right;\">\n",
       "      <th></th>\n",
       "      <th>RepRisk_ID</th>\n",
       "      <th>name</th>\n",
       "      <th>ISIN</th>\n",
       "    </tr>\n",
       "  </thead>\n",
       "  <tbody>\n",
       "    <tr>\n",
       "      <th>120651</th>\n",
       "      <td>129018</td>\n",
       "      <td>Ferrellgas LP (Blue Rhino)</td>\n",
       "      <td>US315292AE29</td>\n",
       "    </tr>\n",
       "    <tr>\n",
       "      <th>727843</th>\n",
       "      <td>474564</td>\n",
       "      <td>Washington Mutual Mortgage</td>\n",
       "      <td>US939336CU55</td>\n",
       "    </tr>\n",
       "    <tr>\n",
       "      <th>476522</th>\n",
       "      <td>2223085</td>\n",
       "      <td>Wings of Lebanon SAL</td>\n",
       "      <td>None</td>\n",
       "    </tr>\n",
       "  </tbody>\n",
       "</table>\n",
       "</div>"
      ],
      "text/plain": [
       "        RepRisk_ID                        name          ISIN\n",
       "120651      129018  Ferrellgas LP (Blue Rhino)  US315292AE29\n",
       "727843      474564  Washington Mutual Mortgage  US939336CU55\n",
       "476522     2223085        Wings of Lebanon SAL          None"
      ]
     },
     "execution_count": 9,
     "metadata": {},
     "output_type": "execute_result"
    }
   ],
   "source": [
    "clk = pd.read_parquet(f'{DB}reprisk/reprisk_company_lookup.pq')  # Firm-ISIN link. Firm can have mulitple ISINs, so as multiple obs.\n",
    "clk.shape\n",
    "clk.sample(3)"
   ]
  },
  {
   "cell_type": "code",
   "execution_count": 14,
   "id": "243ab865-b976-45c5-ae13-33f2d06f5c75",
   "metadata": {},
   "outputs": [
    {
     "data": {
      "text/plain": [
       "480227"
      ]
     },
     "execution_count": 14,
     "metadata": {},
     "output_type": "execute_result"
    },
    {
     "data": {
      "text/plain": [
       "480227"
      ]
     },
     "execution_count": 14,
     "metadata": {},
     "output_type": "execute_result"
    },
    {
     "data": {
      "text/plain": [
       "0"
      ]
     },
     "execution_count": 14,
     "metadata": {},
     "output_type": "execute_result"
    }
   ],
   "source": [
    "clk.duplicated(subset=['RepRisk_ID']).sum()\n",
    "clk.duplicated(subset=['RepRisk_ID', 'name']).sum()\n",
    "clk.duplicated().sum()"
   ]
  },
  {
   "cell_type": "code",
   "execution_count": 16,
   "id": "1db4aeec-9cc6-41dc-ac59-6ee80c9b262c",
   "metadata": {},
   "outputs": [
    {
     "data": {
      "text/plain": [
       "(181582, 9)"
      ]
     },
     "execution_count": 16,
     "metadata": {},
     "output_type": "execute_result"
    },
    {
     "data": {
      "text/html": [
       "<div>\n",
       "<style scoped>\n",
       "    .dataframe tbody tr th:only-of-type {\n",
       "        vertical-align: middle;\n",
       "    }\n",
       "\n",
       "    .dataframe tbody tr th {\n",
       "        vertical-align: top;\n",
       "    }\n",
       "\n",
       "    .dataframe thead th {\n",
       "        text-align: right;\n",
       "    }\n",
       "</style>\n",
       "<table border=\"1\" class=\"dataframe\">\n",
       "  <thead>\n",
       "    <tr style=\"text-align: right;\">\n",
       "      <th></th>\n",
       "      <th>RepRisk_ID</th>\n",
       "      <th>name</th>\n",
       "      <th>headquarter_country</th>\n",
       "      <th>headquarter_country_code</th>\n",
       "      <th>sectors</th>\n",
       "      <th>url</th>\n",
       "      <th>all_ISINs</th>\n",
       "      <th>primary_ISIN</th>\n",
       "      <th>No_reported_risk_exposure</th>\n",
       "    </tr>\n",
       "  </thead>\n",
       "  <tbody>\n",
       "    <tr>\n",
       "      <th>18229</th>\n",
       "      <td>128416</td>\n",
       "      <td>Barking Havering and Redbridge University Hosp...</td>\n",
       "      <td>United Kingdom of Great Britain and Northern I...</td>\n",
       "      <td>GB</td>\n",
       "      <td>Health Care Equipment and Services</td>\n",
       "      <td>http://www.bhrhospitals.nhs.uk/</td>\n",
       "      <td>None</td>\n",
       "      <td>None</td>\n",
       "      <td>False</td>\n",
       "    </tr>\n",
       "    <tr>\n",
       "      <th>126186</th>\n",
       "      <td>420465</td>\n",
       "      <td>1MG Technologies Pvt Ltd</td>\n",
       "      <td>India</td>\n",
       "      <td>IN</td>\n",
       "      <td>Retail</td>\n",
       "      <td>https://www.1mg.com/</td>\n",
       "      <td>None</td>\n",
       "      <td>None</td>\n",
       "      <td>False</td>\n",
       "    </tr>\n",
       "    <tr>\n",
       "      <th>136077</th>\n",
       "      <td>4873</td>\n",
       "      <td>Cavazos Trucking Inc</td>\n",
       "      <td>United States of America</td>\n",
       "      <td>US</td>\n",
       "      <td>Industrial Transportation</td>\n",
       "      <td>None</td>\n",
       "      <td>None</td>\n",
       "      <td>None</td>\n",
       "      <td>False</td>\n",
       "    </tr>\n",
       "  </tbody>\n",
       "</table>\n",
       "</div>"
      ],
      "text/plain": [
       "        RepRisk_ID                                               name  \\\n",
       "18229       128416  Barking Havering and Redbridge University Hosp...   \n",
       "126186      420465                           1MG Technologies Pvt Ltd   \n",
       "136077        4873                               Cavazos Trucking Inc   \n",
       "\n",
       "                                      headquarter_country  \\\n",
       "18229   United Kingdom of Great Britain and Northern I...   \n",
       "126186                                              India   \n",
       "136077                           United States of America   \n",
       "\n",
       "       headquarter_country_code                             sectors  \\\n",
       "18229                        GB  Health Care Equipment and Services   \n",
       "126186                       IN                              Retail   \n",
       "136077                       US           Industrial Transportation   \n",
       "\n",
       "                                    url all_ISINs primary_ISIN  \\\n",
       "18229   http://www.bhrhospitals.nhs.uk/      None         None   \n",
       "126186             https://www.1mg.com/      None         None   \n",
       "136077                             None      None         None   \n",
       "\n",
       "        No_reported_risk_exposure  \n",
       "18229                       False  \n",
       "126186                      False  \n",
       "136077                      False  "
      ]
     },
     "execution_count": 16,
     "metadata": {},
     "output_type": "execute_result"
    }
   ],
   "source": [
    "cid = pd.read_parquet(f'{DB}reprisk/pm_company_identifiers.pq')  # Firm-level aggregate info\n",
    "cid.shape\n",
    "cid.sample(3)"
   ]
  },
  {
   "cell_type": "code",
   "execution_count": 17,
   "id": "246b3e79-b6a9-4272-97bc-92664effc7c0",
   "metadata": {},
   "outputs": [
    {
     "data": {
      "text/plain": [
       "0"
      ]
     },
     "execution_count": 17,
     "metadata": {},
     "output_type": "execute_result"
    }
   ],
   "source": [
    "cid.duplicated(subset=['RepRisk_ID']).sum()"
   ]
  },
  {
   "cell_type": "code",
   "execution_count": null,
   "id": "e1880eee-41e4-43d7-8678-4fa385f56811",
   "metadata": {},
   "outputs": [],
   "source": []
  }
 ],
 "metadata": {
  "kernelspec": {
   "display_name": "Python 3 (ipykernel)",
   "language": "python",
   "name": "python3"
  },
  "language_info": {
   "codemirror_mode": {
    "name": "ipython",
    "version": 3
   },
   "file_extension": ".py",
   "mimetype": "text/x-python",
   "name": "python",
   "nbconvert_exporter": "python",
   "pygments_lexer": "ipython3",
   "version": "3.9.7"
  },
  "toc-autonumbering": true
 },
 "nbformat": 4,
 "nbformat_minor": 5
}
