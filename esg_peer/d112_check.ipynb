{
 "cells": [
  {
   "cell_type": "markdown",
   "id": "f8c27ced-925c-4dc3-b80b-63fd45de8477",
   "metadata": {},
   "source": [
    "<p style=\"font-size:200%;font-weight:bold\">Check Unmatched Keys</p>\n",
    "\n",
    "- Author: Wenzhi Ding\n",
    "- Date: 2022-03-23\n",
    "\n",
    "This notebook is to check the unmatched keys between Compustat and ASSET4/KLD/RepRisk."
   ]
  },
  {
   "cell_type": "code",
   "execution_count": 349,
   "id": "2d8054a9-518a-4cbf-9460-af94ffa6a0b5",
   "metadata": {},
   "outputs": [
    {
     "name": "stdout",
     "output_type": "stream",
     "text": [
      "INFO: Pandarallel will run on 6 workers.\n",
      "INFO: Pandarallel will use Memory file system to transfer data between the main process and workers.\n"
     ]
    }
   ],
   "source": [
    "import re\n",
    "import heapq\n",
    "\n",
    "import pandas as pd\n",
    "import numpy as np\n",
    "import jellyfish\n",
    "from pandarallel import pandarallel\n",
    "\n",
    "pandarallel.initialize(progress_bar=True, nb_workers=6)\n",
    "\n",
    "DB = \"/home/data/\"\n",
    "ROOT = \"/home/team_crypto/2022_esg_peer/\"\n",
    "\n",
    "RD = f\"{ROOT}02_rdata/\"\n",
    "WD = f\"{ROOT}03_wdata/\""
   ]
  },
  {
   "cell_type": "markdown",
   "id": "dc146337-6dc0-4365-8dc1-8bc439777a8a",
   "metadata": {},
   "source": [
    "# RepRisk"
   ]
  },
  {
   "cell_type": "code",
   "execution_count": 3,
   "id": "0f31a760-c419-432d-a9e9-99bd01ec5c34",
   "metadata": {},
   "outputs": [
    {
     "data": {
      "text/plain": [
       "(830760, 12)"
      ]
     },
     "execution_count": 3,
     "metadata": {},
     "output_type": "execute_result"
    },
    {
     "data": {
      "text/html": [
       "<div>\n",
       "<style scoped>\n",
       "    .dataframe tbody tr th:only-of-type {\n",
       "        vertical-align: middle;\n",
       "    }\n",
       "\n",
       "    .dataframe tbody tr th {\n",
       "        vertical-align: top;\n",
       "    }\n",
       "\n",
       "    .dataframe thead th {\n",
       "        text-align: right;\n",
       "    }\n",
       "</style>\n",
       "<table border=\"1\" class=\"dataframe\">\n",
       "  <thead>\n",
       "    <tr style=\"text-align: right;\">\n",
       "      <th></th>\n",
       "      <th>RepRisk_ID</th>\n",
       "      <th>date</th>\n",
       "      <th>current_RRI</th>\n",
       "      <th>name</th>\n",
       "      <th>all_ISINs</th>\n",
       "      <th>primary_ISIN</th>\n",
       "      <th>headquarter_country_code</th>\n",
       "      <th>iscu</th>\n",
       "      <th>tic</th>\n",
       "      <th>cusip</th>\n",
       "      <th>conm</th>\n",
       "      <th>_merge</th>\n",
       "    </tr>\n",
       "  </thead>\n",
       "  <tbody>\n",
       "    <tr>\n",
       "      <th>257709</th>\n",
       "      <td>17669</td>\n",
       "      <td>2020-10-31</td>\n",
       "      <td>0</td>\n",
       "      <td>Alco Inc</td>\n",
       "      <td>US0137511020</td>\n",
       "      <td>US0137511020</td>\n",
       "      <td>US</td>\n",
       "      <td>01375110</td>\n",
       "      <td>None</td>\n",
       "      <td>None</td>\n",
       "      <td>None</td>\n",
       "      <td>left_only</td>\n",
       "    </tr>\n",
       "    <tr>\n",
       "      <th>342519</th>\n",
       "      <td>22764</td>\n",
       "      <td>2018-04-30</td>\n",
       "      <td>6</td>\n",
       "      <td>Public Service Co of Colorado</td>\n",
       "      <td>US744448CV12 US744448CU39 US744448CT65 US74444...</td>\n",
       "      <td>US744448AH46</td>\n",
       "      <td>US</td>\n",
       "      <td>744448AH</td>\n",
       "      <td>None</td>\n",
       "      <td>None</td>\n",
       "      <td>None</td>\n",
       "      <td>left_only</td>\n",
       "    </tr>\n",
       "    <tr>\n",
       "      <th>594968</th>\n",
       "      <td>64413</td>\n",
       "      <td>2013-09-30</td>\n",
       "      <td>10</td>\n",
       "      <td>Biglari Holdings Inc</td>\n",
       "      <td>US08986R1196 US08986R1279 US08986RAA95 US08986...</td>\n",
       "      <td>US08986R1014</td>\n",
       "      <td>US</td>\n",
       "      <td>08986R10</td>\n",
       "      <td>None</td>\n",
       "      <td>None</td>\n",
       "      <td>None</td>\n",
       "      <td>left_only</td>\n",
       "    </tr>\n",
       "  </tbody>\n",
       "</table>\n",
       "</div>"
      ],
      "text/plain": [
       "        RepRisk_ID       date  current_RRI                           name  \\\n",
       "257709       17669 2020-10-31            0                       Alco Inc   \n",
       "342519       22764 2018-04-30            6  Public Service Co of Colorado   \n",
       "594968       64413 2013-09-30           10           Biglari Holdings Inc   \n",
       "\n",
       "                                                all_ISINs  primary_ISIN  \\\n",
       "257709                                       US0137511020  US0137511020   \n",
       "342519  US744448CV12 US744448CU39 US744448CT65 US74444...  US744448AH46   \n",
       "594968  US08986R1196 US08986R1279 US08986RAA95 US08986...  US08986R1014   \n",
       "\n",
       "       headquarter_country_code      iscu   tic cusip  conm     _merge  \n",
       "257709                       US  01375110  None  None  None  left_only  \n",
       "342519                       US  744448AH  None  None  None  left_only  \n",
       "594968                       US  08986R10  None  None  None  left_only  "
      ]
     },
     "execution_count": 3,
     "metadata": {},
     "output_type": "execute_result"
    }
   ],
   "source": [
    "df = pd.read_parquet(f'{WD}reprisk_compustat.pq')\n",
    "df.shape\n",
    "df.sample(3)"
   ]
  },
  {
   "cell_type": "code",
   "execution_count": 7,
   "id": "ff28dc77-5b7c-48cf-a827-3078519905e4",
   "metadata": {},
   "outputs": [
    {
     "data": {
      "text/plain": [
       "0"
      ]
     },
     "execution_count": 7,
     "metadata": {},
     "output_type": "execute_result"
    }
   ],
   "source": [
    "df['primary_ISIN'].isna().sum()"
   ]
  },
  {
   "cell_type": "code",
   "execution_count": 4,
   "id": "d6249878-9b53-4ec5-aca2-326f3f61a59d",
   "metadata": {},
   "outputs": [
    {
     "data": {
      "text/plain": [
       "both          592536\n",
       "left_only     238224\n",
       "right_only         0\n",
       "Name: _merge, dtype: int64"
      ]
     },
     "execution_count": 4,
     "metadata": {},
     "output_type": "execute_result"
    }
   ],
   "source": [
    "df['_merge'].value_counts()"
   ]
  },
  {
   "cell_type": "code",
   "execution_count": 38,
   "id": "37f200e6-5435-4554-bada-5f6ba6bed908",
   "metadata": {},
   "outputs": [
    {
     "data": {
      "text/plain": [
       "3527"
      ]
     },
     "execution_count": 38,
     "metadata": {},
     "output_type": "execute_result"
    },
    {
     "data": {
      "text/plain": [
       "3527"
      ]
     },
     "execution_count": 38,
     "metadata": {},
     "output_type": "execute_result"
    },
    {
     "data": {
      "text/plain": [
       "1418"
      ]
     },
     "execution_count": 38,
     "metadata": {},
     "output_type": "execute_result"
    }
   ],
   "source": [
    "df.loc[df['_merge'] == 'both', 'cusip'].nunique()\n",
    "df.loc[df['_merge'] == 'both', 'primary_ISIN'].nunique()\n",
    "df.loc[df['_merge'] == 'left_only', 'primary_ISIN'].nunique()"
   ]
  },
  {
   "cell_type": "code",
   "execution_count": 14,
   "id": "95f83a33-004f-4753-8f60-82bda7b416c4",
   "metadata": {},
   "outputs": [
    {
     "data": {
      "text/html": [
       "<div>\n",
       "<style scoped>\n",
       "    .dataframe tbody tr th:only-of-type {\n",
       "        vertical-align: middle;\n",
       "    }\n",
       "\n",
       "    .dataframe tbody tr th {\n",
       "        vertical-align: top;\n",
       "    }\n",
       "\n",
       "    .dataframe thead th {\n",
       "        text-align: right;\n",
       "    }\n",
       "</style>\n",
       "<table border=\"1\" class=\"dataframe\">\n",
       "  <thead>\n",
       "    <tr style=\"text-align: right;\">\n",
       "      <th></th>\n",
       "      <th>RepRisk_ID</th>\n",
       "      <th>date</th>\n",
       "      <th>current_RRI</th>\n",
       "      <th>name</th>\n",
       "      <th>all_ISINs</th>\n",
       "      <th>primary_ISIN</th>\n",
       "      <th>headquarter_country_code</th>\n",
       "      <th>iscu</th>\n",
       "      <th>tic</th>\n",
       "      <th>cusip</th>\n",
       "      <th>conm</th>\n",
       "      <th>_merge</th>\n",
       "    </tr>\n",
       "  </thead>\n",
       "  <tbody>\n",
       "    <tr>\n",
       "      <th>157304</th>\n",
       "      <td>133308</td>\n",
       "      <td>2011-09-30</td>\n",
       "      <td>0</td>\n",
       "      <td>Cornell University</td>\n",
       "      <td>US219207AB38 US219207AA54</td>\n",
       "      <td>US219207AA54</td>\n",
       "      <td>US</td>\n",
       "      <td>219207AA</td>\n",
       "      <td>None</td>\n",
       "      <td>None</td>\n",
       "      <td>None</td>\n",
       "      <td>left_only</td>\n",
       "    </tr>\n",
       "  </tbody>\n",
       "</table>\n",
       "</div>"
      ],
      "text/plain": [
       "        RepRisk_ID       date  current_RRI                name  \\\n",
       "157304      133308 2011-09-30            0  Cornell University   \n",
       "\n",
       "                        all_ISINs  primary_ISIN headquarter_country_code  \\\n",
       "157304  US219207AB38 US219207AA54  US219207AA54                       US   \n",
       "\n",
       "            iscu   tic cusip  conm     _merge  \n",
       "157304  219207AA  None  None  None  left_only  "
      ]
     },
     "execution_count": 14,
     "metadata": {},
     "output_type": "execute_result"
    }
   ],
   "source": [
    "df.loc[df['_merge'] == 'left_only'].sample()"
   ]
  },
  {
   "cell_type": "code",
   "execution_count": 20,
   "id": "a517f0d2-f62b-459b-aa26-e4a012563a8f",
   "metadata": {},
   "outputs": [
    {
     "data": {
      "text/html": [
       "<div>\n",
       "<style scoped>\n",
       "    .dataframe tbody tr th:only-of-type {\n",
       "        vertical-align: middle;\n",
       "    }\n",
       "\n",
       "    .dataframe tbody tr th {\n",
       "        vertical-align: top;\n",
       "    }\n",
       "\n",
       "    .dataframe thead th {\n",
       "        text-align: right;\n",
       "    }\n",
       "</style>\n",
       "<table border=\"1\" class=\"dataframe\">\n",
       "  <thead>\n",
       "    <tr style=\"text-align: right;\">\n",
       "      <th></th>\n",
       "      <th>RepRisk_ID</th>\n",
       "      <th>date</th>\n",
       "      <th>current_RRI</th>\n",
       "      <th>name</th>\n",
       "      <th>all_ISINs</th>\n",
       "      <th>primary_ISIN</th>\n",
       "      <th>headquarter_country_code</th>\n",
       "      <th>iscu</th>\n",
       "      <th>tic</th>\n",
       "      <th>cusip</th>\n",
       "      <th>conm</th>\n",
       "      <th>_merge</th>\n",
       "    </tr>\n",
       "  </thead>\n",
       "  <tbody>\n",
       "    <tr>\n",
       "      <th>46579</th>\n",
       "      <td>10942</td>\n",
       "      <td>2010-08-31</td>\n",
       "      <td>0</td>\n",
       "      <td>Spire Inc (formerly Laclede Group Inc; The)</td>\n",
       "      <td>US84857L5075 US84857L6065 US84857LAB71 US84857...</td>\n",
       "      <td>US84857L1017</td>\n",
       "      <td>US</td>\n",
       "      <td>84857L10</td>\n",
       "      <td>SR</td>\n",
       "      <td>84857L101</td>\n",
       "      <td>SPIRE INC</td>\n",
       "      <td>both</td>\n",
       "    </tr>\n",
       "  </tbody>\n",
       "</table>\n",
       "</div>"
      ],
      "text/plain": [
       "       RepRisk_ID       date  current_RRI  \\\n",
       "46579       10942 2010-08-31            0   \n",
       "\n",
       "                                              name  \\\n",
       "46579  Spire Inc (formerly Laclede Group Inc; The)   \n",
       "\n",
       "                                               all_ISINs  primary_ISIN  \\\n",
       "46579  US84857L5075 US84857L6065 US84857LAB71 US84857...  US84857L1017   \n",
       "\n",
       "      headquarter_country_code      iscu tic      cusip       conm _merge  \n",
       "46579                       US  84857L10  SR  84857L101  SPIRE INC   both  "
      ]
     },
     "execution_count": 20,
     "metadata": {},
     "output_type": "execute_result"
    }
   ],
   "source": [
    "df.loc[df['_merge'] == 'both'].sample()"
   ]
  },
  {
   "cell_type": "code",
   "execution_count": 27,
   "id": "6a6c6994-6c2d-42d3-8c64-5dd552ac8477",
   "metadata": {},
   "outputs": [],
   "source": [
    "df['security_type'] = df['primary_ISIN'].apply(lambda x: x[-4:-2])"
   ]
  },
  {
   "cell_type": "code",
   "execution_count": 28,
   "id": "779c64b7-7209-4bc5-95b0-1a5cab8e7dfd",
   "metadata": {},
   "outputs": [
    {
     "data": {
      "text/plain": [
       "10    503160\n",
       "20     45696\n",
       "30     22848\n",
       "40      7728\n",
       "50      4200\n",
       "60      2688\n",
       "70      1848\n",
       "80      1008\n",
       "86       840\n",
       "42       336\n",
       "83       336\n",
       "84       336\n",
       "85       336\n",
       "87       336\n",
       "88       168\n",
       "78       168\n",
       "44       168\n",
       "13       168\n",
       "82       168\n",
       "Name: security_type, dtype: int64"
      ]
     },
     "execution_count": 28,
     "metadata": {},
     "output_type": "execute_result"
    },
    {
     "data": {
      "text/plain": [
       "10    93240\n",
       "AA    79464\n",
       "20    24360\n",
       "30     6048\n",
       "AB     4704\n",
       "      ...  \n",
       "88      168\n",
       "73      168\n",
       "EH      168\n",
       "87      168\n",
       "AX      168\n",
       "Name: security_type, Length: 61, dtype: int64"
      ]
     },
     "execution_count": 28,
     "metadata": {},
     "output_type": "execute_result"
    }
   ],
   "source": [
    "df.loc[df['_merge'] == 'both', 'security_type'].value_counts()\n",
    "df.loc[df['_merge'] == 'left_only', 'security_type'].value_counts()"
   ]
  },
  {
   "cell_type": "code",
   "execution_count": 44,
   "id": "6fccc20a-2201-499f-9d5e-548abaf6996b",
   "metadata": {},
   "outputs": [
    {
     "data": {
      "text/plain": [
       "808"
      ]
     },
     "execution_count": 44,
     "metadata": {},
     "output_type": "execute_result"
    }
   ],
   "source": [
    "df.loc[(df['_merge'] == 'left_only') & df['security_type'].str.isnumeric(), 'RepRisk_ID'].nunique()  # 只剩808家可能可以匹配上的"
   ]
  },
  {
   "cell_type": "code",
   "execution_count": 42,
   "id": "35b55024-d6c2-4dff-a974-d65946af968e",
   "metadata": {},
   "outputs": [
    {
     "data": {
      "text/html": [
       "<div>\n",
       "<style scoped>\n",
       "    .dataframe tbody tr th:only-of-type {\n",
       "        vertical-align: middle;\n",
       "    }\n",
       "\n",
       "    .dataframe tbody tr th {\n",
       "        vertical-align: top;\n",
       "    }\n",
       "\n",
       "    .dataframe thead th {\n",
       "        text-align: right;\n",
       "    }\n",
       "</style>\n",
       "<table border=\"1\" class=\"dataframe\">\n",
       "  <thead>\n",
       "    <tr style=\"text-align: right;\">\n",
       "      <th></th>\n",
       "      <th>RepRisk_ID</th>\n",
       "      <th>date</th>\n",
       "      <th>current_RRI</th>\n",
       "      <th>name</th>\n",
       "      <th>all_ISINs</th>\n",
       "      <th>primary_ISIN</th>\n",
       "      <th>headquarter_country_code</th>\n",
       "      <th>iscu</th>\n",
       "      <th>tic</th>\n",
       "      <th>cusip</th>\n",
       "      <th>conm</th>\n",
       "      <th>_merge</th>\n",
       "      <th>security_type</th>\n",
       "    </tr>\n",
       "  </thead>\n",
       "  <tbody>\n",
       "    <tr>\n",
       "      <th>227697</th>\n",
       "      <td>162343</td>\n",
       "      <td>2011-10-31</td>\n",
       "      <td>0</td>\n",
       "      <td>LendingClub Corp (Lending Club)</td>\n",
       "      <td>US52603A3077 US52603A2087</td>\n",
       "      <td>US52603A1097</td>\n",
       "      <td>US</td>\n",
       "      <td>52603A10</td>\n",
       "      <td>None</td>\n",
       "      <td>None</td>\n",
       "      <td>None</td>\n",
       "      <td>left_only</td>\n",
       "      <td>10</td>\n",
       "    </tr>\n",
       "    <tr>\n",
       "      <th>254336</th>\n",
       "      <td>174868</td>\n",
       "      <td>2019-09-30</td>\n",
       "      <td>0</td>\n",
       "      <td>Cornerstone Community Bancorp</td>\n",
       "      <td>US21925R1086</td>\n",
       "      <td>US21925R1086</td>\n",
       "      <td>US</td>\n",
       "      <td>21925R10</td>\n",
       "      <td>None</td>\n",
       "      <td>None</td>\n",
       "      <td>None</td>\n",
       "      <td>left_only</td>\n",
       "      <td>10</td>\n",
       "    </tr>\n",
       "  </tbody>\n",
       "</table>\n",
       "</div>"
      ],
      "text/plain": [
       "        RepRisk_ID       date  current_RRI                             name  \\\n",
       "227697      162343 2011-10-31            0  LendingClub Corp (Lending Club)   \n",
       "254336      174868 2019-09-30            0    Cornerstone Community Bancorp   \n",
       "\n",
       "                        all_ISINs  primary_ISIN headquarter_country_code  \\\n",
       "227697  US52603A3077 US52603A2087  US52603A1097                       US   \n",
       "254336               US21925R1086  US21925R1086                       US   \n",
       "\n",
       "            iscu   tic cusip  conm     _merge security_type  \n",
       "227697  52603A10  None  None  None  left_only            10  \n",
       "254336  21925R10  None  None  None  left_only            10  "
      ]
     },
     "execution_count": 42,
     "metadata": {},
     "output_type": "execute_result"
    }
   ],
   "source": [
    "df.loc[(df['_merge'] == 'left_only') & (df['security_type'].str.isnumeric())].sample(2)"
   ]
  },
  {
   "cell_type": "markdown",
   "id": "c1a6d94a-fac6-496e-80bc-95a984f1cb45",
   "metadata": {},
   "source": [
    "- US74977XAA90：Secured Second Lien，主要发行是债券，所以还是非上市公司\n",
    "\n",
    "> The 7th and 8th digit identify the exact issue, the format being dependent on the type of security. In general, numbers are used for equities and letters are used for fixed income. https://en.wikipedia.org/wiki/CUSIP#Format\n",
    "- US**649840**1057：Compustat中有覆盖，对应的CUSIP是**649840**006。可能是因为Compustat记录了更早的编号为00的发行，而RepRisk可能根据通用规则设定了编号为10的发行是首次权益发行。\n",
    "- US**52603A**1097：Compustat中有覆盖，对应的CUSIP是**52603A**208。可能是因为Compustat认为编号为20的发行才是主要发行。\n",
    "- US7695341088：可能因为在OTC市场发行的，所以没被Compustat覆盖"
   ]
  },
  {
   "cell_type": "code",
   "execution_count": 41,
   "id": "ac6a0472-f53b-4ea6-8ea0-bd5509be5cce",
   "metadata": {},
   "outputs": [
    {
     "data": {
      "text/plain": [
       "0"
      ]
     },
     "execution_count": 41,
     "metadata": {},
     "output_type": "execute_result"
    }
   ],
   "source": [
    "df.loc[df['primary_ISIN'] == 'US6498401057', 'all_ISINs'].str.contains('64984000').sum()"
   ]
  },
  {
   "cell_type": "markdown",
   "id": "ceda0016-5cc9-4965-afba-3cc5cd6979ff",
   "metadata": {},
   "source": [
    "# Fuzzy Matching"
   ]
  },
  {
   "cell_type": "code",
   "execution_count": 51,
   "id": "d5e45b0b-b8a6-479f-8c72-34064c8e20a5",
   "metadata": {},
   "outputs": [
    {
     "data": {
      "text/plain": [
       "(830760, 12)"
      ]
     },
     "execution_count": 51,
     "metadata": {},
     "output_type": "execute_result"
    },
    {
     "data": {
      "text/html": [
       "<div>\n",
       "<style scoped>\n",
       "    .dataframe tbody tr th:only-of-type {\n",
       "        vertical-align: middle;\n",
       "    }\n",
       "\n",
       "    .dataframe tbody tr th {\n",
       "        vertical-align: top;\n",
       "    }\n",
       "\n",
       "    .dataframe thead th {\n",
       "        text-align: right;\n",
       "    }\n",
       "</style>\n",
       "<table border=\"1\" class=\"dataframe\">\n",
       "  <thead>\n",
       "    <tr style=\"text-align: right;\">\n",
       "      <th></th>\n",
       "      <th>RepRisk_ID</th>\n",
       "      <th>date</th>\n",
       "      <th>current_RRI</th>\n",
       "      <th>name</th>\n",
       "      <th>all_ISINs</th>\n",
       "      <th>primary_ISIN</th>\n",
       "      <th>headquarter_country_code</th>\n",
       "      <th>iscu</th>\n",
       "      <th>tic</th>\n",
       "      <th>cusip</th>\n",
       "      <th>conm</th>\n",
       "      <th>_merge</th>\n",
       "    </tr>\n",
       "  </thead>\n",
       "  <tbody>\n",
       "    <tr>\n",
       "      <th>421782</th>\n",
       "      <td>36351</td>\n",
       "      <td>2015-07-31</td>\n",
       "      <td>0</td>\n",
       "      <td>ModivCare Inc (formerly Providence Service Corp)</td>\n",
       "      <td>US60783X2036 US60783X1046 US743815AE20 US74381...</td>\n",
       "      <td>US60783X1046</td>\n",
       "      <td>US</td>\n",
       "      <td>60783X10</td>\n",
       "      <td>MODV</td>\n",
       "      <td>60783X104</td>\n",
       "      <td>MODIVCARE INC</td>\n",
       "      <td>both</td>\n",
       "    </tr>\n",
       "    <tr>\n",
       "      <th>431602</th>\n",
       "      <td>37363</td>\n",
       "      <td>2007-11-30</td>\n",
       "      <td>0</td>\n",
       "      <td>Gladstone Capital Corp</td>\n",
       "      <td>US376535AC46 US3765357047 US3765353087 US37653...</td>\n",
       "      <td>US3765351008</td>\n",
       "      <td>US</td>\n",
       "      <td>37653510</td>\n",
       "      <td>GLAD</td>\n",
       "      <td>376535100</td>\n",
       "      <td>GLADSTONE CAPITAL CORP</td>\n",
       "      <td>both</td>\n",
       "    </tr>\n",
       "    <tr>\n",
       "      <th>655211</th>\n",
       "      <td>72457</td>\n",
       "      <td>2007-12-31</td>\n",
       "      <td>0</td>\n",
       "      <td>OutFront Cos</td>\n",
       "      <td>US69006T1051</td>\n",
       "      <td>US69006T1051</td>\n",
       "      <td>US</td>\n",
       "      <td>69006T10</td>\n",
       "      <td>None</td>\n",
       "      <td>None</td>\n",
       "      <td>None</td>\n",
       "      <td>left_only</td>\n",
       "    </tr>\n",
       "  </tbody>\n",
       "</table>\n",
       "</div>"
      ],
      "text/plain": [
       "        RepRisk_ID       date  current_RRI  \\\n",
       "421782       36351 2015-07-31            0   \n",
       "431602       37363 2007-11-30            0   \n",
       "655211       72457 2007-12-31            0   \n",
       "\n",
       "                                                    name  \\\n",
       "421782  ModivCare Inc (formerly Providence Service Corp)   \n",
       "431602                            Gladstone Capital Corp   \n",
       "655211                                      OutFront Cos   \n",
       "\n",
       "                                                all_ISINs  primary_ISIN  \\\n",
       "421782  US60783X2036 US60783X1046 US743815AE20 US74381...  US60783X1046   \n",
       "431602  US376535AC46 US3765357047 US3765353087 US37653...  US3765351008   \n",
       "655211                                       US69006T1051  US69006T1051   \n",
       "\n",
       "       headquarter_country_code      iscu   tic      cusip  \\\n",
       "421782                       US  60783X10  MODV  60783X104   \n",
       "431602                       US  37653510  GLAD  376535100   \n",
       "655211                       US  69006T10  None       None   \n",
       "\n",
       "                          conm     _merge  \n",
       "421782           MODIVCARE INC       both  \n",
       "431602  GLADSTONE CAPITAL CORP       both  \n",
       "655211                    None  left_only  "
      ]
     },
     "execution_count": 51,
     "metadata": {},
     "output_type": "execute_result"
    }
   ],
   "source": [
    "df = pd.read_parquet(f'{WD}reprisk_compustat.pq')\n",
    "df.shape\n",
    "df.sample(3)"
   ]
  },
  {
   "cell_type": "code",
   "execution_count": 52,
   "id": "a9147f99-4a53-41b0-aa38-9da1a1face7f",
   "metadata": {},
   "outputs": [
    {
     "data": {
      "text/plain": [
       "(587111, 14)"
      ]
     },
     "execution_count": 52,
     "metadata": {},
     "output_type": "execute_result"
    },
    {
     "data": {
      "text/html": [
       "<div>\n",
       "<style scoped>\n",
       "    .dataframe tbody tr th:only-of-type {\n",
       "        vertical-align: middle;\n",
       "    }\n",
       "\n",
       "    .dataframe tbody tr th {\n",
       "        vertical-align: top;\n",
       "    }\n",
       "\n",
       "    .dataframe thead th {\n",
       "        text-align: right;\n",
       "    }\n",
       "</style>\n",
       "<table border=\"1\" class=\"dataframe\">\n",
       "  <thead>\n",
       "    <tr style=\"text-align: right;\">\n",
       "      <th></th>\n",
       "      <th>gvkey</th>\n",
       "      <th>datadate</th>\n",
       "      <th>fyear</th>\n",
       "      <th>indfmt</th>\n",
       "      <th>consol</th>\n",
       "      <th>popsrc</th>\n",
       "      <th>datafmt</th>\n",
       "      <th>tic</th>\n",
       "      <th>cusip</th>\n",
       "      <th>conm</th>\n",
       "      <th>curcd</th>\n",
       "      <th>at</th>\n",
       "      <th>costat</th>\n",
       "      <th>conml</th>\n",
       "    </tr>\n",
       "  </thead>\n",
       "  <tbody>\n",
       "    <tr>\n",
       "      <th>216858</th>\n",
       "      <td>10917</td>\n",
       "      <td>20151231</td>\n",
       "      <td>2015.0</td>\n",
       "      <td>FS</td>\n",
       "      <td>C</td>\n",
       "      <td>D</td>\n",
       "      <td>STD</td>\n",
       "      <td>UMH</td>\n",
       "      <td>903002103</td>\n",
       "      <td>UMH PROPERTIES INC</td>\n",
       "      <td>USD</td>\n",
       "      <td>604.029</td>\n",
       "      <td>A</td>\n",
       "      <td>UMH Properties Inc</td>\n",
       "    </tr>\n",
       "    <tr>\n",
       "      <th>505006</th>\n",
       "      <td>143217</td>\n",
       "      <td>20011231</td>\n",
       "      <td>2001.0</td>\n",
       "      <td>INDL</td>\n",
       "      <td>C</td>\n",
       "      <td>D</td>\n",
       "      <td>STD</td>\n",
       "      <td>ADTR</td>\n",
       "      <td>01863R104</td>\n",
       "      <td>ALLIANCE MEDIA HOLDINGS INC</td>\n",
       "      <td>USD</td>\n",
       "      <td>1.523</td>\n",
       "      <td>A</td>\n",
       "      <td>Alliance Media Holdings Inc</td>\n",
       "    </tr>\n",
       "    <tr>\n",
       "      <th>256670</th>\n",
       "      <td>13426</td>\n",
       "      <td>19871231</td>\n",
       "      <td>1987.0</td>\n",
       "      <td>INDL</td>\n",
       "      <td>C</td>\n",
       "      <td>D</td>\n",
       "      <td>STD</td>\n",
       "      <td>BAYC</td>\n",
       "      <td>072021108</td>\n",
       "      <td>BAY AREA RECOVERY CENTERS</td>\n",
       "      <td>USD</td>\n",
       "      <td>2.737</td>\n",
       "      <td>I</td>\n",
       "      <td>Bay Area Recovery Centers</td>\n",
       "    </tr>\n",
       "  </tbody>\n",
       "</table>\n",
       "</div>"
      ],
      "text/plain": [
       "         gvkey  datadate   fyear indfmt consol popsrc datafmt   tic  \\\n",
       "216858   10917  20151231  2015.0     FS      C      D     STD   UMH   \n",
       "505006  143217  20011231  2001.0   INDL      C      D     STD  ADTR   \n",
       "256670   13426  19871231  1987.0   INDL      C      D     STD  BAYC   \n",
       "\n",
       "            cusip                         conm curcd       at costat  \\\n",
       "216858  903002103           UMH PROPERTIES INC   USD  604.029      A   \n",
       "505006  01863R104  ALLIANCE MEDIA HOLDINGS INC   USD    1.523      A   \n",
       "256670  072021108    BAY AREA RECOVERY CENTERS   USD    2.737      I   \n",
       "\n",
       "                              conml  \n",
       "216858           UMH Properties Inc  \n",
       "505006  Alliance Media Holdings Inc  \n",
       "256670    Bay Area Recovery Centers  "
      ]
     },
     "execution_count": 52,
     "metadata": {},
     "output_type": "execute_result"
    }
   ],
   "source": [
    "cp = pd.read_csv(f'{RD}comp_na_daily_all.csv')\n",
    "cp.shape\n",
    "cp.sample(3)"
   ]
  },
  {
   "cell_type": "code",
   "execution_count": 449,
   "id": "29dbae71-ee86-4cc8-8098-f2a1bb486c28",
   "metadata": {},
   "outputs": [
    {
     "data": {
      "text/plain": [
       "'indianapolis power light'"
      ]
     },
     "execution_count": 449,
     "metadata": {},
     "output_type": "execute_result"
    },
    {
     "data": {
      "text/plain": [
       "'pinnacle bank'"
      ]
     },
     "execution_count": 449,
     "metadata": {},
     "output_type": "execute_result"
    }
   ],
   "source": [
    "PUNC = ''' |,|\\.|;|:|\\||\\(|\\)|&|'|\"'''\n",
    "\n",
    "REMOVE = [\n",
    "    '', 'inc', 'fund', 'ltd', 'plt',\n",
    "    'corporation', 'corp', 'group', 'holdings',\n",
    "    'co', 'sa', 'cv', 'llc', 'de', 'the', 'holding', 'na', 'usa',\n",
    "    'bv', 'holdco', 'lp', 'plc', 'etf', 'ab', 'and', 'nv', # 这行以下的可能会过度简化字符串\n",
    "    'equity', 'enterprises',\n",
    "]\n",
    "\n",
    "REPLACE = {\n",
    "    'bancorp': 'bank',\n",
    "    'banc': 'bank',\n",
    "    'biotechnologies': 'biotech',\n",
    "    'biotechnology': 'biotech',\n",
    "    'technologies': 'tech',\n",
    "    'technology': 'tech'\n",
    "}\n",
    "\n",
    "def clean_name(s):\n",
    "    s = s.lower()\n",
    "    s = re.sub('[\\(\\[].*[\\)\\]]', '', s)  # RepRisk company name special treatment\n",
    "    ws = re.split(PUNC, s)\n",
    "    ws = [w for w in ws if w not in REMOVE]\n",
    "    return ' '.join([w if w not in REPLACE else REPLACE[w] for w in ws])\n",
    "\n",
    "clean_name('Indianapolis Power & Light Co (IPL; IPALCO)')\n",
    "clean_name('Pinnacle Banc Group Inc')"
   ]
  },
  {
   "cell_type": "markdown",
   "id": "03c9b22f-b78b-4f58-a6b4-07ee6a973a5f",
   "metadata": {},
   "source": [
    "## RepRisk"
   ]
  },
  {
   "cell_type": "code",
   "execution_count": 429,
   "id": "7bc5abed-faae-4031-86a6-0958a7917e4e",
   "metadata": {},
   "outputs": [
    {
     "data": {
      "text/plain": [
       "(1418, 2)"
      ]
     },
     "execution_count": 429,
     "metadata": {},
     "output_type": "execute_result"
    },
    {
     "data": {
      "text/html": [
       "<div>\n",
       "<style scoped>\n",
       "    .dataframe tbody tr th:only-of-type {\n",
       "        vertical-align: middle;\n",
       "    }\n",
       "\n",
       "    .dataframe tbody tr th {\n",
       "        vertical-align: top;\n",
       "    }\n",
       "\n",
       "    .dataframe thead th {\n",
       "        text-align: right;\n",
       "    }\n",
       "</style>\n",
       "<table border=\"1\" class=\"dataframe\">\n",
       "  <thead>\n",
       "    <tr style=\"text-align: right;\">\n",
       "      <th></th>\n",
       "      <th>RepRisk_ID</th>\n",
       "      <th>name</th>\n",
       "    </tr>\n",
       "  </thead>\n",
       "  <tbody>\n",
       "    <tr>\n",
       "      <th>45696</th>\n",
       "      <td>109209</td>\n",
       "      <td>Enviva Partners LP</td>\n",
       "    </tr>\n",
       "    <tr>\n",
       "      <th>320880</th>\n",
       "      <td>216307</td>\n",
       "      <td>Manufacturers &amp; Traders Trust Co (M&amp;T Bank Inc)</td>\n",
       "    </tr>\n",
       "    <tr>\n",
       "      <th>731976</th>\n",
       "      <td>84462</td>\n",
       "      <td>Anheuser-Busch Inbev Worldwide Inc (formerly I...</td>\n",
       "    </tr>\n",
       "  </tbody>\n",
       "</table>\n",
       "</div>"
      ],
      "text/plain": [
       "        RepRisk_ID                                               name\n",
       "45696       109209                                 Enviva Partners LP\n",
       "320880      216307    Manufacturers & Traders Trust Co (M&T Bank Inc)\n",
       "731976       84462  Anheuser-Busch Inbev Worldwide Inc (formerly I..."
      ]
     },
     "execution_count": 429,
     "metadata": {},
     "output_type": "execute_result"
    }
   ],
   "source": [
    "df2 = df.loc[df['_merge'] == 'left_only', ['RepRisk_ID', 'name']].drop_duplicates()\n",
    "df2.shape\n",
    "df2.sample(3)"
   ]
  },
  {
   "cell_type": "code",
   "execution_count": 451,
   "id": "a184a8bc-f655-4ef5-9765-904bbaf2a437",
   "metadata": {},
   "outputs": [
    {
     "data": {
      "text/plain": [
       "(38084, 3)"
      ]
     },
     "execution_count": 451,
     "metadata": {},
     "output_type": "execute_result"
    },
    {
     "data": {
      "text/html": [
       "<div>\n",
       "<style scoped>\n",
       "    .dataframe tbody tr th:only-of-type {\n",
       "        vertical-align: middle;\n",
       "    }\n",
       "\n",
       "    .dataframe tbody tr th {\n",
       "        vertical-align: top;\n",
       "    }\n",
       "\n",
       "    .dataframe thead th {\n",
       "        text-align: right;\n",
       "    }\n",
       "</style>\n",
       "<table border=\"1\" class=\"dataframe\">\n",
       "  <thead>\n",
       "    <tr style=\"text-align: right;\">\n",
       "      <th></th>\n",
       "      <th>gvkey</th>\n",
       "      <th>conm</th>\n",
       "      <th>conml</th>\n",
       "    </tr>\n",
       "  </thead>\n",
       "  <tbody>\n",
       "    <tr>\n",
       "      <th>417967</th>\n",
       "      <td>39500</td>\n",
       "      <td>A.K.A. BRAND HOLD CORP</td>\n",
       "      <td>a.k.a. Brands Holding Corp</td>\n",
       "    </tr>\n",
       "    <tr>\n",
       "      <th>582428</th>\n",
       "      <td>221261</td>\n",
       "      <td>COCA-COLA HBC AG</td>\n",
       "      <td>Coca-Cola HBC AG</td>\n",
       "    </tr>\n",
       "    <tr>\n",
       "      <th>582107</th>\n",
       "      <td>213449</td>\n",
       "      <td>CIBA HOLDING AG</td>\n",
       "      <td>Ciba Holding AG</td>\n",
       "    </tr>\n",
       "  </tbody>\n",
       "</table>\n",
       "</div>"
      ],
      "text/plain": [
       "         gvkey                    conm                       conml\n",
       "417967   39500  A.K.A. BRAND HOLD CORP  a.k.a. Brands Holding Corp\n",
       "582428  221261        COCA-COLA HBC AG            Coca-Cola HBC AG\n",
       "582107  213449         CIBA HOLDING AG             Ciba Holding AG"
      ]
     },
     "execution_count": 451,
     "metadata": {},
     "output_type": "execute_result"
    }
   ],
   "source": [
    "cp2 = cp.loc[~cp['cusip'].isin(matched), ['gvkey', 'conm', 'conml']].drop_duplicates()\n",
    "cp2.shape\n",
    "cp2.sample(3)"
   ]
  },
  {
   "cell_type": "code",
   "execution_count": 452,
   "id": "c6ee904e-0695-4753-a2c9-5648e5addcb8",
   "metadata": {},
   "outputs": [
    {
     "data": {
      "text/html": [
       "<div>\n",
       "<style scoped>\n",
       "    .dataframe tbody tr th:only-of-type {\n",
       "        vertical-align: middle;\n",
       "    }\n",
       "\n",
       "    .dataframe tbody tr th {\n",
       "        vertical-align: top;\n",
       "    }\n",
       "\n",
       "    .dataframe thead th {\n",
       "        text-align: right;\n",
       "    }\n",
       "</style>\n",
       "<table border=\"1\" class=\"dataframe\">\n",
       "  <thead>\n",
       "    <tr style=\"text-align: right;\">\n",
       "      <th></th>\n",
       "      <th>RepRisk_ID</th>\n",
       "      <th>name</th>\n",
       "      <th>namec</th>\n",
       "    </tr>\n",
       "  </thead>\n",
       "  <tbody>\n",
       "    <tr>\n",
       "      <th>810768</th>\n",
       "      <td>95915</td>\n",
       "      <td>Nikron Technologies Inc</td>\n",
       "      <td>nikron tech</td>\n",
       "    </tr>\n",
       "    <tr>\n",
       "      <th>333984</th>\n",
       "      <td>222425</td>\n",
       "      <td>Kilroy Realty LP</td>\n",
       "      <td>kilroy realty</td>\n",
       "    </tr>\n",
       "    <tr>\n",
       "      <th>636216</th>\n",
       "      <td>70082</td>\n",
       "      <td>Madison Gas and Electric</td>\n",
       "      <td>madison gas electric</td>\n",
       "    </tr>\n",
       "  </tbody>\n",
       "</table>\n",
       "</div>"
      ],
      "text/plain": [
       "        RepRisk_ID                      name                 namec\n",
       "810768       95915   Nikron Technologies Inc           nikron tech\n",
       "333984      222425          Kilroy Realty LP         kilroy realty\n",
       "636216       70082  Madison Gas and Electric  madison gas electric"
      ]
     },
     "execution_count": 452,
     "metadata": {},
     "output_type": "execute_result"
    }
   ],
   "source": [
    "df2['namec'] = df2['name'].apply(clean_name)\n",
    "df2.sample(3)"
   ]
  },
  {
   "cell_type": "code",
   "execution_count": 431,
   "id": "feffbbee-68e0-4a81-bdfa-f202365a01ef",
   "metadata": {},
   "outputs": [
    {
     "data": {
      "text/plain": [
       "16"
      ]
     },
     "execution_count": 431,
     "metadata": {},
     "output_type": "execute_result"
    }
   ],
   "source": [
    "df2['namec'].duplicated().sum()"
   ]
  },
  {
   "cell_type": "code",
   "execution_count": 432,
   "id": "8484a270-8aac-4a40-b747-b85f5c3f8acb",
   "metadata": {},
   "outputs": [
    {
     "data": {
      "text/html": [
       "<div>\n",
       "<style scoped>\n",
       "    .dataframe tbody tr th:only-of-type {\n",
       "        vertical-align: middle;\n",
       "    }\n",
       "\n",
       "    .dataframe tbody tr th {\n",
       "        vertical-align: top;\n",
       "    }\n",
       "\n",
       "    .dataframe thead th {\n",
       "        text-align: right;\n",
       "    }\n",
       "</style>\n",
       "<table border=\"1\" class=\"dataframe\">\n",
       "  <thead>\n",
       "    <tr style=\"text-align: right;\">\n",
       "      <th></th>\n",
       "      <th>RepRisk_ID</th>\n",
       "      <th>name</th>\n",
       "      <th>namec</th>\n",
       "    </tr>\n",
       "  </thead>\n",
       "  <tbody>\n",
       "    <tr>\n",
       "      <th>234696</th>\n",
       "      <td>165063</td>\n",
       "      <td>Hexion Inc</td>\n",
       "      <td>hexion</td>\n",
       "    </tr>\n",
       "  </tbody>\n",
       "</table>\n",
       "</div>"
      ],
      "text/plain": [
       "        RepRisk_ID        name   namec\n",
       "234696      165063  Hexion Inc  hexion"
      ]
     },
     "execution_count": 432,
     "metadata": {},
     "output_type": "execute_result"
    }
   ],
   "source": [
    "df2.loc[df2['namec'].duplicated()].sample()"
   ]
  },
  {
   "cell_type": "code",
   "execution_count": 433,
   "id": "45a78d93-f51b-4a6f-bdb9-f654eb762b84",
   "metadata": {},
   "outputs": [
    {
     "data": {
      "text/html": [
       "<div>\n",
       "<style scoped>\n",
       "    .dataframe tbody tr th:only-of-type {\n",
       "        vertical-align: middle;\n",
       "    }\n",
       "\n",
       "    .dataframe tbody tr th {\n",
       "        vertical-align: top;\n",
       "    }\n",
       "\n",
       "    .dataframe thead th {\n",
       "        text-align: right;\n",
       "    }\n",
       "</style>\n",
       "<table border=\"1\" class=\"dataframe\">\n",
       "  <thead>\n",
       "    <tr style=\"text-align: right;\">\n",
       "      <th></th>\n",
       "      <th>RepRisk_ID</th>\n",
       "      <th>name</th>\n",
       "      <th>namec</th>\n",
       "    </tr>\n",
       "  </thead>\n",
       "  <tbody>\n",
       "    <tr>\n",
       "      <th>386736</th>\n",
       "      <td>31141</td>\n",
       "      <td>SolarWinds Inc</td>\n",
       "      <td>solarwinds</td>\n",
       "    </tr>\n",
       "    <tr>\n",
       "      <th>514248</th>\n",
       "      <td>487182</td>\n",
       "      <td>SolarWinds Corp</td>\n",
       "      <td>solarwinds</td>\n",
       "    </tr>\n",
       "  </tbody>\n",
       "</table>\n",
       "</div>"
      ],
      "text/plain": [
       "        RepRisk_ID             name       namec\n",
       "386736       31141   SolarWinds Inc  solarwinds\n",
       "514248      487182  SolarWinds Corp  solarwinds"
      ]
     },
     "execution_count": 433,
     "metadata": {},
     "output_type": "execute_result"
    }
   ],
   "source": [
    "df2.loc[df2['namec'] == 'solarwinds']"
   ]
  },
  {
   "cell_type": "code",
   "execution_count": 434,
   "id": "c3a7fa7b-41c9-45d5-8a27-679714624712",
   "metadata": {},
   "outputs": [],
   "source": [
    "# cands = dict(zip(df2['name'], df2['RepRisk_ID']))\n",
    "# cands['GTL Trade Finance Inc']\n",
    "cands = set(df2['namec'])"
   ]
  },
  {
   "cell_type": "markdown",
   "id": "d698e5f4-f117-4b97-a13f-916279ab9bbe",
   "metadata": {},
   "source": [
    "## Compustat"
   ]
  },
  {
   "cell_type": "code",
   "execution_count": 435,
   "id": "b8995203-3794-4f83-bfb4-80d1e98fc1c5",
   "metadata": {},
   "outputs": [
    {
     "data": {
      "text/plain": [
       "3527"
      ]
     },
     "execution_count": 435,
     "metadata": {},
     "output_type": "execute_result"
    }
   ],
   "source": [
    "matched = set(df.loc[df['cusip'].notna(), 'cusip'])\n",
    "len(matched)"
   ]
  },
  {
   "cell_type": "code",
   "execution_count": 436,
   "id": "b18753e0-4acc-4981-be42-4ca7667cac33",
   "metadata": {},
   "outputs": [
    {
     "data": {
      "text/plain": [
       "(38084, 3)"
      ]
     },
     "execution_count": 436,
     "metadata": {},
     "output_type": "execute_result"
    },
    {
     "data": {
      "text/html": [
       "<div>\n",
       "<style scoped>\n",
       "    .dataframe tbody tr th:only-of-type {\n",
       "        vertical-align: middle;\n",
       "    }\n",
       "\n",
       "    .dataframe tbody tr th {\n",
       "        vertical-align: top;\n",
       "    }\n",
       "\n",
       "    .dataframe thead th {\n",
       "        text-align: right;\n",
       "    }\n",
       "</style>\n",
       "<table border=\"1\" class=\"dataframe\">\n",
       "  <thead>\n",
       "    <tr style=\"text-align: right;\">\n",
       "      <th></th>\n",
       "      <th>gvkey</th>\n",
       "      <th>conm</th>\n",
       "      <th>conml</th>\n",
       "    </tr>\n",
       "  </thead>\n",
       "  <tbody>\n",
       "    <tr>\n",
       "      <th>338471</th>\n",
       "      <td>23173</td>\n",
       "      <td>HORIZONS ACTIVE US DIV ETF</td>\n",
       "      <td>Horizons Active US Dividend ETF</td>\n",
       "    </tr>\n",
       "    <tr>\n",
       "      <th>407940</th>\n",
       "      <td>32234</td>\n",
       "      <td>ISHARES MSCI EMG MK X CN ETF</td>\n",
       "      <td>iShares MSCI Emerging Markets ex China ETF</td>\n",
       "    </tr>\n",
       "    <tr>\n",
       "      <th>367181</th>\n",
       "      <td>26783</td>\n",
       "      <td>ISHARES ADAP CURR H MSCI JPN</td>\n",
       "      <td>iShares Adaptive Currency Hedged MSCI Japan ETF</td>\n",
       "    </tr>\n",
       "  </tbody>\n",
       "</table>\n",
       "</div>"
      ],
      "text/plain": [
       "        gvkey                          conm  \\\n",
       "338471  23173    HORIZONS ACTIVE US DIV ETF   \n",
       "407940  32234  ISHARES MSCI EMG MK X CN ETF   \n",
       "367181  26783  ISHARES ADAP CURR H MSCI JPN   \n",
       "\n",
       "                                                  conml  \n",
       "338471                  Horizons Active US Dividend ETF  \n",
       "407940       iShares MSCI Emerging Markets ex China ETF  \n",
       "367181  iShares Adaptive Currency Hedged MSCI Japan ETF  "
      ]
     },
     "execution_count": 436,
     "metadata": {},
     "output_type": "execute_result"
    }
   ],
   "source": [
    "cp2 = cp.loc[~cp['cusip'].isin(matched), ['gvkey', 'conm', 'conml']].drop_duplicates()\n",
    "cp2.shape\n",
    "cp2.sample(3)"
   ]
  },
  {
   "cell_type": "code",
   "execution_count": 453,
   "id": "fe51604e-5e47-40d8-a4f4-a44ba5d31aab",
   "metadata": {},
   "outputs": [
    {
     "data": {
      "text/html": [
       "<div>\n",
       "<style scoped>\n",
       "    .dataframe tbody tr th:only-of-type {\n",
       "        vertical-align: middle;\n",
       "    }\n",
       "\n",
       "    .dataframe tbody tr th {\n",
       "        vertical-align: top;\n",
       "    }\n",
       "\n",
       "    .dataframe thead th {\n",
       "        text-align: right;\n",
       "    }\n",
       "</style>\n",
       "<table border=\"1\" class=\"dataframe\">\n",
       "  <thead>\n",
       "    <tr style=\"text-align: right;\">\n",
       "      <th></th>\n",
       "      <th>gvkey</th>\n",
       "      <th>conm</th>\n",
       "      <th>conml</th>\n",
       "      <th>namec</th>\n",
       "    </tr>\n",
       "  </thead>\n",
       "  <tbody>\n",
       "    <tr>\n",
       "      <th>290280</th>\n",
       "      <td>16427</td>\n",
       "      <td>DREAMCAR HOLDINGS INC</td>\n",
       "      <td>Dreamcar Holdings Inc</td>\n",
       "      <td>dreamcar</td>\n",
       "    </tr>\n",
       "    <tr>\n",
       "      <th>470288</th>\n",
       "      <td>108510</td>\n",
       "      <td>THOR EXPLORATIONS LTD</td>\n",
       "      <td>Thor Explorations Ltd</td>\n",
       "      <td>thor explorations</td>\n",
       "    </tr>\n",
       "    <tr>\n",
       "      <th>314397</th>\n",
       "      <td>19025</td>\n",
       "      <td>SOCIETAL CDMO INC</td>\n",
       "      <td>Societal CDMO Inc</td>\n",
       "      <td>societal cdmo</td>\n",
       "    </tr>\n",
       "    <tr>\n",
       "      <th>372875</th>\n",
       "      <td>27984</td>\n",
       "      <td>GENESIS EXPLORATION LTD</td>\n",
       "      <td>Genesis Exploration Ltd</td>\n",
       "      <td>genesis exploration</td>\n",
       "    </tr>\n",
       "    <tr>\n",
       "      <th>482868</th>\n",
       "      <td>119773</td>\n",
       "      <td>ZDNET</td>\n",
       "      <td>ZDNet</td>\n",
       "      <td>zdnet</td>\n",
       "    </tr>\n",
       "    <tr>\n",
       "      <th>367593</th>\n",
       "      <td>26900</td>\n",
       "      <td>CHAMPION INDUSTRIES INC</td>\n",
       "      <td>Champion Industries Inc</td>\n",
       "      <td>champion industries</td>\n",
       "    </tr>\n",
       "    <tr>\n",
       "      <th>119543</th>\n",
       "      <td>6439</td>\n",
       "      <td>KINDER-CARE INC</td>\n",
       "      <td>Kinder-Care Inc</td>\n",
       "      <td>kinder-care</td>\n",
       "    </tr>\n",
       "    <tr>\n",
       "      <th>319299</th>\n",
       "      <td>19891</td>\n",
       "      <td>WESTBANK CORP</td>\n",
       "      <td>WestBank Corp</td>\n",
       "      <td>westbank</td>\n",
       "    </tr>\n",
       "    <tr>\n",
       "      <th>367435</th>\n",
       "      <td>26852</td>\n",
       "      <td>STARBASE CORP</td>\n",
       "      <td>Starbase Corp</td>\n",
       "      <td>starbase</td>\n",
       "    </tr>\n",
       "    <tr>\n",
       "      <th>418428</th>\n",
       "      <td>40489</td>\n",
       "      <td>VEGTECH PLANT BASD I &amp; C ETF</td>\n",
       "      <td>VegTech Plant-based Innovation &amp; Climate ETF</td>\n",
       "      <td>vegtech plant-based innovation climate</td>\n",
       "    </tr>\n",
       "  </tbody>\n",
       "</table>\n",
       "</div>"
      ],
      "text/plain": [
       "         gvkey                          conm  \\\n",
       "290280   16427         DREAMCAR HOLDINGS INC   \n",
       "470288  108510         THOR EXPLORATIONS LTD   \n",
       "314397   19025             SOCIETAL CDMO INC   \n",
       "372875   27984       GENESIS EXPLORATION LTD   \n",
       "482868  119773                         ZDNET   \n",
       "367593   26900       CHAMPION INDUSTRIES INC   \n",
       "119543    6439               KINDER-CARE INC   \n",
       "319299   19891                 WESTBANK CORP   \n",
       "367435   26852                 STARBASE CORP   \n",
       "418428   40489  VEGTECH PLANT BASD I & C ETF   \n",
       "\n",
       "                                               conml  \\\n",
       "290280                         Dreamcar Holdings Inc   \n",
       "470288                         Thor Explorations Ltd   \n",
       "314397                             Societal CDMO Inc   \n",
       "372875                       Genesis Exploration Ltd   \n",
       "482868                                         ZDNet   \n",
       "367593                       Champion Industries Inc   \n",
       "119543                               Kinder-Care Inc   \n",
       "319299                                 WestBank Corp   \n",
       "367435                                 Starbase Corp   \n",
       "418428  VegTech Plant-based Innovation & Climate ETF   \n",
       "\n",
       "                                         namec  \n",
       "290280                                dreamcar  \n",
       "470288                       thor explorations  \n",
       "314397                           societal cdmo  \n",
       "372875                     genesis exploration  \n",
       "482868                                   zdnet  \n",
       "367593                     champion industries  \n",
       "119543                             kinder-care  \n",
       "319299                                westbank  \n",
       "367435                                starbase  \n",
       "418428  vegtech plant-based innovation climate  "
      ]
     },
     "execution_count": 453,
     "metadata": {},
     "output_type": "execute_result"
    }
   ],
   "source": [
    "cp2['namec'] = cp2['conml'].apply(clean_name)\n",
    "cp2.sample(10)"
   ]
  },
  {
   "cell_type": "markdown",
   "id": "377b4f0c-b623-4a58-8b21-5b68ad4815d3",
   "metadata": {},
   "source": [
    "## Match"
   ]
  },
  {
   "cell_type": "code",
   "execution_count": 438,
   "id": "843b2637-b197-4461-86f3-90d6cddffe72",
   "metadata": {},
   "outputs": [],
   "source": [
    "def match_top(s, candidates, n=1, method='lev'):\n",
    "    heap = [(-np.Inf, '') for _ in range(n)]\n",
    "    heapq.heapify(heap)\n",
    "    \n",
    "    for t in candidates:\n",
    "        l = len(t)\n",
    "        if method == 'lev':\n",
    "            score = jellyfish.levenshtein_distance(s, t) / max(l, len(s)) - 1\n",
    "        elif method == 'dam_lev':\n",
    "            score = jellyfish.damerau_levenshtein_distance(s, t) / max(l, len(s)) - 1\n",
    "        elif method == 'jaro':\n",
    "            score = -jellyfish.jaro_distance(s, t)\n",
    "        elif method == 'jaro_win':\n",
    "            score = -jellyfish.jaro_winkler_similarity(s, t)\n",
    "        \n",
    "        heapq.heappushpop(heap, (-score, t))\n",
    "        \n",
    "    heap.sort(reverse=True)\n",
    "    return heap"
   ]
  },
  {
   "cell_type": "code",
   "execution_count": 461,
   "id": "b2ff0fa3-f810-485a-a494-35d83aa57e39",
   "metadata": {},
   "outputs": [
    {
     "data": {
      "text/plain": [
       "[(1.0, 'toys r us'), (0.9, 'toys r us delaware'), (0.6944444444444443, 'tops')]"
      ]
     },
     "execution_count": 461,
     "metadata": {},
     "output_type": "execute_result"
    }
   ],
   "source": [
    "match_top('toys r us', candidates=cands, n=3, method='jaro_win')"
   ]
  },
  {
   "cell_type": "code",
   "execution_count": 440,
   "id": "74797a9e-acf1-4ca4-8ef9-b3a47a297eda",
   "metadata": {},
   "outputs": [
    {
     "data": {
      "text/plain": [
       "0.9416666666666667"
      ]
     },
     "execution_count": 440,
     "metadata": {},
     "output_type": "execute_result"
    },
    {
     "data": {
      "text/plain": [
       "1.0"
      ]
     },
     "execution_count": 440,
     "metadata": {},
     "output_type": "execute_result"
    }
   ],
   "source": [
    "jellyfish.jaro_winkler_similarity('asd', 'asd2')\n",
    "jellyfish.jaro_winkler_similarity('asd', 'asd')"
   ]
  },
  {
   "cell_type": "code",
   "execution_count": 441,
   "id": "9e61469d-cc9e-41b1-a607-36f7b6488e0c",
   "metadata": {},
   "outputs": [
    {
     "data": {
      "application/vnd.jupyter.widget-view+json": {
       "model_id": "2c87c6d6ce704c779f86d429f662147e",
       "version_major": 2,
       "version_minor": 0
      },
      "text/plain": [
       "VBox(children=(HBox(children=(IntProgress(value=0, description='0.00%', max=6348), Label(value='0 / 6348'))), …"
      ]
     },
     "metadata": {},
     "output_type": "display_data"
    }
   ],
   "source": [
    "cp2['match'] = cp2['namec'].parallel_apply(lambda x: match_top(x, cands, 3, 'jaro_win'))"
   ]
  },
  {
   "cell_type": "code",
   "execution_count": 442,
   "id": "5605413c-c7d5-4ba5-89e6-f59d37218090",
   "metadata": {},
   "outputs": [],
   "source": [
    "cp2['match1'], cp2['match2'], cp2['match3']  = zip(*list(cp2['match'].values))  # 这里展开返回的结果"
   ]
  },
  {
   "cell_type": "code",
   "execution_count": 443,
   "id": "36217ce3-8210-408c-b138-6f5a7e7fbeb0",
   "metadata": {},
   "outputs": [
    {
     "data": {
      "text/html": [
       "<div>\n",
       "<style scoped>\n",
       "    .dataframe tbody tr th:only-of-type {\n",
       "        vertical-align: middle;\n",
       "    }\n",
       "\n",
       "    .dataframe tbody tr th {\n",
       "        vertical-align: top;\n",
       "    }\n",
       "\n",
       "    .dataframe thead th {\n",
       "        text-align: right;\n",
       "    }\n",
       "</style>\n",
       "<table border=\"1\" class=\"dataframe\">\n",
       "  <thead>\n",
       "    <tr style=\"text-align: right;\">\n",
       "      <th></th>\n",
       "      <th>gvkey</th>\n",
       "      <th>conm</th>\n",
       "      <th>conml</th>\n",
       "      <th>namec</th>\n",
       "      <th>match</th>\n",
       "      <th>match1</th>\n",
       "      <th>match2</th>\n",
       "      <th>match3</th>\n",
       "      <th>score1</th>\n",
       "      <th>m_namec1</th>\n",
       "      <th>score2</th>\n",
       "      <th>m_namec2</th>\n",
       "      <th>score3</th>\n",
       "      <th>m_namec3</th>\n",
       "    </tr>\n",
       "  </thead>\n",
       "  <tbody>\n",
       "    <tr>\n",
       "      <th>577378</th>\n",
       "      <td>187318</td>\n",
       "      <td>RANGEFORD RESOURCES INC</td>\n",
       "      <td>Rangeford Resources Inc</td>\n",
       "      <td>rangeford resources</td>\n",
       "      <td>[(0.7776573787409701, golden star resource), (...</td>\n",
       "      <td>(0.7776573787409701, golden star resource)</td>\n",
       "      <td>(0.7729554655870444, rhino resources)</td>\n",
       "      <td>(0.7594931773879142, endeavor energy resources)</td>\n",
       "      <td>0.777657</td>\n",
       "      <td>golden star resource</td>\n",
       "      <td>0.772955</td>\n",
       "      <td>rhino resources</td>\n",
       "      <td>0.759493</td>\n",
       "      <td>endeavor energy resources</td>\n",
       "    </tr>\n",
       "    <tr>\n",
       "      <th>175877</th>\n",
       "      <td>9010</td>\n",
       "      <td>REEVES COMMUNICATIONS</td>\n",
       "      <td>Reeves Communications</td>\n",
       "      <td>reeves communications</td>\n",
       "      <td>[(0.8345864661654135, at t communications), (0...</td>\n",
       "      <td>(0.8345864661654135, at t communications)</td>\n",
       "      <td>(0.8331349206349206, iheartcommunications)</td>\n",
       "      <td>(0.826984126984127, cox communications)</td>\n",
       "      <td>0.834586</td>\n",
       "      <td>at t communications</td>\n",
       "      <td>0.833135</td>\n",
       "      <td>iheartcommunications</td>\n",
       "      <td>0.826984</td>\n",
       "      <td>cox communications</td>\n",
       "    </tr>\n",
       "    <tr>\n",
       "      <th>578602</th>\n",
       "      <td>187724</td>\n",
       "      <td>TIM W.E. SGPS SA  -REDH</td>\n",
       "      <td>TIM w.e. SGPS SA</td>\n",
       "      <td>tim w e sgps</td>\n",
       "      <td>[(0.6944444444444443, wind tre spa), (0.652116...</td>\n",
       "      <td>(0.6944444444444443, wind tre spa)</td>\n",
       "      <td>(0.6521164021164022, thomas h lee partners)</td>\n",
       "      <td>(0.65, sabine pass lng)</td>\n",
       "      <td>0.694444</td>\n",
       "      <td>wind tre spa</td>\n",
       "      <td>0.652116</td>\n",
       "      <td>thomas h lee partners</td>\n",
       "      <td>0.650000</td>\n",
       "      <td>sabine pass lng</td>\n",
       "    </tr>\n",
       "  </tbody>\n",
       "</table>\n",
       "</div>"
      ],
      "text/plain": [
       "         gvkey                     conm                    conml  \\\n",
       "577378  187318  RANGEFORD RESOURCES INC  Rangeford Resources Inc   \n",
       "175877    9010    REEVES COMMUNICATIONS    Reeves Communications   \n",
       "578602  187724  TIM W.E. SGPS SA  -REDH         TIM w.e. SGPS SA   \n",
       "\n",
       "                        namec  \\\n",
       "577378    rangeford resources   \n",
       "175877  reeves communications   \n",
       "578602           tim w e sgps   \n",
       "\n",
       "                                                    match  \\\n",
       "577378  [(0.7776573787409701, golden star resource), (...   \n",
       "175877  [(0.8345864661654135, at t communications), (0...   \n",
       "578602  [(0.6944444444444443, wind tre spa), (0.652116...   \n",
       "\n",
       "                                            match1  \\\n",
       "577378  (0.7776573787409701, golden star resource)   \n",
       "175877   (0.8345864661654135, at t communications)   \n",
       "578602          (0.6944444444444443, wind tre spa)   \n",
       "\n",
       "                                             match2  \\\n",
       "577378        (0.7729554655870444, rhino resources)   \n",
       "175877   (0.8331349206349206, iheartcommunications)   \n",
       "578602  (0.6521164021164022, thomas h lee partners)   \n",
       "\n",
       "                                                 match3    score1  \\\n",
       "577378  (0.7594931773879142, endeavor energy resources)  0.777657   \n",
       "175877          (0.826984126984127, cox communications)  0.834586   \n",
       "578602                          (0.65, sabine pass lng)  0.694444   \n",
       "\n",
       "                    m_namec1    score2               m_namec2    score3  \\\n",
       "577378  golden star resource  0.772955        rhino resources  0.759493   \n",
       "175877   at t communications  0.833135   iheartcommunications  0.826984   \n",
       "578602          wind tre spa  0.652116  thomas h lee partners  0.650000   \n",
       "\n",
       "                         m_namec3  \n",
       "577378  endeavor energy resources  \n",
       "175877         cox communications  \n",
       "578602            sabine pass lng  "
      ]
     },
     "execution_count": 443,
     "metadata": {},
     "output_type": "execute_result"
    }
   ],
   "source": [
    "for i in range(3):\n",
    "    i += 1\n",
    "    cp2[f'score{i}'], cp2[f'm_namec{i}'] = zip(*list(cp2[f'match{i}'].values))\n",
    "cp2.sample(3)"
   ]
  },
  {
   "cell_type": "code",
   "execution_count": 444,
   "id": "59647b99-0614-4768-b447-6dbb93c162ad",
   "metadata": {},
   "outputs": [
    {
     "data": {
      "text/html": [
       "<div>\n",
       "<style scoped>\n",
       "    .dataframe tbody tr th:only-of-type {\n",
       "        vertical-align: middle;\n",
       "    }\n",
       "\n",
       "    .dataframe tbody tr th {\n",
       "        vertical-align: top;\n",
       "    }\n",
       "\n",
       "    .dataframe thead th {\n",
       "        text-align: right;\n",
       "    }\n",
       "</style>\n",
       "<table border=\"1\" class=\"dataframe\">\n",
       "  <thead>\n",
       "    <tr style=\"text-align: right;\">\n",
       "      <th></th>\n",
       "      <th>gvkey</th>\n",
       "      <th>conm</th>\n",
       "      <th>conml</th>\n",
       "      <th>namec</th>\n",
       "      <th>score1</th>\n",
       "      <th>m_namec1</th>\n",
       "      <th>score2</th>\n",
       "      <th>m_namec2</th>\n",
       "      <th>score3</th>\n",
       "      <th>m_namec3</th>\n",
       "    </tr>\n",
       "  </thead>\n",
       "  <tbody>\n",
       "    <tr>\n",
       "      <th>334346</th>\n",
       "      <td>22264</td>\n",
       "      <td>SURGICAL TECHNOLOGIES INC</td>\n",
       "      <td>Surgical Technologies Inc</td>\n",
       "      <td>surgical tech</td>\n",
       "      <td>0.806268</td>\n",
       "      <td>sunlands tech</td>\n",
       "      <td>0.737179</td>\n",
       "      <td>co2 tech</td>\n",
       "      <td>0.732692</td>\n",
       "      <td>sport chalet</td>\n",
       "    </tr>\n",
       "    <tr>\n",
       "      <th>568947</th>\n",
       "      <td>184477</td>\n",
       "      <td>DIREXION DAILY MSCI INDIA BU</td>\n",
       "      <td>Direxion Daily MSCI India Bull 3X Shares</td>\n",
       "      <td>direxion daily msci india bull 3x shares</td>\n",
       "      <td>0.661766</td>\n",
       "      <td>guardian life insurance</td>\n",
       "      <td>0.645476</td>\n",
       "      <td>brand industrial services</td>\n",
       "      <td>0.644440</td>\n",
       "      <td>companhia brasileira aluminio</td>\n",
       "    </tr>\n",
       "    <tr>\n",
       "      <th>421286</th>\n",
       "      <td>61163</td>\n",
       "      <td>SUNSTONE HOTEL INVESTORS INC</td>\n",
       "      <td>Sunstone Hotel Investors Inc</td>\n",
       "      <td>sunstone hotel investors</td>\n",
       "      <td>0.752222</td>\n",
       "      <td>southern states cooperative</td>\n",
       "      <td>0.732692</td>\n",
       "      <td>southern california edison</td>\n",
       "      <td>0.707049</td>\n",
       "      <td>navient solutions</td>\n",
       "    </tr>\n",
       "  </tbody>\n",
       "</table>\n",
       "</div>"
      ],
      "text/plain": [
       "         gvkey                          conm  \\\n",
       "334346   22264     SURGICAL TECHNOLOGIES INC   \n",
       "568947  184477  DIREXION DAILY MSCI INDIA BU   \n",
       "421286   61163  SUNSTONE HOTEL INVESTORS INC   \n",
       "\n",
       "                                           conml  \\\n",
       "334346                 Surgical Technologies Inc   \n",
       "568947  Direxion Daily MSCI India Bull 3X Shares   \n",
       "421286              Sunstone Hotel Investors Inc   \n",
       "\n",
       "                                           namec    score1  \\\n",
       "334346                             surgical tech  0.806268   \n",
       "568947  direxion daily msci india bull 3x shares  0.661766   \n",
       "421286                  sunstone hotel investors  0.752222   \n",
       "\n",
       "                           m_namec1    score2                    m_namec2  \\\n",
       "334346                sunlands tech  0.737179                    co2 tech   \n",
       "568947      guardian life insurance  0.645476   brand industrial services   \n",
       "421286  southern states cooperative  0.732692  southern california edison   \n",
       "\n",
       "          score3                       m_namec3  \n",
       "334346  0.732692                   sport chalet  \n",
       "568947  0.644440  companhia brasileira aluminio  \n",
       "421286  0.707049              navient solutions  "
      ]
     },
     "execution_count": 444,
     "metadata": {},
     "output_type": "execute_result"
    }
   ],
   "source": [
    "cp3 = cp2.drop(columns=[x for x in cp2.columns if 'match' in x])\n",
    "cp3.sample(3)"
   ]
  },
  {
   "cell_type": "code",
   "execution_count": 445,
   "id": "ee0d81b8-1844-4d8e-a96c-7898d2cb4ebe",
   "metadata": {},
   "outputs": [
    {
     "data": {
      "text/plain": [
       "<AxesSubplot:>"
      ]
     },
     "execution_count": 445,
     "metadata": {},
     "output_type": "execute_result"
    },
    {
     "data": {
      "image/png": "[encoded data removed]",
      "text/plain": [
       "<Figure size 432x288 with 1 Axes>"
      ]
     },
     "metadata": {
      "needs_background": "light"
     },
     "output_type": "display_data"
    }
   ],
   "source": [
    "cp3['score1'].hist(bins=50)"
   ]
  },
  {
   "cell_type": "code",
   "execution_count": 455,
   "id": "dd28657d-ef4d-41bd-84ed-bf03ae669351",
   "metadata": {},
   "outputs": [
    {
     "data": {
      "text/plain": [
       "(440, 10)"
      ]
     },
     "execution_count": 455,
     "metadata": {},
     "output_type": "execute_result"
    },
    {
     "data": {
      "text/plain": [
       "(64, 10)"
      ]
     },
     "execution_count": 455,
     "metadata": {},
     "output_type": "execute_result"
    }
   ],
   "source": [
    "cp3.loc[cp3['score1'] == 1].shape\n",
    "cp3.loc[cp3['score1'].between(0.95, 0.99, inclusive='neither')].shape"
   ]
  },
  {
   "cell_type": "code",
   "execution_count": 457,
   "id": "5e34a85f-dcea-4c4e-8224-16da5b2d6f57",
   "metadata": {},
   "outputs": [
    {
     "data": {
      "text/html": [
       "<div>\n",
       "<style scoped>\n",
       "    .dataframe tbody tr th:only-of-type {\n",
       "        vertical-align: middle;\n",
       "    }\n",
       "\n",
       "    .dataframe tbody tr th {\n",
       "        vertical-align: top;\n",
       "    }\n",
       "\n",
       "    .dataframe thead th {\n",
       "        text-align: right;\n",
       "    }\n",
       "</style>\n",
       "<table border=\"1\" class=\"dataframe\">\n",
       "  <thead>\n",
       "    <tr style=\"text-align: right;\">\n",
       "      <th></th>\n",
       "      <th>gvkey</th>\n",
       "      <th>conm</th>\n",
       "      <th>conml</th>\n",
       "      <th>namec</th>\n",
       "      <th>score1</th>\n",
       "      <th>m_namec1</th>\n",
       "      <th>score2</th>\n",
       "      <th>m_namec2</th>\n",
       "      <th>score3</th>\n",
       "      <th>m_namec3</th>\n",
       "    </tr>\n",
       "  </thead>\n",
       "  <tbody>\n",
       "    <tr>\n",
       "      <th>151</th>\n",
       "      <td>1010</td>\n",
       "      <td>ACF INDUSTRIES INC</td>\n",
       "      <td>ACF Industries Inc</td>\n",
       "      <td>acf industries</td>\n",
       "      <td>0.976190</td>\n",
       "      <td>cf industries</td>\n",
       "      <td>0.837229</td>\n",
       "      <td>ace securities</td>\n",
       "      <td>0.767507</td>\n",
       "      <td>global industrial</td>\n",
       "    </tr>\n",
       "    <tr>\n",
       "      <th>26883</th>\n",
       "      <td>2224</td>\n",
       "      <td>BIOCHEM INTERNATIONAL INC</td>\n",
       "      <td>Biochem International Inc</td>\n",
       "      <td>biochem international</td>\n",
       "      <td>0.977778</td>\n",
       "      <td>biohemp international</td>\n",
       "      <td>0.862205</td>\n",
       "      <td>ensco international</td>\n",
       "      <td>0.850420</td>\n",
       "      <td>barrick international</td>\n",
       "    </tr>\n",
       "    <tr>\n",
       "      <th>153067</th>\n",
       "      <td>7978</td>\n",
       "      <td>NORTHERN STATES POWER/WI</td>\n",
       "      <td>Northern States Power/WI</td>\n",
       "      <td>northern states power/wi</td>\n",
       "      <td>0.975000</td>\n",
       "      <td>northern states power</td>\n",
       "      <td>0.912745</td>\n",
       "      <td>northern states power of minnesota</td>\n",
       "      <td>0.863278</td>\n",
       "      <td>northern trust</td>\n",
       "    </tr>\n",
       "    <tr>\n",
       "      <th>243148</th>\n",
       "      <td>12439</td>\n",
       "      <td>GENERAL ELECTRIC CAPITAL SVC</td>\n",
       "      <td>General Electric Capital Svc</td>\n",
       "      <td>general electric capital svc</td>\n",
       "      <td>0.971429</td>\n",
       "      <td>general electric capital</td>\n",
       "      <td>0.914286</td>\n",
       "      <td>general electric</td>\n",
       "      <td>0.834127</td>\n",
       "      <td>general motors financial</td>\n",
       "    </tr>\n",
       "    <tr>\n",
       "      <th>322158</th>\n",
       "      <td>20265</td>\n",
       "      <td>CS RESOURCES LTD</td>\n",
       "      <td>CS Resources Ltd</td>\n",
       "      <td>cs resources</td>\n",
       "      <td>0.979487</td>\n",
       "      <td>csn resources</td>\n",
       "      <td>0.815873</td>\n",
       "      <td>gulf resources</td>\n",
       "      <td>0.779582</td>\n",
       "      <td>skye resources</td>\n",
       "    </tr>\n",
       "    <tr>\n",
       "      <th>326642</th>\n",
       "      <td>20838</td>\n",
       "      <td>UTS ENERGY CORP</td>\n",
       "      <td>UTS Energy Corp</td>\n",
       "      <td>uts energy</td>\n",
       "      <td>0.970000</td>\n",
       "      <td>us energy</td>\n",
       "      <td>0.896296</td>\n",
       "      <td>txu energy</td>\n",
       "      <td>0.809259</td>\n",
       "      <td>puget energy</td>\n",
       "    </tr>\n",
       "    <tr>\n",
       "      <th>368752</th>\n",
       "      <td>27240</td>\n",
       "      <td>BALLYS CORP</td>\n",
       "      <td>Ballys Corp</td>\n",
       "      <td>ballys</td>\n",
       "      <td>0.971429</td>\n",
       "      <td>ballys</td>\n",
       "      <td>0.775000</td>\n",
       "      <td>bway</td>\n",
       "      <td>0.772222</td>\n",
       "      <td>barclays capital</td>\n",
       "    </tr>\n",
       "    <tr>\n",
       "      <th>416608</th>\n",
       "      <td>37445</td>\n",
       "      <td>AARONS CO INC (THE)</td>\n",
       "      <td>Aarons Co Inc (The)</td>\n",
       "      <td>aarons</td>\n",
       "      <td>0.971429</td>\n",
       "      <td>aaron s</td>\n",
       "      <td>0.800000</td>\n",
       "      <td>adaro indonesia pt</td>\n",
       "      <td>0.750000</td>\n",
       "      <td>mars</td>\n",
       "    </tr>\n",
       "    <tr>\n",
       "      <th>461720</th>\n",
       "      <td>100401</td>\n",
       "      <td>SPIRENT COMMUNICATIONS</td>\n",
       "      <td>Spirent Communications</td>\n",
       "      <td>spirent communications</td>\n",
       "      <td>0.975180</td>\n",
       "      <td>sprint communications</td>\n",
       "      <td>0.838915</td>\n",
       "      <td>cricket communications</td>\n",
       "      <td>0.776431</td>\n",
       "      <td>iheartcommunications</td>\n",
       "    </tr>\n",
       "    <tr>\n",
       "      <th>465258</th>\n",
       "      <td>106092</td>\n",
       "      <td>INVESTCO INC</td>\n",
       "      <td>Investco Inc</td>\n",
       "      <td>investco</td>\n",
       "      <td>0.975000</td>\n",
       "      <td>invesco</td>\n",
       "      <td>0.813492</td>\n",
       "      <td>vimetco</td>\n",
       "      <td>0.813333</td>\n",
       "      <td>ineos</td>\n",
       "    </tr>\n",
       "    <tr>\n",
       "      <th>473155</th>\n",
       "      <td>110732</td>\n",
       "      <td>WASTE CONNECTIONS INC</td>\n",
       "      <td>Waste Connections Inc.</td>\n",
       "      <td>waste connections</td>\n",
       "      <td>0.970000</td>\n",
       "      <td>waste connections us</td>\n",
       "      <td>0.837908</td>\n",
       "      <td>waste pro</td>\n",
       "      <td>0.822647</td>\n",
       "      <td>waste management</td>\n",
       "    </tr>\n",
       "    <tr>\n",
       "      <th>530279</th>\n",
       "      <td>162973</td>\n",
       "      <td>EQUITY METALS CORP</td>\n",
       "      <td>Equity Metals Corp</td>\n",
       "      <td>metals</td>\n",
       "      <td>0.971429</td>\n",
       "      <td>metalsa</td>\n",
       "      <td>0.822222</td>\n",
       "      <td>metlife</td>\n",
       "      <td>0.792593</td>\n",
       "      <td>metinvest</td>\n",
       "    </tr>\n",
       "    <tr>\n",
       "      <th>543643</th>\n",
       "      <td>175087</td>\n",
       "      <td>METALS USA HOLDINGS CORP</td>\n",
       "      <td>Metals USA Holdings Corp</td>\n",
       "      <td>metals</td>\n",
       "      <td>0.971429</td>\n",
       "      <td>metalsa</td>\n",
       "      <td>0.822222</td>\n",
       "      <td>metlife</td>\n",
       "      <td>0.792593</td>\n",
       "      <td>metinvest</td>\n",
       "    </tr>\n",
       "    <tr>\n",
       "      <th>559840</th>\n",
       "      <td>179846</td>\n",
       "      <td>MHP S.E</td>\n",
       "      <td>MHP S.E</td>\n",
       "      <td>mhp s e</td>\n",
       "      <td>0.971429</td>\n",
       "      <td>mhp se</td>\n",
       "      <td>0.699634</td>\n",
       "      <td>macy s retail</td>\n",
       "      <td>0.681139</td>\n",
       "      <td>merck sharp dohme</td>\n",
       "    </tr>\n",
       "    <tr>\n",
       "      <th>564344</th>\n",
       "      <td>183078</td>\n",
       "      <td>ENVIRORESOLUTIONS INC</td>\n",
       "      <td>EnviroResolutions Inc</td>\n",
       "      <td>enviroresolutions</td>\n",
       "      <td>0.976471</td>\n",
       "      <td>envirosolutions</td>\n",
       "      <td>0.766214</td>\n",
       "      <td>profile solutions</td>\n",
       "      <td>0.766214</td>\n",
       "      <td>navient solutions</td>\n",
       "    </tr>\n",
       "  </tbody>\n",
       "</table>\n",
       "</div>"
      ],
      "text/plain": [
       "         gvkey                          conm                         conml  \\\n",
       "151       1010            ACF INDUSTRIES INC            ACF Industries Inc   \n",
       "26883     2224     BIOCHEM INTERNATIONAL INC     Biochem International Inc   \n",
       "153067    7978      NORTHERN STATES POWER/WI      Northern States Power/WI   \n",
       "243148   12439  GENERAL ELECTRIC CAPITAL SVC  General Electric Capital Svc   \n",
       "322158   20265              CS RESOURCES LTD              CS Resources Ltd   \n",
       "326642   20838               UTS ENERGY CORP               UTS Energy Corp   \n",
       "368752   27240                   BALLYS CORP                   Ballys Corp   \n",
       "416608   37445           AARONS CO INC (THE)           Aarons Co Inc (The)   \n",
       "461720  100401        SPIRENT COMMUNICATIONS        Spirent Communications   \n",
       "465258  106092                  INVESTCO INC                  Investco Inc   \n",
       "473155  110732         WASTE CONNECTIONS INC        Waste Connections Inc.   \n",
       "530279  162973            EQUITY METALS CORP            Equity Metals Corp   \n",
       "543643  175087      METALS USA HOLDINGS CORP      Metals USA Holdings Corp   \n",
       "559840  179846                       MHP S.E                       MHP S.E   \n",
       "564344  183078         ENVIRORESOLUTIONS INC         EnviroResolutions Inc   \n",
       "\n",
       "                               namec    score1                  m_namec1  \\\n",
       "151                   acf industries  0.976190             cf industries   \n",
       "26883          biochem international  0.977778     biohemp international   \n",
       "153067      northern states power/wi  0.975000     northern states power   \n",
       "243148  general electric capital svc  0.971429  general electric capital   \n",
       "322158                  cs resources  0.979487             csn resources   \n",
       "326642                    uts energy  0.970000                 us energy   \n",
       "368752                        ballys  0.971429                   ballys   \n",
       "416608                        aarons  0.971429                   aaron s   \n",
       "461720        spirent communications  0.975180     sprint communications   \n",
       "465258                      investco  0.975000                   invesco   \n",
       "473155             waste connections  0.970000      waste connections us   \n",
       "530279                        metals  0.971429                   metalsa   \n",
       "543643                        metals  0.971429                   metalsa   \n",
       "559840                       mhp s e  0.971429                    mhp se   \n",
       "564344             enviroresolutions  0.976471           envirosolutions   \n",
       "\n",
       "          score2                            m_namec2    score3  \\\n",
       "151     0.837229                      ace securities  0.767507   \n",
       "26883   0.862205                 ensco international  0.850420   \n",
       "153067  0.912745  northern states power of minnesota  0.863278   \n",
       "243148  0.914286                    general electric  0.834127   \n",
       "322158  0.815873                      gulf resources  0.779582   \n",
       "326642  0.896296                          txu energy  0.809259   \n",
       "368752  0.775000                                bway  0.772222   \n",
       "416608  0.800000                  adaro indonesia pt  0.750000   \n",
       "461720  0.838915              cricket communications  0.776431   \n",
       "465258  0.813492                             vimetco  0.813333   \n",
       "473155  0.837908                           waste pro  0.822647   \n",
       "530279  0.822222                             metlife  0.792593   \n",
       "543643  0.822222                             metlife  0.792593   \n",
       "559840  0.699634                       macy s retail  0.681139   \n",
       "564344  0.766214                   profile solutions  0.766214   \n",
       "\n",
       "                        m_namec3  \n",
       "151            global industrial  \n",
       "26883      barrick international  \n",
       "153067            northern trust  \n",
       "243148  general motors financial  \n",
       "322158            skye resources  \n",
       "326642              puget energy  \n",
       "368752          barclays capital  \n",
       "416608                      mars  \n",
       "461720      iheartcommunications  \n",
       "465258                     ineos  \n",
       "473155          waste management  \n",
       "530279                 metinvest  \n",
       "543643                 metinvest  \n",
       "559840         merck sharp dohme  \n",
       "564344         navient solutions  "
      ]
     },
     "execution_count": 457,
     "metadata": {},
     "output_type": "execute_result"
    }
   ],
   "source": [
    "# cp3.loc[cp3['score1'] == 1].sample(10)\n",
    "# cp3.loc[cp3['score1'].between(0.95, 0.96)]  #.sample()\n",
    "# cp3.loc[cp3['score1'].between(0.96, 0.97)]\n",
    "cp3.loc[cp3['score1'].between(0.97, 0.98)]"
   ]
  },
  {
   "cell_type": "code",
   "execution_count": 424,
   "id": "ee8b80f7-be99-4127-a133-a1ab9d8ae3f7",
   "metadata": {},
   "outputs": [
    {
     "data": {
      "text/html": [
       "<div>\n",
       "<style scoped>\n",
       "    .dataframe tbody tr th:only-of-type {\n",
       "        vertical-align: middle;\n",
       "    }\n",
       "\n",
       "    .dataframe tbody tr th {\n",
       "        vertical-align: top;\n",
       "    }\n",
       "\n",
       "    .dataframe thead th {\n",
       "        text-align: right;\n",
       "    }\n",
       "</style>\n",
       "<table border=\"1\" class=\"dataframe\">\n",
       "  <thead>\n",
       "    <tr style=\"text-align: right;\">\n",
       "      <th></th>\n",
       "      <th>RepRisk_ID</th>\n",
       "      <th>name</th>\n",
       "      <th>namec</th>\n",
       "    </tr>\n",
       "  </thead>\n",
       "  <tbody>\n",
       "    <tr>\n",
       "      <th>580944</th>\n",
       "      <td>62219</td>\n",
       "      <td>LG&amp;E and KU Energy LLC (formerly E.ON US)</td>\n",
       "      <td>lg e ku energy</td>\n",
       "    </tr>\n",
       "  </tbody>\n",
       "</table>\n",
       "</div>"
      ],
      "text/plain": [
       "        RepRisk_ID                                       name           namec\n",
       "580944       62219  LG&E and KU Energy LLC (formerly E.ON US)  lg e ku energy"
      ]
     },
     "execution_count": 424,
     "metadata": {},
     "output_type": "execute_result"
    }
   ],
   "source": [
    "df2.loc[df2['namec'] == 'lg e ku energy']"
   ]
  },
  {
   "cell_type": "code",
   "execution_count": null,
   "id": "91cb20e0-9d35-43a6-8d9b-1710d497c1e2",
   "metadata": {},
   "outputs": [],
   "source": []
  }
 ],
 "metadata": {
  "kernelspec": {
   "display_name": "Python 3 (ipykernel)",
   "language": "python",
   "name": "python3"
  },
  "language_info": {
   "codemirror_mode": {
    "name": "ipython",
    "version": 3
   },
   "file_extension": ".py",
   "mimetype": "text/x-python",
   "name": "python",
   "nbconvert_exporter": "python",
   "pygments_lexer": "ipython3",
   "version": "3.9.12"
  },
  "toc-autonumbering": true
 },
 "nbformat": 4,
 "nbformat_minor": 5
}
