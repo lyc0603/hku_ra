{
 "cells": [
  {
   "cell_type": "markdown",
   "id": "83f230f9-6e46-4f31-9e9b-75a39684e271",
   "metadata": {},
   "source": [
    "<p style=\"font-size:200%;font-weight:bold\"> Fuzzy Matching </p>"
   ]
  },
  {
   "cell_type": "markdown",
   "id": "a01e8633-d663-409d-b47b-7c58c2568db8",
   "metadata": {},
   "source": [
    "- re.sub('[\\(\\[].*[\\)\\]]', '', s) 为什么是reprisk特有pattern\n",
    "- 为什么正则表达式一定要用triple quote， 因为有'和\"了是么"
   ]
  },
  {
   "cell_type": "code",
   "execution_count": 2,
   "id": "26afaf2b-7044-41c9-84c7-758e2d8ef751",
   "metadata": {},
   "outputs": [
    {
     "name": "stdout",
     "output_type": "stream",
     "text": [
      "INFO: Pandarallel will run on 6 workers.\n",
      "INFO: Pandarallel will use Memory file system to transfer data between the main process and workers.\n"
     ]
    }
   ],
   "source": [
    "import re\n",
    "#正则表达式\n",
    "import heapq\n",
    "#堆队列算法\n",
    "\n",
    "import pandas as pd\n",
    "import numpy as np\n",
    "import jellyfish\n",
    "from pandarallel import pandarallel\n",
    "from IPython.core.interactiveshell import InteractiveShell\n",
    "\n",
    "InteractiveShell.ast_node_interactivity = 'all'\n",
    "pandarallel.initialize(progress_bar=True, nb_workers=6)\n",
    "\n",
    "DB = '/home/data/'\n",
    "ROOT = '/home/team_crypto/2022_esg_peer/'\n",
    "\n",
    "RD = f'{ROOT}02_rdata/'\n",
    "WD = f'{ROOT}03_wdata/'"
   ]
  },
  {
   "cell_type": "code",
   "execution_count": 12,
   "id": "92477643-38e1-4915-9e66-72d499462c05",
   "metadata": {},
   "outputs": [
    {
     "data": {
      "text/plain": [
       "(830760, 12)"
      ]
     },
     "execution_count": 12,
     "metadata": {},
     "output_type": "execute_result"
    },
    {
     "data": {
      "text/html": [
       "<div>\n",
       "<style scoped>\n",
       "    .dataframe tbody tr th:only-of-type {\n",
       "        vertical-align: middle;\n",
       "    }\n",
       "\n",
       "    .dataframe tbody tr th {\n",
       "        vertical-align: top;\n",
       "    }\n",
       "\n",
       "    .dataframe thead th {\n",
       "        text-align: right;\n",
       "    }\n",
       "</style>\n",
       "<table border=\"1\" class=\"dataframe\">\n",
       "  <thead>\n",
       "    <tr style=\"text-align: right;\">\n",
       "      <th></th>\n",
       "      <th>RepRisk_ID</th>\n",
       "      <th>date</th>\n",
       "      <th>current_RRI</th>\n",
       "      <th>name</th>\n",
       "      <th>all_ISINs</th>\n",
       "      <th>primary_ISIN</th>\n",
       "      <th>headquarter_country_code</th>\n",
       "      <th>iscu</th>\n",
       "      <th>tic</th>\n",
       "      <th>cusip</th>\n",
       "      <th>conm</th>\n",
       "      <th>_merge</th>\n",
       "    </tr>\n",
       "  </thead>\n",
       "  <tbody>\n",
       "    <tr>\n",
       "      <th>453785</th>\n",
       "      <td>40063</td>\n",
       "      <td>2008-06-30</td>\n",
       "      <td>0</td>\n",
       "      <td>Costa Inc (formerly AT Cross Co)</td>\n",
       "      <td>US22149T1025</td>\n",
       "      <td>US22149T1025</td>\n",
       "      <td>US</td>\n",
       "      <td>22149T10</td>\n",
       "      <td>ATX</td>\n",
       "      <td>22149T102</td>\n",
       "      <td>COSTA INC   -CL A</td>\n",
       "      <td>both</td>\n",
       "    </tr>\n",
       "    <tr>\n",
       "      <th>146722</th>\n",
       "      <td>131666</td>\n",
       "      <td>2011-11-30</td>\n",
       "      <td>0</td>\n",
       "      <td>Endeavor Energy Resources LP</td>\n",
       "      <td>US29260FAF71 US29260FAB67 US29260FAC41 US29260...</td>\n",
       "      <td>US29260FAA84</td>\n",
       "      <td>US</td>\n",
       "      <td>29260FAA</td>\n",
       "      <td>None</td>\n",
       "      <td>None</td>\n",
       "      <td>None</td>\n",
       "      <td>left_only</td>\n",
       "    </tr>\n",
       "    <tr>\n",
       "      <th>482693</th>\n",
       "      <td>44039</td>\n",
       "      <td>2009-06-30</td>\n",
       "      <td>0</td>\n",
       "      <td>ReShape Lifesciences Inc (formerly EnteroMedic...</td>\n",
       "      <td>None</td>\n",
       "      <td>US7611236032</td>\n",
       "      <td>US</td>\n",
       "      <td>76112360</td>\n",
       "      <td>None</td>\n",
       "      <td>None</td>\n",
       "      <td>None</td>\n",
       "      <td>left_only</td>\n",
       "    </tr>\n",
       "  </tbody>\n",
       "</table>\n",
       "</div>"
      ],
      "text/plain": [
       "        RepRisk_ID       date  current_RRI  \\\n",
       "453785       40063 2008-06-30            0   \n",
       "146722      131666 2011-11-30            0   \n",
       "482693       44039 2009-06-30            0   \n",
       "\n",
       "                                                     name  \\\n",
       "453785                   Costa Inc (formerly AT Cross Co)   \n",
       "146722                       Endeavor Energy Resources LP   \n",
       "482693  ReShape Lifesciences Inc (formerly EnteroMedic...   \n",
       "\n",
       "                                                all_ISINs  primary_ISIN  \\\n",
       "453785                                       US22149T1025  US22149T1025   \n",
       "146722  US29260FAF71 US29260FAB67 US29260FAC41 US29260...  US29260FAA84   \n",
       "482693                                               None  US7611236032   \n",
       "\n",
       "       headquarter_country_code      iscu   tic      cusip               conm  \\\n",
       "453785                       US  22149T10   ATX  22149T102  COSTA INC   -CL A   \n",
       "146722                       US  29260FAA  None       None               None   \n",
       "482693                       US  76112360  None       None               None   \n",
       "\n",
       "           _merge  \n",
       "453785       both  \n",
       "146722  left_only  \n",
       "482693  left_only  "
      ]
     },
     "execution_count": 12,
     "metadata": {},
     "output_type": "execute_result"
    }
   ],
   "source": [
    "df= pd.read_parquet(f'{WD}reprisk_compustat.pq')\n",
    "df.shape\n",
    "df.sample(3)"
   ]
  },
  {
   "cell_type": "code",
   "execution_count": 13,
   "id": "de3e9707-32f7-4694-b502-6eda66cfdd98",
   "metadata": {},
   "outputs": [
    {
     "data": {
      "text/plain": [
       "(587111, 14)"
      ]
     },
     "execution_count": 13,
     "metadata": {},
     "output_type": "execute_result"
    },
    {
     "data": {
      "text/html": [
       "<div>\n",
       "<style scoped>\n",
       "    .dataframe tbody tr th:only-of-type {\n",
       "        vertical-align: middle;\n",
       "    }\n",
       "\n",
       "    .dataframe tbody tr th {\n",
       "        vertical-align: top;\n",
       "    }\n",
       "\n",
       "    .dataframe thead th {\n",
       "        text-align: right;\n",
       "    }\n",
       "</style>\n",
       "<table border=\"1\" class=\"dataframe\">\n",
       "  <thead>\n",
       "    <tr style=\"text-align: right;\">\n",
       "      <th></th>\n",
       "      <th>gvkey</th>\n",
       "      <th>datadate</th>\n",
       "      <th>fyear</th>\n",
       "      <th>indfmt</th>\n",
       "      <th>consol</th>\n",
       "      <th>popsrc</th>\n",
       "      <th>datafmt</th>\n",
       "      <th>tic</th>\n",
       "      <th>cusip</th>\n",
       "      <th>conm</th>\n",
       "      <th>curcd</th>\n",
       "      <th>at</th>\n",
       "      <th>costat</th>\n",
       "      <th>conml</th>\n",
       "    </tr>\n",
       "  </thead>\n",
       "  <tbody>\n",
       "    <tr>\n",
       "      <th>153552</th>\n",
       "      <td>7993</td>\n",
       "      <td>19781231</td>\n",
       "      <td>1978.0</td>\n",
       "      <td>INDL</td>\n",
       "      <td>C</td>\n",
       "      <td>D</td>\n",
       "      <td>STD</td>\n",
       "      <td>NWN</td>\n",
       "      <td>66765N105</td>\n",
       "      <td>NORTHWEST NATURAL HLDNG CO</td>\n",
       "      <td>USD</td>\n",
       "      <td>266.873</td>\n",
       "      <td>A</td>\n",
       "      <td>Northwest Natural Holding Co</td>\n",
       "    </tr>\n",
       "    <tr>\n",
       "      <th>42960</th>\n",
       "      <td>2960</td>\n",
       "      <td>20171231</td>\n",
       "      <td>2017.0</td>\n",
       "      <td>INDL</td>\n",
       "      <td>C</td>\n",
       "      <td>D</td>\n",
       "      <td>STD</td>\n",
       "      <td>CHE</td>\n",
       "      <td>16359R103</td>\n",
       "      <td>CHEMED CORP</td>\n",
       "      <td>USD</td>\n",
       "      <td>920.026</td>\n",
       "      <td>A</td>\n",
       "      <td>Chemed Corp</td>\n",
       "    </tr>\n",
       "    <tr>\n",
       "      <th>54319</th>\n",
       "      <td>3473</td>\n",
       "      <td>19671231</td>\n",
       "      <td>1967.0</td>\n",
       "      <td>INDL</td>\n",
       "      <td>C</td>\n",
       "      <td>D</td>\n",
       "      <td>STD</td>\n",
       "      <td>CTC.1</td>\n",
       "      <td>210902102</td>\n",
       "      <td>CONTEL CORP</td>\n",
       "      <td>USD</td>\n",
       "      <td>692.400</td>\n",
       "      <td>I</td>\n",
       "      <td>Contel Corp</td>\n",
       "    </tr>\n",
       "  </tbody>\n",
       "</table>\n",
       "</div>"
      ],
      "text/plain": [
       "        gvkey  datadate   fyear indfmt consol popsrc datafmt    tic  \\\n",
       "153552   7993  19781231  1978.0   INDL      C      D     STD    NWN   \n",
       "42960    2960  20171231  2017.0   INDL      C      D     STD    CHE   \n",
       "54319    3473  19671231  1967.0   INDL      C      D     STD  CTC.1   \n",
       "\n",
       "            cusip                        conm curcd       at costat  \\\n",
       "153552  66765N105  NORTHWEST NATURAL HLDNG CO   USD  266.873      A   \n",
       "42960   16359R103                 CHEMED CORP   USD  920.026      A   \n",
       "54319   210902102                 CONTEL CORP   USD  692.400      I   \n",
       "\n",
       "                               conml  \n",
       "153552  Northwest Natural Holding Co  \n",
       "42960                    Chemed Corp  \n",
       "54319                    Contel Corp  "
      ]
     },
     "execution_count": 13,
     "metadata": {},
     "output_type": "execute_result"
    }
   ],
   "source": [
    "cp = pd.read_csv(f'{RD}comp_na_daily_all.csv')\n",
    "cp.shape\n",
    "cp.sample(3)"
   ]
  },
  {
   "cell_type": "code",
   "execution_count": 14,
   "id": "1d8f71ce-7932-48d0-8793-1d1e5efa7941",
   "metadata": {},
   "outputs": [
    {
     "data": {
      "text/plain": [
       "'indianapolis power light'"
      ]
     },
     "execution_count": 14,
     "metadata": {},
     "output_type": "execute_result"
    },
    {
     "data": {
      "text/plain": [
       "'pinnacle bank'"
      ]
     },
     "execution_count": 14,
     "metadata": {},
     "output_type": "execute_result"
    }
   ],
   "source": [
    "PUNC = ''' |,|\\.|;|:|\\||\\(|\\)|&|'|\"''' #|代表either; 少打了一个‘ ’导致错误; 三引号支持字符串跨多行\n",
    "\n",
    "REMOVE = [\n",
    "    '', 'inc', 'fund', 'ltd', 'plt',\n",
    "    'corporation', 'corp', 'group', 'holdings',\n",
    "    'co', 'sa', 'cv', 'llc', 'de', 'the', 'holding', 'na', 'usa',\n",
    "    'bv', 'holdco', 'lp', 'plc', 'etf', 'ab', 'and', 'nv',\n",
    "    'equity', 'enterprises'\n",
    "]\n",
    "\n",
    "REPLACE = {                              #可以理解为创建了一个映射\n",
    "    'bancorp': 'bank',\n",
    "    'banc': 'bank',\n",
    "    'biotechnologies': 'biotech',\n",
    "    'biotechnology': 'biotech',\n",
    "    'technologies': 'tech',\n",
    "    'technology': 'tech'\n",
    "}\n",
    "\n",
    "def clean_name(s):\n",
    "    s = s.lower()     #变成小写\n",
    "    s = re.sub('[\\(\\[].*[\\)\\]]', '', s)   #Delete pattern 反斜杠\\用来调用特殊字符但不调用其特殊含义; []其中可以将字母担单独分开并且使特殊符号失去含义 \n",
    "    #去除了括号里的内容 把上述语句拆分就是 [ \\( \\[ ]  .* [ \\) \\] ]; .*代表匹配除换行符以外的所有字符\n",
    "    ws = re.split(PUNC, s)                #用pattern来分成一个list\n",
    "    ws = [w for w in ws if w not in REMOVE] #if决定了for是否运行 for 后置必须以list[]的形式出现\n",
    "    return ' '.join([w if w not in REPLACE else REPLACE[w] for w in ws]) #in / not in 检验sequence(string,list..)的组成成分; join用某个字符链接list里的所有字符\n",
    "                                                                        #for后置顺序颠倒\n",
    "clean_name('Indianapolis Power & Light Co (IPL; IPALCO)')\n",
    "clean_name('Pinnacle Banc Group Inc')"
   ]
  },
  {
   "cell_type": "markdown",
   "id": "8e651835-b94b-4a44-b3aa-c7ec3650566e",
   "metadata": {},
   "source": [
    "# Reprisk"
   ]
  },
  {
   "cell_type": "code",
   "execution_count": 15,
   "id": "b384a481-8f9f-4187-8665-e90c9ea07d39",
   "metadata": {},
   "outputs": [
    {
     "data": {
      "text/plain": [
       "(1418, 2)"
      ]
     },
     "execution_count": 15,
     "metadata": {},
     "output_type": "execute_result"
    },
    {
     "data": {
      "text/html": [
       "<div>\n",
       "<style scoped>\n",
       "    .dataframe tbody tr th:only-of-type {\n",
       "        vertical-align: middle;\n",
       "    }\n",
       "\n",
       "    .dataframe tbody tr th {\n",
       "        vertical-align: top;\n",
       "    }\n",
       "\n",
       "    .dataframe thead th {\n",
       "        text-align: right;\n",
       "    }\n",
       "</style>\n",
       "<table border=\"1\" class=\"dataframe\">\n",
       "  <thead>\n",
       "    <tr style=\"text-align: right;\">\n",
       "      <th></th>\n",
       "      <th>RepRisk_ID</th>\n",
       "      <th>name</th>\n",
       "    </tr>\n",
       "  </thead>\n",
       "  <tbody>\n",
       "    <tr>\n",
       "      <th>303072</th>\n",
       "      <td>20119</td>\n",
       "      <td>Ocean Spray Cranberries Inc</td>\n",
       "    </tr>\n",
       "    <tr>\n",
       "      <th>747264</th>\n",
       "      <td>86072</td>\n",
       "      <td>PDX Partners Inc (formerly My Social Income In...</td>\n",
       "    </tr>\n",
       "    <tr>\n",
       "      <th>239064</th>\n",
       "      <td>167921</td>\n",
       "      <td>OneMain Financial Inc (formerly CitiFinancial)</td>\n",
       "    </tr>\n",
       "  </tbody>\n",
       "</table>\n",
       "</div>"
      ],
      "text/plain": [
       "        RepRisk_ID                                               name\n",
       "303072       20119                        Ocean Spray Cranberries Inc\n",
       "747264       86072  PDX Partners Inc (formerly My Social Income In...\n",
       "239064      167921     OneMain Financial Inc (formerly CitiFinancial)"
      ]
     },
     "execution_count": 15,
     "metadata": {},
     "output_type": "execute_result"
    }
   ],
   "source": [
    "df2 = df.loc[df['_merge'] == 'left_only', ['RepRisk_ID', 'name']].drop_duplicates()\n",
    "df2.shape\n",
    "df2.sample(3)"
   ]
  },
  {
   "cell_type": "code",
   "execution_count": 16,
   "id": "598ca6d4-5f8a-418a-992e-24eb5429d92b",
   "metadata": {},
   "outputs": [
    {
     "data": {
      "text/html": [
       "<div>\n",
       "<style scoped>\n",
       "    .dataframe tbody tr th:only-of-type {\n",
       "        vertical-align: middle;\n",
       "    }\n",
       "\n",
       "    .dataframe tbody tr th {\n",
       "        vertical-align: top;\n",
       "    }\n",
       "\n",
       "    .dataframe thead th {\n",
       "        text-align: right;\n",
       "    }\n",
       "</style>\n",
       "<table border=\"1\" class=\"dataframe\">\n",
       "  <thead>\n",
       "    <tr style=\"text-align: right;\">\n",
       "      <th></th>\n",
       "      <th>RepRisk_ID</th>\n",
       "      <th>name</th>\n",
       "      <th>namec</th>\n",
       "    </tr>\n",
       "  </thead>\n",
       "  <tbody>\n",
       "    <tr>\n",
       "      <th>76272</th>\n",
       "      <td>116062</td>\n",
       "      <td>Kaiser Foundation Hospitals Inc</td>\n",
       "      <td>kaiser foundation hospitals</td>\n",
       "    </tr>\n",
       "    <tr>\n",
       "      <th>701064</th>\n",
       "      <td>79172</td>\n",
       "      <td>Patriot Renewable Fuels LLC</td>\n",
       "      <td>patriot renewable fuels</td>\n",
       "    </tr>\n",
       "    <tr>\n",
       "      <th>764064</th>\n",
       "      <td>88973</td>\n",
       "      <td>Cannonau Corp (formerly Pacific Blue Energy Corp)</td>\n",
       "      <td>cannonau</td>\n",
       "    </tr>\n",
       "  </tbody>\n",
       "</table>\n",
       "</div>"
      ],
      "text/plain": [
       "        RepRisk_ID                                               name  \\\n",
       "76272       116062                    Kaiser Foundation Hospitals Inc   \n",
       "701064       79172                        Patriot Renewable Fuels LLC   \n",
       "764064       88973  Cannonau Corp (formerly Pacific Blue Energy Corp)   \n",
       "\n",
       "                              namec  \n",
       "76272   kaiser foundation hospitals  \n",
       "701064      patriot renewable fuels  \n",
       "764064                     cannonau  "
      ]
     },
     "execution_count": 16,
     "metadata": {},
     "output_type": "execute_result"
    }
   ],
   "source": [
    "df2['namec'] = df2['name'].apply(clean_name)\n",
    "df2.sample(3)"
   ]
  },
  {
   "cell_type": "code",
   "execution_count": 17,
   "id": "2b4a0c10-ebde-4f3a-8130-0234aa0c7d0c",
   "metadata": {},
   "outputs": [
    {
     "data": {
      "text/plain": [
       "16"
      ]
     },
     "execution_count": 17,
     "metadata": {},
     "output_type": "execute_result"
    }
   ],
   "source": [
    "df2['namec'].duplicated().sum()"
   ]
  },
  {
   "cell_type": "code",
   "execution_count": 18,
   "id": "a4b03b41-cf08-4dae-9703-43245b1b4ab0",
   "metadata": {},
   "outputs": [
    {
     "data": {
      "text/html": [
       "<div>\n",
       "<style scoped>\n",
       "    .dataframe tbody tr th:only-of-type {\n",
       "        vertical-align: middle;\n",
       "    }\n",
       "\n",
       "    .dataframe tbody tr th {\n",
       "        vertical-align: top;\n",
       "    }\n",
       "\n",
       "    .dataframe thead th {\n",
       "        text-align: right;\n",
       "    }\n",
       "</style>\n",
       "<table border=\"1\" class=\"dataframe\">\n",
       "  <thead>\n",
       "    <tr style=\"text-align: right;\">\n",
       "      <th></th>\n",
       "      <th>RepRisk_ID</th>\n",
       "      <th>name</th>\n",
       "      <th>namec</th>\n",
       "    </tr>\n",
       "  </thead>\n",
       "  <tbody>\n",
       "    <tr>\n",
       "      <th>85344</th>\n",
       "      <td>1175730</td>\n",
       "      <td>Kmart Holding Corp</td>\n",
       "      <td>kmart</td>\n",
       "    </tr>\n",
       "  </tbody>\n",
       "</table>\n",
       "</div>"
      ],
      "text/plain": [
       "       RepRisk_ID                name  namec\n",
       "85344     1175730  Kmart Holding Corp  kmart"
      ]
     },
     "execution_count": 18,
     "metadata": {},
     "output_type": "execute_result"
    }
   ],
   "source": [
    "df2.loc[df2['namec'].duplicated()].sample()"
   ]
  },
  {
   "cell_type": "code",
   "execution_count": 19,
   "id": "826e3a8c-0a9f-490b-be36-1780226d7c6d",
   "metadata": {},
   "outputs": [
    {
     "data": {
      "text/html": [
       "<div>\n",
       "<style scoped>\n",
       "    .dataframe tbody tr th:only-of-type {\n",
       "        vertical-align: middle;\n",
       "    }\n",
       "\n",
       "    .dataframe tbody tr th {\n",
       "        vertical-align: top;\n",
       "    }\n",
       "\n",
       "    .dataframe thead th {\n",
       "        text-align: right;\n",
       "    }\n",
       "</style>\n",
       "<table border=\"1\" class=\"dataframe\">\n",
       "  <thead>\n",
       "    <tr style=\"text-align: right;\">\n",
       "      <th></th>\n",
       "      <th>RepRisk_ID</th>\n",
       "      <th>name</th>\n",
       "      <th>namec</th>\n",
       "    </tr>\n",
       "  </thead>\n",
       "  <tbody>\n",
       "    <tr>\n",
       "      <th>386736</th>\n",
       "      <td>31141</td>\n",
       "      <td>SolarWinds Inc</td>\n",
       "      <td>solarwinds</td>\n",
       "    </tr>\n",
       "    <tr>\n",
       "      <th>514248</th>\n",
       "      <td>487182</td>\n",
       "      <td>SolarWinds Corp</td>\n",
       "      <td>solarwinds</td>\n",
       "    </tr>\n",
       "  </tbody>\n",
       "</table>\n",
       "</div>"
      ],
      "text/plain": [
       "        RepRisk_ID             name       namec\n",
       "386736       31141   SolarWinds Inc  solarwinds\n",
       "514248      487182  SolarWinds Corp  solarwinds"
      ]
     },
     "execution_count": 19,
     "metadata": {},
     "output_type": "execute_result"
    }
   ],
   "source": [
    "df2.loc[df2['namec'] == 'solarwinds']"
   ]
  },
  {
   "cell_type": "code",
   "execution_count": 20,
   "id": "add9a4f2-8628-4fc1-84bc-f5dcc1a7ef67",
   "metadata": {},
   "outputs": [],
   "source": [
    "cands = set(df2['namec'])"
   ]
  },
  {
   "cell_type": "markdown",
   "id": "32647f17-cdb7-441e-932b-ba273c291cc0",
   "metadata": {},
   "source": [
    "# Compustat"
   ]
  },
  {
   "cell_type": "code",
   "execution_count": 21,
   "id": "fe4d16ef-d361-446d-bf8c-5ac2d94d4fae",
   "metadata": {},
   "outputs": [
    {
     "data": {
      "text/plain": [
       "3527"
      ]
     },
     "execution_count": 21,
     "metadata": {},
     "output_type": "execute_result"
    }
   ],
   "source": [
    "matched = set(df.loc[df['cusip'].notna(), 'cusip'])\n",
    "len(matched)"
   ]
  },
  {
   "cell_type": "code",
   "execution_count": 22,
   "id": "58c36c44-8484-4eec-9176-c86ca9d25ed6",
   "metadata": {},
   "outputs": [
    {
     "data": {
      "text/plain": [
       "(38084, 3)"
      ]
     },
     "execution_count": 22,
     "metadata": {},
     "output_type": "execute_result"
    },
    {
     "data": {
      "text/html": [
       "<div>\n",
       "<style scoped>\n",
       "    .dataframe tbody tr th:only-of-type {\n",
       "        vertical-align: middle;\n",
       "    }\n",
       "\n",
       "    .dataframe tbody tr th {\n",
       "        vertical-align: top;\n",
       "    }\n",
       "\n",
       "    .dataframe thead th {\n",
       "        text-align: right;\n",
       "    }\n",
       "</style>\n",
       "<table border=\"1\" class=\"dataframe\">\n",
       "  <thead>\n",
       "    <tr style=\"text-align: right;\">\n",
       "      <th></th>\n",
       "      <th>gvkey</th>\n",
       "      <th>conm</th>\n",
       "      <th>conml</th>\n",
       "    </tr>\n",
       "  </thead>\n",
       "  <tbody>\n",
       "    <tr>\n",
       "      <th>33231</th>\n",
       "      <td>2521</td>\n",
       "      <td>REUNION INDUSTRIES INC</td>\n",
       "      <td>Reunion Industries Inc</td>\n",
       "    </tr>\n",
       "    <tr>\n",
       "      <th>369046</th>\n",
       "      <td>27338</td>\n",
       "      <td>APTEVO THERAPEUTICS INC</td>\n",
       "      <td>Aptevo Therapeutics Inc</td>\n",
       "    </tr>\n",
       "    <tr>\n",
       "      <th>574040</th>\n",
       "      <td>186080</td>\n",
       "      <td>NULEGACY GOLD CORP</td>\n",
       "      <td>NuLegacy Gold Corp</td>\n",
       "    </tr>\n",
       "  </tbody>\n",
       "</table>\n",
       "</div>"
      ],
      "text/plain": [
       "         gvkey                     conm                    conml\n",
       "33231     2521   REUNION INDUSTRIES INC   Reunion Industries Inc\n",
       "369046   27338  APTEVO THERAPEUTICS INC  Aptevo Therapeutics Inc\n",
       "574040  186080       NULEGACY GOLD CORP       NuLegacy Gold Corp"
      ]
     },
     "execution_count": 22,
     "metadata": {},
     "output_type": "execute_result"
    }
   ],
   "source": [
    "cp2 = cp.loc[~cp['cusip'].isin(matched), ['gvkey', 'conm', 'conml']].drop_duplicates() #~补码/取反\n",
    "cp2.shape\n",
    "cp2.sample(3)"
   ]
  },
  {
   "cell_type": "code",
   "execution_count": 23,
   "id": "4b624223-3a59-46e1-bb8c-3ca5ddf6ef67",
   "metadata": {},
   "outputs": [
    {
     "data": {
      "text/html": [
       "<div>\n",
       "<style scoped>\n",
       "    .dataframe tbody tr th:only-of-type {\n",
       "        vertical-align: middle;\n",
       "    }\n",
       "\n",
       "    .dataframe tbody tr th {\n",
       "        vertical-align: top;\n",
       "    }\n",
       "\n",
       "    .dataframe thead th {\n",
       "        text-align: right;\n",
       "    }\n",
       "</style>\n",
       "<table border=\"1\" class=\"dataframe\">\n",
       "  <thead>\n",
       "    <tr style=\"text-align: right;\">\n",
       "      <th></th>\n",
       "      <th>gvkey</th>\n",
       "      <th>conm</th>\n",
       "      <th>conml</th>\n",
       "      <th>namec</th>\n",
       "    </tr>\n",
       "  </thead>\n",
       "  <tbody>\n",
       "    <tr>\n",
       "      <th>369490</th>\n",
       "      <td>27522</td>\n",
       "      <td>ID BIOMEDICAL CORP</td>\n",
       "      <td>ID Biomedical Corp</td>\n",
       "      <td>id biomedical</td>\n",
       "    </tr>\n",
       "    <tr>\n",
       "      <th>351862</th>\n",
       "      <td>24912</td>\n",
       "      <td>ACORN ENERGY INC</td>\n",
       "      <td>Acorn Energy Inc</td>\n",
       "      <td>acorn energy</td>\n",
       "    </tr>\n",
       "    <tr>\n",
       "      <th>124654</th>\n",
       "      <td>6693</td>\n",
       "      <td>LEWIS (PALMER G.) CO INC</td>\n",
       "      <td>Lewis (Palmer G.) Co Inc</td>\n",
       "      <td>lewis</td>\n",
       "    </tr>\n",
       "    <tr>\n",
       "      <th>372746</th>\n",
       "      <td>27972</td>\n",
       "      <td>MICROCAP LIQUIDATING TRUST</td>\n",
       "      <td>Microcap Liquidating Trust</td>\n",
       "      <td>microcap liquidating trust</td>\n",
       "    </tr>\n",
       "    <tr>\n",
       "      <th>472448</th>\n",
       "      <td>110166</td>\n",
       "      <td>PAN ORIENT ENERGY CORP</td>\n",
       "      <td>Pan Orient Energy Corp</td>\n",
       "      <td>pan orient energy</td>\n",
       "    </tr>\n",
       "    <tr>\n",
       "      <th>391770</th>\n",
       "      <td>29870</td>\n",
       "      <td>OLYMPIC STEEL INC</td>\n",
       "      <td>Olympic Steel Inc</td>\n",
       "      <td>olympic steel</td>\n",
       "    </tr>\n",
       "    <tr>\n",
       "      <th>144712</th>\n",
       "      <td>7614</td>\n",
       "      <td>MULTI-TECH CORP</td>\n",
       "      <td>Multi-Tech Corp</td>\n",
       "      <td>multi-tech</td>\n",
       "    </tr>\n",
       "    <tr>\n",
       "      <th>60423</th>\n",
       "      <td>3764</td>\n",
       "      <td>DATA 100 CORP</td>\n",
       "      <td>Data 100 Corp</td>\n",
       "      <td>data 100</td>\n",
       "    </tr>\n",
       "    <tr>\n",
       "      <th>471982</th>\n",
       "      <td>109764</td>\n",
       "      <td>INDUSTRIAL RUBBER PRODS INC</td>\n",
       "      <td>Industrial Rubber Products Inc</td>\n",
       "      <td>industrial rubber products</td>\n",
       "    </tr>\n",
       "    <tr>\n",
       "      <th>578711</th>\n",
       "      <td>187765</td>\n",
       "      <td>ECOSYNTHETIX INC</td>\n",
       "      <td>ECOSYNTHETIX Inc</td>\n",
       "      <td>ecosynthetix</td>\n",
       "    </tr>\n",
       "  </tbody>\n",
       "</table>\n",
       "</div>"
      ],
      "text/plain": [
       "         gvkey                         conm                           conml  \\\n",
       "369490   27522           ID BIOMEDICAL CORP              ID Biomedical Corp   \n",
       "351862   24912             ACORN ENERGY INC                Acorn Energy Inc   \n",
       "124654    6693     LEWIS (PALMER G.) CO INC        Lewis (Palmer G.) Co Inc   \n",
       "372746   27972   MICROCAP LIQUIDATING TRUST      Microcap Liquidating Trust   \n",
       "472448  110166       PAN ORIENT ENERGY CORP          Pan Orient Energy Corp   \n",
       "391770   29870            OLYMPIC STEEL INC               Olympic Steel Inc   \n",
       "144712    7614              MULTI-TECH CORP                 Multi-Tech Corp   \n",
       "60423     3764                DATA 100 CORP                   Data 100 Corp   \n",
       "471982  109764  INDUSTRIAL RUBBER PRODS INC  Industrial Rubber Products Inc   \n",
       "578711  187765             ECOSYNTHETIX INC                ECOSYNTHETIX Inc   \n",
       "\n",
       "                             namec  \n",
       "369490               id biomedical  \n",
       "351862                acorn energy  \n",
       "124654                       lewis  \n",
       "372746  microcap liquidating trust  \n",
       "472448           pan orient energy  \n",
       "391770               olympic steel  \n",
       "144712                  multi-tech  \n",
       "60423                     data 100  \n",
       "471982  industrial rubber products  \n",
       "578711                ecosynthetix  "
      ]
     },
     "execution_count": 23,
     "metadata": {},
     "output_type": "execute_result"
    }
   ],
   "source": [
    "cp2['namec'] = cp2['conml'].apply(clean_name)\n",
    "cp2.sample(10)"
   ]
  },
  {
   "cell_type": "markdown",
   "id": "bb42460b-a4a5-42f0-bfb0-7d3e529501b8",
   "metadata": {},
   "source": [
    "# Match"
   ]
  },
  {
   "cell_type": "code",
   "execution_count": 24,
   "id": "d5ede56c-d080-47b0-bac9-4cefada4430a",
   "metadata": {},
   "outputs": [],
   "source": [
    "def match_top(s, candidates, n=1, method='lev'):\n",
    "    heap = [(-np.Inf, '') for _ in range(n)]\n",
    "    heapq.heapify(heap) #将list转化成堆\n",
    "    \n",
    "    for t in candidates:\n",
    "        l = len(t)\n",
    "        if method == 'lev':\n",
    "            score = jellyfish.levenshtein_distance(s, t) / max(l, len(s)) - 1\n",
    "        elif method == 'dam_lev':\n",
    "            score = jellyfish.damerau_levenshtein_distance(s, t) / max(l, len(s)) - 1\n",
    "        elif method == 'jaro':\n",
    "            score = -jellyfish.jaro_distance(s, t)\n",
    "        elif method == 'jaro_win':\n",
    "            score = -jellyfish.jaro_winkler_similarity(s, t) \n",
    "        \n",
    "        heapq.heappushpop(heap, (-score, t)) #将 item 放入堆中，然后弹出并返回 heap 的最小元素\n",
    "        \n",
    "    heap.sort(reverse=True) #求最大值\n",
    "    return heap"
   ]
  },
  {
   "cell_type": "code",
   "execution_count": 3,
   "id": "e564702a-cf9d-42fb-bbda-d2235ac13f1b",
   "metadata": {},
   "outputs": [
    {
     "data": {
      "text/plain": [
       "[(-inf, ''), (-inf, '')]"
      ]
     },
     "execution_count": 3,
     "metadata": {},
     "output_type": "execute_result"
    }
   ],
   "source": [
    "[(-np.Inf, '') for _ in range(2)] #_为任意变量"
   ]
  },
  {
   "cell_type": "code",
   "execution_count": 26,
   "id": "657bdc07-ec8a-4048-be6d-d3a5aa9f596b",
   "metadata": {},
   "outputs": [
    {
     "data": {
      "text/plain": [
       "0.9416666666666667"
      ]
     },
     "execution_count": 26,
     "metadata": {},
     "output_type": "execute_result"
    },
    {
     "data": {
      "text/plain": [
       "1.0"
      ]
     },
     "execution_count": 26,
     "metadata": {},
     "output_type": "execute_result"
    }
   ],
   "source": [
    "jellyfish.jaro_winkler_similarity('asd', 'asd2')\n",
    "jellyfish.jaro_winkler_similarity('asd', 'asd')"
   ]
  },
  {
   "cell_type": "code",
   "execution_count": 27,
   "id": "e19c2118-5dbb-4eee-9fc6-59f7769e91f7",
   "metadata": {},
   "outputs": [
    {
     "name": "stdout",
     "output_type": "stream",
     "text": [
      "CPU times: user 2 µs, sys: 0 ns, total: 2 µs\n",
      "Wall time: 4.53 µs\n"
     ]
    },
    {
     "data": {
      "application/vnd.jupyter.widget-view+json": {
       "model_id": "394919d92e7a4d288484cf7c9ee33850",
       "version_major": 2,
       "version_minor": 0
      },
      "text/plain": [
       "VBox(children=(HBox(children=(IntProgress(value=0, description='0.00%', max=6348), Label(value='0 / 6348'))), …"
      ]
     },
     "metadata": {},
     "output_type": "display_data"
    }
   ],
   "source": [
    "%time\n",
    "cp2['match'] = cp2['namec'].parallel_apply(lambda x: match_top(x, cands, 3, 'jaro_win'))"
   ]
  },
  {
   "cell_type": "code",
   "execution_count": 28,
   "id": "46b1959e-41cb-4815-834d-a2044952db06",
   "metadata": {},
   "outputs": [],
   "source": [
    "cp2['match1'], cp2['match2'], cp2['match3'] = zip(*list(cp2['match'].values))\n",
    "#zip让[(a, A), (b, B), (c, C)]拆分成(a, b, c)和(A, B, C) 适用于拆分由函数return的list\n",
    "#要输出的时候+解包的时候才必须用list"
   ]
  },
  {
   "cell_type": "code",
   "execution_count": 44,
   "id": "101f3b68-a11c-440f-94a0-f86ccaf56026",
   "metadata": {},
   "outputs": [
    {
     "data": {
      "text/plain": [
       "<zip at 0x7ff50f83e500>"
      ]
     },
     "execution_count": 44,
     "metadata": {},
     "output_type": "execute_result"
    },
    {
     "data": {
      "text/plain": [
       "[(1, 4), (2, 5), (3, 6)]"
      ]
     },
     "execution_count": 44,
     "metadata": {},
     "output_type": "execute_result"
    },
    {
     "data": {
      "text/plain": [
       "(1, 2, 3)"
      ]
     },
     "execution_count": 44,
     "metadata": {},
     "output_type": "execute_result"
    },
    {
     "data": {
      "text/plain": [
       "(4, 5, 6)"
      ]
     },
     "execution_count": 44,
     "metadata": {},
     "output_type": "execute_result"
    }
   ],
   "source": [
    "a = [1, 2, 3]\n",
    "b = [4, 5, 6]\n",
    "zipped = zip(a, b)\n",
    "zipped\n",
    "ziplist = list(zipped)\n",
    "ziplist\n",
    "a, b = list(zip(*ziplist))\n",
    "a\n",
    "b\n",
    "#zip让[(a, A), (b, B), (c, C)]拆分成(a, b, c)和(A, B, C) 适用于拆分由函数return的list"
   ]
  },
  {
   "cell_type": "code",
   "execution_count": 30,
   "id": "28fce1d9-51d4-4413-b0aa-1363dd013e14",
   "metadata": {},
   "outputs": [
    {
     "data": {
      "text/html": [
       "<div>\n",
       "<style scoped>\n",
       "    .dataframe tbody tr th:only-of-type {\n",
       "        vertical-align: middle;\n",
       "    }\n",
       "\n",
       "    .dataframe tbody tr th {\n",
       "        vertical-align: top;\n",
       "    }\n",
       "\n",
       "    .dataframe thead th {\n",
       "        text-align: right;\n",
       "    }\n",
       "</style>\n",
       "<table border=\"1\" class=\"dataframe\">\n",
       "  <thead>\n",
       "    <tr style=\"text-align: right;\">\n",
       "      <th></th>\n",
       "      <th>gvkey</th>\n",
       "      <th>conm</th>\n",
       "      <th>conml</th>\n",
       "      <th>namec</th>\n",
       "      <th>match</th>\n",
       "      <th>match1</th>\n",
       "      <th>match2</th>\n",
       "      <th>match3</th>\n",
       "      <th>score1</th>\n",
       "      <th>m_namec1</th>\n",
       "      <th>score2</th>\n",
       "      <th>m_namec2</th>\n",
       "      <th>score3</th>\n",
       "      <th>m_namec3</th>\n",
       "    </tr>\n",
       "  </thead>\n",
       "  <tbody>\n",
       "    <tr>\n",
       "      <th>561722</th>\n",
       "      <td>180665</td>\n",
       "      <td>DRONE AVIATION HOLDING -OLD</td>\n",
       "      <td>Drone Aviation Holding Corp -OLD</td>\n",
       "      <td>drone aviation -old</td>\n",
       "      <td>[(0.7368421052631579, rovi), (0.72823261858349...</td>\n",
       "      <td>(0.7368421052631579, rovi)</td>\n",
       "      <td>(0.7282326185834957, kaiser foundation hospitals)</td>\n",
       "      <td>(0.722132253711201, rki exploration production)</td>\n",
       "      <td>0.736842</td>\n",
       "      <td>rovi</td>\n",
       "      <td>0.728233</td>\n",
       "      <td>kaiser foundation hospitals</td>\n",
       "      <td>0.722132</td>\n",
       "      <td>rki exploration production</td>\n",
       "    </tr>\n",
       "    <tr>\n",
       "      <th>361433</th>\n",
       "      <td>25845</td>\n",
       "      <td>MKTG INC</td>\n",
       "      <td>mktg Inc</td>\n",
       "      <td>mktg</td>\n",
       "      <td>[(0.7222222222222222, kcg), (0.666666666666666...</td>\n",
       "      <td>(0.7222222222222222, kcg)</td>\n",
       "      <td>(0.6666666666666666, phh mortgage)</td>\n",
       "      <td>(0.6666666666666666, mtbc)</td>\n",
       "      <td>0.722222</td>\n",
       "      <td>kcg</td>\n",
       "      <td>0.666667</td>\n",
       "      <td>phh mortgage</td>\n",
       "      <td>0.666667</td>\n",
       "      <td>mtbc</td>\n",
       "    </tr>\n",
       "    <tr>\n",
       "      <th>416072</th>\n",
       "      <td>36974</td>\n",
       "      <td>EVOLVE FUTURE LEADERSHI FUND</td>\n",
       "      <td>Evolve Future Leadership Fund</td>\n",
       "      <td>evolve future leadership</td>\n",
       "      <td>[(0.6682539682539682, universal city developme...</td>\n",
       "      <td>(0.6682539682539682, universal city developmen...</td>\n",
       "      <td>(0.6666666666666666, general electric)</td>\n",
       "      <td>(0.665954415954416, providence health services)</td>\n",
       "      <td>0.668254</td>\n",
       "      <td>universal city development partners</td>\n",
       "      <td>0.666667</td>\n",
       "      <td>general electric</td>\n",
       "      <td>0.665954</td>\n",
       "      <td>providence health services</td>\n",
       "    </tr>\n",
       "  </tbody>\n",
       "</table>\n",
       "</div>"
      ],
      "text/plain": [
       "         gvkey                          conm  \\\n",
       "561722  180665   DRONE AVIATION HOLDING -OLD   \n",
       "361433   25845                      MKTG INC   \n",
       "416072   36974  EVOLVE FUTURE LEADERSHI FUND   \n",
       "\n",
       "                                   conml                     namec  \\\n",
       "561722  Drone Aviation Holding Corp -OLD       drone aviation -old   \n",
       "361433                          mktg Inc                      mktg   \n",
       "416072     Evolve Future Leadership Fund  evolve future leadership   \n",
       "\n",
       "                                                    match  \\\n",
       "561722  [(0.7368421052631579, rovi), (0.72823261858349...   \n",
       "361433  [(0.7222222222222222, kcg), (0.666666666666666...   \n",
       "416072  [(0.6682539682539682, universal city developme...   \n",
       "\n",
       "                                                   match1  \\\n",
       "561722                         (0.7368421052631579, rovi)   \n",
       "361433                          (0.7222222222222222, kcg)   \n",
       "416072  (0.6682539682539682, universal city developmen...   \n",
       "\n",
       "                                                   match2  \\\n",
       "561722  (0.7282326185834957, kaiser foundation hospitals)   \n",
       "361433                 (0.6666666666666666, phh mortgage)   \n",
       "416072             (0.6666666666666666, general electric)   \n",
       "\n",
       "                                                 match3    score1  \\\n",
       "561722  (0.722132253711201, rki exploration production)  0.736842   \n",
       "361433                       (0.6666666666666666, mtbc)  0.722222   \n",
       "416072  (0.665954415954416, providence health services)  0.668254   \n",
       "\n",
       "                                   m_namec1    score2  \\\n",
       "561722                                 rovi  0.728233   \n",
       "361433                                  kcg  0.666667   \n",
       "416072  universal city development partners  0.666667   \n",
       "\n",
       "                           m_namec2    score3                    m_namec3  \n",
       "561722  kaiser foundation hospitals  0.722132  rki exploration production  \n",
       "361433                 phh mortgage  0.666667                        mtbc  \n",
       "416072             general electric  0.665954  providence health services  "
      ]
     },
     "execution_count": 30,
     "metadata": {},
     "output_type": "execute_result"
    }
   ],
   "source": [
    "for i in range(3):\n",
    "    i += 1\n",
    "    cp2[f'score{i}'], cp2[f'm_namec{i}'] = zip(*list(cp2[f'match{i}'].values)) #*为解包运算符\n",
    "cp2.sample(3)"
   ]
  },
  {
   "cell_type": "code",
   "execution_count": 31,
   "id": "5bfb115d-8abf-470a-9e15-cb4064c57e3b",
   "metadata": {},
   "outputs": [
    {
     "data": {
      "text/html": [
       "<div>\n",
       "<style scoped>\n",
       "    .dataframe tbody tr th:only-of-type {\n",
       "        vertical-align: middle;\n",
       "    }\n",
       "\n",
       "    .dataframe tbody tr th {\n",
       "        vertical-align: top;\n",
       "    }\n",
       "\n",
       "    .dataframe thead th {\n",
       "        text-align: right;\n",
       "    }\n",
       "</style>\n",
       "<table border=\"1\" class=\"dataframe\">\n",
       "  <thead>\n",
       "    <tr style=\"text-align: right;\">\n",
       "      <th></th>\n",
       "      <th>gvkey</th>\n",
       "      <th>conm</th>\n",
       "      <th>conml</th>\n",
       "      <th>namec</th>\n",
       "      <th>score1</th>\n",
       "      <th>m_namec1</th>\n",
       "      <th>score2</th>\n",
       "      <th>m_namec2</th>\n",
       "      <th>score3</th>\n",
       "      <th>m_namec3</th>\n",
       "    </tr>\n",
       "  </thead>\n",
       "  <tbody>\n",
       "    <tr>\n",
       "      <th>416650</th>\n",
       "      <td>37480</td>\n",
       "      <td>908 DEVICES INC</td>\n",
       "      <td>908 Devices Inc</td>\n",
       "      <td>908 devices</td>\n",
       "      <td>0.668998</td>\n",
       "      <td>servicemaster</td>\n",
       "      <td>0.659596</td>\n",
       "      <td>directview</td>\n",
       "      <td>0.641414</td>\n",
       "      <td>edp escelsa</td>\n",
       "    </tr>\n",
       "    <tr>\n",
       "      <th>160140</th>\n",
       "      <td>8282</td>\n",
       "      <td>PACIFIC SOUTHERN MORTGAGE TR</td>\n",
       "      <td>Pacific Southern Mortgage Trust</td>\n",
       "      <td>pacific southern mortgage trust</td>\n",
       "      <td>0.838065</td>\n",
       "      <td>pacificorp</td>\n",
       "      <td>0.731494</td>\n",
       "      <td>california resources</td>\n",
       "      <td>0.714935</td>\n",
       "      <td>stonemor partners</td>\n",
       "    </tr>\n",
       "    <tr>\n",
       "      <th>16887</th>\n",
       "      <td>1787</td>\n",
       "      <td>ARWOOD CORP</td>\n",
       "      <td>Arwood Corp</td>\n",
       "      <td>arwood</td>\n",
       "      <td>0.800000</td>\n",
       "      <td>agrokor dd</td>\n",
       "      <td>0.752778</td>\n",
       "      <td>crawford</td>\n",
       "      <td>0.750000</td>\n",
       "      <td>amiworld</td>\n",
       "    </tr>\n",
       "  </tbody>\n",
       "</table>\n",
       "</div>"
      ],
      "text/plain": [
       "        gvkey                          conm                            conml  \\\n",
       "416650  37480               908 DEVICES INC                  908 Devices Inc   \n",
       "160140   8282  PACIFIC SOUTHERN MORTGAGE TR  Pacific Southern Mortgage Trust   \n",
       "16887    1787                   ARWOOD CORP                      Arwood Corp   \n",
       "\n",
       "                                  namec    score1       m_namec1    score2  \\\n",
       "416650                      908 devices  0.668998  servicemaster  0.659596   \n",
       "160140  pacific southern mortgage trust  0.838065     pacificorp  0.731494   \n",
       "16887                            arwood  0.800000     agrokor dd  0.752778   \n",
       "\n",
       "                    m_namec2    score3           m_namec3  \n",
       "416650            directview  0.641414        edp escelsa  \n",
       "160140  california resources  0.714935  stonemor partners  \n",
       "16887               crawford  0.750000           amiworld  "
      ]
     },
     "execution_count": 31,
     "metadata": {},
     "output_type": "execute_result"
    }
   ],
   "source": [
    "cp3 = cp2.drop(columns=[x for x in cp2.columns if 'match' in x]) #columns可以替代keys的写法; x for x in ... if ....的语法\n",
    "cp3.sample(3)"
   ]
  },
  {
   "cell_type": "code",
   "execution_count": 32,
   "id": "13efef17-ebee-4cc3-ad1d-77df77f0a193",
   "metadata": {},
   "outputs": [
    {
     "data": {
      "text/plain": [
       "<AxesSubplot:>"
      ]
     },
     "execution_count": 32,
     "metadata": {},
     "output_type": "execute_result"
    },
    {
     "data": {
      "image/png": "[encoded data removed]",
      "text/plain": [
       "<Figure size 432x288 with 1 Axes>"
      ]
     },
     "metadata": {
      "needs_background": "light"
     },
     "output_type": "display_data"
    }
   ],
   "source": [
    "cp3['score1'].hist(bins=50)"
   ]
  },
  {
   "cell_type": "code",
   "execution_count": 33,
   "id": "6214ae85-6f7b-40db-99db-9f64bd7d07ea",
   "metadata": {},
   "outputs": [
    {
     "data": {
      "text/plain": [
       "(440, 10)"
      ]
     },
     "execution_count": 33,
     "metadata": {},
     "output_type": "execute_result"
    },
    {
     "data": {
      "text/plain": [
       "(64, 10)"
      ]
     },
     "execution_count": 33,
     "metadata": {},
     "output_type": "execute_result"
    }
   ],
   "source": [
    "cp3.loc[cp3['score1'] == 1].shape\n",
    "cp3.loc[cp3['score1'].between(0.95, 0.99, inclusive='neither')].shape"
   ]
  },
  {
   "cell_type": "code",
   "execution_count": 34,
   "id": "b7989341-0dae-4cff-8d21-1a4f49189d00",
   "metadata": {},
   "outputs": [
    {
     "data": {
      "text/html": [
       "<div>\n",
       "<style scoped>\n",
       "    .dataframe tbody tr th:only-of-type {\n",
       "        vertical-align: middle;\n",
       "    }\n",
       "\n",
       "    .dataframe tbody tr th {\n",
       "        vertical-align: top;\n",
       "    }\n",
       "\n",
       "    .dataframe thead th {\n",
       "        text-align: right;\n",
       "    }\n",
       "</style>\n",
       "<table border=\"1\" class=\"dataframe\">\n",
       "  <thead>\n",
       "    <tr style=\"text-align: right;\">\n",
       "      <th></th>\n",
       "      <th>gvkey</th>\n",
       "      <th>conm</th>\n",
       "      <th>conml</th>\n",
       "      <th>namec</th>\n",
       "      <th>score1</th>\n",
       "      <th>m_namec1</th>\n",
       "      <th>score2</th>\n",
       "      <th>m_namec2</th>\n",
       "      <th>score3</th>\n",
       "      <th>m_namec3</th>\n",
       "    </tr>\n",
       "  </thead>\n",
       "  <tbody>\n",
       "    <tr>\n",
       "      <th>151</th>\n",
       "      <td>1010</td>\n",
       "      <td>ACF INDUSTRIES INC</td>\n",
       "      <td>ACF Industries Inc</td>\n",
       "      <td>acf industries</td>\n",
       "      <td>0.976190</td>\n",
       "      <td>cf industries</td>\n",
       "      <td>0.837229</td>\n",
       "      <td>ace securities</td>\n",
       "      <td>0.767507</td>\n",
       "      <td>global industrial</td>\n",
       "    </tr>\n",
       "    <tr>\n",
       "      <th>7068</th>\n",
       "      <td>1331</td>\n",
       "      <td>ALPINE GROUP INC</td>\n",
       "      <td>Alpine Group Inc</td>\n",
       "      <td>alpine</td>\n",
       "      <td>0.952381</td>\n",
       "      <td>calpine</td>\n",
       "      <td>0.822222</td>\n",
       "      <td>linde</td>\n",
       "      <td>0.730159</td>\n",
       "      <td>dolphin energy</td>\n",
       "    </tr>\n",
       "    <tr>\n",
       "      <th>7418</th>\n",
       "      <td>1356</td>\n",
       "      <td>ALCOA INC</td>\n",
       "      <td>Alcoa Inc</td>\n",
       "      <td>alcoa</td>\n",
       "      <td>0.960000</td>\n",
       "      <td>alco</td>\n",
       "      <td>0.840000</td>\n",
       "      <td>acosta</td>\n",
       "      <td>0.822222</td>\n",
       "      <td>valcom</td>\n",
       "    </tr>\n",
       "    <tr>\n",
       "      <th>10354</th>\n",
       "      <td>1489</td>\n",
       "      <td>AMERICAN INVESTMENT CO</td>\n",
       "      <td>American Investment Co</td>\n",
       "      <td>american investment</td>\n",
       "      <td>0.958333</td>\n",
       "      <td>american investment life</td>\n",
       "      <td>0.874422</td>\n",
       "      <td>american addiction centers</td>\n",
       "      <td>0.869649</td>\n",
       "      <td>american retail</td>\n",
       "    </tr>\n",
       "    <tr>\n",
       "      <th>11541</th>\n",
       "      <td>1548</td>\n",
       "      <td>AMERICAN RENT-ALL INC</td>\n",
       "      <td>American Rent-All Inc</td>\n",
       "      <td>american rent-all</td>\n",
       "      <td>0.951373</td>\n",
       "      <td>american retail</td>\n",
       "      <td>0.892661</td>\n",
       "      <td>american realty funds</td>\n",
       "      <td>0.879919</td>\n",
       "      <td>american residential services</td>\n",
       "    </tr>\n",
       "    <tr>\n",
       "      <th>...</th>\n",
       "      <td>...</td>\n",
       "      <td>...</td>\n",
       "      <td>...</td>\n",
       "      <td>...</td>\n",
       "      <td>...</td>\n",
       "      <td>...</td>\n",
       "      <td>...</td>\n",
       "      <td>...</td>\n",
       "      <td>...</td>\n",
       "      <td>...</td>\n",
       "    </tr>\n",
       "    <tr>\n",
       "      <th>559840</th>\n",
       "      <td>179846</td>\n",
       "      <td>MHP S.E</td>\n",
       "      <td>MHP S.E</td>\n",
       "      <td>mhp s e</td>\n",
       "      <td>0.971429</td>\n",
       "      <td>mhp se</td>\n",
       "      <td>0.699634</td>\n",
       "      <td>macy s retail</td>\n",
       "      <td>0.681139</td>\n",
       "      <td>merck sharp dohme</td>\n",
       "    </tr>\n",
       "    <tr>\n",
       "      <th>561373</th>\n",
       "      <td>180471</td>\n",
       "      <td>DAVE &amp; BUSTER'S HLDINGS-REDH</td>\n",
       "      <td>Dave &amp; Buster's Holdings Inc</td>\n",
       "      <td>dave buster s</td>\n",
       "      <td>0.984615</td>\n",
       "      <td>dave busters</td>\n",
       "      <td>0.822122</td>\n",
       "      <td>davey tree expert</td>\n",
       "      <td>0.755055</td>\n",
       "      <td>dolat ventures</td>\n",
       "    </tr>\n",
       "    <tr>\n",
       "      <th>564344</th>\n",
       "      <td>183078</td>\n",
       "      <td>ENVIRORESOLUTIONS INC</td>\n",
       "      <td>EnviroResolutions Inc</td>\n",
       "      <td>enviroresolutions</td>\n",
       "      <td>0.976471</td>\n",
       "      <td>envirosolutions</td>\n",
       "      <td>0.766214</td>\n",
       "      <td>profile solutions</td>\n",
       "      <td>0.766214</td>\n",
       "      <td>navient solutions</td>\n",
       "    </tr>\n",
       "    <tr>\n",
       "      <th>571566</th>\n",
       "      <td>185326</td>\n",
       "      <td>UCI INTERNATIONAL INC</td>\n",
       "      <td>UCI International Inc</td>\n",
       "      <td>uci international</td>\n",
       "      <td>0.960784</td>\n",
       "      <td>cpi international</td>\n",
       "      <td>0.899346</td>\n",
       "      <td>hub international</td>\n",
       "      <td>0.847816</td>\n",
       "      <td>columbus international</td>\n",
       "    </tr>\n",
       "    <tr>\n",
       "      <th>576722</th>\n",
       "      <td>187082</td>\n",
       "      <td>CPG INTERNATIONAL INC-REDH</td>\n",
       "      <td>CPG International Inc</td>\n",
       "      <td>cpg international</td>\n",
       "      <td>0.951961</td>\n",
       "      <td>cpi international</td>\n",
       "      <td>0.939951</td>\n",
       "      <td>bp international</td>\n",
       "      <td>0.882353</td>\n",
       "      <td>hub international</td>\n",
       "    </tr>\n",
       "  </tbody>\n",
       "</table>\n",
       "<p>64 rows × 10 columns</p>\n",
       "</div>"
      ],
      "text/plain": [
       "         gvkey                          conm                         conml  \\\n",
       "151       1010            ACF INDUSTRIES INC            ACF Industries Inc   \n",
       "7068      1331              ALPINE GROUP INC              Alpine Group Inc   \n",
       "7418      1356                     ALCOA INC                     Alcoa Inc   \n",
       "10354     1489        AMERICAN INVESTMENT CO        American Investment Co   \n",
       "11541     1548         AMERICAN RENT-ALL INC         American Rent-All Inc   \n",
       "...        ...                           ...                           ...   \n",
       "559840  179846                       MHP S.E                       MHP S.E   \n",
       "561373  180471  DAVE & BUSTER'S HLDINGS-REDH  Dave & Buster's Holdings Inc   \n",
       "564344  183078         ENVIRORESOLUTIONS INC         EnviroResolutions Inc   \n",
       "571566  185326         UCI INTERNATIONAL INC         UCI International Inc   \n",
       "576722  187082    CPG INTERNATIONAL INC-REDH         CPG International Inc   \n",
       "\n",
       "                      namec    score1                  m_namec1    score2  \\\n",
       "151          acf industries  0.976190             cf industries  0.837229   \n",
       "7068                 alpine  0.952381                   calpine  0.822222   \n",
       "7418                  alcoa  0.960000                      alco  0.840000   \n",
       "10354   american investment  0.958333  american investment life  0.874422   \n",
       "11541     american rent-all  0.951373           american retail  0.892661   \n",
       "...                     ...       ...                       ...       ...   \n",
       "559840              mhp s e  0.971429                    mhp se  0.699634   \n",
       "561373        dave buster s  0.984615              dave busters  0.822122   \n",
       "564344    enviroresolutions  0.976471           envirosolutions  0.766214   \n",
       "571566    uci international  0.960784         cpi international  0.899346   \n",
       "576722    cpg international  0.951961         cpi international  0.939951   \n",
       "\n",
       "                          m_namec2    score3                       m_namec3  \n",
       "151                 ace securities  0.767507              global industrial  \n",
       "7068                         linde  0.730159                 dolphin energy  \n",
       "7418                        acosta  0.822222                         valcom  \n",
       "10354   american addiction centers  0.869649                american retail  \n",
       "11541        american realty funds  0.879919  american residential services  \n",
       "...                            ...       ...                            ...  \n",
       "559840               macy s retail  0.681139              merck sharp dohme  \n",
       "561373           davey tree expert  0.755055                 dolat ventures  \n",
       "564344           profile solutions  0.766214              navient solutions  \n",
       "571566           hub international  0.847816         columbus international  \n",
       "576722            bp international  0.882353              hub international  \n",
       "\n",
       "[64 rows x 10 columns]"
      ]
     },
     "execution_count": 34,
     "metadata": {},
     "output_type": "execute_result"
    }
   ],
   "source": [
    "cp3.loc[cp3['score1'].between(0.95, 0.99, inclusive='neither')]"
   ]
  }
 ],
 "metadata": {
  "kernelspec": {
   "display_name": "Python 3 (ipykernel)",
   "language": "python",
   "name": "python3"
  },
  "language_info": {
   "codemirror_mode": {
    "name": "ipython",
    "version": 3
   },
   "file_extension": ".py",
   "mimetype": "text/x-python",
   "name": "python",
   "nbconvert_exporter": "python",
   "pygments_lexer": "ipython3",
   "version": "3.9.7"
  }
 },
 "nbformat": 4,
 "nbformat_minor": 5
}
