{
 "cells": [
  {
   "cell_type": "markdown",
   "id": "0fc1db5e-cc49-4991-a5eb-6cef38df196e",
   "metadata": {},
   "source": [
    "<p style=\"font-size:200%;font-weight:bold\">Product Similarity</p>\n",
    "\n",
    "- Author: Wenzhi Ding\n",
    "- Date: 2022-03-27\n",
    "\n",
    "This notebook is to compile TNIC data to competition link."
   ]
  },
  {
   "cell_type": "code",
   "execution_count": 1,
   "id": "563f3a2f-9d3e-4ffc-8d1d-01092c019865",
   "metadata": {},
   "outputs": [],
   "source": [
    "import pandas as pd\n",
    "import numpy as np\n",
    "import plotly.express as px\n",
    "from itertools import combinations\n",
    "import matplotlib.pyplot as plt\n",
    "\n",
    "%matplotlib inline\n",
    "\n",
    "DB = \"/home/data/\"\n",
    "ROOT = \"/home/team_crypto/2022_esg_peer/\"\n",
    "\n",
    "RD = f\"{ROOT}02_rdata/\"\n",
    "WD = f\"{ROOT}03_wdata/\""
   ]
  },
  {
   "cell_type": "markdown",
   "id": "b7739b86-0cad-4a69-8b0a-2a55795ef8ac",
   "metadata": {},
   "source": [
    "# Read TNIC"
   ]
  },
  {
   "cell_type": "code",
   "execution_count": 42,
   "id": "368c0dce-0b5c-48b6-bf4e-9ecda13a5115",
   "metadata": {},
   "outputs": [
    {
     "data": {
      "text/plain": [
       "(23678297, 4)"
      ]
     },
     "execution_count": 42,
     "metadata": {},
     "output_type": "execute_result"
    },
    {
     "data": {
      "text/html": [
       "<div>\n",
       "<style scoped>\n",
       "    .dataframe tbody tr th:only-of-type {\n",
       "        vertical-align: middle;\n",
       "    }\n",
       "\n",
       "    .dataframe tbody tr th {\n",
       "        vertical-align: top;\n",
       "    }\n",
       "\n",
       "    .dataframe thead th {\n",
       "        text-align: right;\n",
       "    }\n",
       "</style>\n",
       "<table border=\"1\" class=\"dataframe\">\n",
       "  <thead>\n",
       "    <tr style=\"text-align: right;\">\n",
       "      <th></th>\n",
       "      <th>year</th>\n",
       "      <th>gvkey1</th>\n",
       "      <th>gvkey2</th>\n",
       "      <th>score</th>\n",
       "    </tr>\n",
       "  </thead>\n",
       "  <tbody>\n",
       "    <tr>\n",
       "      <th>0</th>\n",
       "      <td>1988</td>\n",
       "      <td>1011</td>\n",
       "      <td>3226</td>\n",
       "      <td>0.1498</td>\n",
       "    </tr>\n",
       "    <tr>\n",
       "      <th>1</th>\n",
       "      <td>1988</td>\n",
       "      <td>1011</td>\n",
       "      <td>6282</td>\n",
       "      <td>0.0852</td>\n",
       "    </tr>\n",
       "    <tr>\n",
       "      <th>2</th>\n",
       "      <td>1988</td>\n",
       "      <td>1011</td>\n",
       "      <td>6734</td>\n",
       "      <td>0.0347</td>\n",
       "    </tr>\n",
       "  </tbody>\n",
       "</table>\n",
       "</div>"
      ],
      "text/plain": [
       "   year  gvkey1  gvkey2   score\n",
       "0  1988    1011    3226  0.1498\n",
       "1  1988    1011    6282  0.0852\n",
       "2  1988    1011    6734  0.0347"
      ]
     },
     "execution_count": 42,
     "metadata": {},
     "output_type": "execute_result"
    }
   ],
   "source": [
    "df = pd.read_parquet(f'{DB}tnic/tnic3_data.pq')\n",
    "df.shape\n",
    "df.head(3)"
   ]
  },
  {
   "cell_type": "code",
   "execution_count": 5,
   "id": "61e8b169-591a-470e-9a86-5bd9fcdcd95e",
   "metadata": {},
   "outputs": [
    {
     "data": {
      "text/plain": [
       "<AxesSubplot:>"
      ]
     },
     "execution_count": 5,
     "metadata": {},
     "output_type": "execute_result"
    },
    {
     "data": {
      "image/png": "[encoded data removed]",
      "text/plain": [
       "<Figure size 432x288 with 1 Axes>"
      ]
     },
     "metadata": {
      "needs_background": "light"
     },
     "output_type": "display_data"
    }
   ],
   "source": [
    "df.groupby(['year', 'gvkey1'])['gvkey2'].nunique().hist(bins=50)"
   ]
  },
  {
   "cell_type": "code",
   "execution_count": 14,
   "id": "c101e3f2-5944-4038-8709-2590483b1c9a",
   "metadata": {},
   "outputs": [
    {
     "data": {
      "text/plain": [
       "<AxesSubplot:>"
      ]
     },
     "execution_count": 14,
     "metadata": {},
     "output_type": "execute_result"
    },
    {
     "data": {
      "image/png": "[encoded data removed]",
      "text/plain": [
       "<Figure size 432x288 with 1 Axes>"
      ]
     },
     "metadata": {
      "needs_background": "light"
     },
     "output_type": "display_data"
    }
   ],
   "source": [
    "df['score'].hist(bins=50)"
   ]
  },
  {
   "cell_type": "code",
   "execution_count": 15,
   "id": "4334283b-3587-4396-853b-4f26355cc47d",
   "metadata": {},
   "outputs": [
    {
     "data": {
      "text/plain": [
       "17745"
      ]
     },
     "execution_count": 15,
     "metadata": {},
     "output_type": "execute_result"
    }
   ],
   "source": [
    "gks = set(df['gvkey1']) | set(df['gvkey2'])\n",
    "len(gks)"
   ]
  },
  {
   "cell_type": "code",
   "execution_count": 17,
   "id": "95d96b18-ea4a-4d98-b071-aacc5362d420",
   "metadata": {},
   "outputs": [],
   "source": [
    "gks = ''.join([str(x) + '\\n' for x in gks])"
   ]
  },
  {
   "cell_type": "code",
   "execution_count": 18,
   "id": "c10f0cc8-9700-44d2-896f-7f0d4d899084",
   "metadata": {},
   "outputs": [
    {
     "data": {
      "text/plain": [
       "107123"
      ]
     },
     "execution_count": 18,
     "metadata": {},
     "output_type": "execute_result"
    }
   ],
   "source": [
    "with open(f'{WD}1300_tnic_gvkeys.txt', 'w') as f:\n",
    "    f.write(gks)"
   ]
  },
  {
   "cell_type": "code",
   "execution_count": 18,
   "id": "7cedd7fc-78dc-4420-bad7-58d7d960937e",
   "metadata": {},
   "outputs": [
    {
     "data": {
      "text/plain": [
       "(227098, 15)"
      ]
     },
     "execution_count": 18,
     "metadata": {},
     "output_type": "execute_result"
    },
    {
     "data": {
      "text/html": [
       "<div>\n",
       "<style scoped>\n",
       "    .dataframe tbody tr th:only-of-type {\n",
       "        vertical-align: middle;\n",
       "    }\n",
       "\n",
       "    .dataframe tbody tr th {\n",
       "        vertical-align: top;\n",
       "    }\n",
       "\n",
       "    .dataframe thead th {\n",
       "        text-align: right;\n",
       "    }\n",
       "</style>\n",
       "<table border=\"1\" class=\"dataframe\">\n",
       "  <thead>\n",
       "    <tr style=\"text-align: right;\">\n",
       "      <th></th>\n",
       "      <th>gvkey</th>\n",
       "      <th>datadate</th>\n",
       "      <th>fyear</th>\n",
       "      <th>indfmt</th>\n",
       "      <th>consol</th>\n",
       "      <th>popsrc</th>\n",
       "      <th>datafmt</th>\n",
       "      <th>conm</th>\n",
       "      <th>curcd</th>\n",
       "      <th>costat</th>\n",
       "      <th>naicsh</th>\n",
       "      <th>sich</th>\n",
       "      <th>gsubind</th>\n",
       "      <th>naics</th>\n",
       "      <th>sic</th>\n",
       "    </tr>\n",
       "  </thead>\n",
       "  <tbody>\n",
       "    <tr>\n",
       "      <th>0</th>\n",
       "      <td>1003</td>\n",
       "      <td>19890131</td>\n",
       "      <td>1988</td>\n",
       "      <td>INDL</td>\n",
       "      <td>C</td>\n",
       "      <td>D</td>\n",
       "      <td>STD</td>\n",
       "      <td>A.A. IMPORTING CO INC</td>\n",
       "      <td>USD</td>\n",
       "      <td>I</td>\n",
       "      <td>442110.0</td>\n",
       "      <td>5712.0</td>\n",
       "      <td>25504040.0</td>\n",
       "      <td>442110</td>\n",
       "      <td>5712</td>\n",
       "    </tr>\n",
       "    <tr>\n",
       "      <th>1</th>\n",
       "      <td>1003</td>\n",
       "      <td>19900131</td>\n",
       "      <td>1989</td>\n",
       "      <td>INDL</td>\n",
       "      <td>C</td>\n",
       "      <td>D</td>\n",
       "      <td>STD</td>\n",
       "      <td>A.A. IMPORTING CO INC</td>\n",
       "      <td>USD</td>\n",
       "      <td>I</td>\n",
       "      <td>442110.0</td>\n",
       "      <td>5712.0</td>\n",
       "      <td>25504040.0</td>\n",
       "      <td>442110</td>\n",
       "      <td>5712</td>\n",
       "    </tr>\n",
       "    <tr>\n",
       "      <th>2</th>\n",
       "      <td>1004</td>\n",
       "      <td>19880531</td>\n",
       "      <td>1987</td>\n",
       "      <td>INDL</td>\n",
       "      <td>C</td>\n",
       "      <td>D</td>\n",
       "      <td>STD</td>\n",
       "      <td>AAR CORP</td>\n",
       "      <td>USD</td>\n",
       "      <td>A</td>\n",
       "      <td>421860.0</td>\n",
       "      <td>5080.0</td>\n",
       "      <td>20101010.0</td>\n",
       "      <td>423860</td>\n",
       "      <td>5080</td>\n",
       "    </tr>\n",
       "  </tbody>\n",
       "</table>\n",
       "</div>"
      ],
      "text/plain": [
       "   gvkey  datadate  fyear indfmt consol popsrc datafmt                   conm  \\\n",
       "0   1003  19890131   1988   INDL      C      D     STD  A.A. IMPORTING CO INC   \n",
       "1   1003  19900131   1989   INDL      C      D     STD  A.A. IMPORTING CO INC   \n",
       "2   1004  19880531   1987   INDL      C      D     STD               AAR CORP   \n",
       "\n",
       "  curcd costat    naicsh    sich     gsubind   naics   sic  \n",
       "0   USD      I  442110.0  5712.0  25504040.0  442110  5712  \n",
       "1   USD      I  442110.0  5712.0  25504040.0  442110  5712  \n",
       "2   USD      A  421860.0  5080.0  20101010.0  423860  5080  "
      ]
     },
     "execution_count": 18,
     "metadata": {},
     "output_type": "execute_result"
    }
   ],
   "source": [
    "cp = pd.read_csv(f'{RD}comp_tnic_ind.csv', engine='pyarrow')\n",
    "cp.shape\n",
    "cp.head(3)"
   ]
  },
  {
   "cell_type": "code",
   "execution_count": 37,
   "id": "3c335f97-698e-41c3-a045-f0bdeb8cf6ed",
   "metadata": {},
   "outputs": [
    {
     "data": {
      "text/html": [
       "<div>\n",
       "<style scoped>\n",
       "    .dataframe tbody tr th:only-of-type {\n",
       "        vertical-align: middle;\n",
       "    }\n",
       "\n",
       "    .dataframe tbody tr th {\n",
       "        vertical-align: top;\n",
       "    }\n",
       "\n",
       "    .dataframe thead th {\n",
       "        text-align: right;\n",
       "    }\n",
       "</style>\n",
       "<table border=\"1\" class=\"dataframe\">\n",
       "  <thead>\n",
       "    <tr style=\"text-align: right;\">\n",
       "      <th></th>\n",
       "      <th>gvkey</th>\n",
       "      <th>conm</th>\n",
       "      <th>sic</th>\n",
       "    </tr>\n",
       "  </thead>\n",
       "  <tbody>\n",
       "    <tr>\n",
       "      <th>1911</th>\n",
       "      <td>1381</td>\n",
       "      <td>AMERFORD INTERNATIONAL CORP</td>\n",
       "      <td>4731</td>\n",
       "    </tr>\n",
       "    <tr>\n",
       "      <th>7981</th>\n",
       "      <td>2390</td>\n",
       "      <td>BRIDGFORD FOODS CORP</td>\n",
       "      <td>2013</td>\n",
       "    </tr>\n",
       "    <tr>\n",
       "      <th>14767</th>\n",
       "      <td>3581</td>\n",
       "      <td>CRAWFORD &amp; CO</td>\n",
       "      <td>6411</td>\n",
       "    </tr>\n",
       "    <tr>\n",
       "      <th>19511</th>\n",
       "      <td>4367</td>\n",
       "      <td>WEATHERFORD INTL PLC</td>\n",
       "      <td>1381</td>\n",
       "    </tr>\n",
       "    <tr>\n",
       "      <th>22432</th>\n",
       "      <td>4839</td>\n",
       "      <td>FORD MOTOR CO</td>\n",
       "      <td>3711</td>\n",
       "    </tr>\n",
       "    <tr>\n",
       "      <th>25206</th>\n",
       "      <td>5377</td>\n",
       "      <td>GUILFORD MILLS INC</td>\n",
       "      <td>2250</td>\n",
       "    </tr>\n",
       "    <tr>\n",
       "      <th>25696</th>\n",
       "      <td>5465</td>\n",
       "      <td>HANNAFORD BROTHERS CO</td>\n",
       "      <td>5411</td>\n",
       "    </tr>\n",
       "    <tr>\n",
       "      <th>26790</th>\n",
       "      <td>5621</td>\n",
       "      <td>CRAWFORD UNITED CORP</td>\n",
       "      <td>3564</td>\n",
       "    </tr>\n",
       "    <tr>\n",
       "      <th>42471</th>\n",
       "      <td>8219</td>\n",
       "      <td>OXFORD INDUSTRIES INC</td>\n",
       "      <td>2300</td>\n",
       "    </tr>\n",
       "    <tr>\n",
       "      <th>52463</th>\n",
       "      <td>10010</td>\n",
       "      <td>STANFORD TELECOMMUNICATIONS</td>\n",
       "      <td>3663</td>\n",
       "    </tr>\n",
       "    <tr>\n",
       "      <th>60436</th>\n",
       "      <td>11323</td>\n",
       "      <td>WEATHERFORD ENTERRA INC</td>\n",
       "      <td>7359</td>\n",
       "    </tr>\n",
       "    <tr>\n",
       "      <th>62683</th>\n",
       "      <td>11748</td>\n",
       "      <td>PENFORD CORP</td>\n",
       "      <td>2040</td>\n",
       "    </tr>\n",
       "    <tr>\n",
       "      <th>64082</th>\n",
       "      <td>11937</td>\n",
       "      <td>SANFORD CORP</td>\n",
       "      <td>3950</td>\n",
       "    </tr>\n",
       "    <tr>\n",
       "      <th>65109</th>\n",
       "      <td>12125</td>\n",
       "      <td>BEDFORD PROPERTY INVESTORS</td>\n",
       "      <td>6798</td>\n",
       "    </tr>\n",
       "    <tr>\n",
       "      <th>68436</th>\n",
       "      <td>12511</td>\n",
       "      <td>OXFORD CONSOLIDATED</td>\n",
       "      <td>1311</td>\n",
       "    </tr>\n",
       "    <tr>\n",
       "      <th>70557</th>\n",
       "      <td>12742</td>\n",
       "      <td>LEXFORD RESIDENTIAL TRUST</td>\n",
       "      <td>6513</td>\n",
       "    </tr>\n",
       "    <tr>\n",
       "      <th>72827</th>\n",
       "      <td>13039</td>\n",
       "      <td>OXFORD ENERGY CO</td>\n",
       "      <td>4991</td>\n",
       "    </tr>\n",
       "    <tr>\n",
       "      <th>87038</th>\n",
       "      <td>15162</td>\n",
       "      <td>STRATFORD AMERICAN CORP</td>\n",
       "      <td>1311</td>\n",
       "    </tr>\n",
       "    <tr>\n",
       "      <th>92612</th>\n",
       "      <td>16822</td>\n",
       "      <td>FIRST FSLA EAST HARTFORD CT</td>\n",
       "      <td>6035</td>\n",
       "    </tr>\n",
       "    <tr>\n",
       "      <th>93125</th>\n",
       "      <td>16874</td>\n",
       "      <td>FRANKFORD CORP</td>\n",
       "      <td>6020</td>\n",
       "    </tr>\n",
       "    <tr>\n",
       "      <th>95362</th>\n",
       "      <td>17140</td>\n",
       "      <td>MEDFORD BANCORP INC</td>\n",
       "      <td>6036</td>\n",
       "    </tr>\n",
       "    <tr>\n",
       "      <th>98143</th>\n",
       "      <td>18071</td>\n",
       "      <td>REXFORD INDUS REALTY</td>\n",
       "      <td>6798</td>\n",
       "    </tr>\n",
       "    <tr>\n",
       "      <th>100362</th>\n",
       "      <td>18983</td>\n",
       "      <td>OXFORD IMMUNOTEC GLOBAL PLC</td>\n",
       "      <td>2835</td>\n",
       "    </tr>\n",
       "    <tr>\n",
       "      <th>107649</th>\n",
       "      <td>21878</td>\n",
       "      <td>JACKSON CNTY FSB MEDFORD ORE</td>\n",
       "      <td>6035</td>\n",
       "    </tr>\n",
       "    <tr>\n",
       "      <th>107997</th>\n",
       "      <td>22119</td>\n",
       "      <td>ASHFORD INC</td>\n",
       "      <td>6282</td>\n",
       "    </tr>\n",
       "    <tr>\n",
       "      <th>115796</th>\n",
       "      <td>24381</td>\n",
       "      <td>OXFORD HEALTH PLANS INC</td>\n",
       "      <td>6324</td>\n",
       "    </tr>\n",
       "    <tr>\n",
       "      <th>127095</th>\n",
       "      <td>25994</td>\n",
       "      <td>WELLSFORD RES PROP TRUST</td>\n",
       "      <td>6798</td>\n",
       "    </tr>\n",
       "    <tr>\n",
       "      <th>139262</th>\n",
       "      <td>29373</td>\n",
       "      <td>OXFORD RESOURCES CORP  -CL A</td>\n",
       "      <td>7510</td>\n",
       "    </tr>\n",
       "    <tr>\n",
       "      <th>145145</th>\n",
       "      <td>30352</td>\n",
       "      <td>GUILFORD PHARMACEUTICAL INC</td>\n",
       "      <td>2834</td>\n",
       "    </tr>\n",
       "    <tr>\n",
       "      <th>146477</th>\n",
       "      <td>30628</td>\n",
       "      <td>BEDFORD BANCSHARES INC</td>\n",
       "      <td>6035</td>\n",
       "    </tr>\n",
       "    <tr>\n",
       "      <th>154202</th>\n",
       "      <td>34750</td>\n",
       "      <td>WATFORD HOLDINGS LTD</td>\n",
       "      <td>6331</td>\n",
       "    </tr>\n",
       "    <tr>\n",
       "      <th>156059</th>\n",
       "      <td>61042</td>\n",
       "      <td>ROCKFORD INDUSTRIES INC</td>\n",
       "      <td>6172</td>\n",
       "    </tr>\n",
       "    <tr>\n",
       "      <th>160609</th>\n",
       "      <td>61739</td>\n",
       "      <td>HARTFORD FINANCIAL SERVICES</td>\n",
       "      <td>6331</td>\n",
       "    </tr>\n",
       "    <tr>\n",
       "      <th>166927</th>\n",
       "      <td>63110</td>\n",
       "      <td>RUTHERFORD-MORAN OIL CORP</td>\n",
       "      <td>1311</td>\n",
       "    </tr>\n",
       "    <tr>\n",
       "      <th>175326</th>\n",
       "      <td>64813</td>\n",
       "      <td>HARTFORD LIFE INC  -CL A</td>\n",
       "      <td>6311</td>\n",
       "    </tr>\n",
       "    <tr>\n",
       "      <th>190315</th>\n",
       "      <td>119957</td>\n",
       "      <td>STAMFORD INDUSTRIAL GROUP</td>\n",
       "      <td>3490</td>\n",
       "    </tr>\n",
       "    <tr>\n",
       "      <th>192666</th>\n",
       "      <td>122678</td>\n",
       "      <td>ROCKFORD CORP</td>\n",
       "      <td>3651</td>\n",
       "    </tr>\n",
       "    <tr>\n",
       "      <th>193004</th>\n",
       "      <td>123134</td>\n",
       "      <td>ALFORD REFRIGERATED WHSES</td>\n",
       "      <td>4220</td>\n",
       "    </tr>\n",
       "    <tr>\n",
       "      <th>193164</th>\n",
       "      <td>124034</td>\n",
       "      <td>ASHFORD.COM INC</td>\n",
       "      <td>5961</td>\n",
       "    </tr>\n",
       "    <tr>\n",
       "      <th>206111</th>\n",
       "      <td>155754</td>\n",
       "      <td>ASHFORD HOSPITALITY TRUST</td>\n",
       "      <td>6798</td>\n",
       "    </tr>\n",
       "    <tr>\n",
       "      <th>206850</th>\n",
       "      <td>157452</td>\n",
       "      <td>OXFORD SQUARE CAPITAL CORP</td>\n",
       "      <td>6797</td>\n",
       "    </tr>\n",
       "  </tbody>\n",
       "</table>\n",
       "</div>"
      ],
      "text/plain": [
       "         gvkey                          conm   sic\n",
       "1911      1381   AMERFORD INTERNATIONAL CORP  4731\n",
       "7981      2390          BRIDGFORD FOODS CORP  2013\n",
       "14767     3581                 CRAWFORD & CO  6411\n",
       "19511     4367          WEATHERFORD INTL PLC  1381\n",
       "22432     4839                 FORD MOTOR CO  3711\n",
       "25206     5377            GUILFORD MILLS INC  2250\n",
       "25696     5465         HANNAFORD BROTHERS CO  5411\n",
       "26790     5621          CRAWFORD UNITED CORP  3564\n",
       "42471     8219         OXFORD INDUSTRIES INC  2300\n",
       "52463    10010   STANFORD TELECOMMUNICATIONS  3663\n",
       "60436    11323       WEATHERFORD ENTERRA INC  7359\n",
       "62683    11748                  PENFORD CORP  2040\n",
       "64082    11937                  SANFORD CORP  3950\n",
       "65109    12125    BEDFORD PROPERTY INVESTORS  6798\n",
       "68436    12511           OXFORD CONSOLIDATED  1311\n",
       "70557    12742     LEXFORD RESIDENTIAL TRUST  6513\n",
       "72827    13039              OXFORD ENERGY CO  4991\n",
       "87038    15162       STRATFORD AMERICAN CORP  1311\n",
       "92612    16822   FIRST FSLA EAST HARTFORD CT  6035\n",
       "93125    16874                FRANKFORD CORP  6020\n",
       "95362    17140           MEDFORD BANCORP INC  6036\n",
       "98143    18071          REXFORD INDUS REALTY  6798\n",
       "100362   18983   OXFORD IMMUNOTEC GLOBAL PLC  2835\n",
       "107649   21878  JACKSON CNTY FSB MEDFORD ORE  6035\n",
       "107997   22119                   ASHFORD INC  6282\n",
       "115796   24381       OXFORD HEALTH PLANS INC  6324\n",
       "127095   25994      WELLSFORD RES PROP TRUST  6798\n",
       "139262   29373  OXFORD RESOURCES CORP  -CL A  7510\n",
       "145145   30352   GUILFORD PHARMACEUTICAL INC  2834\n",
       "146477   30628        BEDFORD BANCSHARES INC  6035\n",
       "154202   34750          WATFORD HOLDINGS LTD  6331\n",
       "156059   61042       ROCKFORD INDUSTRIES INC  6172\n",
       "160609   61739   HARTFORD FINANCIAL SERVICES  6331\n",
       "166927   63110     RUTHERFORD-MORAN OIL CORP  1311\n",
       "175326   64813      HARTFORD LIFE INC  -CL A  6311\n",
       "190315  119957     STAMFORD INDUSTRIAL GROUP  3490\n",
       "192666  122678                 ROCKFORD CORP  3651\n",
       "193004  123134     ALFORD REFRIGERATED WHSES  4220\n",
       "193164  124034               ASHFORD.COM INC  5961\n",
       "206111  155754     ASHFORD HOSPITALITY TRUST  6798\n",
       "206850  157452    OXFORD SQUARE CAPITAL CORP  6797"
      ]
     },
     "execution_count": 37,
     "metadata": {},
     "output_type": "execute_result"
    }
   ],
   "source": [
    "cp.loc[cp['conm'].str.contains('FORD'), ['gvkey', 'conm', 'sic']].drop_duplicates()\n",
    "# cp.loc[cp['gvkey'] == 5073, ['fyear']]"
   ]
  },
  {
   "cell_type": "code",
   "execution_count": 22,
   "id": "5549b310-64c5-4da0-beb1-b965ec0eab51",
   "metadata": {},
   "outputs": [
    {
     "data": {
      "text/plain": [
       "(227098, 8)"
      ]
     },
     "execution_count": 22,
     "metadata": {},
     "output_type": "execute_result"
    },
    {
     "data": {
      "text/html": [
       "<div>\n",
       "<style scoped>\n",
       "    .dataframe tbody tr th:only-of-type {\n",
       "        vertical-align: middle;\n",
       "    }\n",
       "\n",
       "    .dataframe tbody tr th {\n",
       "        vertical-align: top;\n",
       "    }\n",
       "\n",
       "    .dataframe thead th {\n",
       "        text-align: right;\n",
       "    }\n",
       "</style>\n",
       "<table border=\"1\" class=\"dataframe\">\n",
       "  <thead>\n",
       "    <tr style=\"text-align: right;\">\n",
       "      <th></th>\n",
       "      <th>gvkey</th>\n",
       "      <th>fyear</th>\n",
       "      <th>conm</th>\n",
       "      <th>naicsh</th>\n",
       "      <th>sich</th>\n",
       "      <th>gsubind</th>\n",
       "      <th>naics</th>\n",
       "      <th>sic</th>\n",
       "    </tr>\n",
       "  </thead>\n",
       "  <tbody>\n",
       "    <tr>\n",
       "      <th>0</th>\n",
       "      <td>1003</td>\n",
       "      <td>1988</td>\n",
       "      <td>A.A. IMPORTING CO INC</td>\n",
       "      <td>442110.0</td>\n",
       "      <td>5712.0</td>\n",
       "      <td>25504040.0</td>\n",
       "      <td>442110</td>\n",
       "      <td>5712</td>\n",
       "    </tr>\n",
       "    <tr>\n",
       "      <th>1</th>\n",
       "      <td>1003</td>\n",
       "      <td>1989</td>\n",
       "      <td>A.A. IMPORTING CO INC</td>\n",
       "      <td>442110.0</td>\n",
       "      <td>5712.0</td>\n",
       "      <td>25504040.0</td>\n",
       "      <td>442110</td>\n",
       "      <td>5712</td>\n",
       "    </tr>\n",
       "    <tr>\n",
       "      <th>2</th>\n",
       "      <td>1004</td>\n",
       "      <td>1987</td>\n",
       "      <td>AAR CORP</td>\n",
       "      <td>421860.0</td>\n",
       "      <td>5080.0</td>\n",
       "      <td>20101010.0</td>\n",
       "      <td>423860</td>\n",
       "      <td>5080</td>\n",
       "    </tr>\n",
       "  </tbody>\n",
       "</table>\n",
       "</div>"
      ],
      "text/plain": [
       "   gvkey  fyear                   conm    naicsh    sich     gsubind   naics  \\\n",
       "0   1003   1988  A.A. IMPORTING CO INC  442110.0  5712.0  25504040.0  442110   \n",
       "1   1003   1989  A.A. IMPORTING CO INC  442110.0  5712.0  25504040.0  442110   \n",
       "2   1004   1987               AAR CORP  421860.0  5080.0  20101010.0  423860   \n",
       "\n",
       "    sic  \n",
       "0  5712  \n",
       "1  5712  \n",
       "2  5080  "
      ]
     },
     "execution_count": 22,
     "metadata": {},
     "output_type": "execute_result"
    }
   ],
   "source": [
    "cp.drop(columns=['datadate', 'indfmt', 'consol', 'popsrc', 'datafmt', 'curcd', 'costat'], inplace=True)\n",
    "cp.shape\n",
    "cp.head(3)"
   ]
  },
  {
   "cell_type": "code",
   "execution_count": 44,
   "id": "cf20d4f4-0b9b-4fff-a32d-35e56b10865a",
   "metadata": {},
   "outputs": [
    {
     "data": {
      "text/plain": [
       "(2014.0, 21362.0, 15539.0, 0.2236)"
      ]
     },
     "execution_count": 44,
     "metadata": {},
     "output_type": "execute_result"
    },
    {
     "data": {
      "text/html": [
       "<div>\n",
       "<style scoped>\n",
       "    .dataframe tbody tr th:only-of-type {\n",
       "        vertical-align: middle;\n",
       "    }\n",
       "\n",
       "    .dataframe tbody tr th {\n",
       "        vertical-align: top;\n",
       "    }\n",
       "\n",
       "    .dataframe thead th {\n",
       "        text-align: right;\n",
       "    }\n",
       "</style>\n",
       "<table border=\"1\" class=\"dataframe\">\n",
       "  <thead>\n",
       "    <tr style=\"text-align: right;\">\n",
       "      <th></th>\n",
       "      <th>gvkey</th>\n",
       "      <th>fyear</th>\n",
       "      <th>conm</th>\n",
       "      <th>naicsh</th>\n",
       "      <th>sich</th>\n",
       "      <th>gsubind</th>\n",
       "      <th>naics</th>\n",
       "      <th>sic</th>\n",
       "    </tr>\n",
       "  </thead>\n",
       "  <tbody>\n",
       "    <tr>\n",
       "      <th>89153</th>\n",
       "      <td>15539</td>\n",
       "      <td>2014</td>\n",
       "      <td>PARATEK PHARMACEUTCLS INC</td>\n",
       "      <td>325412.0</td>\n",
       "      <td>2834.0</td>\n",
       "      <td>35202010.0</td>\n",
       "      <td>325412</td>\n",
       "      <td>2834</td>\n",
       "    </tr>\n",
       "    <tr>\n",
       "      <th>106288</th>\n",
       "      <td>21362</td>\n",
       "      <td>2014</td>\n",
       "      <td>TOKAI PHARMACEUTICALS INC</td>\n",
       "      <td>325414.0</td>\n",
       "      <td>2836.0</td>\n",
       "      <td>35201010.0</td>\n",
       "      <td>325414</td>\n",
       "      <td>2836</td>\n",
       "    </tr>\n",
       "  </tbody>\n",
       "</table>\n",
       "</div>"
      ],
      "text/plain": [
       "        gvkey  fyear                       conm    naicsh    sich     gsubind  \\\n",
       "89153   15539   2014  PARATEK PHARMACEUTCLS INC  325412.0  2834.0  35202010.0   \n",
       "106288  21362   2014  TOKAI PHARMACEUTICALS INC  325414.0  2836.0  35201010.0   \n",
       "\n",
       "         naics   sic  \n",
       "89153   325412  2834  \n",
       "106288  325414  2836  "
      ]
     },
     "execution_count": 44,
     "metadata": {},
     "output_type": "execute_result"
    }
   ],
   "source": [
    "y, g1, g2, sc = df.loc[df['score'] > 0.2].sample().values[0]\n",
    "y, g1, g2, sc\n",
    "cp.loc[(cp['fyear'] == y) & ((cp['gvkey'] == g1) | (cp['gvkey'] == g2))]"
   ]
  },
  {
   "cell_type": "markdown",
   "id": "26829adb-1a6f-44c8-8243-2e79519e1d8e",
   "metadata": {},
   "source": [
    "# Corr with FF Industry"
   ]
  },
  {
   "cell_type": "code",
   "execution_count": 77,
   "id": "0427b788-146b-456f-89c1-e27c8f2738d3",
   "metadata": {},
   "outputs": [
    {
     "data": {
      "text/plain": [
       "(9900, 2)"
      ]
     },
     "execution_count": 77,
     "metadata": {},
     "output_type": "execute_result"
    },
    {
     "data": {
      "text/html": [
       "<div>\n",
       "<style scoped>\n",
       "    .dataframe tbody tr th:only-of-type {\n",
       "        vertical-align: middle;\n",
       "    }\n",
       "\n",
       "    .dataframe tbody tr th {\n",
       "        vertical-align: top;\n",
       "    }\n",
       "\n",
       "    .dataframe thead th {\n",
       "        text-align: right;\n",
       "    }\n",
       "</style>\n",
       "<table border=\"1\" class=\"dataframe\">\n",
       "  <thead>\n",
       "    <tr style=\"text-align: right;\">\n",
       "      <th></th>\n",
       "      <th>sic</th>\n",
       "      <th>ff_12ind_name</th>\n",
       "    </tr>\n",
       "  </thead>\n",
       "  <tbody>\n",
       "    <tr>\n",
       "      <th>0</th>\n",
       "      <td>100</td>\n",
       "      <td>NoDur</td>\n",
       "    </tr>\n",
       "    <tr>\n",
       "      <th>1</th>\n",
       "      <td>101</td>\n",
       "      <td>NoDur</td>\n",
       "    </tr>\n",
       "    <tr>\n",
       "      <th>2</th>\n",
       "      <td>102</td>\n",
       "      <td>NoDur</td>\n",
       "    </tr>\n",
       "  </tbody>\n",
       "</table>\n",
       "</div>"
      ],
      "text/plain": [
       "   sic ff_12ind_name\n",
       "0  100         NoDur\n",
       "1  101         NoDur\n",
       "2  102         NoDur"
      ]
     },
     "execution_count": 77,
     "metadata": {},
     "output_type": "execute_result"
    }
   ],
   "source": [
    "ff = pd.read_csv('https://raw.githubusercontent.com/Wenzhi-Ding/FamaFrenchIndustry/main/ff_12ind.csv')\n",
    "ff.drop(columns=['ff_12ind', 'ff_12ind_desc'], inplace=True)\n",
    "ff.shape\n",
    "ff.head(3)"
   ]
  },
  {
   "cell_type": "code",
   "execution_count": 78,
   "id": "6ccc8fd5-3598-4f44-9609-381c5541decb",
   "metadata": {},
   "outputs": [
    {
     "data": {
      "text/html": [
       "<div>\n",
       "<style scoped>\n",
       "    .dataframe tbody tr th:only-of-type {\n",
       "        vertical-align: middle;\n",
       "    }\n",
       "\n",
       "    .dataframe tbody tr th {\n",
       "        vertical-align: top;\n",
       "    }\n",
       "\n",
       "    .dataframe thead th {\n",
       "        text-align: right;\n",
       "    }\n",
       "</style>\n",
       "<table border=\"1\" class=\"dataframe\">\n",
       "  <thead>\n",
       "    <tr style=\"text-align: right;\">\n",
       "      <th></th>\n",
       "      <th>gvkey</th>\n",
       "      <th>fyear</th>\n",
       "      <th>sic</th>\n",
       "    </tr>\n",
       "  </thead>\n",
       "  <tbody>\n",
       "    <tr>\n",
       "      <th>0</th>\n",
       "      <td>1003</td>\n",
       "      <td>1988</td>\n",
       "      <td>5712</td>\n",
       "    </tr>\n",
       "    <tr>\n",
       "      <th>1</th>\n",
       "      <td>1003</td>\n",
       "      <td>1989</td>\n",
       "      <td>5712</td>\n",
       "    </tr>\n",
       "    <tr>\n",
       "      <th>2</th>\n",
       "      <td>1004</td>\n",
       "      <td>1987</td>\n",
       "      <td>5080</td>\n",
       "    </tr>\n",
       "  </tbody>\n",
       "</table>\n",
       "</div>"
      ],
      "text/plain": [
       "   gvkey  fyear   sic\n",
       "0   1003   1988  5712\n",
       "1   1003   1989  5712\n",
       "2   1004   1987  5080"
      ]
     },
     "execution_count": 78,
     "metadata": {},
     "output_type": "execute_result"
    }
   ],
   "source": [
    "cp2 = cp.loc[:, ['gvkey', 'fyear', 'sic']]\n",
    "# cp2['sic2'] = cp2['sic'] // 100  # SIC 2 digit is still two granular\n",
    "# cp2['sic2'].describe()\n",
    "cp2.head(3)"
   ]
  },
  {
   "cell_type": "code",
   "execution_count": 79,
   "id": "572fc1e8-1cd4-424f-a474-f6058181b55b",
   "metadata": {},
   "outputs": [
    {
     "data": {
      "text/plain": [
       "both          227098\n",
       "left_only          0\n",
       "right_only         0\n",
       "Name: _merge, dtype: int64"
      ]
     },
     "execution_count": 79,
     "metadata": {},
     "output_type": "execute_result"
    },
    {
     "data": {
      "text/plain": [
       "(227098, 5)"
      ]
     },
     "execution_count": 79,
     "metadata": {},
     "output_type": "execute_result"
    },
    {
     "data": {
      "text/html": [
       "<div>\n",
       "<style scoped>\n",
       "    .dataframe tbody tr th:only-of-type {\n",
       "        vertical-align: middle;\n",
       "    }\n",
       "\n",
       "    .dataframe tbody tr th {\n",
       "        vertical-align: top;\n",
       "    }\n",
       "\n",
       "    .dataframe thead th {\n",
       "        text-align: right;\n",
       "    }\n",
       "</style>\n",
       "<table border=\"1\" class=\"dataframe\">\n",
       "  <thead>\n",
       "    <tr style=\"text-align: right;\">\n",
       "      <th></th>\n",
       "      <th>gvkey</th>\n",
       "      <th>fyear</th>\n",
       "      <th>sic</th>\n",
       "      <th>ff_12ind_name</th>\n",
       "      <th>_merge</th>\n",
       "    </tr>\n",
       "  </thead>\n",
       "  <tbody>\n",
       "    <tr>\n",
       "      <th>0</th>\n",
       "      <td>1003</td>\n",
       "      <td>1988</td>\n",
       "      <td>5712</td>\n",
       "      <td>Shops</td>\n",
       "      <td>both</td>\n",
       "    </tr>\n",
       "    <tr>\n",
       "      <th>1</th>\n",
       "      <td>1003</td>\n",
       "      <td>1989</td>\n",
       "      <td>5712</td>\n",
       "      <td>Shops</td>\n",
       "      <td>both</td>\n",
       "    </tr>\n",
       "    <tr>\n",
       "      <th>2</th>\n",
       "      <td>1004</td>\n",
       "      <td>1987</td>\n",
       "      <td>5080</td>\n",
       "      <td>Shops</td>\n",
       "      <td>both</td>\n",
       "    </tr>\n",
       "  </tbody>\n",
       "</table>\n",
       "</div>"
      ],
      "text/plain": [
       "   gvkey  fyear   sic ff_12ind_name _merge\n",
       "0   1003   1988  5712         Shops   both\n",
       "1   1003   1989  5712         Shops   both\n",
       "2   1004   1987  5080         Shops   both"
      ]
     },
     "execution_count": 79,
     "metadata": {},
     "output_type": "execute_result"
    }
   ],
   "source": [
    "cp2 = cp2.merge(ff, on=['sic'], how='left', indicator=True)\n",
    "cp2['_merge'].value_counts()\n",
    "cp2.shape\n",
    "cp2.head(3)"
   ]
  },
  {
   "cell_type": "code",
   "execution_count": 80,
   "id": "9427f375-a3fd-44a5-a813-9df8b6faf21e",
   "metadata": {},
   "outputs": [
    {
     "data": {
      "text/html": [
       "<div>\n",
       "<style scoped>\n",
       "    .dataframe tbody tr th:only-of-type {\n",
       "        vertical-align: middle;\n",
       "    }\n",
       "\n",
       "    .dataframe tbody tr th {\n",
       "        vertical-align: top;\n",
       "    }\n",
       "\n",
       "    .dataframe thead th {\n",
       "        text-align: right;\n",
       "    }\n",
       "</style>\n",
       "<table border=\"1\" class=\"dataframe\">\n",
       "  <thead>\n",
       "    <tr style=\"text-align: right;\">\n",
       "      <th></th>\n",
       "      <th>gvkey1</th>\n",
       "      <th>year</th>\n",
       "      <th>ff1</th>\n",
       "    </tr>\n",
       "  </thead>\n",
       "  <tbody>\n",
       "    <tr>\n",
       "      <th>0</th>\n",
       "      <td>1003</td>\n",
       "      <td>1988</td>\n",
       "      <td>Shops</td>\n",
       "    </tr>\n",
       "    <tr>\n",
       "      <th>1</th>\n",
       "      <td>1003</td>\n",
       "      <td>1989</td>\n",
       "      <td>Shops</td>\n",
       "    </tr>\n",
       "    <tr>\n",
       "      <th>2</th>\n",
       "      <td>1004</td>\n",
       "      <td>1987</td>\n",
       "      <td>Shops</td>\n",
       "    </tr>\n",
       "  </tbody>\n",
       "</table>\n",
       "</div>"
      ],
      "text/plain": [
       "   gvkey1  year    ff1\n",
       "0    1003  1988  Shops\n",
       "1    1003  1989  Shops\n",
       "2    1004  1987  Shops"
      ]
     },
     "execution_count": 80,
     "metadata": {},
     "output_type": "execute_result"
    }
   ],
   "source": [
    "cp2.drop(columns=['sic', '_merge'], inplace=True)\n",
    "cp2.columns = ['gvkey1', 'year', 'ff1']\n",
    "cp2.head(3)"
   ]
  },
  {
   "cell_type": "code",
   "execution_count": 81,
   "id": "117cdc1a-91cf-4171-aa92-c2d2cb98d2e0",
   "metadata": {},
   "outputs": [
    {
     "data": {
      "text/plain": [
       "both          23537053\n",
       "left_only       141244\n",
       "right_only           0\n",
       "Name: _merge, dtype: int64"
      ]
     },
     "execution_count": 81,
     "metadata": {},
     "output_type": "execute_result"
    },
    {
     "data": {
      "text/html": [
       "<div>\n",
       "<style scoped>\n",
       "    .dataframe tbody tr th:only-of-type {\n",
       "        vertical-align: middle;\n",
       "    }\n",
       "\n",
       "    .dataframe tbody tr th {\n",
       "        vertical-align: top;\n",
       "    }\n",
       "\n",
       "    .dataframe thead th {\n",
       "        text-align: right;\n",
       "    }\n",
       "</style>\n",
       "<table border=\"1\" class=\"dataframe\">\n",
       "  <thead>\n",
       "    <tr style=\"text-align: right;\">\n",
       "      <th></th>\n",
       "      <th>year</th>\n",
       "      <th>gvkey1</th>\n",
       "      <th>gvkey2</th>\n",
       "      <th>score</th>\n",
       "      <th>ff1</th>\n",
       "      <th>_merge</th>\n",
       "    </tr>\n",
       "  </thead>\n",
       "  <tbody>\n",
       "    <tr>\n",
       "      <th>0</th>\n",
       "      <td>1988</td>\n",
       "      <td>1011</td>\n",
       "      <td>3226</td>\n",
       "      <td>0.1498</td>\n",
       "      <td>Telcm</td>\n",
       "      <td>both</td>\n",
       "    </tr>\n",
       "    <tr>\n",
       "      <th>1</th>\n",
       "      <td>1988</td>\n",
       "      <td>1011</td>\n",
       "      <td>6282</td>\n",
       "      <td>0.0852</td>\n",
       "      <td>Telcm</td>\n",
       "      <td>both</td>\n",
       "    </tr>\n",
       "    <tr>\n",
       "      <th>2</th>\n",
       "      <td>1988</td>\n",
       "      <td>1011</td>\n",
       "      <td>6734</td>\n",
       "      <td>0.0347</td>\n",
       "      <td>Telcm</td>\n",
       "      <td>both</td>\n",
       "    </tr>\n",
       "  </tbody>\n",
       "</table>\n",
       "</div>"
      ],
      "text/plain": [
       "   year  gvkey1  gvkey2   score    ff1 _merge\n",
       "0  1988    1011    3226  0.1498  Telcm   both\n",
       "1  1988    1011    6282  0.0852  Telcm   both\n",
       "2  1988    1011    6734  0.0347  Telcm   both"
      ]
     },
     "execution_count": 81,
     "metadata": {},
     "output_type": "execute_result"
    }
   ],
   "source": [
    "m = df.merge(cp2, on=['gvkey1', 'year'], how='left', indicator=True, validate='m:1')\n",
    "m['_merge'].value_counts()\n",
    "m.head(3)"
   ]
  },
  {
   "cell_type": "code",
   "execution_count": 82,
   "id": "2d29810e-0e88-418a-b03a-241364825a48",
   "metadata": {},
   "outputs": [
    {
     "data": {
      "text/plain": [
       "both          23537053\n",
       "left_only       141244\n",
       "right_only           0\n",
       "Name: _merge, dtype: int64"
      ]
     },
     "execution_count": 82,
     "metadata": {},
     "output_type": "execute_result"
    },
    {
     "data": {
      "text/html": [
       "<div>\n",
       "<style scoped>\n",
       "    .dataframe tbody tr th:only-of-type {\n",
       "        vertical-align: middle;\n",
       "    }\n",
       "\n",
       "    .dataframe tbody tr th {\n",
       "        vertical-align: top;\n",
       "    }\n",
       "\n",
       "    .dataframe thead th {\n",
       "        text-align: right;\n",
       "    }\n",
       "</style>\n",
       "<table border=\"1\" class=\"dataframe\">\n",
       "  <thead>\n",
       "    <tr style=\"text-align: right;\">\n",
       "      <th></th>\n",
       "      <th>year</th>\n",
       "      <th>gvkey1</th>\n",
       "      <th>gvkey2</th>\n",
       "      <th>score</th>\n",
       "      <th>ff1</th>\n",
       "      <th>ff2</th>\n",
       "    </tr>\n",
       "  </thead>\n",
       "  <tbody>\n",
       "    <tr>\n",
       "      <th>0</th>\n",
       "      <td>1988</td>\n",
       "      <td>1011</td>\n",
       "      <td>3226</td>\n",
       "      <td>0.1498</td>\n",
       "      <td>Telcm</td>\n",
       "      <td>Telcm</td>\n",
       "    </tr>\n",
       "    <tr>\n",
       "      <th>1</th>\n",
       "      <td>1988</td>\n",
       "      <td>1011</td>\n",
       "      <td>6282</td>\n",
       "      <td>0.0852</td>\n",
       "      <td>Telcm</td>\n",
       "      <td>Telcm</td>\n",
       "    </tr>\n",
       "    <tr>\n",
       "      <th>2</th>\n",
       "      <td>1988</td>\n",
       "      <td>1011</td>\n",
       "      <td>6734</td>\n",
       "      <td>0.0347</td>\n",
       "      <td>Telcm</td>\n",
       "      <td>Telcm</td>\n",
       "    </tr>\n",
       "  </tbody>\n",
       "</table>\n",
       "</div>"
      ],
      "text/plain": [
       "   year  gvkey1  gvkey2   score    ff1    ff2\n",
       "0  1988    1011    3226  0.1498  Telcm  Telcm\n",
       "1  1988    1011    6282  0.0852  Telcm  Telcm\n",
       "2  1988    1011    6734  0.0347  Telcm  Telcm"
      ]
     },
     "execution_count": 82,
     "metadata": {},
     "output_type": "execute_result"
    }
   ],
   "source": [
    "cp2.columns = ['gvkey2', 'year', 'ff2']\n",
    "m = m.drop(columns=['_merge']).merge(cp2, on=['gvkey2', 'year'], how='left', indicator=True, validate='m:1')\n",
    "m['_merge'].value_counts()\n",
    "m.drop(columns=['_merge'], inplace=True)\n",
    "m.head(3)"
   ]
  },
  {
   "cell_type": "code",
   "execution_count": 83,
   "id": "cd6b9d2a-b0b2-4ce8-9fe6-f2dd3495596e",
   "metadata": {},
   "outputs": [
    {
     "data": {
      "text/html": [
       "<div>\n",
       "<style scoped>\n",
       "    .dataframe tbody tr th:only-of-type {\n",
       "        vertical-align: middle;\n",
       "    }\n",
       "\n",
       "    .dataframe tbody tr th {\n",
       "        vertical-align: top;\n",
       "    }\n",
       "\n",
       "    .dataframe thead th {\n",
       "        text-align: right;\n",
       "    }\n",
       "</style>\n",
       "<table border=\"1\" class=\"dataframe\">\n",
       "  <thead>\n",
       "    <tr style=\"text-align: right;\">\n",
       "      <th>ff2</th>\n",
       "      <th>BusEq</th>\n",
       "      <th>Chems</th>\n",
       "      <th>Durbl</th>\n",
       "      <th>Enrgy</th>\n",
       "      <th>Hlth</th>\n",
       "      <th>Manuf</th>\n",
       "      <th>Money</th>\n",
       "      <th>NoDur</th>\n",
       "      <th>Other</th>\n",
       "      <th>Shops</th>\n",
       "      <th>Telcm</th>\n",
       "      <th>Utils</th>\n",
       "    </tr>\n",
       "    <tr>\n",
       "      <th>ff1</th>\n",
       "      <th></th>\n",
       "      <th></th>\n",
       "      <th></th>\n",
       "      <th></th>\n",
       "      <th></th>\n",
       "      <th></th>\n",
       "      <th></th>\n",
       "      <th></th>\n",
       "      <th></th>\n",
       "      <th></th>\n",
       "      <th></th>\n",
       "      <th></th>\n",
       "    </tr>\n",
       "  </thead>\n",
       "  <tbody>\n",
       "    <tr>\n",
       "      <th>BusEq</th>\n",
       "      <td>0.028966</td>\n",
       "      <td>0.024639</td>\n",
       "      <td>0.025120</td>\n",
       "      <td>0.033253</td>\n",
       "      <td>0.027269</td>\n",
       "      <td>0.023345</td>\n",
       "      <td>0.026849</td>\n",
       "      <td>0.023599</td>\n",
       "      <td>0.026969</td>\n",
       "      <td>0.022444</td>\n",
       "      <td>0.022528</td>\n",
       "      <td>0.025307</td>\n",
       "    </tr>\n",
       "    <tr>\n",
       "      <th>Chems</th>\n",
       "      <td>0.024639</td>\n",
       "      <td>0.032921</td>\n",
       "      <td>0.025093</td>\n",
       "      <td>0.027745</td>\n",
       "      <td>0.029080</td>\n",
       "      <td>0.032468</td>\n",
       "      <td>0.039759</td>\n",
       "      <td>0.026158</td>\n",
       "      <td>0.026608</td>\n",
       "      <td>0.030429</td>\n",
       "      <td>0.022302</td>\n",
       "      <td>0.023530</td>\n",
       "    </tr>\n",
       "    <tr>\n",
       "      <th>Durbl</th>\n",
       "      <td>0.025120</td>\n",
       "      <td>0.025093</td>\n",
       "      <td>0.036716</td>\n",
       "      <td>0.040661</td>\n",
       "      <td>0.042439</td>\n",
       "      <td>0.023562</td>\n",
       "      <td>0.031644</td>\n",
       "      <td>0.030421</td>\n",
       "      <td>0.057367</td>\n",
       "      <td>0.022138</td>\n",
       "      <td>0.046702</td>\n",
       "      <td>0.025658</td>\n",
       "    </tr>\n",
       "    <tr>\n",
       "      <th>Enrgy</th>\n",
       "      <td>0.033253</td>\n",
       "      <td>0.027745</td>\n",
       "      <td>0.040661</td>\n",
       "      <td>0.059475</td>\n",
       "      <td>0.032793</td>\n",
       "      <td>0.032233</td>\n",
       "      <td>0.037011</td>\n",
       "      <td>0.037152</td>\n",
       "      <td>0.031829</td>\n",
       "      <td>0.040630</td>\n",
       "      <td>0.040617</td>\n",
       "      <td>0.039606</td>\n",
       "    </tr>\n",
       "    <tr>\n",
       "      <th>Hlth</th>\n",
       "      <td>0.027269</td>\n",
       "      <td>0.029080</td>\n",
       "      <td>0.042439</td>\n",
       "      <td>0.032793</td>\n",
       "      <td>0.066709</td>\n",
       "      <td>0.041065</td>\n",
       "      <td>0.031627</td>\n",
       "      <td>0.035792</td>\n",
       "      <td>0.037619</td>\n",
       "      <td>0.043310</td>\n",
       "      <td>0.030252</td>\n",
       "      <td>0.029080</td>\n",
       "    </tr>\n",
       "  </tbody>\n",
       "</table>\n",
       "</div>"
      ],
      "text/plain": [
       "ff2       BusEq     Chems     Durbl     Enrgy      Hlth     Manuf     Money  \\\n",
       "ff1                                                                           \n",
       "BusEq  0.028966  0.024639  0.025120  0.033253  0.027269  0.023345  0.026849   \n",
       "Chems  0.024639  0.032921  0.025093  0.027745  0.029080  0.032468  0.039759   \n",
       "Durbl  0.025120  0.025093  0.036716  0.040661  0.042439  0.023562  0.031644   \n",
       "Enrgy  0.033253  0.027745  0.040661  0.059475  0.032793  0.032233  0.037011   \n",
       "Hlth   0.027269  0.029080  0.042439  0.032793  0.066709  0.041065  0.031627   \n",
       "\n",
       "ff2       NoDur     Other     Shops     Telcm     Utils  \n",
       "ff1                                                      \n",
       "BusEq  0.023599  0.026969  0.022444  0.022528  0.025307  \n",
       "Chems  0.026158  0.026608  0.030429  0.022302  0.023530  \n",
       "Durbl  0.030421  0.057367  0.022138  0.046702  0.025658  \n",
       "Enrgy  0.037152  0.031829  0.040630  0.040617  0.039606  \n",
       "Hlth   0.035792  0.037619  0.043310  0.030252  0.029080  "
      ]
     },
     "execution_count": 83,
     "metadata": {},
     "output_type": "execute_result"
    }
   ],
   "source": [
    "g = m.groupby(['ff1', 'ff2'])['score'].mean().unstack().fillna(0)\n",
    "g.head()"
   ]
  },
  {
   "cell_type": "code",
   "execution_count": 84,
   "id": "74fb9ec9-880c-48d6-99b8-efc5d7320353",
   "metadata": {},
   "outputs": [
    {
     "data": {
      "application/vnd.plotly.v1+json": {
       "config": {
        "plotlyServerURL": "https://plot.ly"
       },
       "data": [
        {
         "coloraxis": "coloraxis",
         "hovertemplate": "ff2: %{x}<br>ff1: %{y}<br>color: %{z}<extra></extra>",
         "name": "0",
         "type": "heatmap",
         "x": [
          "BusEq",
          "Chems",
          "Durbl",
          "Enrgy",
          "Hlth",
          "Manuf",
          "Money",
          "NoDur",
          "Other",
          "Shops",
          "Telcm",
          "Utils"
         ],
         "xaxis": "x",
         "y": [
          "BusEq",
          "Chems",
          "Durbl",
          "Enrgy",
          "Hlth",
          "Manuf",
          "Money",
          "NoDur",
          "Other",
          "Shops",
          "Telcm",
          "Utils"
         ],
         "yaxis": "y",
         "z": [
          [
           0.028966373916663273,
           0.02463938393839384,
           0.025120193753131785,
           0.03325301512472992,
           0.02726903335976093,
           0.023344982732466192,
           0.02684856221055283,
           0.02359938128383604,
           0.026969218507859195,
           0.02244354681683688,
           0.02252768687932163,
           0.025307456588355464
          ],
          [
           0.02463938393839384,
           0.03292104444060176,
           0.025092887931034483,
           0.02774483899426555,
           0.029079535320347336,
           0.03246811442525728,
           0.039758716398918405,
           0.026157790143084263,
           0.02660768235902742,
           0.0304288958848662,
           0.02230153846153846,
           0.023530163151611622
          ],
          [
           0.025120193753131785,
           0.025092887931034483,
           0.036715720329547986,
           0.04066149802890933,
           0.04243928950159066,
           0.023561762756792577,
           0.03164425404116244,
           0.030420887728459533,
           0.057366750539180444,
           0.022138486962908557,
           0.0467021897810219,
           0.025658069164265128
          ],
          [
           0.03325301512472992,
           0.02774483899426555,
           0.04066149802890933,
           0.059474633131731604,
           0.032792925430210326,
           0.03223282097110516,
           0.03701072369114084,
           0.03715195852534563,
           0.0318294861616035,
           0.040630362296591956,
           0.04061707829742512,
           0.039605526158458776
          ],
          [
           0.02726903335976093,
           0.029079535320347336,
           0.04243928950159066,
           0.032792925430210326,
           0.06670880028225717,
           0.04106516736401674,
           0.03162685600151044,
           0.035792157627779944,
           0.03761911950720375,
           0.043309629600269524,
           0.030251868659903897,
           0.029079608540925266
          ],
          [
           0.023344982732466192,
           0.03246811442525728,
           0.023561762756792577,
           0.03223282097110516,
           0.04106516736401674,
           0.03292746101214325,
           0.03539896128423041,
           0.03356432601880878,
           0.02812002055900925,
           0.02707651515151515,
           0.029401781472684085,
           0.024168652220386746
          ],
          [
           0.02684856221055283,
           0.039758716398918405,
           0.03164425404116244,
           0.03701072369114084,
           0.03162685600151044,
           0.03539896128423041,
           0.08966632975842673,
           0.03399234736244045,
           0.041036980204297864,
           0.03262332228032139,
           0.02649196918255419,
           0.03545471499894944
          ],
          [
           0.02359938128383604,
           0.026157790143084263,
           0.030420887728459533,
           0.03715195852534563,
           0.035792157627779944,
           0.03356432601880878,
           0.03399234736244045,
           0.035802403214299124,
           0.04079715692503177,
           0.026010500060834652,
           0.031666844160454385,
           0.03095345724907063
          ],
          [
           0.026969218507859195,
           0.02660768235902742,
           0.057366750539180444,
           0.0318294861616035,
           0.03761911950720375,
           0.02812002055900925,
           0.041036980204297864,
           0.04079715692503177,
           0.062206355387925745,
           0.03229650305949746,
           0.025108296234221967,
           0.028840541801001682
          ],
          [
           0.02244354681683688,
           0.0304288958848662,
           0.022138486962908557,
           0.040630362296591956,
           0.043309629600269524,
           0.02707651515151515,
           0.03262332228032139,
           0.026010500060834652,
           0.03229650305949746,
           0.03881233383500123,
           0.028984091968308222,
           0.0392516850651247
          ],
          [
           0.02252768687932163,
           0.02230153846153846,
           0.0467021897810219,
           0.04061707829742512,
           0.030251868659903897,
           0.029401781472684085,
           0.02649196918255419,
           0.031666844160454385,
           0.025108296234221967,
           0.028984091968308222,
           0.048263449848865665,
           0.019081009409751926
          ],
          [
           0.025307456588355464,
           0.023530163151611622,
           0.025658069164265128,
           0.039605526158458776,
           0.029079608540925266,
           0.024168652220386746,
           0.03545471499894944,
           0.03095345724907063,
           0.028840541801001682,
           0.0392516850651247,
           0.019081009409751926,
           0.04966631678906052
          ]
         ]
        }
       ],
       "layout": {
        "autosize": true,
        "coloraxis": {
         "colorscale": [
          [
           0,
           "#0d0887"
          ],
          [
           0.1111111111111111,
           "#46039f"
          ],
          [
           0.2222222222222222,
           "#7201a8"
          ],
          [
           0.3333333333333333,
           "#9c179e"
          ],
          [
           0.4444444444444444,
           "#bd3786"
          ],
          [
           0.5555555555555556,
           "#d8576b"
          ],
          [
           0.6666666666666666,
           "#ed7953"
          ],
          [
           0.7777777777777778,
           "#fb9f3a"
          ],
          [
           0.8888888888888888,
           "#fdca26"
          ],
          [
           1,
           "#f0f921"
          ]
         ]
        },
        "margin": {
         "t": 60
        },
        "template": {
         "data": {
          "bar": [
           {
            "error_x": {
             "color": "#2a3f5f"
            },
            "error_y": {
             "color": "#2a3f5f"
            },
            "marker": {
             "line": {
              "color": "#E5ECF6",
              "width": 0.5
             },
             "pattern": {
              "fillmode": "overlay",
              "size": 10,
              "solidity": 0.2
             }
            },
            "type": "bar"
           }
          ],
          "barpolar": [
           {
            "marker": {
             "line": {
              "color": "#E5ECF6",
              "width": 0.5
             },
             "pattern": {
              "fillmode": "overlay",
              "size": 10,
              "solidity": 0.2
             }
            },
            "type": "barpolar"
           }
          ],
          "carpet": [
           {
            "aaxis": {
             "endlinecolor": "#2a3f5f",
             "gridcolor": "white",
             "linecolor": "white",
             "minorgridcolor": "white",
             "startlinecolor": "#2a3f5f"
            },
            "baxis": {
             "endlinecolor": "#2a3f5f",
             "gridcolor": "white",
             "linecolor": "white",
             "minorgridcolor": "white",
             "startlinecolor": "#2a3f5f"
            },
            "type": "carpet"
           }
          ],
          "choropleth": [
           {
            "colorbar": {
             "outlinewidth": 0,
             "ticks": ""
            },
            "type": "choropleth"
           }
          ],
          "contour": [
           {
            "colorbar": {
             "outlinewidth": 0,
             "ticks": ""
            },
            "colorscale": [
             [
              0,
              "#0d0887"
             ],
             [
              0.1111111111111111,
              "#46039f"
             ],
             [
              0.2222222222222222,
              "#7201a8"
             ],
             [
              0.3333333333333333,
              "#9c179e"
             ],
             [
              0.4444444444444444,
              "#bd3786"
             ],
             [
              0.5555555555555556,
              "#d8576b"
             ],
             [
              0.6666666666666666,
              "#ed7953"
             ],
             [
              0.7777777777777778,
              "#fb9f3a"
             ],
             [
              0.8888888888888888,
              "#fdca26"
             ],
             [
              1,
              "#f0f921"
             ]
            ],
            "type": "contour"
           }
          ],
          "contourcarpet": [
           {
            "colorbar": {
             "outlinewidth": 0,
             "ticks": ""
            },
            "type": "contourcarpet"
           }
          ],
          "heatmap": [
           {
            "colorbar": {
             "outlinewidth": 0,
             "ticks": ""
            },
            "colorscale": [
             [
              0,
              "#0d0887"
             ],
             [
              0.1111111111111111,
              "#46039f"
             ],
             [
              0.2222222222222222,
              "#7201a8"
             ],
             [
              0.3333333333333333,
              "#9c179e"
             ],
             [
              0.4444444444444444,
              "#bd3786"
             ],
             [
              0.5555555555555556,
              "#d8576b"
             ],
             [
              0.6666666666666666,
              "#ed7953"
             ],
             [
              0.7777777777777778,
              "#fb9f3a"
             ],
             [
              0.8888888888888888,
              "#fdca26"
             ],
             [
              1,
              "#f0f921"
             ]
            ],
            "type": "heatmap"
           }
          ],
          "heatmapgl": [
           {
            "colorbar": {
             "outlinewidth": 0,
             "ticks": ""
            },
            "colorscale": [
             [
              0,
              "#0d0887"
             ],
             [
              0.1111111111111111,
              "#46039f"
             ],
             [
              0.2222222222222222,
              "#7201a8"
             ],
             [
              0.3333333333333333,
              "#9c179e"
             ],
             [
              0.4444444444444444,
              "#bd3786"
             ],
             [
              0.5555555555555556,
              "#d8576b"
             ],
             [
              0.6666666666666666,
              "#ed7953"
             ],
             [
              0.7777777777777778,
              "#fb9f3a"
             ],
             [
              0.8888888888888888,
              "#fdca26"
             ],
             [
              1,
              "#f0f921"
             ]
            ],
            "type": "heatmapgl"
           }
          ],
          "histogram": [
           {
            "marker": {
             "pattern": {
              "fillmode": "overlay",
              "size": 10,
              "solidity": 0.2
             }
            },
            "type": "histogram"
           }
          ],
          "histogram2d": [
           {
            "colorbar": {
             "outlinewidth": 0,
             "ticks": ""
            },
            "colorscale": [
             [
              0,
              "#0d0887"
             ],
             [
              0.1111111111111111,
              "#46039f"
             ],
             [
              0.2222222222222222,
              "#7201a8"
             ],
             [
              0.3333333333333333,
              "#9c179e"
             ],
             [
              0.4444444444444444,
              "#bd3786"
             ],
             [
              0.5555555555555556,
              "#d8576b"
             ],
             [
              0.6666666666666666,
              "#ed7953"
             ],
             [
              0.7777777777777778,
              "#fb9f3a"
             ],
             [
              0.8888888888888888,
              "#fdca26"
             ],
             [
              1,
              "#f0f921"
             ]
            ],
            "type": "histogram2d"
           }
          ],
          "histogram2dcontour": [
           {
            "colorbar": {
             "outlinewidth": 0,
             "ticks": ""
            },
            "colorscale": [
             [
              0,
              "#0d0887"
             ],
             [
              0.1111111111111111,
              "#46039f"
             ],
             [
              0.2222222222222222,
              "#7201a8"
             ],
             [
              0.3333333333333333,
              "#9c179e"
             ],
             [
              0.4444444444444444,
              "#bd3786"
             ],
             [
              0.5555555555555556,
              "#d8576b"
             ],
             [
              0.6666666666666666,
              "#ed7953"
             ],
             [
              0.7777777777777778,
              "#fb9f3a"
             ],
             [
              0.8888888888888888,
              "#fdca26"
             ],
             [
              1,
              "#f0f921"
             ]
            ],
            "type": "histogram2dcontour"
           }
          ],
          "mesh3d": [
           {
            "colorbar": {
             "outlinewidth": 0,
             "ticks": ""
            },
            "type": "mesh3d"
           }
          ],
          "parcoords": [
           {
            "line": {
             "colorbar": {
              "outlinewidth": 0,
              "ticks": ""
             }
            },
            "type": "parcoords"
           }
          ],
          "pie": [
           {
            "automargin": true,
            "type": "pie"
           }
          ],
          "scatter": [
           {
            "marker": {
             "colorbar": {
              "outlinewidth": 0,
              "ticks": ""
             }
            },
            "type": "scatter"
           }
          ],
          "scatter3d": [
           {
            "line": {
             "colorbar": {
              "outlinewidth": 0,
              "ticks": ""
             }
            },
            "marker": {
             "colorbar": {
              "outlinewidth": 0,
              "ticks": ""
             }
            },
            "type": "scatter3d"
           }
          ],
          "scattercarpet": [
           {
            "marker": {
             "colorbar": {
              "outlinewidth": 0,
              "ticks": ""
             }
            },
            "type": "scattercarpet"
           }
          ],
          "scattergeo": [
           {
            "marker": {
             "colorbar": {
              "outlinewidth": 0,
              "ticks": ""
             }
            },
            "type": "scattergeo"
           }
          ],
          "scattergl": [
           {
            "marker": {
             "colorbar": {
              "outlinewidth": 0,
              "ticks": ""
             }
            },
            "type": "scattergl"
           }
          ],
          "scattermapbox": [
           {
            "marker": {
             "colorbar": {
              "outlinewidth": 0,
              "ticks": ""
             }
            },
            "type": "scattermapbox"
           }
          ],
          "scatterpolar": [
           {
            "marker": {
             "colorbar": {
              "outlinewidth": 0,
              "ticks": ""
             }
            },
            "type": "scatterpolar"
           }
          ],
          "scatterpolargl": [
           {
            "marker": {
             "colorbar": {
              "outlinewidth": 0,
              "ticks": ""
             }
            },
            "type": "scatterpolargl"
           }
          ],
          "scatterternary": [
           {
            "marker": {
             "colorbar": {
              "outlinewidth": 0,
              "ticks": ""
             }
            },
            "type": "scatterternary"
           }
          ],
          "surface": [
           {
            "colorbar": {
             "outlinewidth": 0,
             "ticks": ""
            },
            "colorscale": [
             [
              0,
              "#0d0887"
             ],
             [
              0.1111111111111111,
              "#46039f"
             ],
             [
              0.2222222222222222,
              "#7201a8"
             ],
             [
              0.3333333333333333,
              "#9c179e"
             ],
             [
              0.4444444444444444,
              "#bd3786"
             ],
             [
              0.5555555555555556,
              "#d8576b"
             ],
             [
              0.6666666666666666,
              "#ed7953"
             ],
             [
              0.7777777777777778,
              "#fb9f3a"
             ],
             [
              0.8888888888888888,
              "#fdca26"
             ],
             [
              1,
              "#f0f921"
             ]
            ],
            "type": "surface"
           }
          ],
          "table": [
           {
            "cells": {
             "fill": {
              "color": "#EBF0F8"
             },
             "line": {
              "color": "white"
             }
            },
            "header": {
             "fill": {
              "color": "#C8D4E3"
             },
             "line": {
              "color": "white"
             }
            },
            "type": "table"
           }
          ]
         },
         "layout": {
          "annotationdefaults": {
           "arrowcolor": "#2a3f5f",
           "arrowhead": 0,
           "arrowwidth": 1
          },
          "autotypenumbers": "strict",
          "coloraxis": {
           "colorbar": {
            "outlinewidth": 0,
            "ticks": ""
           }
          },
          "colorscale": {
           "diverging": [
            [
             0,
             "#8e0152"
            ],
            [
             0.1,
             "#c51b7d"
            ],
            [
             0.2,
             "#de77ae"
            ],
            [
             0.3,
             "#f1b6da"
            ],
            [
             0.4,
             "#fde0ef"
            ],
            [
             0.5,
             "#f7f7f7"
            ],
            [
             0.6,
             "#e6f5d0"
            ],
            [
             0.7,
             "#b8e186"
            ],
            [
             0.8,
             "#7fbc41"
            ],
            [
             0.9,
             "#4d9221"
            ],
            [
             1,
             "#276419"
            ]
           ],
           "sequential": [
            [
             0,
             "#0d0887"
            ],
            [
             0.1111111111111111,
             "#46039f"
            ],
            [
             0.2222222222222222,
             "#7201a8"
            ],
            [
             0.3333333333333333,
             "#9c179e"
            ],
            [
             0.4444444444444444,
             "#bd3786"
            ],
            [
             0.5555555555555556,
             "#d8576b"
            ],
            [
             0.6666666666666666,
             "#ed7953"
            ],
            [
             0.7777777777777778,
             "#fb9f3a"
            ],
            [
             0.8888888888888888,
             "#fdca26"
            ],
            [
             1,
             "#f0f921"
            ]
           ],
           "sequentialminus": [
            [
             0,
             "#0d0887"
            ],
            [
             0.1111111111111111,
             "#46039f"
            ],
            [
             0.2222222222222222,
             "#7201a8"
            ],
            [
             0.3333333333333333,
             "#9c179e"
            ],
            [
             0.4444444444444444,
             "#bd3786"
            ],
            [
             0.5555555555555556,
             "#d8576b"
            ],
            [
             0.6666666666666666,
             "#ed7953"
            ],
            [
             0.7777777777777778,
             "#fb9f3a"
            ],
            [
             0.8888888888888888,
             "#fdca26"
            ],
            [
             1,
             "#f0f921"
            ]
           ]
          },
          "colorway": [
           "#636efa",
           "#EF553B",
           "#00cc96",
           "#ab63fa",
           "#FFA15A",
           "#19d3f3",
           "#FF6692",
           "#B6E880",
           "#FF97FF",
           "#FECB52"
          ],
          "font": {
           "color": "#2a3f5f"
          },
          "geo": {
           "bgcolor": "white",
           "lakecolor": "white",
           "landcolor": "#E5ECF6",
           "showlakes": true,
           "showland": true,
           "subunitcolor": "white"
          },
          "hoverlabel": {
           "align": "left"
          },
          "hovermode": "closest",
          "mapbox": {
           "style": "light"
          },
          "paper_bgcolor": "white",
          "plot_bgcolor": "#E5ECF6",
          "polar": {
           "angularaxis": {
            "gridcolor": "white",
            "linecolor": "white",
            "ticks": ""
           },
           "bgcolor": "#E5ECF6",
           "radialaxis": {
            "gridcolor": "white",
            "linecolor": "white",
            "ticks": ""
           }
          },
          "scene": {
           "xaxis": {
            "backgroundcolor": "#E5ECF6",
            "gridcolor": "white",
            "gridwidth": 2,
            "linecolor": "white",
            "showbackground": true,
            "ticks": "",
            "zerolinecolor": "white"
           },
           "yaxis": {
            "backgroundcolor": "#E5ECF6",
            "gridcolor": "white",
            "gridwidth": 2,
            "linecolor": "white",
            "showbackground": true,
            "ticks": "",
            "zerolinecolor": "white"
           },
           "zaxis": {
            "backgroundcolor": "#E5ECF6",
            "gridcolor": "white",
            "gridwidth": 2,
            "linecolor": "white",
            "showbackground": true,
            "ticks": "",
            "zerolinecolor": "white"
           }
          },
          "shapedefaults": {
           "line": {
            "color": "#2a3f5f"
           }
          },
          "ternary": {
           "aaxis": {
            "gridcolor": "white",
            "linecolor": "white",
            "ticks": ""
           },
           "baxis": {
            "gridcolor": "white",
            "linecolor": "white",
            "ticks": ""
           },
           "bgcolor": "#E5ECF6",
           "caxis": {
            "gridcolor": "white",
            "linecolor": "white",
            "ticks": ""
           }
          },
          "title": {
           "x": 0.05
          },
          "xaxis": {
           "automargin": true,
           "gridcolor": "white",
           "linecolor": "white",
           "ticks": "",
           "title": {
            "standoff": 15
           },
           "zerolinecolor": "white",
           "zerolinewidth": 2
          },
          "yaxis": {
           "automargin": true,
           "gridcolor": "white",
           "linecolor": "white",
           "ticks": "",
           "title": {
            "standoff": 15
           },
           "zerolinecolor": "white",
           "zerolinewidth": 2
          }
         }
        },
        "xaxis": {
         "anchor": "y",
         "autorange": true,
         "constrain": "domain",
         "domain": [
          0.36185044359949303,
          0.638149556400507
         ],
         "range": [
          -0.5,
          11.5
         ],
         "scaleanchor": "y",
         "title": {
          "text": "ff2"
         },
         "type": "category"
        },
        "yaxis": {
         "anchor": "x",
         "autorange": true,
         "constrain": "domain",
         "domain": [
          0,
          1
         ],
         "range": [
          11.5,
          -0.5
         ],
         "title": {
          "text": "ff1"
         },
         "type": "category"
        }
       }
      },
      "image/png": "[encoded data removed]",
      "text/html": [
       "<div>                            <div id=\"666d7077-96c2-4bac-95f6-5865c504e9b2\" class=\"plotly-graph-div\" style=\"height:525px; width:100%;\"></div>            <script type=\"text/javascript\">                require([\"plotly\"], function(Plotly) {                    window.PLOTLYENV=window.PLOTLYENV || {};                                    if (document.getElementById(\"666d7077-96c2-4bac-95f6-5865c504e9b2\")) {                    Plotly.newPlot(                        \"666d7077-96c2-4bac-95f6-5865c504e9b2\",                        [{\"coloraxis\":\"coloraxis\",\"name\":\"0\",\"x\":[\"BusEq\",\"Chems\",\"Durbl\",\"Enrgy\",\"Hlth\",\"Manuf\",\"Money\",\"NoDur\",\"Other\",\"Shops\",\"Telcm\",\"Utils\"],\"y\":[\"BusEq\",\"Chems\",\"Durbl\",\"Enrgy\",\"Hlth\",\"Manuf\",\"Money\",\"NoDur\",\"Other\",\"Shops\",\"Telcm\",\"Utils\"],\"z\":[[0.028966373916663273,0.02463938393839384,0.025120193753131785,0.03325301512472992,0.02726903335976093,0.023344982732466192,0.02684856221055283,0.02359938128383604,0.026969218507859195,0.02244354681683688,0.02252768687932163,0.025307456588355464],[0.02463938393839384,0.03292104444060176,0.025092887931034483,0.02774483899426555,0.029079535320347336,0.03246811442525728,0.039758716398918405,0.026157790143084263,0.02660768235902742,0.0304288958848662,0.02230153846153846,0.023530163151611622],[0.025120193753131785,0.025092887931034483,0.036715720329547986,0.04066149802890933,0.04243928950159066,0.023561762756792577,0.03164425404116244,0.030420887728459533,0.057366750539180444,0.022138486962908557,0.0467021897810219,0.025658069164265128],[0.03325301512472992,0.02774483899426555,0.04066149802890933,0.059474633131731604,0.032792925430210326,0.03223282097110516,0.03701072369114084,0.03715195852534563,0.0318294861616035,0.040630362296591956,0.04061707829742512,0.039605526158458776],[0.02726903335976093,0.029079535320347336,0.04243928950159066,0.032792925430210326,0.06670880028225717,0.04106516736401674,0.03162685600151044,0.035792157627779944,0.03761911950720375,0.043309629600269524,0.030251868659903897,0.029079608540925266],[0.023344982732466192,0.03246811442525728,0.023561762756792577,0.03223282097110516,0.04106516736401674,0.03292746101214325,0.03539896128423041,0.03356432601880878,0.02812002055900925,0.02707651515151515,0.029401781472684085,0.024168652220386746],[0.02684856221055283,0.039758716398918405,0.03164425404116244,0.03701072369114084,0.03162685600151044,0.03539896128423041,0.08966632975842673,0.03399234736244045,0.041036980204297864,0.03262332228032139,0.02649196918255419,0.03545471499894944],[0.02359938128383604,0.026157790143084263,0.030420887728459533,0.03715195852534563,0.035792157627779944,0.03356432601880878,0.03399234736244045,0.035802403214299124,0.04079715692503177,0.026010500060834652,0.031666844160454385,0.03095345724907063],[0.026969218507859195,0.02660768235902742,0.057366750539180444,0.0318294861616035,0.03761911950720375,0.02812002055900925,0.041036980204297864,0.04079715692503177,0.062206355387925745,0.03229650305949746,0.025108296234221967,0.028840541801001682],[0.02244354681683688,0.0304288958848662,0.022138486962908557,0.040630362296591956,0.043309629600269524,0.02707651515151515,0.03262332228032139,0.026010500060834652,0.03229650305949746,0.03881233383500123,0.028984091968308222,0.0392516850651247],[0.02252768687932163,0.02230153846153846,0.0467021897810219,0.04061707829742512,0.030251868659903897,0.029401781472684085,0.02649196918255419,0.031666844160454385,0.025108296234221967,0.028984091968308222,0.048263449848865665,0.019081009409751926],[0.025307456588355464,0.023530163151611622,0.025658069164265128,0.039605526158458776,0.029079608540925266,0.024168652220386746,0.03545471499894944,0.03095345724907063,0.028840541801001682,0.0392516850651247,0.019081009409751926,0.04966631678906052]],\"type\":\"heatmap\",\"xaxis\":\"x\",\"yaxis\":\"y\",\"hovertemplate\":\"ff2: %{x}<br>ff1: %{y}<br>color: %{z}<extra></extra>\"}],                        {\"template\":{\"data\":{\"bar\":[{\"error_x\":{\"color\":\"#2a3f5f\"},\"error_y\":{\"color\":\"#2a3f5f\"},\"marker\":{\"line\":{\"color\":\"#E5ECF6\",\"width\":0.5},\"pattern\":{\"fillmode\":\"overlay\",\"size\":10,\"solidity\":0.2}},\"type\":\"bar\"}],\"barpolar\":[{\"marker\":{\"line\":{\"color\":\"#E5ECF6\",\"width\":0.5},\"pattern\":{\"fillmode\":\"overlay\",\"size\":10,\"solidity\":0.2}},\"type\":\"barpolar\"}],\"carpet\":[{\"aaxis\":{\"endlinecolor\":\"#2a3f5f\",\"gridcolor\":\"white\",\"linecolor\":\"white\",\"minorgridcolor\":\"white\",\"startlinecolor\":\"#2a3f5f\"},\"baxis\":{\"endlinecolor\":\"#2a3f5f\",\"gridcolor\":\"white\",\"linecolor\":\"white\",\"minorgridcolor\":\"white\",\"startlinecolor\":\"#2a3f5f\"},\"type\":\"carpet\"}],\"choropleth\":[{\"colorbar\":{\"outlinewidth\":0,\"ticks\":\"\"},\"type\":\"choropleth\"}],\"contour\":[{\"colorbar\":{\"outlinewidth\":0,\"ticks\":\"\"},\"colorscale\":[[0.0,\"#0d0887\"],[0.1111111111111111,\"#46039f\"],[0.2222222222222222,\"#7201a8\"],[0.3333333333333333,\"#9c179e\"],[0.4444444444444444,\"#bd3786\"],[0.5555555555555556,\"#d8576b\"],[0.6666666666666666,\"#ed7953\"],[0.7777777777777778,\"#fb9f3a\"],[0.8888888888888888,\"#fdca26\"],[1.0,\"#f0f921\"]],\"type\":\"contour\"}],\"contourcarpet\":[{\"colorbar\":{\"outlinewidth\":0,\"ticks\":\"\"},\"type\":\"contourcarpet\"}],\"heatmap\":[{\"colorbar\":{\"outlinewidth\":0,\"ticks\":\"\"},\"colorscale\":[[0.0,\"#0d0887\"],[0.1111111111111111,\"#46039f\"],[0.2222222222222222,\"#7201a8\"],[0.3333333333333333,\"#9c179e\"],[0.4444444444444444,\"#bd3786\"],[0.5555555555555556,\"#d8576b\"],[0.6666666666666666,\"#ed7953\"],[0.7777777777777778,\"#fb9f3a\"],[0.8888888888888888,\"#fdca26\"],[1.0,\"#f0f921\"]],\"type\":\"heatmap\"}],\"heatmapgl\":[{\"colorbar\":{\"outlinewidth\":0,\"ticks\":\"\"},\"colorscale\":[[0.0,\"#0d0887\"],[0.1111111111111111,\"#46039f\"],[0.2222222222222222,\"#7201a8\"],[0.3333333333333333,\"#9c179e\"],[0.4444444444444444,\"#bd3786\"],[0.5555555555555556,\"#d8576b\"],[0.6666666666666666,\"#ed7953\"],[0.7777777777777778,\"#fb9f3a\"],[0.8888888888888888,\"#fdca26\"],[1.0,\"#f0f921\"]],\"type\":\"heatmapgl\"}],\"histogram\":[{\"marker\":{\"pattern\":{\"fillmode\":\"overlay\",\"size\":10,\"solidity\":0.2}},\"type\":\"histogram\"}],\"histogram2d\":[{\"colorbar\":{\"outlinewidth\":0,\"ticks\":\"\"},\"colorscale\":[[0.0,\"#0d0887\"],[0.1111111111111111,\"#46039f\"],[0.2222222222222222,\"#7201a8\"],[0.3333333333333333,\"#9c179e\"],[0.4444444444444444,\"#bd3786\"],[0.5555555555555556,\"#d8576b\"],[0.6666666666666666,\"#ed7953\"],[0.7777777777777778,\"#fb9f3a\"],[0.8888888888888888,\"#fdca26\"],[1.0,\"#f0f921\"]],\"type\":\"histogram2d\"}],\"histogram2dcontour\":[{\"colorbar\":{\"outlinewidth\":0,\"ticks\":\"\"},\"colorscale\":[[0.0,\"#0d0887\"],[0.1111111111111111,\"#46039f\"],[0.2222222222222222,\"#7201a8\"],[0.3333333333333333,\"#9c179e\"],[0.4444444444444444,\"#bd3786\"],[0.5555555555555556,\"#d8576b\"],[0.6666666666666666,\"#ed7953\"],[0.7777777777777778,\"#fb9f3a\"],[0.8888888888888888,\"#fdca26\"],[1.0,\"#f0f921\"]],\"type\":\"histogram2dcontour\"}],\"mesh3d\":[{\"colorbar\":{\"outlinewidth\":0,\"ticks\":\"\"},\"type\":\"mesh3d\"}],\"parcoords\":[{\"line\":{\"colorbar\":{\"outlinewidth\":0,\"ticks\":\"\"}},\"type\":\"parcoords\"}],\"pie\":[{\"automargin\":true,\"type\":\"pie\"}],\"scatter\":[{\"marker\":{\"colorbar\":{\"outlinewidth\":0,\"ticks\":\"\"}},\"type\":\"scatter\"}],\"scatter3d\":[{\"line\":{\"colorbar\":{\"outlinewidth\":0,\"ticks\":\"\"}},\"marker\":{\"colorbar\":{\"outlinewidth\":0,\"ticks\":\"\"}},\"type\":\"scatter3d\"}],\"scattercarpet\":[{\"marker\":{\"colorbar\":{\"outlinewidth\":0,\"ticks\":\"\"}},\"type\":\"scattercarpet\"}],\"scattergeo\":[{\"marker\":{\"colorbar\":{\"outlinewidth\":0,\"ticks\":\"\"}},\"type\":\"scattergeo\"}],\"scattergl\":[{\"marker\":{\"colorbar\":{\"outlinewidth\":0,\"ticks\":\"\"}},\"type\":\"scattergl\"}],\"scattermapbox\":[{\"marker\":{\"colorbar\":{\"outlinewidth\":0,\"ticks\":\"\"}},\"type\":\"scattermapbox\"}],\"scatterpolar\":[{\"marker\":{\"colorbar\":{\"outlinewidth\":0,\"ticks\":\"\"}},\"type\":\"scatterpolar\"}],\"scatterpolargl\":[{\"marker\":{\"colorbar\":{\"outlinewidth\":0,\"ticks\":\"\"}},\"type\":\"scatterpolargl\"}],\"scatterternary\":[{\"marker\":{\"colorbar\":{\"outlinewidth\":0,\"ticks\":\"\"}},\"type\":\"scatterternary\"}],\"surface\":[{\"colorbar\":{\"outlinewidth\":0,\"ticks\":\"\"},\"colorscale\":[[0.0,\"#0d0887\"],[0.1111111111111111,\"#46039f\"],[0.2222222222222222,\"#7201a8\"],[0.3333333333333333,\"#9c179e\"],[0.4444444444444444,\"#bd3786\"],[0.5555555555555556,\"#d8576b\"],[0.6666666666666666,\"#ed7953\"],[0.7777777777777778,\"#fb9f3a\"],[0.8888888888888888,\"#fdca26\"],[1.0,\"#f0f921\"]],\"type\":\"surface\"}],\"table\":[{\"cells\":{\"fill\":{\"color\":\"#EBF0F8\"},\"line\":{\"color\":\"white\"}},\"header\":{\"fill\":{\"color\":\"#C8D4E3\"},\"line\":{\"color\":\"white\"}},\"type\":\"table\"}]},\"layout\":{\"annotationdefaults\":{\"arrowcolor\":\"#2a3f5f\",\"arrowhead\":0,\"arrowwidth\":1},\"autotypenumbers\":\"strict\",\"coloraxis\":{\"colorbar\":{\"outlinewidth\":0,\"ticks\":\"\"}},\"colorscale\":{\"diverging\":[[0,\"#8e0152\"],[0.1,\"#c51b7d\"],[0.2,\"#de77ae\"],[0.3,\"#f1b6da\"],[0.4,\"#fde0ef\"],[0.5,\"#f7f7f7\"],[0.6,\"#e6f5d0\"],[0.7,\"#b8e186\"],[0.8,\"#7fbc41\"],[0.9,\"#4d9221\"],[1,\"#276419\"]],\"sequential\":[[0.0,\"#0d0887\"],[0.1111111111111111,\"#46039f\"],[0.2222222222222222,\"#7201a8\"],[0.3333333333333333,\"#9c179e\"],[0.4444444444444444,\"#bd3786\"],[0.5555555555555556,\"#d8576b\"],[0.6666666666666666,\"#ed7953\"],[0.7777777777777778,\"#fb9f3a\"],[0.8888888888888888,\"#fdca26\"],[1.0,\"#f0f921\"]],\"sequentialminus\":[[0.0,\"#0d0887\"],[0.1111111111111111,\"#46039f\"],[0.2222222222222222,\"#7201a8\"],[0.3333333333333333,\"#9c179e\"],[0.4444444444444444,\"#bd3786\"],[0.5555555555555556,\"#d8576b\"],[0.6666666666666666,\"#ed7953\"],[0.7777777777777778,\"#fb9f3a\"],[0.8888888888888888,\"#fdca26\"],[1.0,\"#f0f921\"]]},\"colorway\":[\"#636efa\",\"#EF553B\",\"#00cc96\",\"#ab63fa\",\"#FFA15A\",\"#19d3f3\",\"#FF6692\",\"#B6E880\",\"#FF97FF\",\"#FECB52\"],\"font\":{\"color\":\"#2a3f5f\"},\"geo\":{\"bgcolor\":\"white\",\"lakecolor\":\"white\",\"landcolor\":\"#E5ECF6\",\"showlakes\":true,\"showland\":true,\"subunitcolor\":\"white\"},\"hoverlabel\":{\"align\":\"left\"},\"hovermode\":\"closest\",\"mapbox\":{\"style\":\"light\"},\"paper_bgcolor\":\"white\",\"plot_bgcolor\":\"#E5ECF6\",\"polar\":{\"angularaxis\":{\"gridcolor\":\"white\",\"linecolor\":\"white\",\"ticks\":\"\"},\"bgcolor\":\"#E5ECF6\",\"radialaxis\":{\"gridcolor\":\"white\",\"linecolor\":\"white\",\"ticks\":\"\"}},\"scene\":{\"xaxis\":{\"backgroundcolor\":\"#E5ECF6\",\"gridcolor\":\"white\",\"gridwidth\":2,\"linecolor\":\"white\",\"showbackground\":true,\"ticks\":\"\",\"zerolinecolor\":\"white\"},\"yaxis\":{\"backgroundcolor\":\"#E5ECF6\",\"gridcolor\":\"white\",\"gridwidth\":2,\"linecolor\":\"white\",\"showbackground\":true,\"ticks\":\"\",\"zerolinecolor\":\"white\"},\"zaxis\":{\"backgroundcolor\":\"#E5ECF6\",\"gridcolor\":\"white\",\"gridwidth\":2,\"linecolor\":\"white\",\"showbackground\":true,\"ticks\":\"\",\"zerolinecolor\":\"white\"}},\"shapedefaults\":{\"line\":{\"color\":\"#2a3f5f\"}},\"ternary\":{\"aaxis\":{\"gridcolor\":\"white\",\"linecolor\":\"white\",\"ticks\":\"\"},\"baxis\":{\"gridcolor\":\"white\",\"linecolor\":\"white\",\"ticks\":\"\"},\"bgcolor\":\"#E5ECF6\",\"caxis\":{\"gridcolor\":\"white\",\"linecolor\":\"white\",\"ticks\":\"\"}},\"title\":{\"x\":0.05},\"xaxis\":{\"automargin\":true,\"gridcolor\":\"white\",\"linecolor\":\"white\",\"ticks\":\"\",\"title\":{\"standoff\":15},\"zerolinecolor\":\"white\",\"zerolinewidth\":2},\"yaxis\":{\"automargin\":true,\"gridcolor\":\"white\",\"linecolor\":\"white\",\"ticks\":\"\",\"title\":{\"standoff\":15},\"zerolinecolor\":\"white\",\"zerolinewidth\":2}}},\"xaxis\":{\"anchor\":\"y\",\"domain\":[0.0,1.0],\"scaleanchor\":\"y\",\"constrain\":\"domain\",\"title\":{\"text\":\"ff2\"}},\"yaxis\":{\"anchor\":\"x\",\"domain\":[0.0,1.0],\"autorange\":\"reversed\",\"constrain\":\"domain\",\"title\":{\"text\":\"ff1\"}},\"coloraxis\":{\"colorscale\":[[0.0,\"#0d0887\"],[0.1111111111111111,\"#46039f\"],[0.2222222222222222,\"#7201a8\"],[0.3333333333333333,\"#9c179e\"],[0.4444444444444444,\"#bd3786\"],[0.5555555555555556,\"#d8576b\"],[0.6666666666666666,\"#ed7953\"],[0.7777777777777778,\"#fb9f3a\"],[0.8888888888888888,\"#fdca26\"],[1.0,\"#f0f921\"]]},\"margin\":{\"t\":60}},                        {\"responsive\": true}                    ).then(function(){\n",
       "                            \n",
       "var gd = document.getElementById('666d7077-96c2-4bac-95f6-5865c504e9b2');\n",
       "var x = new MutationObserver(function (mutations, observer) {{\n",
       "        var display = window.getComputedStyle(gd).display;\n",
       "        if (!display || display === 'none') {{\n",
       "            console.log([gd, 'removed!']);\n",
       "            Plotly.purge(gd);\n",
       "            observer.disconnect();\n",
       "        }}\n",
       "}});\n",
       "\n",
       "// Listen for the removal of the full notebook cells\n",
       "var notebookContainer = gd.closest('#notebook-container');\n",
       "if (notebookContainer) {{\n",
       "    x.observe(notebookContainer, {childList: true});\n",
       "}}\n",
       "\n",
       "// Listen for the clearing of the current output cell\n",
       "var outputEl = gd.closest('.output');\n",
       "if (outputEl) {{\n",
       "    x.observe(outputEl, {childList: true});\n",
       "}}\n",
       "\n",
       "                        })                };                });            </script>        </div>"
      ]
     },
     "metadata": {},
     "output_type": "display_data"
    }
   ],
   "source": [
    "fig = px.imshow(g)\n",
    "fig.show()"
   ]
  },
  {
   "cell_type": "markdown",
   "id": "00f6e94c-ef20-43eb-ab85-03271474fbb0",
   "metadata": {},
   "source": [
    "# Check Real Cases"
   ]
  },
  {
   "cell_type": "code",
   "execution_count": 159,
   "id": "65b58cd2-34d4-4f1d-a28b-17280c77c177",
   "metadata": {},
   "outputs": [
    {
     "data": {
      "text/html": [
       "<div>\n",
       "<style scoped>\n",
       "    .dataframe tbody tr th:only-of-type {\n",
       "        vertical-align: middle;\n",
       "    }\n",
       "\n",
       "    .dataframe tbody tr th {\n",
       "        vertical-align: top;\n",
       "    }\n",
       "\n",
       "    .dataframe thead th {\n",
       "        text-align: right;\n",
       "    }\n",
       "</style>\n",
       "<table border=\"1\" class=\"dataframe\">\n",
       "  <thead>\n",
       "    <tr style=\"text-align: right;\">\n",
       "      <th></th>\n",
       "      <th>gvkey</th>\n",
       "      <th>conm</th>\n",
       "    </tr>\n",
       "  </thead>\n",
       "  <tbody>\n",
       "    <tr>\n",
       "      <th>135936</th>\n",
       "      <td>28877</td>\n",
       "      <td>KEURIG DR PEPPER INC</td>\n",
       "    </tr>\n",
       "  </tbody>\n",
       "</table>\n",
       "</div>"
      ],
      "text/plain": [
       "        gvkey                  conm\n",
       "135936  28877  KEURIG DR PEPPER INC"
      ]
     },
     "execution_count": 159,
     "metadata": {},
     "output_type": "execute_result"
    }
   ],
   "source": [
    "cp.loc[cp['conm'].str.contains('KEURIG'), ['gvkey', 'conm']].drop_duplicates()"
   ]
  },
  {
   "cell_type": "code",
   "execution_count": 148,
   "id": "c5aa1e07-56c7-4fba-8230-e922356268a0",
   "metadata": {},
   "outputs": [
    {
     "data": {
      "text/html": [
       "<div>\n",
       "<style scoped>\n",
       "    .dataframe tbody tr th:only-of-type {\n",
       "        vertical-align: middle;\n",
       "    }\n",
       "\n",
       "    .dataframe tbody tr th {\n",
       "        vertical-align: top;\n",
       "    }\n",
       "\n",
       "    .dataframe thead th {\n",
       "        text-align: right;\n",
       "    }\n",
       "</style>\n",
       "<table border=\"1\" class=\"dataframe\">\n",
       "  <thead>\n",
       "    <tr style=\"text-align: right;\">\n",
       "      <th></th>\n",
       "      <th>year</th>\n",
       "      <th>gvkey1</th>\n",
       "      <th>gvkey2</th>\n",
       "      <th>score</th>\n",
       "    </tr>\n",
       "  </thead>\n",
       "  <tbody>\n",
       "  </tbody>\n",
       "</table>\n",
       "</div>"
      ],
      "text/plain": [
       "Empty DataFrame\n",
       "Columns: [year, gvkey1, gvkey2, score]\n",
       "Index: []"
      ]
     },
     "execution_count": 148,
     "metadata": {},
     "output_type": "execute_result"
    }
   ],
   "source": [
    "df.loc[df['gvkey1'] == 20067]"
   ]
  },
  {
   "cell_type": "markdown",
   "id": "a2e0874e-a724-4c3e-ba13-746ef5c96604",
   "metadata": {},
   "source": [
    "## Score\n",
    "\n",
    "结论：不适合以某个具体数值划线。"
   ]
  },
  {
   "cell_type": "code",
   "execution_count": 15,
   "id": "f8e91ac9-bae2-4716-9216-c3b90fb36e02",
   "metadata": {},
   "outputs": [],
   "source": [
    "def plot(dct, name='tmp'):\n",
    "    for a, b in combinations(dct, 2):\n",
    "        tmp = df.loc[(df['gvkey1'] == a) & (df['gvkey2'] == b)].set_index('year')['score']\n",
    "        if len(tmp) > 0:\n",
    "            plt.plot(tmp, label=f'{dct[a]} vs. {dct[b]}', marker='o')\n",
    "    plt.legend()\n",
    "    plt.savefig(f'{name}.svg')\n",
    "    plt.show()"
   ]
  },
  {
   "cell_type": "markdown",
   "id": "57f65e8d-048e-4a39-a72a-aa7164cd19c2",
   "metadata": {},
   "source": [
    "## Rank\n",
    "\n",
    "结论：排名前75%的看上去还比较相关。"
   ]
  },
  {
   "cell_type": "code",
   "execution_count": 7,
   "id": "88555a31-322a-44d5-a3ba-76ab661baf6e",
   "metadata": {},
   "outputs": [],
   "source": [
    "df['rank'] = df.groupby(['gvkey1', 'year'])['score'].rank(pct=True)"
   ]
  },
  {
   "cell_type": "code",
   "execution_count": 8,
   "id": "d6c83fde-8561-4de9-b269-b9fe05ae6366",
   "metadata": {},
   "outputs": [],
   "source": [
    "def rank(dct):\n",
    "    df_lst = []\n",
    "    for a, b in combinations(dct, 2):\n",
    "        df_lst.append(df.loc[(df['gvkey1'] == a) & (df['gvkey2'] == b)].groupby(['gvkey1', 'gvkey2'])['rank'].agg(['mean', 'median']))\n",
    "        df_lst.append(df.loc[(df['gvkey1'] == b) & (df['gvkey2'] == a)].groupby(['gvkey1', 'gvkey2'])['rank'].agg(['mean', 'median']))\n",
    "    tmp = pd.concat(df_lst).reset_index()\n",
    "    tmp['gvkey1'].replace(dct, inplace=True)\n",
    "    tmp['gvkey2'].replace(dct, inplace=True)\n",
    "    return tmp"
   ]
  },
  {
   "cell_type": "markdown",
   "id": "5d3ffc47-6b10-4380-828e-8885b72d6503",
   "metadata": {},
   "source": [
    "## Check"
   ]
  },
  {
   "cell_type": "code",
   "execution_count": 23,
   "id": "7ce2bea8-c36f-461b-846f-adb177c31cef",
   "metadata": {},
   "outputs": [],
   "source": [
    "df['gvkey1'].replace(179700, 28877, inplace=True)\n",
    "df['gvkey2'].replace(179700, 28877, inplace=True)"
   ]
  },
  {
   "cell_type": "code",
   "execution_count": 24,
   "id": "d1cf57a6-b3b6-4625-bc4f-23252d907110",
   "metadata": {
    "tags": []
   },
   "outputs": [
    {
     "data": {
      "image/png": "[encoded data removed]",
      "text/plain": [
       "<Figure size 432x288 with 1 Axes>"
      ]
     },
     "metadata": {
      "needs_background": "light"
     },
     "output_type": "display_data"
    }
   ],
   "source": [
    "# Beverage\n",
    "dct = {\n",
    "    3138: 'Coca-Cola Conso',\n",
    "    # 25434: 'Starbucks',\n",
    "    8479: 'Pepsi',\n",
    "    28877: 'Dr. Pepper',\n",
    "    # 15273: 'Dr. Pepper/7 Up',\n",
    "    179700: 'Dr. Pepper Snaple'\n",
    "}\n",
    "plot(dct, name='beverage')"
   ]
  },
  {
   "cell_type": "code",
   "execution_count": 43,
   "id": "fd371f65-4efb-4e78-9731-7c54a40b1679",
   "metadata": {},
   "outputs": [],
   "source": [
    "df['gvkey1'].replace(5074, 5073, inplace=True)\n",
    "df['gvkey2'].replace(5074, 5073, inplace=True)\n",
    "\n",
    "df['gvkey1'].replace(12206, 5073, inplace=True)\n",
    "df['gvkey2'].replace(12206, 5073, inplace=True)\n",
    "\n",
    "df['gvkey1'].replace(20355, 5073, inplace=True)\n",
    "df['gvkey2'].replace(20355, 5073, inplace=True)\n",
    "\n",
    "df['gvkey1'].replace(20356, 4839, inplace=True)\n",
    "df['gvkey2'].replace(20356, 4839, inplace=True)"
   ]
  },
  {
   "cell_type": "code",
   "execution_count": 44,
   "id": "2943c52a-1e24-42d4-ba59-f0e7043da7a5",
   "metadata": {},
   "outputs": [
    {
     "data": {
      "image/png": "[encoded data removed]",
      "text/plain": [
       "<Figure size 432x288 with 1 Axes>"
      ]
     },
     "metadata": {
      "needs_background": "light"
     },
     "output_type": "display_data"
    }
   ],
   "source": [
    "# Car manufacturer\n",
    "dct = {\n",
    "    4839: 'Ford',\n",
    "    184996: 'Tesla',\n",
    "    5073: 'GM'  # GM明明2021年还有年报，为何数据就停到2012年？\n",
    "}\n",
    "plot(dct, name='car')"
   ]
  },
  {
   "cell_type": "code",
   "execution_count": 194,
   "id": "527b5b23-0a4c-4d1f-8b5b-e04f9f7d7ab1",
   "metadata": {},
   "outputs": [
    {
     "data": {
      "text/html": [
       "<div>\n",
       "<style scoped>\n",
       "    .dataframe tbody tr th:only-of-type {\n",
       "        vertical-align: middle;\n",
       "    }\n",
       "\n",
       "    .dataframe tbody tr th {\n",
       "        vertical-align: top;\n",
       "    }\n",
       "\n",
       "    .dataframe thead th {\n",
       "        text-align: right;\n",
       "    }\n",
       "</style>\n",
       "<table border=\"1\" class=\"dataframe\">\n",
       "  <thead>\n",
       "    <tr style=\"text-align: right;\">\n",
       "      <th></th>\n",
       "      <th>gvkey1</th>\n",
       "      <th>gvkey2</th>\n",
       "      <th>mean</th>\n",
       "      <th>median</th>\n",
       "    </tr>\n",
       "  </thead>\n",
       "  <tbody>\n",
       "    <tr>\n",
       "      <th>0</th>\n",
       "      <td>Ford</td>\n",
       "      <td>Tesla</td>\n",
       "      <td>0.871143</td>\n",
       "      <td>0.925926</td>\n",
       "    </tr>\n",
       "    <tr>\n",
       "      <th>1</th>\n",
       "      <td>Tesla</td>\n",
       "      <td>Ford</td>\n",
       "      <td>0.824444</td>\n",
       "      <td>0.800000</td>\n",
       "    </tr>\n",
       "    <tr>\n",
       "      <th>2</th>\n",
       "      <td>Ford</td>\n",
       "      <td>GM</td>\n",
       "      <td>0.949191</td>\n",
       "      <td>0.962798</td>\n",
       "    </tr>\n",
       "    <tr>\n",
       "      <th>3</th>\n",
       "      <td>GM</td>\n",
       "      <td>Ford</td>\n",
       "      <td>0.844806</td>\n",
       "      <td>0.839744</td>\n",
       "    </tr>\n",
       "    <tr>\n",
       "      <th>4</th>\n",
       "      <td>Tesla</td>\n",
       "      <td>GM</td>\n",
       "      <td>0.891667</td>\n",
       "      <td>0.891667</td>\n",
       "    </tr>\n",
       "    <tr>\n",
       "      <th>5</th>\n",
       "      <td>GM</td>\n",
       "      <td>Tesla</td>\n",
       "      <td>0.817949</td>\n",
       "      <td>0.817949</td>\n",
       "    </tr>\n",
       "  </tbody>\n",
       "</table>\n",
       "</div>"
      ],
      "text/plain": [
       "  gvkey1 gvkey2      mean    median\n",
       "0   Ford  Tesla  0.871143  0.925926\n",
       "1  Tesla   Ford  0.824444  0.800000\n",
       "2   Ford     GM  0.949191  0.962798\n",
       "3     GM   Ford  0.844806  0.839744\n",
       "4  Tesla     GM  0.891667  0.891667\n",
       "5     GM  Tesla  0.817949  0.817949"
      ]
     },
     "execution_count": 194,
     "metadata": {},
     "output_type": "execute_result"
    }
   ],
   "source": [
    "rank(dct)"
   ]
  },
  {
   "cell_type": "code",
   "execution_count": 195,
   "id": "4fff4107-4cd3-47a0-9e23-56e3aacadedc",
   "metadata": {},
   "outputs": [
    {
     "data": {
      "image/png": "[encoded data removed]",
      "text/plain": [
       "<Figure size 432x288 with 1 Axes>"
      ]
     },
     "metadata": {
      "needs_background": "light"
     },
     "output_type": "display_data"
    }
   ],
   "source": [
    "# Hotel\n",
    "dct = {\n",
    "    28930: 'Marriott',\n",
    "    5643: 'Hilton',\n",
    "    # 20067: 'InterContinental',  # 洲际都没包括？\n",
    "    183366: 'Hyatt'\n",
    "}\n",
    "plot(dct)"
   ]
  },
  {
   "cell_type": "code",
   "execution_count": 196,
   "id": "7694c292-8bbb-48de-82c2-ed49c4f4593f",
   "metadata": {},
   "outputs": [
    {
     "data": {
      "text/html": [
       "<div>\n",
       "<style scoped>\n",
       "    .dataframe tbody tr th:only-of-type {\n",
       "        vertical-align: middle;\n",
       "    }\n",
       "\n",
       "    .dataframe tbody tr th {\n",
       "        vertical-align: top;\n",
       "    }\n",
       "\n",
       "    .dataframe thead th {\n",
       "        text-align: right;\n",
       "    }\n",
       "</style>\n",
       "<table border=\"1\" class=\"dataframe\">\n",
       "  <thead>\n",
       "    <tr style=\"text-align: right;\">\n",
       "      <th></th>\n",
       "      <th>gvkey1</th>\n",
       "      <th>gvkey2</th>\n",
       "      <th>mean</th>\n",
       "      <th>median</th>\n",
       "    </tr>\n",
       "  </thead>\n",
       "  <tbody>\n",
       "    <tr>\n",
       "      <th>0</th>\n",
       "      <td>Marriott</td>\n",
       "      <td>Hilton</td>\n",
       "      <td>0.814667</td>\n",
       "      <td>1.000000</td>\n",
       "    </tr>\n",
       "    <tr>\n",
       "      <th>1</th>\n",
       "      <td>Hilton</td>\n",
       "      <td>Marriott</td>\n",
       "      <td>0.798491</td>\n",
       "      <td>0.959936</td>\n",
       "    </tr>\n",
       "    <tr>\n",
       "      <th>2</th>\n",
       "      <td>Marriott</td>\n",
       "      <td>Hyatt</td>\n",
       "      <td>0.903980</td>\n",
       "      <td>0.904762</td>\n",
       "    </tr>\n",
       "    <tr>\n",
       "      <th>3</th>\n",
       "      <td>Hyatt</td>\n",
       "      <td>Marriott</td>\n",
       "      <td>0.959841</td>\n",
       "      <td>0.954545</td>\n",
       "    </tr>\n",
       "    <tr>\n",
       "      <th>4</th>\n",
       "      <td>Hilton</td>\n",
       "      <td>Hyatt</td>\n",
       "      <td>0.987755</td>\n",
       "      <td>1.000000</td>\n",
       "    </tr>\n",
       "    <tr>\n",
       "      <th>5</th>\n",
       "      <td>Hyatt</td>\n",
       "      <td>Hilton</td>\n",
       "      <td>1.000000</td>\n",
       "      <td>1.000000</td>\n",
       "    </tr>\n",
       "  </tbody>\n",
       "</table>\n",
       "</div>"
      ],
      "text/plain": [
       "     gvkey1    gvkey2      mean    median\n",
       "0  Marriott    Hilton  0.814667  1.000000\n",
       "1    Hilton  Marriott  0.798491  0.959936\n",
       "2  Marriott     Hyatt  0.903980  0.904762\n",
       "3     Hyatt  Marriott  0.959841  0.954545\n",
       "4    Hilton     Hyatt  0.987755  1.000000\n",
       "5     Hyatt    Hilton  1.000000  1.000000"
      ]
     },
     "execution_count": 196,
     "metadata": {},
     "output_type": "execute_result"
    }
   ],
   "source": [
    "rank(dct)"
   ]
  },
  {
   "cell_type": "code",
   "execution_count": 197,
   "id": "5ba586fe-65f6-40e4-8b05-03223e47a981",
   "metadata": {},
   "outputs": [
    {
     "data": {
      "image/png": "[encoded data removed]",
      "text/plain": [
       "<Figure size 432x288 with 1 Axes>"
      ]
     },
     "metadata": {
      "needs_background": "light"
     },
     "output_type": "display_data"
    }
   ],
   "source": [
    "# Airline——这还挺准的，JetBlue跟另外两家不是一个赛道\n",
    "dct = {\n",
    "    3851: 'Delta',\n",
    "    147305: 'JetBlue',\n",
    "    1045: 'AA'\n",
    "}\n",
    "plot(dct)"
   ]
  },
  {
   "cell_type": "code",
   "execution_count": 198,
   "id": "66ee1cb7-4eb3-4a2c-862a-204fb4c05213",
   "metadata": {},
   "outputs": [
    {
     "data": {
      "text/html": [
       "<div>\n",
       "<style scoped>\n",
       "    .dataframe tbody tr th:only-of-type {\n",
       "        vertical-align: middle;\n",
       "    }\n",
       "\n",
       "    .dataframe tbody tr th {\n",
       "        vertical-align: top;\n",
       "    }\n",
       "\n",
       "    .dataframe thead th {\n",
       "        text-align: right;\n",
       "    }\n",
       "</style>\n",
       "<table border=\"1\" class=\"dataframe\">\n",
       "  <thead>\n",
       "    <tr style=\"text-align: right;\">\n",
       "      <th></th>\n",
       "      <th>gvkey1</th>\n",
       "      <th>gvkey2</th>\n",
       "      <th>mean</th>\n",
       "      <th>median</th>\n",
       "    </tr>\n",
       "  </thead>\n",
       "  <tbody>\n",
       "    <tr>\n",
       "      <th>0</th>\n",
       "      <td>Delta</td>\n",
       "      <td>JetBlue</td>\n",
       "      <td>0.403753</td>\n",
       "      <td>0.384615</td>\n",
       "    </tr>\n",
       "    <tr>\n",
       "      <th>1</th>\n",
       "      <td>JetBlue</td>\n",
       "      <td>Delta</td>\n",
       "      <td>0.584973</td>\n",
       "      <td>0.562500</td>\n",
       "    </tr>\n",
       "    <tr>\n",
       "      <th>2</th>\n",
       "      <td>Delta</td>\n",
       "      <td>AA</td>\n",
       "      <td>0.971924</td>\n",
       "      <td>1.000000</td>\n",
       "    </tr>\n",
       "    <tr>\n",
       "      <th>3</th>\n",
       "      <td>AA</td>\n",
       "      <td>Delta</td>\n",
       "      <td>0.984636</td>\n",
       "      <td>1.000000</td>\n",
       "    </tr>\n",
       "    <tr>\n",
       "      <th>4</th>\n",
       "      <td>JetBlue</td>\n",
       "      <td>AA</td>\n",
       "      <td>0.619918</td>\n",
       "      <td>0.684211</td>\n",
       "    </tr>\n",
       "    <tr>\n",
       "      <th>5</th>\n",
       "      <td>AA</td>\n",
       "      <td>JetBlue</td>\n",
       "      <td>0.426292</td>\n",
       "      <td>0.384615</td>\n",
       "    </tr>\n",
       "  </tbody>\n",
       "</table>\n",
       "</div>"
      ],
      "text/plain": [
       "    gvkey1   gvkey2      mean    median\n",
       "0    Delta  JetBlue  0.403753  0.384615\n",
       "1  JetBlue    Delta  0.584973  0.562500\n",
       "2    Delta       AA  0.971924  1.000000\n",
       "3       AA    Delta  0.984636  1.000000\n",
       "4  JetBlue       AA  0.619918  0.684211\n",
       "5       AA  JetBlue  0.426292  0.384615"
      ]
     },
     "execution_count": 198,
     "metadata": {},
     "output_type": "execute_result"
    }
   ],
   "source": [
    "rank(dct)"
   ]
  },
  {
   "cell_type": "markdown",
   "id": "b8cbb74b-0701-45d7-8fb1-914f87a85f90",
   "metadata": {},
   "source": [
    "# Fill Missing\n",
    "\n",
    "有不正常的缺失，比如通用汽车。在合并到主数据集后，考虑用最后一次更新的值来填补缺失。"
   ]
  },
  {
   "cell_type": "markdown",
   "id": "8e7efd6b-7444-4d19-b895-fc07273a160a",
   "metadata": {},
   "source": [
    "# Output"
   ]
  },
  {
   "cell_type": "code",
   "execution_count": 200,
   "id": "70293a34-e8fa-4530-8283-410b8815ebf9",
   "metadata": {},
   "outputs": [
    {
     "data": {
      "text/plain": [
       "(23678297, 5)"
      ]
     },
     "execution_count": 200,
     "metadata": {},
     "output_type": "execute_result"
    },
    {
     "data": {
      "text/html": [
       "<div>\n",
       "<style scoped>\n",
       "    .dataframe tbody tr th:only-of-type {\n",
       "        vertical-align: middle;\n",
       "    }\n",
       "\n",
       "    .dataframe tbody tr th {\n",
       "        vertical-align: top;\n",
       "    }\n",
       "\n",
       "    .dataframe thead th {\n",
       "        text-align: right;\n",
       "    }\n",
       "</style>\n",
       "<table border=\"1\" class=\"dataframe\">\n",
       "  <thead>\n",
       "    <tr style=\"text-align: right;\">\n",
       "      <th></th>\n",
       "      <th>year</th>\n",
       "      <th>gvkey1</th>\n",
       "      <th>gvkey2</th>\n",
       "      <th>score</th>\n",
       "      <th>rank</th>\n",
       "    </tr>\n",
       "  </thead>\n",
       "  <tbody>\n",
       "    <tr>\n",
       "      <th>0</th>\n",
       "      <td>1988</td>\n",
       "      <td>1011</td>\n",
       "      <td>3226</td>\n",
       "      <td>0.1498</td>\n",
       "      <td>0.96</td>\n",
       "    </tr>\n",
       "    <tr>\n",
       "      <th>1</th>\n",
       "      <td>1988</td>\n",
       "      <td>1011</td>\n",
       "      <td>6282</td>\n",
       "      <td>0.0852</td>\n",
       "      <td>0.88</td>\n",
       "    </tr>\n",
       "    <tr>\n",
       "      <th>2</th>\n",
       "      <td>1988</td>\n",
       "      <td>1011</td>\n",
       "      <td>6734</td>\n",
       "      <td>0.0347</td>\n",
       "      <td>0.48</td>\n",
       "    </tr>\n",
       "  </tbody>\n",
       "</table>\n",
       "</div>"
      ],
      "text/plain": [
       "   year  gvkey1  gvkey2   score  rank\n",
       "0  1988    1011    3226  0.1498  0.96\n",
       "1  1988    1011    6282  0.0852  0.88\n",
       "2  1988    1011    6734  0.0347  0.48"
      ]
     },
     "execution_count": 200,
     "metadata": {},
     "output_type": "execute_result"
    }
   ],
   "source": [
    "df.shape\n",
    "df.head(3)"
   ]
  },
  {
   "cell_type": "code",
   "execution_count": 217,
   "id": "df122045-6a9d-40ef-a114-0b577818bd1f",
   "metadata": {},
   "outputs": [
    {
     "data": {
      "text/plain": [
       "count    160100.000000\n",
       "mean         37.332879\n",
       "std          52.564385\n",
       "min           1.000000\n",
       "25%           3.000000\n",
       "50%          12.000000\n",
       "75%          47.000000\n",
       "max         287.000000\n",
       "Name: gvkey2, dtype: float64"
      ]
     },
     "execution_count": 217,
     "metadata": {},
     "output_type": "execute_result"
    },
    {
     "data": {
      "text/plain": [
       "(5976994, 5)"
      ]
     },
     "execution_count": 217,
     "metadata": {},
     "output_type": "execute_result"
    },
    {
     "data": {
      "text/html": [
       "<div>\n",
       "<style scoped>\n",
       "    .dataframe tbody tr th:only-of-type {\n",
       "        vertical-align: middle;\n",
       "    }\n",
       "\n",
       "    .dataframe tbody tr th {\n",
       "        vertical-align: top;\n",
       "    }\n",
       "\n",
       "    .dataframe thead th {\n",
       "        text-align: right;\n",
       "    }\n",
       "</style>\n",
       "<table border=\"1\" class=\"dataframe\">\n",
       "  <thead>\n",
       "    <tr style=\"text-align: right;\">\n",
       "      <th></th>\n",
       "      <th>year</th>\n",
       "      <th>gvkey</th>\n",
       "      <th>gvkey2</th>\n",
       "      <th>tnic_sc</th>\n",
       "      <th>tnic_rank</th>\n",
       "    </tr>\n",
       "  </thead>\n",
       "  <tbody>\n",
       "    <tr>\n",
       "      <th>23117944</th>\n",
       "      <td>2019</td>\n",
       "      <td>27235</td>\n",
       "      <td>33272</td>\n",
       "      <td>0.151</td>\n",
       "      <td>0.784264</td>\n",
       "    </tr>\n",
       "  </tbody>\n",
       "</table>\n",
       "</div>"
      ],
      "text/plain": [
       "          year  gvkey  gvkey2  tnic_sc  tnic_rank\n",
       "23117944  2019  27235   33272    0.151   0.784264"
      ]
     },
     "execution_count": 217,
     "metadata": {},
     "output_type": "execute_result"
    }
   ],
   "source": [
    "df2 = df.loc[df['rank'] >= 0.75].copy()  # 可以先简单定义只要两公司在某年成为竞争对手后，就一直为竞争对手\n",
    "df2.rename(columns={'gvkey1': 'gvkey', 'score': 'tnic_sc', 'rank': 'tnic_rank'}, inplace=True)\n",
    "df2.groupby(['gvkey', 'year'])['gvkey2'].nunique().describe()  # 中位数12个竞争对手，平均37个竞争对手，最多287个竞争对手（估计是金融业）\n",
    "df2.shape\n",
    "df2.sample(1)\n",
    "df2.to_parquet(f'{WD}1301_tnic_comp_75.pq')"
   ]
  },
  {
   "cell_type": "code",
   "execution_count": 218,
   "id": "c215c692-ba3b-4204-a4ca-35a9be47f790",
   "metadata": {},
   "outputs": [
    {
     "data": {
      "text/plain": [
       "count    160032.000000\n",
       "mean         29.971524\n",
       "std          42.047474\n",
       "min           1.000000\n",
       "25%           3.000000\n",
       "50%          10.000000\n",
       "75%          38.000000\n",
       "max         230.000000\n",
       "Name: gvkey2, dtype: float64"
      ]
     },
     "execution_count": 218,
     "metadata": {},
     "output_type": "execute_result"
    },
    {
     "data": {
      "text/plain": [
       "(4796403, 5)"
      ]
     },
     "execution_count": 218,
     "metadata": {},
     "output_type": "execute_result"
    },
    {
     "data": {
      "text/html": [
       "<div>\n",
       "<style scoped>\n",
       "    .dataframe tbody tr th:only-of-type {\n",
       "        vertical-align: middle;\n",
       "    }\n",
       "\n",
       "    .dataframe tbody tr th {\n",
       "        vertical-align: top;\n",
       "    }\n",
       "\n",
       "    .dataframe thead th {\n",
       "        text-align: right;\n",
       "    }\n",
       "</style>\n",
       "<table border=\"1\" class=\"dataframe\">\n",
       "  <thead>\n",
       "    <tr style=\"text-align: right;\">\n",
       "      <th></th>\n",
       "      <th>year</th>\n",
       "      <th>gvkey</th>\n",
       "      <th>gvkey2</th>\n",
       "      <th>tnic_sc</th>\n",
       "      <th>tnic_rank</th>\n",
       "    </tr>\n",
       "  </thead>\n",
       "  <tbody>\n",
       "    <tr>\n",
       "      <th>3448582</th>\n",
       "      <td>1993</td>\n",
       "      <td>16727</td>\n",
       "      <td>16809</td>\n",
       "      <td>0.2448</td>\n",
       "      <td>0.850679</td>\n",
       "    </tr>\n",
       "  </tbody>\n",
       "</table>\n",
       "</div>"
      ],
      "text/plain": [
       "         year  gvkey  gvkey2  tnic_sc  tnic_rank\n",
       "3448582  1993  16727   16809   0.2448   0.850679"
      ]
     },
     "execution_count": 218,
     "metadata": {},
     "output_type": "execute_result"
    }
   ],
   "source": [
    "df2 = df.loc[df['rank'] >= 0.8].copy()  # 可以先简单定义只要两公司在某年成为竞争对手后，就一直为竞争对手\n",
    "df2.rename(columns={'gvkey1': 'gvkey', 'score': 'tnic_sc', 'rank': 'tnic_rank'}, inplace=True)\n",
    "df2.groupby(['gvkey', 'year'])['gvkey2'].nunique().describe()  # 中位数10个竞争对手，平均30个竞争对手，最多230个竞争对手（估计是金融业）\n",
    "df2.shape\n",
    "df2.sample(1)\n",
    "df2.to_parquet(f'{WD}1301_tnic_comp_80.pq')"
   ]
  },
  {
   "cell_type": "code",
   "execution_count": 219,
   "id": "f145be6b-37fc-4597-8e5a-48080fd48f69",
   "metadata": {},
   "outputs": [
    {
     "data": {
      "text/plain": [
       "count    159968.000000\n",
       "mean         15.268866\n",
       "std          21.016166\n",
       "min           1.000000\n",
       "25%           2.000000\n",
       "50%           5.000000\n",
       "75%          19.000000\n",
       "max         115.000000\n",
       "Name: gvkey2, dtype: float64"
      ]
     },
     "execution_count": 219,
     "metadata": {},
     "output_type": "execute_result"
    },
    {
     "data": {
      "text/plain": [
       "(2442530, 5)"
      ]
     },
     "execution_count": 219,
     "metadata": {},
     "output_type": "execute_result"
    },
    {
     "data": {
      "text/html": [
       "<div>\n",
       "<style scoped>\n",
       "    .dataframe tbody tr th:only-of-type {\n",
       "        vertical-align: middle;\n",
       "    }\n",
       "\n",
       "    .dataframe tbody tr th {\n",
       "        vertical-align: top;\n",
       "    }\n",
       "\n",
       "    .dataframe thead th {\n",
       "        text-align: right;\n",
       "    }\n",
       "</style>\n",
       "<table border=\"1\" class=\"dataframe\">\n",
       "  <thead>\n",
       "    <tr style=\"text-align: right;\">\n",
       "      <th></th>\n",
       "      <th>year</th>\n",
       "      <th>gvkey</th>\n",
       "      <th>gvkey2</th>\n",
       "      <th>tnic_sc</th>\n",
       "      <th>tnic_rank</th>\n",
       "    </tr>\n",
       "  </thead>\n",
       "  <tbody>\n",
       "    <tr>\n",
       "      <th>22678127</th>\n",
       "      <td>2018</td>\n",
       "      <td>61591</td>\n",
       "      <td>164708</td>\n",
       "      <td>0.0775</td>\n",
       "      <td>0.930556</td>\n",
       "    </tr>\n",
       "  </tbody>\n",
       "</table>\n",
       "</div>"
      ],
      "text/plain": [
       "          year  gvkey  gvkey2  tnic_sc  tnic_rank\n",
       "22678127  2018  61591  164708   0.0775   0.930556"
      ]
     },
     "execution_count": 219,
     "metadata": {},
     "output_type": "execute_result"
    }
   ],
   "source": [
    "df2 = df.loc[df['rank'] >= 0.9].copy()  # 可以先简单定义只要两公司在某年成为竞争对手后，就一直为竞争对手\n",
    "df2.rename(columns={'gvkey1': 'gvkey', 'score': 'tnic_sc', 'rank': 'tnic_rank'}, inplace=True)\n",
    "df2.groupby(['gvkey', 'year'])['gvkey2'].nunique().describe()  # 中位数5个竞争对手，平均15个竞争对手，最多115个竞争对手（估计是金融业）\n",
    "df2.shape\n",
    "df2.sample(1)\n",
    "df2.to_parquet(f'{WD}1301_tnic_comp_90.pq')"
   ]
  },
  {
   "cell_type": "code",
   "execution_count": null,
   "id": "c5a76203-6e84-44af-934a-b7e8d1cf29d4",
   "metadata": {},
   "outputs": [],
   "source": []
  }
 ],
 "metadata": {
  "kernelspec": {
   "display_name": "Python 3 (ipykernel)",
   "language": "python",
   "name": "python3"
  },
  "language_info": {
   "codemirror_mode": {
    "name": "ipython",
    "version": 3
   },
   "file_extension": ".py",
   "mimetype": "text/x-python",
   "name": "python",
   "nbconvert_exporter": "python",
   "pygments_lexer": "ipython3",
   "version": "3.9.13"
  }
 },
 "nbformat": 4,
 "nbformat_minor": 5
}
