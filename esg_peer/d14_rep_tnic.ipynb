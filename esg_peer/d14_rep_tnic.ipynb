{
 "cells": [
  {
   "cell_type": "markdown",
   "id": "4c6a5e37-5f04-4cbb-a729-99c21e724389",
   "metadata": {},
   "source": [
    "<p style=\"font-size:200%;font-weight:bold\">Product Similarity</p>"
   ]
  },
  {
   "cell_type": "code",
   "execution_count": 8,
   "id": "f9416c85-5706-4fa3-a342-58579e1b2edd",
   "metadata": {},
   "outputs": [],
   "source": [
    "import pandas as pd\n",
    "import numpy as np\n",
    "import plotly.express as px #数据可视化\n",
    "from itertools import combinations\n",
    "import matplotlib.pyplot as plt\n",
    "from IPython.core.interactiveshell import InteractiveShell\n",
    "\n",
    "InteractiveShell.ast_node_interactivity = 'all'\n",
    "\n",
    "%matplotlib inline   \n",
    "#可以逐行输出图片\n",
    "\n",
    "DB = \"/home/data/\"\n",
    "ROOT = \"/home/team_crypto/2022_esg_peer/\"\n",
    "\n",
    "RD = f\"{ROOT}02_rdata/\"\n",
    "WD = f\"{ROOT}03_wdata/\""
   ]
  },
  {
   "cell_type": "markdown",
   "id": "eac78b99-299c-432e-b996-027799509b34",
   "metadata": {},
   "source": [
    "# Read TNIC"
   ]
  },
  {
   "cell_type": "code",
   "execution_count": 9,
   "id": "5946e2e2-085f-4b4f-8143-3492001d9b31",
   "metadata": {},
   "outputs": [
    {
     "data": {
      "text/plain": [
       "(23678297, 4)"
      ]
     },
     "execution_count": 9,
     "metadata": {},
     "output_type": "execute_result"
    },
    {
     "data": {
      "text/html": [
       "<div>\n",
       "<style scoped>\n",
       "    .dataframe tbody tr th:only-of-type {\n",
       "        vertical-align: middle;\n",
       "    }\n",
       "\n",
       "    .dataframe tbody tr th {\n",
       "        vertical-align: top;\n",
       "    }\n",
       "\n",
       "    .dataframe thead th {\n",
       "        text-align: right;\n",
       "    }\n",
       "</style>\n",
       "<table border=\"1\" class=\"dataframe\">\n",
       "  <thead>\n",
       "    <tr style=\"text-align: right;\">\n",
       "      <th></th>\n",
       "      <th>year</th>\n",
       "      <th>gvkey1</th>\n",
       "      <th>gvkey2</th>\n",
       "      <th>score</th>\n",
       "    </tr>\n",
       "  </thead>\n",
       "  <tbody>\n",
       "    <tr>\n",
       "      <th>21356928</th>\n",
       "      <td>2016</td>\n",
       "      <td>19511</td>\n",
       "      <td>61140</td>\n",
       "      <td>0.1224</td>\n",
       "    </tr>\n",
       "    <tr>\n",
       "      <th>18288518</th>\n",
       "      <td>2010</td>\n",
       "      <td>19932</td>\n",
       "      <td>1447</td>\n",
       "      <td>0.0885</td>\n",
       "    </tr>\n",
       "    <tr>\n",
       "      <th>14774397</th>\n",
       "      <td>2004</td>\n",
       "      <td>66281</td>\n",
       "      <td>149621</td>\n",
       "      <td>0.0133</td>\n",
       "    </tr>\n",
       "  </tbody>\n",
       "</table>\n",
       "</div>"
      ],
      "text/plain": [
       "          year  gvkey1  gvkey2   score\n",
       "21356928  2016   19511   61140  0.1224\n",
       "18288518  2010   19932    1447  0.0885\n",
       "14774397  2004   66281  149621  0.0133"
      ]
     },
     "execution_count": 9,
     "metadata": {},
     "output_type": "execute_result"
    }
   ],
   "source": [
    "df = pd.read_parquet(f'{DB}tnic/tnic3_data.pq')\n",
    "df.shape\n",
    "df.sample(3)"
   ]
  },
  {
   "cell_type": "code",
   "execution_count": 10,
   "id": "243c4105-c12c-4c65-b9a0-c55410f50fe5",
   "metadata": {},
   "outputs": [
    {
     "data": {
      "text/plain": [
       "<AxesSubplot:>"
      ]
     },
     "execution_count": 10,
     "metadata": {},
     "output_type": "execute_result"
    },
    {
     "data": {
      "image/png": "[encoded data removed]",
      "text/plain": [
       "<Figure size 432x288 with 1 Axes>"
      ]
     },
     "metadata": {
      "needs_background": "light"
     },
     "output_type": "display_data"
    }
   ],
   "source": [
    "df['score'].hist(bins=50)"
   ]
  },
  {
   "cell_type": "code",
   "execution_count": 11,
   "id": "727e3450-2d4a-4e25-9252-c0b560c120b8",
   "metadata": {},
   "outputs": [
    {
     "data": {
      "text/plain": [
       "17745"
      ]
     },
     "execution_count": 11,
     "metadata": {},
     "output_type": "execute_result"
    }
   ],
   "source": [
    "gks = set(df['gvkey1']) | set(df['gvkey2'])\n",
    "#检查总共有多少家公司\n",
    "len(gks)"
   ]
  },
  {
   "cell_type": "code",
   "execution_count": 12,
   "id": "4d955c69-9f8a-4589-b857-784cf67b58ad",
   "metadata": {},
   "outputs": [],
   "source": [
    "gks = ''.join([str(x) + '\\n' for x in gks]) #'\\n'换行"
   ]
  },
  {
   "cell_type": "code",
   "execution_count": 14,
   "id": "f3c6c246-9d1e-4af0-a28b-daa777e630f5",
   "metadata": {},
   "outputs": [],
   "source": [
    "# with open(f'{WD}1300_tnic_gvkeys.txt', 'w') as f:\n",
    "#     f.write(gks)"
   ]
  },
  {
   "cell_type": "code",
   "execution_count": 15,
   "id": "6d925b2e-13e3-4f58-a15a-f510d39c0247",
   "metadata": {},
   "outputs": [
    {
     "data": {
      "text/plain": [
       "(227098, 15)"
      ]
     },
     "execution_count": 15,
     "metadata": {},
     "output_type": "execute_result"
    },
    {
     "data": {
      "text/html": [
       "<div>\n",
       "<style scoped>\n",
       "    .dataframe tbody tr th:only-of-type {\n",
       "        vertical-align: middle;\n",
       "    }\n",
       "\n",
       "    .dataframe tbody tr th {\n",
       "        vertical-align: top;\n",
       "    }\n",
       "\n",
       "    .dataframe thead th {\n",
       "        text-align: right;\n",
       "    }\n",
       "</style>\n",
       "<table border=\"1\" class=\"dataframe\">\n",
       "  <thead>\n",
       "    <tr style=\"text-align: right;\">\n",
       "      <th></th>\n",
       "      <th>gvkey</th>\n",
       "      <th>datadate</th>\n",
       "      <th>fyear</th>\n",
       "      <th>indfmt</th>\n",
       "      <th>consol</th>\n",
       "      <th>popsrc</th>\n",
       "      <th>datafmt</th>\n",
       "      <th>conm</th>\n",
       "      <th>curcd</th>\n",
       "      <th>costat</th>\n",
       "      <th>naicsh</th>\n",
       "      <th>sich</th>\n",
       "      <th>gsubind</th>\n",
       "      <th>naics</th>\n",
       "      <th>sic</th>\n",
       "    </tr>\n",
       "  </thead>\n",
       "  <tbody>\n",
       "    <tr>\n",
       "      <th>29485</th>\n",
       "      <td>6097</td>\n",
       "      <td>20020930</td>\n",
       "      <td>2002</td>\n",
       "      <td>INDL</td>\n",
       "      <td>C</td>\n",
       "      <td>D</td>\n",
       "      <td>STD</td>\n",
       "      <td>INTL GAME TECHNOLOGY</td>\n",
       "      <td>USD</td>\n",
       "      <td>I</td>\n",
       "      <td>713210.0</td>\n",
       "      <td>7990.0</td>\n",
       "      <td>25301010.0</td>\n",
       "      <td>713210</td>\n",
       "      <td>7990</td>\n",
       "    </tr>\n",
       "    <tr>\n",
       "      <th>196201</th>\n",
       "      <td>132502</td>\n",
       "      <td>20090531</td>\n",
       "      <td>2008</td>\n",
       "      <td>INDL</td>\n",
       "      <td>C</td>\n",
       "      <td>D</td>\n",
       "      <td>STD</td>\n",
       "      <td>PALM INC</td>\n",
       "      <td>USD</td>\n",
       "      <td>I</td>\n",
       "      <td>334111.0</td>\n",
       "      <td>3571.0</td>\n",
       "      <td>45201020.0</td>\n",
       "      <td>334111</td>\n",
       "      <td>3571</td>\n",
       "    </tr>\n",
       "    <tr>\n",
       "      <th>220523</th>\n",
       "      <td>179782</td>\n",
       "      <td>20131231</td>\n",
       "      <td>2013</td>\n",
       "      <td>INDL</td>\n",
       "      <td>C</td>\n",
       "      <td>D</td>\n",
       "      <td>STD</td>\n",
       "      <td>RESOLUTE ENERGY CORP</td>\n",
       "      <td>USD</td>\n",
       "      <td>I</td>\n",
       "      <td>211111.0</td>\n",
       "      <td>1311.0</td>\n",
       "      <td>10102020.0</td>\n",
       "      <td>211111</td>\n",
       "      <td>1311</td>\n",
       "    </tr>\n",
       "  </tbody>\n",
       "</table>\n",
       "</div>"
      ],
      "text/plain": [
       "         gvkey  datadate  fyear indfmt consol popsrc datafmt  \\\n",
       "29485     6097  20020930   2002   INDL      C      D     STD   \n",
       "196201  132502  20090531   2008   INDL      C      D     STD   \n",
       "220523  179782  20131231   2013   INDL      C      D     STD   \n",
       "\n",
       "                        conm curcd costat    naicsh    sich     gsubind  \\\n",
       "29485   INTL GAME TECHNOLOGY   USD      I  713210.0  7990.0  25301010.0   \n",
       "196201              PALM INC   USD      I  334111.0  3571.0  45201020.0   \n",
       "220523  RESOLUTE ENERGY CORP   USD      I  211111.0  1311.0  10102020.0   \n",
       "\n",
       "         naics   sic  \n",
       "29485   713210  7990  \n",
       "196201  334111  3571  \n",
       "220523  211111  1311  "
      ]
     },
     "execution_count": 15,
     "metadata": {},
     "output_type": "execute_result"
    }
   ],
   "source": [
    "cp = pd.read_csv(f'{RD}comp_tnic_ind.csv', engine='pyarrow')\n",
    "cp.shape\n",
    "cp.sample(3)"
   ]
  }
 ],
 "metadata": {
  "kernelspec": {
   "display_name": "Python 3 (ipykernel)",
   "language": "python",
   "name": "python3"
  },
  "language_info": {
   "codemirror_mode": {
    "name": "ipython",
    "version": 3
   },
   "file_extension": ".py",
   "mimetype": "text/x-python",
   "name": "python",
   "nbconvert_exporter": "python",
   "pygments_lexer": "ipython3",
   "version": "3.9.7"
  }
 },
 "nbformat": 4,
 "nbformat_minor": 5
}
