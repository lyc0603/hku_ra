{
 "cells": [
  {
   "cell_type": "markdown",
   "id": "ef427695-cb7f-4c58-9c6d-fa35f798faad",
   "metadata": {},
   "source": [
    "<p style=\"font-size:200%; font-weight:bold\"> 多线程爬取Subgraph Swap数据 </p>\n",
    "\n",
    "- Author: Yichen Luo\n",
    "- Date: 2022/5/14"
   ]
  },
  {
   "cell_type": "code",
   "execution_count": 1,
   "id": "269a4134-231b-4644-bb48-5a51f1881ec8",
   "metadata": {},
   "outputs": [],
   "source": [
    "import threading\n",
    "import requests\n",
    "import pandas as pd\n",
    "import os\n",
    "import time\n",
    "from IPython.core.interactiveshell import InteractiveShell\n",
    "\n",
    "InteractiveShell.ast_node_interactivity = 'all'"
   ]
  },
  {
   "cell_type": "markdown",
   "id": "715b1805-ae97-4c09-8f44-f790bc9f7c8a",
   "metadata": {},
   "source": [
    "# 设置多线程"
   ]
  },
  {
   "cell_type": "code",
   "execution_count": 2,
   "id": "39b9e003-1422-4826-b2f4-1f5c5bbe223b",
   "metadata": {},
   "outputs": [],
   "source": [
    "class web_thread(threading.Thread):\n",
    "    \n",
    "    def __init__(self, name, style, url, idx):\n",
    "        threading.Thread.__init__(self)\n",
    "        self.name = name\n",
    "        self.style = style\n",
    "        self.url = url\n",
    "        self.idx = idx\n",
    "    def run(self):\n",
    "        RD = '/home/yichen/2022_nft/02_rdata/'\n",
    "        WD = '/home/yichen/2022_nft/03_wdata/'\n",
    "        length = 1000\n",
    "        done = set([f.replace('.csv', '') for f in os.listdir(f'{RD}') if (self.name in f) and ('csv' in f)])\n",
    "        count = len(done)\n",
    "        \n",
    "        if count == 0:\n",
    "            lastid = ''\n",
    "        else:\n",
    "            dff = pd.read_csv(f'{RD}{self.name}_{count}.csv')             \n",
    "            lastid = dff.tail(1)['id'].values[0]\n",
    "            lastlength = dff.shape[0]\n",
    "        while length>0:\n",
    "            try:\n",
    "#----------------------------------------------------------------------------------------------------------------  \n",
    "                idx_lst = [{\"query\":f\"query manyTokens($lastID: String) {{\\n  swaps(first: 1000, where: {{id_gt: \\\"{lastid}\\\"}}) {{\\n    id\\n    amount0\\n    amount1\\n    amountUSD\\n    logIndex\\n    origin\\n    recipient\\n    sender\\n    sqrtPriceX96\\n    tick\\n    timestamp\\n    token0 {{\\n      id\\n      name\\n    }}\\n    token1 {{\\n      id\\n      name\\n    }}\\n    transaction {{\\n      id\\n    }}\\n  }}\\n}}\"},\n",
    "                           #uniswapv3 in Ethereum\n",
    "                           {\"query\":f\"query manyTokens($lastID: String) {{\\n  swaps(first: 1000, where: {{id_gt: \\\"{lastid}\\\"}}) {{\\n    id\\n    amount0In\\n    amount0Out\\n    amount1In\\n    amount1Out\\n    amountUSD\\n    logIndex\\n    sender\\n    timestamp\\n    to\\n    pair {{\\n      token0 {{\\n        id\\n        name\\n      }}\\n      token1 {{\\n        id\\n        name\\n      }}\\n    }}\\n    transaction {{\\n      id\\n    }}\\n  }}\\n}}\"},\n",
    "                           #sushiswap in Ethereum\n",
    "                           {\"query\":f\"query manyTokens($lastID: String) {{\\n  swaps(first: 1000, where: {{id_gt: \\\"{lastid}\\\"}}) {{\\n    id\\n    amount0In\\n    amount0Out\\n    amount1In\\n    amount1Out\\n    amountUSD\\n    from\\n    logIndex\\n    sender\\n    timestamp\\n    to\\n    pair {{\\n      token0 {{\\n        id\\n        name\\n      }}\\n      token1 {{\\n        id\\n        name\\n      }}\\n    }}\\n    transaction {{\\n      id\\n    }}\\n  }}\\n}}\"},\n",
    "                           #uniswapv2 in Ethereum\n",
    "                           {\"query\":f\"query manyTokens($lastID: String) {{\\n  swaps(first: 1000, where: {{id_gt: \\\"{lastid}\\\"}}) {{\\n    id\\n    amount0In\\n    amount0Out\\n    amount1In\\n    amount1Out\\n    amountUSD\\n    from\\n    logIndex\\n    sender\\n    to\\n    timestamp\\n    transaction {{\\n      id\\n    }}\\n    token0 {{\\n      id\\n      name\\n    }}\\n    token1 {{\\n      id\\n      name\\n    }}\\n  }}\\n}}\"},\n",
    "                           #biswap in Binance\n",
    "                           {\"query\":f\"query manyTokens($lastID: String) {{\\n  swaps(first: 1000, where: {{id_gt: \\\"{lastid}\\\"}}) {{\\n    id\\n    amount0In\\n    amount0Out\\n    amount1In\\n    amount1Out\\n    amountUSD\\n    from\\n    logIndex\\n    sender\\n    timestamp\\n    to\\n    pair {{\\n      token0 {{\\n        id\\n        name\\n      }}\\n      token1 {{\\n        id\\n        name\\n      }}\\n    }}\\n    transaction {{\\n      id\\n    }}\\n  }}\\n}}\"},\n",
    "                           #apeswap in Binance\n",
    "                           {\"query\":f\"query manyTokens($lastID: String) {{\\n  swaps(first: 1000, where: {{id_gt: \\\"{lastid}\\\"}}) {{\\n    id\\n    amount0In\\n    amount0Out\\n    amount1In\\n    amount1Out\\n    amountUSD\\n    logIndex\\n    sender\\n    timestamp\\n    to\\n    pair {{\\n      token0 {{\\n        id\\n        name\\n      }}\\n      token1 {{\\n        id\\n        name\\n      }}\\n    }}\\n    transaction {{\\n      id\\n    }}\\n  }}\\n}}\"},\n",
    "                           #traderjoe in Avalanche\n",
    "                           {\"query\":f\"query manyTokens($lastID: String) {{\\n  swaps(first: 1000, where: {{id_gt: \\\"{lastid}\\\"}}) {{\\n    id\\n    amount0In\\n    amount0Out\\n    amount1In\\n    amount1Out\\n    amountUSD\\n    from\\n    logIndex\\n    sender\\n    timestamp\\n    to\\n    pair {{\\n      token0 {{\\n        id\\n        name\\n      }}\\n      token1 {{\\n        id\\n        name\\n      }}\\n    }}\\n    transaction {{\\n      id\\n    }}\\n  }}\\n}}\"},\n",
    "                           #pangolin in Avalanche\n",
    "                           {\"query\":f\"query manyTokens($lastID: String) {{\\n  swaps(first: 1000, where: {{id_gt: \\\"{lastid}\\\"}}) {{\\n    id\\n    amount0In\\n    amount0Out\\n    amount1In\\n    amount1Out\\n    amountUSD\\n    logIndex\\n    sender\\n    timestamp\\n    to\\n    pair {{\\n      token0 {{\\n        id\\n        name\\n      }}\\n      token1 {{\\n        id\\n        name\\n      }}\\n    }}\\n    transaction {{\\n      id\\n    }}\\n  }}\\n}}\"},\n",
    "                           #sushiswap in Polygon\n",
    "                           {\"query\":f\"query manyTokens($lastID: String) {{\\n  swaps(first: 1000, where: {{id_gt: \\\"{lastid}\\\"}}) {{\\n    id\\n    amount0In\\n    amount0Out\\n    amount1In\\n    amount1Out\\n    amountUSD\\n    logIndex\\n    sender\\n    timestamp\\n    to\\n    pair {{\\n      token0 {{\\n        id\\n        name\\n      }}\\n      token1 {{\\n        id\\n        name\\n      }}\\n    }}\\n    transaction {{\\n      id\\n    }}\\n  }}\\n}}\"},\n",
    "                           #sushiswap in Ethereum New\n",
    "                           {\"query\":f\"query manyTokens($lastID: String) {{\\n  swaps(first: 1000, where: {{id_gt: \\\"{lastid}\\\"}}) {{\\n    id\\n    amount0In\\n    amount0Out\\n    amount1In\\n    amount1Out\\n    amountUSD\\n    from\\n    logIndex\\n    sender\\n    timestamp\\n    to\\n    pair {{\\n      token0 {{\\n        id\\n        name\\n      }}\\n      token1 {{\\n        id\\n        name\\n      }}\\n    }}\\n    transaction {{\\n      id\\n    }}\\n  }}\\n}}\"},\n",
    "                           #apeswap in Polygon\n",
    "                           {\"query\":f\"query manyTokens($lastID: String) {{\\n  swaps(first: 1000, where: {{id_gt: \\\"{lastid}\\\"}}) {{\\n    id\\n    amount0In\\n    amount0Out\\n    amount1In\\n    amount1Out\\n    amountUSD\\n    from\\n    logIndex\\n    sender\\n    timestamp\\n    to\\n    pair {{\\n      token0 {{\\n        id\\n        name\\n      }}\\n      token1 {{\\n        id\\n        name\\n      }}\\n    }}\\n    transaction {{\\n      id\\n    }}\\n  }}\\n}}\"},\n",
    "                           #babyswap in Binance\n",
    "                           {\"query\":f\"query manyTokens($lastID: String) {{\\n  swaps(first: 1000, where: {{id_gt: \\\"{lastid}\\\"}}) {{\\n    id\\n    amount0In\\n    amount0Out\\n    amount1In\\n    amount1Out\\n    amountUSD\\n    from\\n    logIndex\\n    sender\\n    timestamp\\n    to\\n    pair {{\\n      token0 {{\\n        id\\n        name\\n      }}\\n      token1 {{\\n        id\\n        name\\n      }}\\n    }}\\n    transaction {{\\n      id\\n    }}\\n  }}\\n}}\"},\n",
    "                           #jetswap in Binance\n",
    "                           {\"query\":f\"query manyTokens($lastID: String) {{\\n  swaps(first: 1000, where: {{id_gt: \\\"{lastid}\\\"}}) {{\\n    id\\n    amount0In\\n    amount0Out\\n    amount1In\\n    amount1Out\\n    amountUSD\\n    logIndex\\n    sender\\n    timestamp\\n    to\\n    pair {{\\n      token0 {{\\n        id\\n        name\\n      }}\\n      token1 {{\\n        id\\n        name\\n      }}\\n    }}\\n    transaction {{\\n      id\\n    }}\\n  }}\\n}}\"},\n",
    "                           #spookyswap in Fantom\n",
    "                           {\"query\":f\"query manyTokens($lastID: String) {{\\n  swaps(first: 1000, where: {{id_gt: \\\"{lastid}\\\"}}) {{\\n    id\\n    amount0In\\n    amount0Out\\n    amount1In\\n    amount1Out\\n    amountUSD\\n    logIndex\\n    sender\\n    timestamp\\n    to\\n    pair {{\\n      token0 {{\\n        id\\n        name\\n      }}\\n      token1 {{\\n        id\\n        name\\n      }}\\n    }}\\n    transaction {{\\n      id\\n    }}\\n  }}\\n}}\"},\n",
    "                           #spiritswap in Fantom\n",
    "                           {\"query\":f\"query manyTokens($lastID: String) {{\\n  swaps(first: 1000, where: {{id_gt: \\\"{lastid}\\\"}}) {{\\n    id\\n    amount0In\\n    amount0Out\\n    amount1In\\n    amount1Out\\n    amountUSD\\n    from\\n    logIndex\\n    sender\\n    timestamp\\n    to\\n    pair {{\\n      token0 {{\\n        id\\n        name\\n      }}\\n      token1 {{\\n        id\\n        name\\n      }}\\n    }}\\n    transaction {{\\n      id\\n    }}\\n  }}\\n}}\"},\n",
    "                           #quickswap in Polygon\n",
    "                           {\"query\":f\"query manyTokens($lastID: String) {{\\n  swaps(first: 1000, where: {{id_gt: \\\"{lastid}\\\"}}) {{\\n    id\\n    amount0In\\n    amount0Out\\n    amount1In\\n    amount1Out\\n    amountUSD\\n    from\\n    logIndex\\n    sender\\n    timestamp\\n    to\\n    pair {{\\n      token0 {{\\n        id\\n        name\\n      }}\\n      token1 {{\\n        id\\n        name\\n      }}\\n    }}\\n    transaction {{\\n      id\\n    }}\\n  }}\\n}}\"},\n",
    "                           #jetswap in Polygon\n",
    "                           {\"query\":f\"query manyTokens($lastID: String) {{\\n  swaps(first: 1000, where: {{id_gt: \\\"{lastid}\\\"}}) {{\\n    id\\n    amount0In\\n    amount0Out\\n    amount1In\\n    amount1Out\\n    amountUSD\\n    from\\n    logIndex\\n    sender\\n    timestamp\\n    to\\n    pair {{\\n      token0 {{\\n        id\\n        name\\n      }}\\n      token1 {{\\n        id\\n        name\\n      }}\\n    }}\\n    transaction {{\\n      id\\n    }}\\n  }}\\n}}\"},\n",
    "                           #pancakeswap in Binance\n",
    "                          ]\n",
    "#----------------------------------------------------------------------------------------------------------------\n",
    "                post = idx_lst[self.idx]\n",
    "                r = requests.post(self.url, json=post)\n",
    "                data = r.json()\n",
    "                df = pd.DataFrame.from_dict(data['data']['swaps'])\n",
    "                length = len(df)\n",
    "                \n",
    "                if length == 0:\n",
    "                    print(f'{self.name}数据已获取完毕,总共有{(count-1)*1000+lastlength}组数据')\n",
    "                    break\n",
    "                \n",
    "                if self.style == 0:\n",
    "                    df['token0_name'] = df['token0'].apply(lambda x: x['name'])\n",
    "                    df['token1_name'] = df['token1'].apply(lambda x: x['name'])\n",
    "                    df['token0_id'] = df['token0'].apply(lambda x: x['id'])\n",
    "                    df['token1_id'] = df['token1'].apply(lambda x: x['id'])\n",
    "                    df['transaction_id'] = df['transaction'].apply(lambda x: x['id'])\n",
    "                    df.drop(columns=['token0', 'token1', 'transaction'], inplace=True)\n",
    "                else:\n",
    "                    if self.style == 1:\n",
    "                        df['token0'] = df['pair'].apply(lambda x: x['token0']['name'])\n",
    "                        df['token1'] = df['pair'].apply(lambda x: x['token1']['name'])\n",
    "                        df['token0_id'] = df['pair'].apply(lambda x: x['token0']['id'])\n",
    "                        df['token1_id'] = df['pair'].apply(lambda x: x['token1']['id'])\n",
    "                        df['transaction_id'] = df['transaction'].apply(lambda x: x['id'])\n",
    "                        df.drop(columns=['pair', 'transaction'], inplace=True)\n",
    "                    else:\n",
    "                        print(f'{self.name}交易数据解析错误')\n",
    "                        break\n",
    "                    \n",
    "                count += 1\n",
    "                df.to_csv(f'{RD}{self.name}_{count}.csv', index=False)\n",
    "                lastid = data['data']['swaps'][-1]['id']\n",
    "                print(f'成功获取{self.name}第{count*1000}组交易数据,最后的id为{lastid},本次数据长度为{length}')\n",
    "                \n",
    "#                 if self.idx == 4:\n",
    "#                     time.sleep(2)\n",
    "                \n",
    "#                 time.sleep(1)\n",
    "            except Exception as e:\n",
    "                print('---------------------------------------------------')\n",
    "                print(f'{self.name}交易数据获取失败,错误原因{e}')\n",
    "                print('---------------------------------------------------')\n",
    "                time.sleep(2)"
   ]
  },
  {
   "cell_type": "markdown",
   "id": "dc1f61d7-de4a-4bd3-8b12-08271a8a9c82",
   "metadata": {},
   "source": [
    "# 多线程参数设置"
   ]
  },
  {
   "cell_type": "markdown",
   "id": "ee53de8b-87e8-4f2a-a4ec-436db0e8c9d9",
   "metadata": {},
   "source": [
    "## Ethereum"
   ]
  },
  {
   "cell_type": "markdown",
   "id": "0f00092c-1a43-4734-a8b3-5d70698e42a4",
   "metadata": {},
   "source": [
    "### UniSwap V3"
   ]
  },
  {
   "cell_type": "code",
   "execution_count": 3,
   "id": "6b64a33a-842c-434b-8385-4aeac1ae6a44",
   "metadata": {},
   "outputs": [],
   "source": [
    "thread1 = web_thread('uniswapv3_ethereum',\n",
    "                     0,\n",
    "                     'https://api.thegraph.com/subgraphs/name/ianlapham/uniswap-v3-subgraph',\n",
    "                     0\n",
    ")"
   ]
  },
  {
   "cell_type": "markdown",
   "id": "e2f14582-b074-4470-9702-774c63442617",
   "metadata": {},
   "source": [
    "### UniSwap V2"
   ]
  },
  {
   "cell_type": "code",
   "execution_count": 4,
   "id": "2e2e2464-c696-41a5-aebd-ac6f4f07ec8a",
   "metadata": {},
   "outputs": [],
   "source": [
    "thread3 = web_thread('uniswapv2_ethereum',\n",
    "                     1,\n",
    "                     'https://api.thegraph.com/subgraphs/name/ianlapham/uniswapv2',\n",
    "                     2\n",
    ")"
   ]
  },
  {
   "cell_type": "markdown",
   "id": "fb9f8eda-f81c-440e-8053-513c8e35b5f7",
   "metadata": {},
   "source": [
    "### SushiSwap"
   ]
  },
  {
   "cell_type": "code",
   "execution_count": 5,
   "id": "182c5260-32e0-4ac4-98d4-f3b63f500951",
   "metadata": {},
   "outputs": [],
   "source": [
    "thread2 = web_thread('sushiswap_ethereum',\n",
    "                     1,\n",
    "                     'https://api.thegraph.com/subgraphs/name/zippoxer/sushiswap-subgraph-fork',\n",
    "                     1\n",
    ")"
   ]
  },
  {
   "cell_type": "markdown",
   "id": "f965d40e-deb1-48cc-b5e3-c100d0f820dd",
   "metadata": {},
   "source": [
    "### SushiSwap New"
   ]
  },
  {
   "cell_type": "code",
   "execution_count": 6,
   "id": "3ee3620f-17c6-40a2-a287-07549d9863e1",
   "metadata": {},
   "outputs": [],
   "source": [
    "thread9 = web_thread('sushiswap_new_ethereum',\n",
    "                     1,\n",
    "                     'https://api.thegraph.com/subgraphs/name/sushiswap/exchange',\n",
    "                     8\n",
    ")"
   ]
  },
  {
   "cell_type": "markdown",
   "id": "83b18672-6c60-4498-b0f4-41a4d396c341",
   "metadata": {},
   "source": [
    "## Binance"
   ]
  },
  {
   "cell_type": "markdown",
   "id": "56f1a88b-07a4-4cff-b250-5411a9018ffe",
   "metadata": {},
   "source": [
    "### PancakeSwap"
   ]
  },
  {
   "cell_type": "code",
   "execution_count": 7,
   "id": "1b2c2592-f60f-47f1-999e-ca435f440bee",
   "metadata": {},
   "outputs": [],
   "source": [
    "thread17 = web_thread('pancake_binance',\n",
    "                     1,\n",
    "                     'https://api.thegraph.com/subgraphs/name/hermioneeth/pancake-swap',\n",
    "                     16\n",
    ")"
   ]
  },
  {
   "cell_type": "markdown",
   "id": "1be9e31d-8e2e-4b9c-b50a-9d3c4e1c1ede",
   "metadata": {},
   "source": [
    "### Biswap"
   ]
  },
  {
   "cell_type": "code",
   "execution_count": 8,
   "id": "10e6629e-f593-4a7a-972e-0016463eaa24",
   "metadata": {},
   "outputs": [],
   "source": [
    "thread4 = web_thread('biswap_binance',\n",
    "                     0,\n",
    "                     'https://api.thegraph.com/subgraphs/name/biswapcom/exchange5',\n",
    "                     3\n",
    ")"
   ]
  },
  {
   "cell_type": "markdown",
   "id": "8a01fcf8-24a0-4c12-acc1-9502000d13ff",
   "metadata": {},
   "source": [
    "### ApeSwap"
   ]
  },
  {
   "cell_type": "code",
   "execution_count": 9,
   "id": "ed3a300f-3f6d-4be1-baf5-d44467e3d846",
   "metadata": {},
   "outputs": [],
   "source": [
    "thread5 = web_thread('apeswap_binance',\n",
    "                     1,\n",
    "                     'https://graph2.apeswap.finance/subgraphs/name/ape-swap/apeswap-subgraph',\n",
    "                     4\n",
    ")"
   ]
  },
  {
   "cell_type": "markdown",
   "id": "f4cc7729-6f62-4828-8f81-f0ed893abab8",
   "metadata": {},
   "source": [
    "### BabySwap"
   ]
  },
  {
   "cell_type": "code",
   "execution_count": 10,
   "id": "fb09da8a-5338-4e29-a434-94426339fbee",
   "metadata": {},
   "outputs": [],
   "source": [
    "thread11 = web_thread('babyswap_binance',\n",
    "                     1,\n",
    "                     'https://api.thegraph.com/subgraphs/name/loremboard/bsc-babyswap-subgraph',\n",
    "                     10\n",
    ")"
   ]
  },
  {
   "cell_type": "markdown",
   "id": "ae2d3f0f-b9f5-469d-872d-48e818b9a4c4",
   "metadata": {},
   "source": [
    "### JetSwap"
   ]
  },
  {
   "cell_type": "code",
   "execution_count": 11,
   "id": "1324982f-3dc2-4731-a083-d1f531fd191e",
   "metadata": {},
   "outputs": [],
   "source": [
    "thread12 = web_thread('jetswap_binance',\n",
    "                     1,\n",
    "                     'https://api.thegraph.com/subgraphs/name/smartcookie0501/jetswap-subgraph-v2',\n",
    "                     11\n",
    ")"
   ]
  },
  {
   "cell_type": "markdown",
   "id": "37f6986d-393d-46d1-b1fa-9e8917acc4e3",
   "metadata": {},
   "source": [
    "## Avalanche"
   ]
  },
  {
   "cell_type": "markdown",
   "id": "7b316126-c765-40b7-a83e-edd854be870e",
   "metadata": {},
   "source": [
    "### Trader Joe"
   ]
  },
  {
   "cell_type": "code",
   "execution_count": 12,
   "id": "7f255ee6-9bb2-4303-971b-80d9a54cb63f",
   "metadata": {},
   "outputs": [],
   "source": [
    "thread6 = web_thread('traderjoe_avalanche',\n",
    "                     1,\n",
    "                     'https://api.thegraph.com/subgraphs/name/traderjoe-xyz/exchange',\n",
    "                     5\n",
    ")"
   ]
  },
  {
   "cell_type": "markdown",
   "id": "8e24e7c8-445c-48f9-b01a-9650a8a94f0e",
   "metadata": {},
   "source": [
    "### Pangolin"
   ]
  },
  {
   "cell_type": "code",
   "execution_count": 13,
   "id": "af60cc69-c1a2-4ba4-9ec7-95a1b81a95f8",
   "metadata": {},
   "outputs": [],
   "source": [
    "thread7 = web_thread('pangolin_avalanche',\n",
    "                     1,\n",
    "                     'https://api.thegraph.com/subgraphs/name/dasconnor/pangolin-dex',\n",
    "                     6\n",
    ")"
   ]
  },
  {
   "cell_type": "markdown",
   "id": "40e5bb00-cf5b-4fda-b9d7-81a1fefa7fbd",
   "metadata": {},
   "source": [
    "## Fantom"
   ]
  },
  {
   "cell_type": "markdown",
   "id": "24cbb656-f93d-4ece-97b1-d5ac46cb7336",
   "metadata": {},
   "source": [
    "### SpookySwap"
   ]
  },
  {
   "cell_type": "code",
   "execution_count": 14,
   "id": "ed0564f6-1ec0-43ea-966a-cb3944cdfe72",
   "metadata": {},
   "outputs": [],
   "source": [
    "thread13 = web_thread('spookyswap_fantom',\n",
    "                     1,\n",
    "                     'https://api.thegraph.com/subgraphs/name/int3grtor/spooky-exchange',\n",
    "                     12\n",
    ")"
   ]
  },
  {
   "cell_type": "markdown",
   "id": "5c8ccbc4-7642-4bab-a02c-a88d7b7a2af8",
   "metadata": {},
   "source": [
    "### SpiritSwap"
   ]
  },
  {
   "cell_type": "code",
   "execution_count": 15,
   "id": "843aa27c-9c8d-41f5-94ce-311ba2e9b1cc",
   "metadata": {},
   "outputs": [],
   "source": [
    "thread14 = web_thread('spiritswap_fantom',\n",
    "                     1,\n",
    "                     'https://api.thegraph.com/subgraphs/name/evele/spirit-swap-subgraph-dev-v2',\n",
    "                     13\n",
    ")"
   ]
  },
  {
   "cell_type": "markdown",
   "id": "385bdd14-e1cd-451c-9981-ec25602dbc91",
   "metadata": {},
   "source": [
    "## Polygon"
   ]
  },
  {
   "cell_type": "markdown",
   "id": "1283abe3-3871-41de-b370-b991980025f2",
   "metadata": {},
   "source": [
    "### QuickSwap"
   ]
  },
  {
   "cell_type": "code",
   "execution_count": 16,
   "id": "ef4b7106-ef03-49a2-8ea7-fe1b56bb7255",
   "metadata": {},
   "outputs": [],
   "source": [
    "thread15 = web_thread('quickswap_polygon',\n",
    "                     1,\n",
    "                     'https://api.thegraph.com/subgraphs/name/proy24/quickswap-polygon',\n",
    "                     14\n",
    ")"
   ]
  },
  {
   "cell_type": "markdown",
   "id": "3f1125f5-dedf-4e6f-b944-121307abf30a",
   "metadata": {},
   "source": [
    "### SushiSwap"
   ]
  },
  {
   "cell_type": "code",
   "execution_count": 17,
   "id": "ebc7d766-c79f-44ec-96cd-85d6c39f3e17",
   "metadata": {},
   "outputs": [],
   "source": [
    "thread8 = web_thread('sushiswap_polygon',\n",
    "                     1,\n",
    "                     'https://api.thegraph.com/subgraphs/name/sushiswap/matic-exchange',\n",
    "                     7\n",
    ")"
   ]
  },
  {
   "cell_type": "markdown",
   "id": "57ecdad0-4a2e-4e77-bd8d-509a76d85c41",
   "metadata": {},
   "source": [
    "### ApeSwap"
   ]
  },
  {
   "cell_type": "code",
   "execution_count": 18,
   "id": "97e4558f-b85a-4517-8c3f-574e25f6f260",
   "metadata": {},
   "outputs": [],
   "source": [
    "thread10 = web_thread('apeswap_polygon',\n",
    "                     1,\n",
    "                     'https://api.thegraph.com/subgraphs/name/apeswapfinance/dex-polygon',\n",
    "                     9\n",
    ")"
   ]
  },
  {
   "cell_type": "markdown",
   "id": "ddb697c7-f274-4712-aee1-ff1c491186ac",
   "metadata": {},
   "source": [
    "### JetSwap"
   ]
  },
  {
   "cell_type": "code",
   "execution_count": 19,
   "id": "ee58251a-10c4-428d-b356-76d624d36769",
   "metadata": {},
   "outputs": [],
   "source": [
    "thread16 = web_thread('jetswap_polygon',\n",
    "                     1,\n",
    "                     'https://api.thegraph.com/subgraphs/name/smartcookie0501/jetswap-subgraph-polygon-v2',\n",
    "                     15\n",
    ")"
   ]
  },
  {
   "cell_type": "markdown",
   "id": "c3dde602-5a92-4424-b98e-0caee709de16",
   "metadata": {},
   "source": [
    "# 线程池"
   ]
  },
  {
   "cell_type": "code",
   "execution_count": null,
   "id": "2a19d500-21cb-4eb5-9397-aff968fd5fe3",
   "metadata": {
    "scrolled": true,
    "tags": []
   },
   "outputs": [
    {
     "name": "stdout",
     "output_type": "stream",
     "text": [
      "jetswap_binance数据已获取完毕,总共有706258组数据\n",
      "成功获取biswap_binance第18162000组交易数据,最后的id为0xfffffff0a21e2f0c9a3c16be01cfdaede779997b712baefa9b68e485f1039dd0-0,本次数据长度为1\n",
      "biswap_binance数据已获取完毕,总共有18161572组数据\n",
      "uniswapv2_ethereum数据已获取完毕,总共有76736083组数据\n",
      "traderjoe_avalanche数据已获取完毕,总共有32344693组数据\n",
      "---------------------------------------------------\n",
      "quickswap_polygon交易数据获取失败,错误原因'data'\n",
      "---------------------------------------------------\n",
      "pangolin_avalanche数据已获取完毕,总共有7608390组数据\n",
      "---------------------------------------------------\n",
      "quickswap_polygon交易数据获取失败,错误原因'data'\n",
      "---------------------------------------------------\n",
      "---------------------------------------------------\n",
      "quickswap_polygon交易数据获取失败,错误原因'data'\n",
      "---------------------------------------------------\n",
      "---------------------------------------------------\n",
      "apeswap_polygon交易数据获取失败,错误原因'data'\n",
      "---------------------------------------------------\n",
      "babyswap_binance数据已获取完毕,总共有8027587组数据\n",
      "---------------------------------------------------\n",
      "quickswap_polygon交易数据获取失败,错误原因'data'\n",
      "---------------------------------------------------\n",
      "jetswap_polygon数据已获取完毕,总共有18312149组数据\n",
      "---------------------------------------------------\n",
      "pancake_binance交易数据获取失败,错误原因'data'\n",
      "---------------------------------------------------\n",
      "成功获取spookyswap_fantom第52079000组交易数据,最后的id为0xffffff8841053a19769b4575c7e6edb5b9bed9c7b7a130388f022fefed5fb4b4-5,本次数据长度为6\n",
      "spookyswap_fantom数据已获取完毕,总共有52078845组数据\n",
      "sushiswap_ethereum数据已获取完毕,总共有8820491组数据\n",
      "---------------------------------------------------\n",
      "apeswap_polygon交易数据获取失败,错误原因'data'\n",
      "---------------------------------------------------\n",
      "成功获取spiritswap_fantom第11349000组交易数据,最后的id为0xfffffe8adeb3625c4da4887539feee5bbe18816a870514f35ee706dd8535936e-3,本次数据长度为4\n",
      "---------------------------------------------------\n",
      "quickswap_polygon交易数据获取失败,错误原因'data'\n",
      "---------------------------------------------------\n",
      "spiritswap_fantom数据已获取完毕,总共有11348116组数据\n",
      "---------------------------------------------------\n",
      "uniswapv3_ethereum交易数据获取失败,错误原因'data'\n",
      "---------------------------------------------------\n",
      "sushiswap_new_ethereum数据已获取完毕,总共有8839689组数据\n",
      "sushiswap_polygon数据已获取完毕,总共有32869296组数据\n",
      "---------------------------------------------------\n",
      "pancake_binance交易数据获取失败,错误原因'data'\n",
      "---------------------------------------------------\n",
      "apeswap_binance数据已获取完毕,总共有21022127组数据\n",
      "---------------------------------------------------\n",
      "apeswap_polygon交易数据获取失败,错误原因'data'\n",
      "---------------------------------------------------\n",
      "---------------------------------------------------\n",
      "quickswap_polygon交易数据获取失败,错误原因'data'\n",
      "---------------------------------------------------\n",
      "---------------------------------------------------\n",
      "uniswapv3_ethereum交易数据获取失败,错误原因'data'\n",
      "---------------------------------------------------\n",
      "---------------------------------------------------\n",
      "pancake_binance交易数据获取失败,错误原因'data'\n",
      "---------------------------------------------------\n",
      "---------------------------------------------------\n",
      "apeswap_polygon交易数据获取失败,错误原因'data'\n",
      "---------------------------------------------------\n",
      "---------------------------------------------------\n",
      "quickswap_polygon交易数据获取失败,错误原因'data'\n",
      "---------------------------------------------------\n",
      "---------------------------------------------------\n",
      "uniswapv3_ethereum交易数据获取失败,错误原因'data'\n",
      "---------------------------------------------------\n",
      "---------------------------------------------------\n",
      "pancake_binance交易数据获取失败,错误原因'data'\n",
      "---------------------------------------------------\n",
      "---------------------------------------------------\n",
      "apeswap_polygon交易数据获取失败,错误原因'data'\n",
      "---------------------------------------------------\n",
      "---------------------------------------------------\n",
      "quickswap_polygon交易数据获取失败,错误原因'data'\n",
      "---------------------------------------------------\n",
      "---------------------------------------------------\n",
      "uniswapv3_ethereum交易数据获取失败,错误原因'data'\n",
      "---------------------------------------------------\n",
      "---------------------------------------------------\n",
      "pancake_binance交易数据获取失败,错误原因'data'\n",
      "---------------------------------------------------\n",
      "---------------------------------------------------\n",
      "apeswap_polygon交易数据获取失败,错误原因'data'\n",
      "---------------------------------------------------\n",
      "---------------------------------------------------\n",
      "quickswap_polygon交易数据获取失败,错误原因'data'\n",
      "---------------------------------------------------\n",
      "---------------------------------------------------\n",
      "uniswapv3_ethereum交易数据获取失败,错误原因'data'\n",
      "---------------------------------------------------\n",
      "---------------------------------------------------\n",
      "pancake_binance交易数据获取失败,错误原因'data'\n",
      "---------------------------------------------------\n",
      "---------------------------------------------------\n",
      "apeswap_polygon交易数据获取失败,错误原因'data'\n",
      "---------------------------------------------------\n",
      "---------------------------------------------------\n",
      "quickswap_polygon交易数据获取失败,错误原因'data'\n",
      "---------------------------------------------------\n",
      "---------------------------------------------------\n",
      "uniswapv3_ethereum交易数据获取失败,错误原因'data'\n",
      "---------------------------------------------------\n",
      "---------------------------------------------------\n",
      "pancake_binance交易数据获取失败,错误原因'data'\n",
      "---------------------------------------------------\n",
      "---------------------------------------------------\n",
      "apeswap_polygon交易数据获取失败,错误原因'data'\n",
      "---------------------------------------------------\n",
      "---------------------------------------------------\n",
      "quickswap_polygon交易数据获取失败,错误原因'data'\n",
      "---------------------------------------------------\n",
      "---------------------------------------------------\n",
      "uniswapv3_ethereum交易数据获取失败,错误原因'data'\n",
      "---------------------------------------------------\n",
      "---------------------------------------------------\n",
      "pancake_binance交易数据获取失败,错误原因'data'\n",
      "---------------------------------------------------\n",
      "---------------------------------------------------\n",
      "apeswap_polygon交易数据获取失败,错误原因'data'\n",
      "---------------------------------------------------\n",
      "---------------------------------------------------\n",
      "quickswap_polygon交易数据获取失败,错误原因'data'\n",
      "---------------------------------------------------\n",
      "---------------------------------------------------\n",
      "uniswapv3_ethereum交易数据获取失败,错误原因'data'\n",
      "---------------------------------------------------\n",
      "---------------------------------------------------\n",
      "pancake_binance交易数据获取失败,错误原因'data'\n",
      "---------------------------------------------------\n",
      "---------------------------------------------------\n",
      "apeswap_polygon交易数据获取失败,错误原因'data'\n",
      "---------------------------------------------------\n",
      "---------------------------------------------------\n",
      "quickswap_polygon交易数据获取失败,错误原因'data'\n",
      "---------------------------------------------------\n",
      "---------------------------------------------------\n",
      "uniswapv3_ethereum交易数据获取失败,错误原因'data'\n",
      "---------------------------------------------------\n",
      "---------------------------------------------------\n",
      "pancake_binance交易数据获取失败,错误原因'data'\n",
      "---------------------------------------------------\n"
     ]
    }
   ],
   "source": [
    "Threads = [\n",
    "           thread1, \n",
    "           thread2, \n",
    "           thread3,\n",
    "           thread4,\n",
    "           thread5,\n",
    "           thread6,\n",
    "           thread7,\n",
    "           thread8,\n",
    "           thread9,\n",
    "           thread10,\n",
    "           thread11,\n",
    "           thread12,\n",
    "           thread13,\n",
    "           thread14,\n",
    "           thread15,\n",
    "           thread16,\n",
    "           thread17,\n",
    "          ]\n",
    "for t in Threads:\n",
    "    t.start()\n",
    "for t in Threads:\n",
    "    t.join()"
   ]
  }
 ],
 "metadata": {
  "kernelspec": {
   "display_name": "Python 3 (ipykernel)",
   "language": "python",
   "name": "python3"
  },
  "language_info": {
   "codemirror_mode": {
    "name": "ipython",
    "version": 3
   },
   "file_extension": ".py",
   "mimetype": "text/x-python",
   "name": "python",
   "nbconvert_exporter": "python",
   "pygments_lexer": "ipython3",
   "version": "3.9.7"
  },
  "toc-autonumbering": true,
  "toc-showtags": false
 },
 "nbformat": 4,
 "nbformat_minor": 5
}
